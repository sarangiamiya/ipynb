{
 "cells": [
  {
   "cell_type": "code",
   "execution_count": 3,
   "metadata": {},
   "outputs": [
    {
     "data": {
      "text/plain": [
       "{3, 4, 6, 7, 9}"
      ]
     },
     "execution_count": 3,
     "metadata": {},
     "output_type": "execute_result"
    }
   ],
   "source": [
    "a = [1, 2, 5, 8]\n",
    "b = [1, 2, 3, 4, 5, 6, 7, 8, 9]\n",
    "\n",
    "set(a) ^ set(b)"
   ]
  },
  {
   "cell_type": "code",
   "execution_count": 15,
   "metadata": {},
   "outputs": [
    {
     "name": "stdout",
     "output_type": "stream",
     "text": [
      "[1, 2, 3, 4, 5, 6, 7, 8, 9, 10]\n",
      "{1, 2, 3, 4, 6, 7, 10}\n"
     ]
    },
    {
     "data": {
      "text/plain": [
       "[5, 8, 9]"
      ]
     },
     "execution_count": 15,
     "metadata": {},
     "output_type": "execute_result"
    }
   ],
   "source": [
    "def missing_num(num_list):\n",
    "    org_list = [x for x in range(num_list[0], num_list[-1] + 1)]\n",
    "    print(org_list)\n",
    "    num_list = set(num_list)\n",
    "    print(num_list)\n",
    "    return(list( num_list ^ set(org_list)))\n",
    "    \n",
    "\n",
    "missing_num([1,2,3,4,6,7,10])"
   ]
  },
  {
   "cell_type": "code",
   "execution_count": 16,
   "metadata": {},
   "outputs": [
    {
     "name": "stdout",
     "output_type": "stream",
     "text": [
      "[10, 11, 12, 13, 14, 15, 16, 17]\n",
      "{10, 11, 12, 14, 17}\n"
     ]
    },
    {
     "data": {
      "text/plain": [
       "[13, 15, 16]"
      ]
     },
     "execution_count": 16,
     "metadata": {},
     "output_type": "execute_result"
    }
   ],
   "source": [
    "missing_num([10,11,12,14,17])"
   ]
  },
  {
   "cell_type": "code",
   "execution_count": 17,
   "metadata": {},
   "outputs": [
    {
     "data": {
      "text/plain": [
       "1"
      ]
     },
     "execution_count": 17,
     "metadata": {},
     "output_type": "execute_result"
    }
   ],
   "source": [
    "-1 + 2"
   ]
  },
  {
   "cell_type": "code",
   "execution_count": 27,
   "metadata": {
    "scrolled": true
   },
   "outputs": [
    {
     "name": "stdout",
     "output_type": "stream",
     "text": [
      "Num 1\n",
      "For loop  0\n",
      "i =  0\n",
      "left =  1\n",
      "right =  5\n",
      "\n",
      "\n",
      "\n",
      "For loop  1\n",
      "i =  1\n",
      "left =  2\n",
      "right =  5\n",
      "num_left ->  -1   num_right - >  2   num_i ->  -1\n",
      "Result =  [[-1, -1, 2]]\n",
      "num_left ->  0   num_right - >  1   num_i ->  -1\n",
      "Result =  [[-1, -1, 2], [-1, 0, 1]]\n",
      "\n",
      "\n",
      "\n",
      "For loop  2\n",
      "i =  2\n",
      "left =  3\n",
      "right =  5\n",
      "For loop  3\n",
      "i =  3\n",
      "left =  4\n",
      "right =  5\n",
      "\n",
      "\n",
      "\n",
      "Num 2\n",
      "For loop  0\n",
      "i =  0\n",
      "left =  1\n",
      "right =  7\n",
      "\n",
      "\n",
      "\n",
      "For loop  1\n",
      "i =  1\n",
      "left =  2\n",
      "right =  7\n",
      "num_left ->  2   num_right - >  8   num_i ->  -10\n",
      "Result =  [[-10, 2, 8]]\n",
      "\n",
      "\n",
      "\n",
      "For loop  2\n",
      "i =  2\n",
      "left =  3\n",
      "right =  7\n",
      "num_left ->  -3   num_right - >  10   num_i ->  -7\n",
      "Result =  [[-10, 2, 8], [-7, -3, 10]]\n",
      "\n",
      "\n",
      "\n",
      "For loop  3\n",
      "i =  3\n",
      "left =  4\n",
      "right =  7\n",
      "\n",
      "\n",
      "\n",
      "For loop  4\n",
      "i =  4\n",
      "left =  5\n",
      "right =  7\n",
      "\n",
      "\n",
      "\n",
      "For loop  5\n",
      "i =  5\n",
      "left =  6\n",
      "right =  7\n",
      "\n",
      "\n",
      "\n"
     ]
    },
    {
     "data": {
      "text/plain": [
       "[[-10, 2, 8], [-7, -3, 10]]"
      ]
     },
     "execution_count": 27,
     "metadata": {},
     "output_type": "execute_result"
    }
   ],
   "source": [
    "def three_Sum(num):\n",
    "    if len(num)<3: return []\n",
    "    num.sort()\n",
    "    result=[]\n",
    "    for i in range(len(num)-2):\n",
    "        print(\"For loop \", i)\n",
    "        print(\"i = \", i)\n",
    "        left=i+1\n",
    "        print(\"left = \", left)\n",
    "        right=len(num)-1\n",
    "        print(\"right = \", right)\n",
    "        if i!=0 and num[i]==num[i-1]:continue\n",
    "        while left<right:\n",
    "            if num[left]+num[right]==-num[i]:\n",
    "                print(\"num_left -> \", num[left],\"  num_right - > \", num[right], \"  num_i -> \",num[i])\n",
    "                result.append([num[i],num[left],num[right]])\n",
    "                print(\"Result = \", result)\n",
    "                left=left+1\n",
    "                right=right-1\n",
    "                while num[left]==num[left-1] and left<right:left=left+1\n",
    "                while num[right]==num[right+1] and left<right: right=right-1\n",
    "            elif num[left]+num[right]<-num[i]:\n",
    "                left=left+1\n",
    "            else:\n",
    "                right=right-1\n",
    "        print(\"\\n\\n\")\n",
    "    return result\n",
    "\n",
    "nums1=[-1,0,1,2,-1,-4]\n",
    "print(\"Num 1\")\n",
    "three_Sum(nums1)\n",
    "nums2 = [-25,-10,-7,-3,2,4,8,10]\n",
    "print(\"Num 2\")\n",
    "three_Sum(nums2)"
   ]
  },
  {
   "cell_type": "code",
   "execution_count": 34,
   "metadata": {
    "collapsed": true
   },
   "outputs": [
    {
     "name": "stdout",
     "output_type": "stream",
     "text": [
      "For loop  0\n",
      "i =  0\n",
      "Sum =  7\n",
      "left =  2  Right =  6\n",
      "\n",
      "\n",
      "\n",
      "Sum =  6\n",
      "left =  3  Right =  6\n",
      "\n",
      "\n",
      "\n",
      "Sum =  5\n",
      "left =  5  Right =  6\n",
      "\n",
      "\n",
      "\n",
      "For loop  1\n",
      "i =  1\n",
      "Sum =  5\n",
      "left =  3  Right =  6\n",
      "\n",
      "\n",
      "\n",
      "Sum =  4\n",
      "left =  5  Right =  6\n",
      "\n",
      "\n",
      "\n",
      "For loop  2\n",
      "i =  2\n",
      "Sum =  4\n",
      "left =  4  Right =  6\n",
      "\n",
      "\n",
      "\n",
      "Sum =  3\n",
      "left =  5  Right =  6\n",
      "num_left ->  1   num_right - >  2   Sum  3\n",
      "Result =  [[1, 1, 2]]\n",
      "\n",
      "\n",
      "\n",
      "For loop  3\n",
      "i =  3\n",
      "[[1, 1, 2]]\n"
     ]
    }
   ],
   "source": [
    "def four_Sum(nums, target):\n",
    "        nums.sort()\n",
    "        result = []\n",
    "        for i in range(len(nums) - 3):\n",
    "            print(\"For loop \", i)\n",
    "            print(\"i = \", i)\n",
    "            if i and nums[i] == nums[i - 1]:\n",
    "                continue\n",
    "            for j in range(i + 1, len(nums) - 2):\n",
    "                if j != i + 1 and nums[j] == nums[j - 1]:\n",
    "                    continue\n",
    "                sum = target - nums[i] - nums[j]\n",
    "                print(\"Sum = \", sum)\n",
    "                left, right = j + 1, len(nums) - 1\n",
    "                print(\"left = \", left, \" Right = \", right)\n",
    "                while left < right:\n",
    "                    if nums[left] + nums[right] == sum:\n",
    "                        print(\"num_left -> \", nums[left],\"  num_right - > \", nums[right], \"  Sum \",sum)\n",
    "                        #result.append([nums[i], nums[j], nums[left], nums[right]])\n",
    "                        result.append([nums[j], nums[left], nums[right]])\n",
    "                        print(\"Result = \", result)\n",
    "                        right -= 1\n",
    "                        left += 1\n",
    "                        while left < right and nums[left] == nums[left - 1]:\n",
    "                            left += 1\n",
    "                        while left < right and nums[right] == nums[right + 1]:\n",
    "                            right -= 1\n",
    "                    elif nums[left] + nums[right] > sum:\n",
    "                        right -= 1\n",
    "                    else:\n",
    "                        left += 1\n",
    "                print(\"\\n\\n\")\n",
    "        return result\n",
    "\n",
    "print(four_Sum([1, 0, -1, 0, -2, 2, 1], 4))"
   ]
  },
  {
   "cell_type": "code",
   "execution_count": 36,
   "metadata": {
    "collapsed": true
   },
   "outputs": [
    {
     "data": {
      "text/plain": [
       "4"
      ]
     },
     "execution_count": 36,
     "metadata": {},
     "output_type": "execute_result"
    }
   ],
   "source": [
    "int((8+1)/2)"
   ]
  },
  {
   "cell_type": "code",
   "execution_count": 41,
   "metadata": {},
   "outputs": [
    {
     "name": "stdout",
     "output_type": "stream",
     "text": [
      "5\n"
     ]
    }
   ],
   "source": [
    "def my_sqrt(x):\n",
    "   if x<2: return x\n",
    "   left=1\n",
    "   right=int(x/2)+1\n",
    "   while left<=right:\n",
    "            mid=int((left+right)/2)\n",
    "            if mid*mid==x:\n",
    "                return mid\n",
    "            if mid*mid>x:\n",
    "                right=mid-1\n",
    "            else:\n",
    "                left=mid+1\n",
    "   return right\n",
    "\n",
    "print(my_sqrt(26))"
   ]
  },
  {
   "cell_type": "code",
   "execution_count": 48,
   "metadata": {},
   "outputs": [
    {
     "name": "stdout",
     "output_type": "stream",
     "text": [
      " i =  5  Result =  5\n",
      " i =  3  Result =  6\n",
      " i =  4  Result =  2\n",
      " i =  3  Result =  1\n",
      " i =  4  Result =  5\n"
     ]
    }
   ],
   "source": [
    "arr = [5, 3, 4, 3, 4]\n",
    "result = 0\n",
    "for i in arr:\n",
    "        result ^= i\n",
    "        print(\" i = \",i, \" Result = \", result)"
   ]
  },
  {
   "cell_type": "code",
   "execution_count": 62,
   "metadata": {},
   "outputs": [
    {
     "name": "stdout",
     "output_type": "stream",
     "text": [
      "For  5\n",
      "\n",
      "\n",
      "ones =  0  x  =  5 (ones ^ x) ->  5\n",
      "ones =  0  x  =  5 (ones ^ x) ->  5 (ones ^ x) & ~twos  ->  5\n",
      "ones =  0  x  =  5   (ones ^ x) ->  5   (ones ^ x) & ~twos  ->  5     (twos & ~x)  ->  0     (ones ^ x) & ~twos, (ones & x) | (twos & ~x)   ->  5 0\n",
      "ones =  5  twos  =  0\n",
      "\n",
      "\n",
      "\n",
      "For  3\n",
      "\n",
      "\n",
      "ones =  5  x  =  3 (ones ^ x) ->  6\n",
      "ones =  5  x  =  3 (ones ^ x) ->  6 (ones ^ x) & ~twos  ->  6\n",
      "ones =  5  x  =  3   (ones ^ x) ->  6   (ones ^ x) & ~twos  ->  6     (twos & ~x)  ->  0     (ones ^ x) & ~twos, (ones & x) | (twos & ~x)   ->  6 1\n",
      "ones =  6  twos  =  1\n",
      "\n",
      "\n",
      "\n",
      "For  4\n",
      "\n",
      "\n",
      "ones =  6  x  =  4 (ones ^ x) ->  2\n",
      "ones =  6  x  =  4 (ones ^ x) ->  2 (ones ^ x) & ~twos  ->  2\n",
      "ones =  6  x  =  4   (ones ^ x) ->  2   (ones ^ x) & ~twos  ->  2     (twos & ~x)  ->  1     (ones ^ x) & ~twos, (ones & x) | (twos & ~x)   ->  2 5\n",
      "ones =  2  twos  =  5\n",
      "\n",
      "\n",
      "\n",
      "For  3\n",
      "\n",
      "\n",
      "ones =  2  x  =  3 (ones ^ x) ->  1\n",
      "ones =  2  x  =  3 (ones ^ x) ->  1 (ones ^ x) & ~twos  ->  0\n",
      "ones =  2  x  =  3   (ones ^ x) ->  1   (ones ^ x) & ~twos  ->  0     (twos & ~x)  ->  4     (ones ^ x) & ~twos, (ones & x) | (twos & ~x)   ->  0 6\n",
      "ones =  0  twos  =  6\n",
      "\n",
      "\n",
      "\n",
      "For  5\n",
      "\n",
      "\n",
      "ones =  0  x  =  5 (ones ^ x) ->  5\n",
      "ones =  0  x  =  5 (ones ^ x) ->  5 (ones ^ x) & ~twos  ->  1\n",
      "ones =  0  x  =  5   (ones ^ x) ->  5   (ones ^ x) & ~twos  ->  1     (twos & ~x)  ->  2     (ones ^ x) & ~twos, (ones & x) | (twos & ~x)   ->  1 2\n",
      "ones =  1  twos  =  2\n",
      "\n",
      "\n",
      "\n",
      "For  5\n",
      "\n",
      "\n",
      "ones =  1  x  =  5 (ones ^ x) ->  4\n",
      "ones =  1  x  =  5 (ones ^ x) ->  4 (ones ^ x) & ~twos  ->  4\n",
      "ones =  1  x  =  5   (ones ^ x) ->  4   (ones ^ x) & ~twos  ->  4     (twos & ~x)  ->  2     (ones ^ x) & ~twos, (ones & x) | (twos & ~x)   ->  4 3\n",
      "ones =  4  twos  =  3\n",
      "\n",
      "\n",
      "\n",
      "For  3\n",
      "\n",
      "\n",
      "ones =  4  x  =  3 (ones ^ x) ->  7\n",
      "ones =  4  x  =  3 (ones ^ x) ->  7 (ones ^ x) & ~twos  ->  4\n",
      "ones =  4  x  =  3   (ones ^ x) ->  7   (ones ^ x) & ~twos  ->  4     (twos & ~x)  ->  0     (ones ^ x) & ~twos, (ones & x) | (twos & ~x)   ->  4 0\n",
      "ones =  4  twos  =  0\n",
      "\n",
      "\n",
      "\n"
     ]
    },
    {
     "data": {
      "text/plain": [
       "4"
      ]
     },
     "execution_count": 62,
     "metadata": {},
     "output_type": "execute_result"
    }
   ],
   "source": [
    "def single_number(arr):\n",
    "    ones, twos = 0, 0\n",
    "    for x in arr:\n",
    "        print(\"For \",x)\n",
    "        print(\"\\n\")\n",
    "        print(\"ones = \", ones, \" x  = \", x, \"(ones ^ x) -> \",(ones ^ x) )\n",
    "        print(\"ones = \", ones, \" x  = \", x, \"(ones ^ x) -> \",(ones ^ x), \"(ones ^ x) & ~twos  -> \", (ones ^ x) & ~twos )\n",
    "        print(\"ones = \", ones, \" x  = \", x, \"  (ones ^ x) -> \",(ones ^ x), \"  (ones ^ x) & ~twos  -> \", (ones ^ x) & ~twos, \n",
    "             \"    (twos & ~x)  -> \", (twos & ~x), \n",
    "             \"    (ones ^ x) & ~twos, (ones & x) | (twos & ~x)   -> \", (ones ^ x) & ~twos, (ones & x) | (twos & ~x))\n",
    "        ones, twos = (ones ^ x) & ~twos, (ones & x) | (twos & ~x)\n",
    "        print(\"ones = \", ones, \" twos  = \", twos)\n",
    "        print(\"\\n\\n\")\n",
    "    assert twos == 0\n",
    "    return ones\n",
    "\n",
    "arr1 = [5, 3, 4, 3, 5, 5, 3]\n",
    "single_number(arr1)"
   ]
  },
  {
   "cell_type": "code",
   "execution_count": null,
   "metadata": {},
   "outputs": [],
   "source": []
  },
  {
   "cell_type": "code",
   "execution_count": null,
   "metadata": {},
   "outputs": [],
   "source": []
  },
  {
   "cell_type": "code",
   "execution_count": null,
   "metadata": {},
   "outputs": [],
   "source": []
  },
  {
   "cell_type": "code",
   "execution_count": null,
   "metadata": {},
   "outputs": [],
   "source": []
  },
  {
   "cell_type": "code",
   "execution_count": null,
   "metadata": {},
   "outputs": [],
   "source": []
  },
  {
   "cell_type": "code",
   "execution_count": null,
   "metadata": {},
   "outputs": [],
   "source": []
  },
  {
   "cell_type": "code",
   "execution_count": null,
   "metadata": {},
   "outputs": [],
   "source": []
  },
  {
   "cell_type": "code",
   "execution_count": null,
   "metadata": {},
   "outputs": [],
   "source": []
  },
  {
   "cell_type": "code",
   "execution_count": null,
   "metadata": {},
   "outputs": [],
   "source": []
  },
  {
   "cell_type": "code",
   "execution_count": null,
   "metadata": {},
   "outputs": [],
   "source": []
  },
  {
   "cell_type": "code",
   "execution_count": null,
   "metadata": {},
   "outputs": [],
   "source": []
  },
  {
   "cell_type": "code",
   "execution_count": null,
   "metadata": {},
   "outputs": [],
   "source": []
  },
  {
   "cell_type": "code",
   "execution_count": null,
   "metadata": {},
   "outputs": [],
   "source": []
  },
  {
   "cell_type": "code",
   "execution_count": null,
   "metadata": {},
   "outputs": [],
   "source": []
  },
  {
   "cell_type": "code",
   "execution_count": null,
   "metadata": {},
   "outputs": [],
   "source": []
  },
  {
   "cell_type": "code",
   "execution_count": null,
   "metadata": {},
   "outputs": [],
   "source": []
  },
  {
   "cell_type": "code",
   "execution_count": null,
   "metadata": {},
   "outputs": [],
   "source": []
  }
 ],
 "metadata": {
  "kernelspec": {
   "display_name": "Python 3",
   "language": "python",
   "name": "python3"
  },
  "language_info": {
   "codemirror_mode": {
    "name": "ipython",
    "version": 3
   },
   "file_extension": ".py",
   "mimetype": "text/x-python",
   "name": "python",
   "nbconvert_exporter": "python",
   "pygments_lexer": "ipython3",
   "version": "3.7.2"
  }
 },
 "nbformat": 4,
 "nbformat_minor": 2
}
