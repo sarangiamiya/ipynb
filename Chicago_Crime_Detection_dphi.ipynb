{
 "cells": [
  {
   "cell_type": "markdown",
   "metadata": {
    "colab_type": "text",
    "id": "rb0oSzAdUkNg"
   },
   "source": [
    "**Helpful Material:**\n",
    "\n",
    "1) https://www.shanelynn.ie/summarising-aggregation-and-grouping-data-in-python-pandas/\n",
    "\n",
    "2) Helpful function: df.value_counts()\n",
    "\n",
    "**Learning objective**\n",
    "*  EDA\n",
    "*  Getting familiar with datetime operations\n"
   ]
  },
  {
   "cell_type": "code",
   "execution_count": null,
   "metadata": {
    "colab": {},
    "colab_type": "code",
    "id": "J6GZan3pW0nK"
   },
   "outputs": [],
   "source": [
    "# Loading Libraries\n",
    "import numpy as np\n",
    "import pandas as pd\n",
    "\n",
    "import warnings\n",
    "warnings.filterwarnings(\"ignore\")"
   ]
  },
  {
   "cell_type": "code",
   "execution_count": null,
   "metadata": {
    "colab": {},
    "colab_type": "code",
    "id": "WMCiv1GOXFh-"
   },
   "outputs": [],
   "source": [
    "chicago_data = pd.read_csv(\"https://raw.githubusercontent.com/dphi-official/Datasets/master/Chicago_Crime_Detective.csv\")"
   ]
  },
  {
   "cell_type": "markdown",
   "metadata": {
    "colab_type": "text",
    "id": "Znsv8OkMkM8h"
   },
   "source": [
    "Use the raw data github link above.\n",
    "\n",
    "Data Columns details:\n",
    "1. ID: a unique identifier for each observation.\n",
    "\n",
    "2. Date: the date the crime occurred.\n",
    "LocationDescription: the location where the crime occurred.\n",
    "\n",
    "3. Arrest: whether or not an arrest was made for the crime (TRUE if an arrest was made, and FALSE if an arrest was not made).\n",
    "\n",
    "4. Domestic: whether or not the crime was a domestic crime, meaning that it was committed against a family member (TRUE if it was domestic, and FALSE if it was not domestic).\n",
    "\n",
    "5. Beat: the area, or \"beat\" in which the crime occurred. This is the smallest regional division defined by the Chicago police department.\n",
    "\n",
    "6. District: the police district in which the crime occured. Each district is composed of many beats, and are defined by the Chicago Police Department.\n",
    "\n",
    "7. CommunityArea: the community area in which the crime occurred. Since the 1920s, Chicago has been divided into what are called \"community areas\", of which there are now 77. The community areas were devised in an attempt to create socially homogeneous regions.\n",
    "\n",
    "8. Year: the year in which the crime occurred.\n",
    "Latitude: the latitude of the location at which the crime occurred."
   ]
  },
  {
   "cell_type": "markdown",
   "metadata": {
    "colab_type": "text",
    "id": "p_5NyRrGWBn1"
   },
   "source": [
    "**Question 1:** What is the Month and Year of the median date in our dataset? *\n",
    "\n",
    "Enter your answer as \"Month Year\", without the quotes. (Ex: if the answer was 2008-03-28, you would give the answer \"March 2008\", without the quotes.)\n",
    "\n",
    "**Your answer: May 2006"
   ]
  },
  {
   "cell_type": "markdown",
   "metadata": {
    "colab_type": "text",
    "id": "EC6CMddoW3dL"
   },
   "source": [
    "**Question 2:** In which month did the lowest motor vehicle thefts occur? *\n",
    "\n",
    "(Ex: if the answer was March, you would give the answer \"March\", without the quotes.)\n",
    "\n",
    "**Your answer: February"
   ]
  },
  {
   "cell_type": "markdown",
   "metadata": {
    "colab_type": "text",
    "id": "Ox9wmNfBXBNc"
   },
   "source": [
    "**Question 3:** In which month did the lowest motor vehicle thefts occur? *\n",
    "(Ex: if the answer was March, you would give the answer \"March\", without the quotes.)\n",
    "\n",
    "**Your answer: February\n"
   ]
  },
  {
   "cell_type": "markdown",
   "metadata": {
    "colab_type": "text",
    "id": "Ixxg-0nIXtrS"
   },
   "source": [
    "**Question 4:** On which weekday did most motor vehicle thefts occur? *\n",
    "(Ex: if the answer was Monday, you would give the answer \"Monday\", without the quotes.)\n",
    "\n",
    "**Your answer: Sunday\n"
   ]
  },
  {
   "cell_type": "markdown",
   "metadata": {
    "colab_type": "text",
    "id": "2nrxCxjJX44G"
   },
   "source": [
    "**Question 5:** Each observation in the dataset represents a motor vehicle theft, and the Arrest variable indicates whether an arrest was later made for this theft. Which month has the largest number of motor vehicle thefts for which an arrest was made? *\n",
    "(Ex: if the answer was March, you would give the answer \"March\", without the quotes.)\n",
    "\n",
    "**Your answer: January\n"
   ]
  },
  {
   "cell_type": "markdown",
   "metadata": {
    "colab_type": "text",
    "id": "fERgD9_xYHvX"
   },
   "source": [
    "**Question 6:** Select the true statements *\n",
    "1. In general, does it look like crime decreases from 2002 - 2012?\n",
    "2. In general, does it look like crime increases from 2005 - 2008?\n",
    "3. In general, does it look like crime increases from 2009 - 2011?\n",
    "\n",
    "**Your answer: 3"
   ]
  },
  {
   "cell_type": "markdown",
   "metadata": {
    "colab_type": "text",
    "id": "9b_gZET8YZOV"
   },
   "source": [
    "**Question 7:** Crimes for which more arrests were made are in the first half of the time period or the second half of the time period? *\n",
    "(Note that the time period is from 2001 to 2012, so the middle of the time period is the beginning of 2007.)\n",
    "\n",
    "1. First half\n",
    "2. Second half\n",
    "\n",
    "**Your answer: 1"
   ]
  },
  {
   "cell_type": "markdown",
   "metadata": {
    "colab_type": "text",
    "id": "Hm9vag5kYqGX"
   },
   "source": [
    "**Question 8:** For what proportion of motor vehicle thefts in 2001 was an arrest made? *\n",
    "**Note:** in this question and many others in the course, we are asking for an answer as a proportion. Therefore, your answer should take a value between 0 and 1\n",
    "\n",
    "1. 0.06\n",
    "2. 0.08\n",
    "3. 0.10\n",
    "4. 0.12\n",
    "\n",
    "**Your answer: 3"
   ]
  },
  {
   "cell_type": "markdown",
   "metadata": {
    "colab_type": "text",
    "id": "x8y7kpPdY2g9"
   },
   "source": [
    "**Question 9:** For what proportion of motor vehicle thefts in 2007 was an arrest made? (round your answer to 2 decimal places)\n",
    "\n",
    "**Your answer: 0.08"
   ]
  },
  {
   "cell_type": "markdown",
   "metadata": {
    "colab_type": "text",
    "id": "ABMDdLEPZDt0"
   },
   "source": [
    "#### **Question 10:** Which locations are the top five locations for motor vehicle thefts, excluding the \"Other\" category? *\n",
    "\n",
    "1. Bank\n",
    "2. Gas Station\n",
    "3. Hotel/Motel\n",
    "4. Street\n",
    "5. Car Wash\n",
    "6. Restaurant\n",
    "7. Parking Lot/Garage (Non-Residential)\n",
    "8. Alley\n",
    "9. Driveway (Residential)\n",
    "10. Vacant Lot/Land\n",
    "\n",
    "**Your answer: 4, 7, 8, 2, 9"
   ]
  },
  {
   "cell_type": "markdown",
   "metadata": {
    "colab_type": "text",
    "id": "ZYPM-qxkZfM1"
   },
   "source": [
    "**Question 11:** Create a subset of your data, only taking observations for which the theft happened in one of these five locations, and call this new data set \"Top5\". How many observations are in Top5? \n",
    "\n",
    "**Your answer: 156564"
   ]
  },
  {
   "cell_type": "markdown",
   "metadata": {
    "colab_type": "text",
    "id": "06wNQi51Z6xS"
   },
   "source": [
    "**Question 12:** On which day of the week do the most motor vehicle thefts at gas stations happen? *\n",
    "\n",
    "1. Monday\n",
    "2. Tuesday\n",
    "3. Wednesday\n",
    "4. Thursday\n",
    "5. Friday\n",
    "6. Saturday\n",
    "7. Sunday\n",
    "\n",
    "**Your answer: Friday"
   ]
  }
 ],
 "metadata": {
  "colab": {
   "collapsed_sections": [],
   "name": "Chicago_Crime_Detection.ipynb",
   "provenance": []
  },
  "kernelspec": {
   "display_name": "Python 3",
   "language": "python",
   "name": "python3"
  },
  "language_info": {
   "codemirror_mode": {
    "name": "ipython",
    "version": 3
   },
   "file_extension": ".py",
   "mimetype": "text/x-python",
   "name": "python",
   "nbconvert_exporter": "python",
   "pygments_lexer": "ipython3",
   "version": "3.7.6"
  }
 },
 "nbformat": 4,
 "nbformat_minor": 1
}
