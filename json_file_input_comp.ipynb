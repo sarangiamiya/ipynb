{
 "cells": [
  {
   "cell_type": "code",
   "execution_count": 2,
   "metadata": {},
   "outputs": [],
   "source": [
    "import pandas as pd \n",
    "import json"
   ]
  },
  {
   "cell_type": "code",
   "execution_count": 4,
   "metadata": {},
   "outputs": [],
   "source": [
    "eutran_cell_relation_dn = \"ENM=modelenm,SubNetwork=QLD_Woolloongabba_Mod,MeContext=QLD_WNCU15_WOOLLOONGABBA_NC_TEST_BASE_579901,ManagedElement=1,ENodeBFunction=1,EUtranCellFDD=WNCUET2,EUtranFreqRelation=9410,EUtranCellRelation=5051-571901-2\""
   ]
  },
  {
   "cell_type": "code",
   "execution_count": 5,
   "metadata": {},
   "outputs": [
    {
     "data": {
      "text/plain": [
       "'ENM=modelenm,SubNetwork=QLD_Woolloongabba_Mod,MeContext=QLD_WNCU15_WOOLLOONGABBA_NC_TEST_BASE_579901,ManagedElement=1,ENodeBFunction=1,EUtranCellFDD=WNCUET2,EUtranFreqRelation=9410,EUtranCellRelation=5051-571901-2'"
      ]
     },
     "execution_count": 5,
     "metadata": {},
     "output_type": "execute_result"
    }
   ],
   "source": [
    "eutran_cell_relation_dn"
   ]
  },
  {
   "cell_type": "code",
   "execution_count": 6,
   "metadata": {},
   "outputs": [],
   "source": [
    "eutran_cell_relation_dn= eutran_cell_relation_dn.replace(\"=\",\":\")"
   ]
  },
  {
   "cell_type": "code",
   "execution_count": 7,
   "metadata": {},
   "outputs": [
    {
     "data": {
      "text/plain": [
       "'ENM:modelenm,SubNetwork:QLD_Woolloongabba_Mod,MeContext:QLD_WNCU15_WOOLLOONGABBA_NC_TEST_BASE_579901,ManagedElement:1,ENodeBFunction:1,EUtranCellFDD:WNCUET2,EUtranFreqRelation:9410,EUtranCellRelation:5051-571901-2'"
      ]
     },
     "execution_count": 7,
     "metadata": {},
     "output_type": "execute_result"
    }
   ],
   "source": [
    "eutran_cell_relation_dn"
   ]
  },
  {
   "cell_type": "code",
   "execution_count": 8,
   "metadata": {},
   "outputs": [
    {
     "data": {
      "text/plain": [
       "str"
      ]
     },
     "execution_count": 8,
     "metadata": {},
     "output_type": "execute_result"
    }
   ],
   "source": [
    "type(eutran_cell_relation_dn)"
   ]
  },
  {
   "cell_type": "code",
   "execution_count": 9,
   "metadata": {
    "collapsed": true
   },
   "outputs": [
    {
     "ename": "JSONDecodeError",
     "evalue": "Expecting value: line 1 column 1 (char 0)",
     "output_type": "error",
     "traceback": [
      "\u001b[1;31m---------------------------------------------------------------------------\u001b[0m",
      "\u001b[1;31mJSONDecodeError\u001b[0m                           Traceback (most recent call last)",
      "\u001b[1;32m<ipython-input-9-0762f2b00d23>\u001b[0m in \u001b[0;36m<module>\u001b[1;34m\u001b[0m\n\u001b[1;32m----> 1\u001b[1;33m \u001b[0meutran_cell_relation_dn1\u001b[0m \u001b[1;33m=\u001b[0m \u001b[0mjson\u001b[0m\u001b[1;33m.\u001b[0m\u001b[0mloads\u001b[0m\u001b[1;33m(\u001b[0m\u001b[0meutran_cell_relation_dn\u001b[0m\u001b[1;33m)\u001b[0m\u001b[1;33m\u001b[0m\u001b[1;33m\u001b[0m\u001b[0m\n\u001b[0m",
      "\u001b[1;32mC:\\ProgramData\\Anaconda3\\lib\\json\\__init__.py\u001b[0m in \u001b[0;36mloads\u001b[1;34m(s, encoding, cls, object_hook, parse_float, parse_int, parse_constant, object_pairs_hook, **kw)\u001b[0m\n\u001b[0;32m    346\u001b[0m             \u001b[0mparse_int\u001b[0m \u001b[1;32mis\u001b[0m \u001b[1;32mNone\u001b[0m \u001b[1;32mand\u001b[0m \u001b[0mparse_float\u001b[0m \u001b[1;32mis\u001b[0m \u001b[1;32mNone\u001b[0m \u001b[1;32mand\u001b[0m\u001b[1;33m\u001b[0m\u001b[1;33m\u001b[0m\u001b[0m\n\u001b[0;32m    347\u001b[0m             parse_constant is None and object_pairs_hook is None and not kw):\n\u001b[1;32m--> 348\u001b[1;33m         \u001b[1;32mreturn\u001b[0m \u001b[0m_default_decoder\u001b[0m\u001b[1;33m.\u001b[0m\u001b[0mdecode\u001b[0m\u001b[1;33m(\u001b[0m\u001b[0ms\u001b[0m\u001b[1;33m)\u001b[0m\u001b[1;33m\u001b[0m\u001b[1;33m\u001b[0m\u001b[0m\n\u001b[0m\u001b[0;32m    349\u001b[0m     \u001b[1;32mif\u001b[0m \u001b[0mcls\u001b[0m \u001b[1;32mis\u001b[0m \u001b[1;32mNone\u001b[0m\u001b[1;33m:\u001b[0m\u001b[1;33m\u001b[0m\u001b[1;33m\u001b[0m\u001b[0m\n\u001b[0;32m    350\u001b[0m         \u001b[0mcls\u001b[0m \u001b[1;33m=\u001b[0m \u001b[0mJSONDecoder\u001b[0m\u001b[1;33m\u001b[0m\u001b[1;33m\u001b[0m\u001b[0m\n",
      "\u001b[1;32mC:\\ProgramData\\Anaconda3\\lib\\json\\decoder.py\u001b[0m in \u001b[0;36mdecode\u001b[1;34m(self, s, _w)\u001b[0m\n\u001b[0;32m    335\u001b[0m \u001b[1;33m\u001b[0m\u001b[0m\n\u001b[0;32m    336\u001b[0m         \"\"\"\n\u001b[1;32m--> 337\u001b[1;33m         \u001b[0mobj\u001b[0m\u001b[1;33m,\u001b[0m \u001b[0mend\u001b[0m \u001b[1;33m=\u001b[0m \u001b[0mself\u001b[0m\u001b[1;33m.\u001b[0m\u001b[0mraw_decode\u001b[0m\u001b[1;33m(\u001b[0m\u001b[0ms\u001b[0m\u001b[1;33m,\u001b[0m \u001b[0midx\u001b[0m\u001b[1;33m=\u001b[0m\u001b[0m_w\u001b[0m\u001b[1;33m(\u001b[0m\u001b[0ms\u001b[0m\u001b[1;33m,\u001b[0m \u001b[1;36m0\u001b[0m\u001b[1;33m)\u001b[0m\u001b[1;33m.\u001b[0m\u001b[0mend\u001b[0m\u001b[1;33m(\u001b[0m\u001b[1;33m)\u001b[0m\u001b[1;33m)\u001b[0m\u001b[1;33m\u001b[0m\u001b[1;33m\u001b[0m\u001b[0m\n\u001b[0m\u001b[0;32m    338\u001b[0m         \u001b[0mend\u001b[0m \u001b[1;33m=\u001b[0m \u001b[0m_w\u001b[0m\u001b[1;33m(\u001b[0m\u001b[0ms\u001b[0m\u001b[1;33m,\u001b[0m \u001b[0mend\u001b[0m\u001b[1;33m)\u001b[0m\u001b[1;33m.\u001b[0m\u001b[0mend\u001b[0m\u001b[1;33m(\u001b[0m\u001b[1;33m)\u001b[0m\u001b[1;33m\u001b[0m\u001b[1;33m\u001b[0m\u001b[0m\n\u001b[0;32m    339\u001b[0m         \u001b[1;32mif\u001b[0m \u001b[0mend\u001b[0m \u001b[1;33m!=\u001b[0m \u001b[0mlen\u001b[0m\u001b[1;33m(\u001b[0m\u001b[0ms\u001b[0m\u001b[1;33m)\u001b[0m\u001b[1;33m:\u001b[0m\u001b[1;33m\u001b[0m\u001b[1;33m\u001b[0m\u001b[0m\n",
      "\u001b[1;32mC:\\ProgramData\\Anaconda3\\lib\\json\\decoder.py\u001b[0m in \u001b[0;36mraw_decode\u001b[1;34m(self, s, idx)\u001b[0m\n\u001b[0;32m    353\u001b[0m             \u001b[0mobj\u001b[0m\u001b[1;33m,\u001b[0m \u001b[0mend\u001b[0m \u001b[1;33m=\u001b[0m \u001b[0mself\u001b[0m\u001b[1;33m.\u001b[0m\u001b[0mscan_once\u001b[0m\u001b[1;33m(\u001b[0m\u001b[0ms\u001b[0m\u001b[1;33m,\u001b[0m \u001b[0midx\u001b[0m\u001b[1;33m)\u001b[0m\u001b[1;33m\u001b[0m\u001b[1;33m\u001b[0m\u001b[0m\n\u001b[0;32m    354\u001b[0m         \u001b[1;32mexcept\u001b[0m \u001b[0mStopIteration\u001b[0m \u001b[1;32mas\u001b[0m \u001b[0merr\u001b[0m\u001b[1;33m:\u001b[0m\u001b[1;33m\u001b[0m\u001b[1;33m\u001b[0m\u001b[0m\n\u001b[1;32m--> 355\u001b[1;33m             \u001b[1;32mraise\u001b[0m \u001b[0mJSONDecodeError\u001b[0m\u001b[1;33m(\u001b[0m\u001b[1;34m\"Expecting value\"\u001b[0m\u001b[1;33m,\u001b[0m \u001b[0ms\u001b[0m\u001b[1;33m,\u001b[0m \u001b[0merr\u001b[0m\u001b[1;33m.\u001b[0m\u001b[0mvalue\u001b[0m\u001b[1;33m)\u001b[0m \u001b[1;32mfrom\u001b[0m \u001b[1;32mNone\u001b[0m\u001b[1;33m\u001b[0m\u001b[1;33m\u001b[0m\u001b[0m\n\u001b[0m\u001b[0;32m    356\u001b[0m         \u001b[1;32mreturn\u001b[0m \u001b[0mobj\u001b[0m\u001b[1;33m,\u001b[0m \u001b[0mend\u001b[0m\u001b[1;33m\u001b[0m\u001b[1;33m\u001b[0m\u001b[0m\n",
      "\u001b[1;31mJSONDecodeError\u001b[0m: Expecting value: line 1 column 1 (char 0)"
     ]
    }
   ],
   "source": [
    "eutran_cell_relation_dn1 = json.loads(eutran_cell_relation_dn) "
   ]
  },
  {
   "cell_type": "code",
   "execution_count": 10,
   "metadata": {},
   "outputs": [
    {
     "name": "stdout",
     "output_type": "stream",
     "text": [
      "ENM:modelenm\n",
      "SubNetwork:QLD_Woolloongabba_Mod\n",
      "MeContext:QLD_WNCU15_WOOLLOONGABBA_NC_TEST_BASE_579901\n",
      "ManagedElement:1\n",
      "ENodeBFunction:1\n",
      "EUtranCellFDD:WNCUET2\n",
      "EUtranFreqRelation:9410\n",
      "EUtranCellRelation:5051-571901-2\n"
     ]
    }
   ],
   "source": [
    "for string in eutran_cell_relation_dn.split(\",\"):\n",
    "    print(string)"
   ]
  },
  {
   "cell_type": "code",
   "execution_count": 16,
   "metadata": {},
   "outputs": [],
   "source": [
    "eutran_cell_relation_dn= eutran_cell_relation_dn.replace(\"=\",\":\")\n",
    "eutran_cell_relation_dn_dict = {}\n",
    "for string in eutran_cell_relation_dn.split(\",\"):\n",
    "    str2 = string.split(\":\")\n",
    "    eutran_cell_relation_dn_dict[str2[0]] = str2[-1]\n",
    "        "
   ]
  },
  {
   "cell_type": "code",
   "execution_count": 17,
   "metadata": {},
   "outputs": [
    {
     "data": {
      "text/plain": [
       "{'ENM': 'modelenm',\n",
       " 'SubNetwork': 'QLD_Woolloongabba_Mod',\n",
       " 'MeContext': 'QLD_WNCU15_WOOLLOONGABBA_NC_TEST_BASE_579901',\n",
       " 'ManagedElement': '1',\n",
       " 'ENodeBFunction': '1',\n",
       " 'EUtranCellFDD': 'WNCUET2',\n",
       " 'EUtranFreqRelation': '9410',\n",
       " 'EUtranCellRelation': '5051-571901-2'}"
      ]
     },
     "execution_count": 17,
     "metadata": {},
     "output_type": "execute_result"
    }
   ],
   "source": [
    "eutran_cell_relation_dn_dict"
   ]
  },
  {
   "cell_type": "code",
   "execution_count": 18,
   "metadata": {},
   "outputs": [],
   "source": [
    "def convert_dict(eutran_cell_relation_dn):\n",
    "    eutran_cell_relation_dn= eutran_cell_relation_dn.replace(\"=\",\":\")\n",
    "    eutran_cell_relation_dn_dict = {}\n",
    "    for string in eutran_cell_relation_dn.split(\",\"):\n",
    "        str2 = string.split(\":\")\n",
    "        eutran_cell_relation_dn_dict[str2[0]] = str2[-1]\n",
    "    return eutran_cell_relation_dn_dict"
   ]
  },
  {
   "cell_type": "code",
   "execution_count": 19,
   "metadata": {},
   "outputs": [],
   "source": [
    "dn_var = \"ENM=modelenm,SubNetwork=QLD_Woolloongabba_Mod,MeContext=QLD_WNCU15_WOOLLOONGABBA_NC_TEST_BASE_579901,ManagedElement=1,ENodeBFunction=1,EUtranCellFDD=WNCUET2,EUtranFreqRelation=9410,EUtranCellRelation=WNCUFT3\"\n",
    "src = \"ENM=modelenm,SubNetwork=QLD_Woolloongabba_Mod,MeContext=QLD_WNCU15_WOOLLOONGABBA_NC_TEST_BASE_579901,ManagedElement=1,ENodeBFunction=1,EUtranCellFDD=WNCUET3\""
   ]
  },
  {
   "cell_type": "code",
   "execution_count": 22,
   "metadata": {},
   "outputs": [
    {
     "name": "stdout",
     "output_type": "stream",
     "text": [
      "None\n"
     ]
    }
   ],
   "source": [
    "print(convert_dict(dn_var).update(convert_dict(src)))"
   ]
  },
  {
   "cell_type": "code",
   "execution_count": 25,
   "metadata": {},
   "outputs": [],
   "source": [
    "dict1 = convert_dict(dn_var)"
   ]
  },
  {
   "cell_type": "code",
   "execution_count": 26,
   "metadata": {},
   "outputs": [],
   "source": [
    "dict2 = convert_dict(src)"
   ]
  },
  {
   "cell_type": "code",
   "execution_count": 27,
   "metadata": {},
   "outputs": [],
   "source": [
    "dict1.update(dict2)"
   ]
  },
  {
   "cell_type": "code",
   "execution_count": 28,
   "metadata": {},
   "outputs": [
    {
     "name": "stdout",
     "output_type": "stream",
     "text": [
      "{'ENM': 'modelenm', 'SubNetwork': 'QLD_Woolloongabba_Mod', 'MeContext': 'QLD_WNCU15_WOOLLOONGABBA_NC_TEST_BASE_579901', 'ManagedElement': '1', 'ENodeBFunction': '1', 'EUtranCellFDD': 'WNCUET3', 'EUtranFreqRelation': '9410', 'EUtranCellRelation': 'WNCUFT3'}\n"
     ]
    }
   ],
   "source": [
    "print(dict1)"
   ]
  },
  {
   "cell_type": "code",
   "execution_count": 29,
   "metadata": {},
   "outputs": [
    {
     "ename": "TypeError",
     "evalue": "the JSON object must be str, bytes or bytearray, not dict",
     "output_type": "error",
     "traceback": [
      "\u001b[1;31m---------------------------------------------------------------------------\u001b[0m",
      "\u001b[1;31mTypeError\u001b[0m                                 Traceback (most recent call last)",
      "\u001b[1;32m<ipython-input-29-7e2f13a1eede>\u001b[0m in \u001b[0;36m<module>\u001b[1;34m\u001b[0m\n\u001b[1;32m----> 1\u001b[1;33m \u001b[0mres\u001b[0m \u001b[1;33m=\u001b[0m \u001b[0mjson\u001b[0m\u001b[1;33m.\u001b[0m\u001b[0mloads\u001b[0m\u001b[1;33m(\u001b[0m\u001b[0mdict1\u001b[0m\u001b[1;33m)\u001b[0m\u001b[1;33m\u001b[0m\u001b[1;33m\u001b[0m\u001b[0m\n\u001b[0m",
      "\u001b[1;32mC:\\ProgramData\\Anaconda3\\lib\\json\\__init__.py\u001b[0m in \u001b[0;36mloads\u001b[1;34m(s, encoding, cls, object_hook, parse_float, parse_int, parse_constant, object_pairs_hook, **kw)\u001b[0m\n\u001b[0;32m    339\u001b[0m     \u001b[1;32melse\u001b[0m\u001b[1;33m:\u001b[0m\u001b[1;33m\u001b[0m\u001b[1;33m\u001b[0m\u001b[0m\n\u001b[0;32m    340\u001b[0m         \u001b[1;32mif\u001b[0m \u001b[1;32mnot\u001b[0m \u001b[0misinstance\u001b[0m\u001b[1;33m(\u001b[0m\u001b[0ms\u001b[0m\u001b[1;33m,\u001b[0m \u001b[1;33m(\u001b[0m\u001b[0mbytes\u001b[0m\u001b[1;33m,\u001b[0m \u001b[0mbytearray\u001b[0m\u001b[1;33m)\u001b[0m\u001b[1;33m)\u001b[0m\u001b[1;33m:\u001b[0m\u001b[1;33m\u001b[0m\u001b[1;33m\u001b[0m\u001b[0m\n\u001b[1;32m--> 341\u001b[1;33m             raise TypeError(f'the JSON object must be str, bytes or bytearray, '\n\u001b[0m\u001b[0;32m    342\u001b[0m                             f'not {s.__class__.__name__}')\n\u001b[0;32m    343\u001b[0m         \u001b[0ms\u001b[0m \u001b[1;33m=\u001b[0m \u001b[0ms\u001b[0m\u001b[1;33m.\u001b[0m\u001b[0mdecode\u001b[0m\u001b[1;33m(\u001b[0m\u001b[0mdetect_encoding\u001b[0m\u001b[1;33m(\u001b[0m\u001b[0ms\u001b[0m\u001b[1;33m)\u001b[0m\u001b[1;33m,\u001b[0m \u001b[1;34m'surrogatepass'\u001b[0m\u001b[1;33m)\u001b[0m\u001b[1;33m\u001b[0m\u001b[1;33m\u001b[0m\u001b[0m\n",
      "\u001b[1;31mTypeError\u001b[0m: the JSON object must be str, bytes or bytearray, not dict"
     ]
    }
   ],
   "source": [
    "res = json.loads(dict1)"
   ]
  },
  {
   "cell_type": "code",
   "execution_count": 31,
   "metadata": {},
   "outputs": [],
   "source": [
    "import json\n",
    "with open('Identified_EutranCell.json', 'w') as fp:\n",
    "    json.dump(dict1, fp)"
   ]
  },
  {
   "cell_type": "code",
   "execution_count": 32,
   "metadata": {},
   "outputs": [],
   "source": [
    "import json\n",
    "with open('Existing_EutranCell.json', 'w') as fp:\n",
    "    json.dump(eutran_cell_relation_dn_dict, fp)"
   ]
  },
  {
   "cell_type": "code",
   "execution_count": 2,
   "metadata": {},
   "outputs": [
    {
     "data": {
      "text/plain": [
       "{'ENM': 'modelenm',\n",
       " 'SubNetwork': 'QLD_Woolloongabba_Mod',\n",
       " 'MeContext': 'QLD_WNCU15_WOOLLOONGABBA_NC_TEST_BASE_579901',\n",
       " 'ManagedElement': '1',\n",
       " 'ENodeBFunction': '1',\n",
       " 'EUtranCellFDD': 'WNCUET3',\n",
       " 'EUtranFreqRelation': '9410',\n",
       " 'EUtranCellRelation': 'WNCUFT3'}"
      ]
     },
     "execution_count": 2,
     "metadata": {},
     "output_type": "execute_result"
    }
   ],
   "source": [
    "with open('Identified_EutranCell.json') as f:\n",
    "      ie= json.load(f)\n",
    "ie"
   ]
  },
  {
   "cell_type": "code",
   "execution_count": 3,
   "metadata": {},
   "outputs": [
    {
     "data": {
      "text/plain": [
       "{'ENM': 'modelenm',\n",
       " 'SubNetwork': 'QLD_Woolloongabba_Mod',\n",
       " 'MeContext': 'QLD_WNCU15_WOOLLOONGABBA_NC_TEST_BASE_579901',\n",
       " 'ManagedElement': '1',\n",
       " 'ENodeBFunction': '1',\n",
       " 'EUtranCellFDD': 'WNCUET2',\n",
       " 'EUtranFreqRelation': '9410',\n",
       " 'EUtranCellRelation': '5051-571901-2'}"
      ]
     },
     "execution_count": 3,
     "metadata": {},
     "output_type": "execute_result"
    }
   ],
   "source": [
    "with open('Existing_EutranCell.json') as f:\n",
    "      ee= json.load(f)\n",
    "ee"
   ]
  },
  {
   "cell_type": "code",
   "execution_count": 42,
   "metadata": {},
   "outputs": [],
   "source": [
    "EUtranCellRelation_values = {}\n",
    "for key,value in ee.items():\n",
    "    for key,value in ie.items(): \n",
    "        if ee['EUtranFreqRelation'] and ie['EUtranFreqRelation']:\n",
    "            if ee['EUtranCellRelation']:\n",
    "                EUtranCellRelation_values[ie['EUtranCellFDD']] = (ee['EUtranCellRelation'])\n",
    "                continue\n",
    "            ecr = '5051'+\"-\" + str(ie['MeContext'].split(\"_\")[-1]) +\"-\" +  ie['EUtranCellFDD'][-1]\n",
    "            EUtranCellRelation_values[ie['EUtranCellFDD']] = ecr\n",
    "\n",
    "\n",
    "    \n",
    "        \n",
    "        "
   ]
  },
  {
   "cell_type": "code",
   "execution_count": null,
   "metadata": {},
   "outputs": [],
   "source": [
    "{'ENM': 'modelenm',\n",
    " 'SubNetwork': 'QLD_Woolloongabba_Mod',\n",
    " 'MeContext': 'QLD_WNCU15_WOOLLOONGABBA_NC_TEST_BASE_579901',\n",
    " 'ManagedElement': '1',\n",
    " 'ENodeBFunction': '1',\n",
    " 'EUtranCellFDD': 'WNCUET3',\n",
    " 'EUtranFreqRelation': '9410',\n",
    " 'EUtranCellRelation': 'WNCUFT3'}"
   ]
  },
  {
   "cell_type": "code",
   "execution_count": 39,
   "metadata": {},
   "outputs": [
    {
     "data": {
      "text/plain": [
       "str"
      ]
     },
     "execution_count": 39,
     "metadata": {},
     "output_type": "execute_result"
    }
   ],
   "source": [
    "type(ie['EUtranCellFDD'])"
   ]
  },
  {
   "cell_type": "code",
   "execution_count": 40,
   "metadata": {},
   "outputs": [
    {
     "data": {
      "text/plain": [
       "'3'"
      ]
     },
     "execution_count": 40,
     "metadata": {},
     "output_type": "execute_result"
    }
   ],
   "source": [
    "ie['EUtranCellFDD'][-1]"
   ]
  },
  {
   "cell_type": "code",
   "execution_count": 41,
   "metadata": {},
   "outputs": [
    {
     "data": {
      "text/plain": [
       "str"
      ]
     },
     "execution_count": 41,
     "metadata": {},
     "output_type": "execute_result"
    }
   ],
   "source": [
    "type(ie['EUtranCellFDD'][-1])"
   ]
  },
  {
   "cell_type": "code",
   "execution_count": 45,
   "metadata": {},
   "outputs": [
    {
     "data": {
      "text/html": [
       "<div>\n",
       "<style scoped>\n",
       "    .dataframe tbody tr th:only-of-type {\n",
       "        vertical-align: middle;\n",
       "    }\n",
       "\n",
       "    .dataframe tbody tr th {\n",
       "        vertical-align: top;\n",
       "    }\n",
       "\n",
       "    .dataframe thead th {\n",
       "        text-align: right;\n",
       "    }\n",
       "</style>\n",
       "<table border=\"1\" class=\"dataframe\">\n",
       "  <thead>\n",
       "    <tr style=\"text-align: right;\">\n",
       "      <th></th>\n",
       "      <th>WNCUET3</th>\n",
       "    </tr>\n",
       "  </thead>\n",
       "  <tbody>\n",
       "    <tr>\n",
       "      <th>EutranCellRelation</th>\n",
       "      <td>5051-571901-2</td>\n",
       "    </tr>\n",
       "  </tbody>\n",
       "</table>\n",
       "</div>"
      ],
      "text/plain": [
       "                          WNCUET3\n",
       "EutranCellRelation  5051-571901-2"
      ]
     },
     "execution_count": 45,
     "metadata": {},
     "output_type": "execute_result"
    }
   ],
   "source": [
    "df = pd.DataFrame(data=EUtranCellRelation_values, index=['EutranCellRelation'])\n",
    "df"
   ]
  },
  {
   "cell_type": "code",
   "execution_count": 46,
   "metadata": {},
   "outputs": [
    {
     "name": "stdout",
     "output_type": "stream",
     "text": [
      "        EutranCellRelation\n",
      "WNCUET3      5051-571901-2\n"
     ]
    }
   ],
   "source": [
    "\n",
    "df = (df.T)\n",
    "\n",
    "print (df)\n",
    "\n",
    "df.to_excel('dict1.xlsx')"
   ]
  },
  {
   "cell_type": "code",
   "execution_count": 2,
   "metadata": {},
   "outputs": [],
   "source": [
    "with open('identified_X2_relation_json.json') as f:\n",
    "      ie= json.load(f)\n",
    "\n",
    "with open('existing_list_of_X2_relations_json.json') as f:\n",
    "      ee= json.load(f)\n",
    "\n",
    "EUtranCellRelation_values = {}\n",
    "for key,value in ee.items():\n",
    "    for key,value in ie.items(): \n",
    "        if ee['EUtranFreqRelation'] and ie['EUtranFreqRelation']:\n",
    "            if ee['EUtranCellRelation']:\n",
    "                EUtranCellRelation_values[ie['EUtranCellFDD']] = (ee['EUtranCellRelation'])\n",
    "                continue\n",
    "            ecr = '5051'+\"-\" + str(ie['MeContext'].split(\"_\")[-1]) +\"-\" +  ie['EUtranCellFDD'][-1]\n",
    "            EUtranCellRelation_values[ie['EUtranCellFDD']] = ecr"
   ]
  },
  {
   "cell_type": "code",
   "execution_count": 7,
   "metadata": {},
   "outputs": [
    {
     "name": "stdout",
     "output_type": "stream",
     "text": [
      "key =  ENM=modelenm,SubNetwork=QLD_Woolloongabba_Mod,MeContext=QLD_WNCU15_WOOLLOONGABBA_NC_TEST_BASE_579901,ManagedElement=1,ENodeBFunction=1,EUtranCellFDD=WNCUET2,EUtranFreqRelation=9410,EUtranCellRelation=5051-571901-2\n",
      "<class 'str'>\n",
      "value =  {'adjacentCell': 'ENM=modelenm,SubNetwork=QLD_METRO,MeContext=QLD_WNCU35_WOOLLOONGABBA_NC_TEST_BASE_571901,ManagedElement=QLD_WNCU35_WOOLLOONGABBA_NC_TEST_BASE_571901,ENodeBFunction=1,EUtranCellFDD=WNCUFT2', 'coverageIndicator': '0', 'isRemoveAllowed': 'False', 'sCellCandidate': '1', 'sCellPriority': '7'}\n",
      "\n",
      "\n",
      "key =  ENM=modelenm,SubNetwork=QLD_Woolloongabba_Mod,MeContext=QLD_WNCU15_WOOLLOONGABBA_NC_TEST_BASE_579901,ManagedElement=1,ENodeBFunction=1,EUtranCellFDD=WNCUET2,EUtranFreqRelation=9410,EUtranCellRelation=5051-571901-3\n",
      "<class 'str'>\n",
      "value =  {'adjacentCell': 'ENM=modelenm,SubNetwork=QLD_METRO,MeContext=QLD_WNCU35_WOOLLOONGABBA_NC_TEST_BASE_571901,ManagedElement=QLD_WNCU35_WOOLLOONGABBA_NC_TEST_BASE_571901,ENodeBFunction=1,EUtranCellFDD=WNCUFT3', 'coverageIndicator': '0', 'isRemoveAllowed': 'False', 'sCellCandidate': '1', 'sCellPriority': '7'}\n",
      "\n",
      "\n"
     ]
    }
   ],
   "source": [
    "for key, value in ie.items():\n",
    "    print(\"key = \", key)\n",
    "    print(type(key))\n",
    "    print(\"value = \", value)\n",
    "    print(\"\\n\")"
   ]
  },
  {
   "cell_type": "code",
   "execution_count": 4,
   "metadata": {},
   "outputs": [
    {
     "data": {
      "text/plain": [
       "{}"
      ]
     },
     "execution_count": 4,
     "metadata": {},
     "output_type": "execute_result"
    }
   ],
   "source": [
    "ee"
   ]
  },
  {
   "cell_type": "code",
   "execution_count": 21,
   "metadata": {},
   "outputs": [
    {
     "name": "stdout",
     "output_type": "stream",
     "text": [
      "Existing Relation is Empty\n",
      "EUtranCellFDD=WNCUET2\n",
      "EUtranCellRelation=5051-571901-2\n",
      "<class 'str'>\n",
      "\n",
      "\n",
      "EUtranCellFDD=WNCUET2\n",
      "EUtranCellRelation=5051-571901-3\n",
      "<class 'str'>\n",
      "\n",
      "\n"
     ]
    }
   ],
   "source": [
    "EUtranCellRelation_values = {}\n",
    "\n",
    "if(not bool(ee)):\n",
    "    print(\"Existing Relation is Empty\")\n",
    "    for key, value in ie.items():\n",
    "        print(key.split(\",\")[-3])\n",
    "        print(key.split(\",\")[-1])\n",
    "        print(type(key.split(\",\")[-1]))\n",
    "        print(\"\\n\")\n",
    "\n"
   ]
  },
  {
   "cell_type": "code",
   "execution_count": 12,
   "metadata": {},
   "outputs": [
    {
     "name": "stdout",
     "output_type": "stream",
     "text": [
      "<class 'bool'>\n",
      "True\n",
      "enplty\n"
     ]
    }
   ],
   "source": [
    "res = not bool(ee)\n",
    "print(type(res))\n",
    "print(res)\n",
    "if not bool(ee):\n",
    "    print(\"enplty\")\n",
    "else:\n",
    "    print(\"not empty\")"
   ]
  },
  {
   "cell_type": "code",
   "execution_count": 13,
   "metadata": {},
   "outputs": [
    {
     "name": "stdout",
     "output_type": "stream",
     "text": [
      "<class 'bool'>\n",
      "False\n"
     ]
    }
   ],
   "source": [
    "res = bool(ee)\n",
    "print(type(res))\n",
    "print(res)"
   ]
  },
  {
   "cell_type": "code",
   "execution_count": null,
   "metadata": {},
   "outputs": [],
   "source": [
    "for key,value in ee.items():\n",
    "    for key,value in ie.items(): \n",
    "        if ee['EUtranFreqRelation'] and ie['EUtranFreqRelation']:\n",
    "            if ee['EUtranCellRelation']:\n",
    "                EUtranCellRelation_values[ie['EUtranCellFDD']] = (ee['EUtranCellRelation'])\n",
    "                continue\n",
    "            ecr = '5051'+\"-\" + str(ie['MeContext'].split(\"_\")[-1]) +\"-\" +  ie['EUtranCellFDD'][-1]\n",
    "            EUtranCellRelation_values[ie['EUtranCellFDD']] = ecr"
   ]
  },
  {
   "cell_type": "code",
   "execution_count": 26,
   "metadata": {},
   "outputs": [
    {
     "ename": "SyntaxError",
     "evalue": "invalid syntax (<ipython-input-26-9cbc0a53f5f6>, line 1)",
     "output_type": "error",
     "traceback": [
      "\u001b[1;36m  File \u001b[1;32m\"<ipython-input-26-9cbc0a53f5f6>\"\u001b[1;36m, line \u001b[1;32m1\u001b[0m\n\u001b[1;33m    compare key len of both json files\u001b[0m\n\u001b[1;37m              ^\u001b[0m\n\u001b[1;31mSyntaxError\u001b[0m\u001b[1;31m:\u001b[0m invalid syntax\n"
     ]
    }
   ],
   "source": [
    "compare key len of both json files\n",
    "if key of ee is empty; then log the keys of ie\n",
    "if key ee > ie; then find the keys of ee which are more and log the same: create\n",
    "if key ie > ee; then find the keys of ie which are more and log the same: delete\n",
    "\n",
    "if ie keys and ee keys are same; but key val are not same; \n",
    "\n",
    "ee.key exist and not ie: then delete\n"
   ]
  },
  {
   "cell_type": "code",
   "execution_count": 24,
   "metadata": {},
   "outputs": [
    {
     "data": {
      "text/plain": [
       "dict_keys([])"
      ]
     },
     "execution_count": 24,
     "metadata": {},
     "output_type": "execute_result"
    }
   ],
   "source": [
    "key1 = ee.keys()\n",
    "key1"
   ]
  },
  {
   "cell_type": "code",
   "execution_count": 27,
   "metadata": {},
   "outputs": [
    {
     "data": {
      "text/plain": [
       "False"
      ]
     },
     "execution_count": 27,
     "metadata": {},
     "output_type": "execute_result"
    }
   ],
   "source": [
    "res = bool(key1)\n",
    "res"
   ]
  },
  {
   "cell_type": "code",
   "execution_count": 29,
   "metadata": {},
   "outputs": [
    {
     "name": "stdout",
     "output_type": "stream",
     "text": [
      "dict_keys(['ENM=modelenm,SubNetwork=QLD_Woolloongabba_Mod,MeContext=QLD_WNCU15_WOOLLOONGABBA_NC_TEST_BASE_579901,ManagedElement=1,ENodeBFunction=1,EUtranCellFDD=WNCUET2,EUtranFreqRelation=9410,EUtranCellRelation=5051-571901-2', 'ENM=modelenm,SubNetwork=QLD_Woolloongabba_Mod,MeContext=QLD_WNCU15_WOOLLOONGABBA_NC_TEST_BASE_579901,ManagedElement=1,ENodeBFunction=1,EUtranCellFDD=WNCUET2,EUtranFreqRelation=9410,EUtranCellRelation=5051-571901-3'])\n"
     ]
    },
    {
     "data": {
      "text/plain": [
       "False"
      ]
     },
     "execution_count": 29,
     "metadata": {},
     "output_type": "execute_result"
    }
   ],
   "source": [
    "key2 = ie.keys()\n",
    "print(key2)\n",
    "res1 = bool(key1)\n",
    "res1"
   ]
  },
  {
   "cell_type": "code",
   "execution_count": 30,
   "metadata": {},
   "outputs": [
    {
     "data": {
      "text/plain": [
       "2"
      ]
     },
     "execution_count": 30,
     "metadata": {},
     "output_type": "execute_result"
    }
   ],
   "source": [
    "len(ie)"
   ]
  },
  {
   "cell_type": "code",
   "execution_count": 83,
   "metadata": {},
   "outputs": [
    {
     "name": "stdout",
     "output_type": "stream",
     "text": [
      "ENM=modelenm,SubNetwork=QLD_Woolloongabba_Mod,MeContext=QLD_WNCU15_WOOLLOONGABBA_NC_TEST_BASE_579901,ManagedElement=1,ENodeBFunction=1,EUtranCellFDD=WNCUET2,EUtranFreqRelation=9410,EUtranCellRelation=5051-571901-2\n",
      "ENM=modelenm,SubNetwork=QLD_Woolloongabba_Mod,MeContext=QLD_WNCU15_WOOLLOONGABBA_NC_TEST_BASE_579901,ManagedElement=1,ENodeBFunction=1,EUtranCellFDD=WNCUET2,EUtranFreqRelation=9410,EUtranCellRelation=5051-571901-3\n"
     ]
    }
   ],
   "source": [
    "for keys in ie.keys():\n",
    "    print(keys)"
   ]
  },
  {
   "cell_type": "code",
   "execution_count": 86,
   "metadata": {},
   "outputs": [],
   "source": [
    "create = list()\n",
    "delete = list()\n",
    "with open('identified_X2_relation_json.json') as f:\n",
    "      ie= json.load(f)\n",
    "\n",
    "with open('existing_list_of_X2_relations_json.json') as f:\n",
    "      ee= json.load(f)\n",
    "\n",
    "if(not bool(len(ee))): # If no existing cell relation\n",
    "    for keys in ie.keys():\n",
    "        create.append(keys)\n",
    "elif len(ie.keys()) < len(ee.keys()): # This operation will find the values to delete\n",
    "    for ke in ee.keys():\n",
    "        count = 0\n",
    "        for ki in ie.keys():\n",
    "            if ki == ke:\n",
    "                count+=1\n",
    "        if count == 0:\n",
    "            delete.append(ke)\n",
    "elif len(ie.keys()) > len(ee.keys()): # This operation will find the values to create\n",
    "    for ki in ie.keys():\n",
    "        count = 0\n",
    "        for ke in ee.keys():\n",
    "            if ki == ke:\n",
    "                count+=1\n",
    "        if count == 0:\n",
    "            create.append(ki)   "
   ]
  },
  {
   "cell_type": "code",
   "execution_count": 87,
   "metadata": {},
   "outputs": [
    {
     "name": "stdout",
     "output_type": "stream",
     "text": [
      "['ENM=modelenm,SubNetwork=QLD_Woolloongabba_Mod,MeContext=QLD_WNCU15_WOOLLOONGABBA_NC_TEST_BASE_579901,ManagedElement=1,ENodeBFunction=1,EUtranCellFDD=WNCUET2,EUtranFreqRelation=9410,EUtranCellRelation=5051-571901-2', 'ENM=modelenm,SubNetwork=QLD_Woolloongabba_Mod,MeContext=QLD_WNCU15_WOOLLOONGABBA_NC_TEST_BASE_579901,ManagedElement=1,ENodeBFunction=1,EUtranCellFDD=WNCUET2,EUtranFreqRelation=9410,EUtranCellRelation=5051-571901-3']\n",
      "[]\n"
     ]
    }
   ],
   "source": [
    "print(create)\n",
    "print(delete)"
   ]
  },
  {
   "cell_type": "code",
   "execution_count": 73,
   "metadata": {},
   "outputs": [],
   "source": [
    "create = list()\n",
    "delete = list()"
   ]
  },
  {
   "cell_type": "code",
   "execution_count": null,
   "metadata": {},
   "outputs": [],
   "source": [
    "compare key len of both json files\n",
    "if key of ee is empty; then log the keys of ie\n",
    "if key ee > ie; then find the keys of ee which are more and log the same: create\n",
    "if key ie > ee; then find the keys of ie which are more and log the same: delete\n",
    "\n",
    "if ie keys and ee keys are same; but key val are not same; \n",
    "\n",
    "ee.key exist and not ie: then delete\n"
   ]
  },
  {
   "cell_type": "code",
   "execution_count": 74,
   "metadata": {},
   "outputs": [],
   "source": [
    "identy = {'a':1, 'b':2, 'c':3, 'd':4, 'e':5, 'f': 6 }\n",
    "exists = {'a':1, 'b':2, 'c':3, 'g':8, 'h':9, 'k':15, 'm': 18, 'o':20 }"
   ]
  },
  {
   "cell_type": "code",
   "execution_count": 75,
   "metadata": {},
   "outputs": [],
   "source": [
    "\n",
    "if len(identy.keys()) < len(exists.keys()):\n",
    "    for ke in exists.keys():\n",
    "        count = 0\n",
    "        #print(\"ke = \", ke)\n",
    "        for ki in identy.keys():\n",
    "            #print(\"ki = \", ki)\n",
    "            if ki == ke:\n",
    "                count+=1\n",
    "                #print(\"count = \",count)\n",
    "        if count == 0:\n",
    "            delete.append(ke)\n",
    "        #print(\"\\n\")\n",
    "            \n",
    "                \n",
    "                \n",
    "                "
   ]
  },
  {
   "cell_type": "code",
   "execution_count": 68,
   "metadata": {},
   "outputs": [
    {
     "name": "stdout",
     "output_type": "stream",
     "text": [
      "[]\n",
      "['g', 'h', 'k', 'm', 'o']\n"
     ]
    }
   ],
   "source": [
    "print(create)\n",
    "print(delete)"
   ]
  },
  {
   "cell_type": "code",
   "execution_count": 76,
   "metadata": {},
   "outputs": [],
   "source": [
    "identy1 = {'a':1, 'b':2, 'c':3, 'd':4, 'e':5, 'f': 6 , 'r': 25, 's': 30}\n",
    "exists1 = {'a':1, 'b':2, 'c':3, 'g':8, 'h':9 }"
   ]
  },
  {
   "cell_type": "code",
   "execution_count": 77,
   "metadata": {},
   "outputs": [],
   "source": [
    "if len(identy1.keys()) > len(exists1.keys()):\n",
    "    for ki in identy1.keys():\n",
    "        count = 0\n",
    "        #print(\"ke = \", ke)\n",
    "        for ke in exists1.keys():\n",
    "            #print(\"ki = \", ki)\n",
    "            if ki == ke:\n",
    "                count+=1\n",
    "                #print(\"count = \",count)\n",
    "        if count == 0:\n",
    "            create.append(ki)\n",
    "        #print(\"\\n\")"
   ]
  },
  {
   "cell_type": "code",
   "execution_count": 78,
   "metadata": {},
   "outputs": [
    {
     "name": "stdout",
     "output_type": "stream",
     "text": [
      "['d', 'e', 'f', 'r', 's']\n",
      "['g', 'h', 'k', 'm', 'o']\n"
     ]
    }
   ],
   "source": [
    "print(create)\n",
    "print(delete)"
   ]
  },
  {
   "cell_type": "code",
   "execution_count": 9,
   "metadata": {},
   "outputs": [],
   "source": [
    "#def create_delete_eutrancellrelation(identified_X2_relation_json, existing_list_of_X2_relations_json):\n",
    "def create_delete_eutrancellrelation():\n",
    "    create = list()\n",
    "    delete = list()\n",
    "    with open('identified_X2_relation_json.json') as f:\n",
    "          ie= json.load(f)\n",
    "\n",
    "    with open('existing_list_of_X2_relations_json.json') as f:\n",
    "          ee= json.load(f)\n",
    "    \n",
    "    #print(ie)\n",
    "    if(not bool(len(ee))): # If no existing cell relation\n",
    "        for keys in ie.keys():\n",
    "            create.append(keys)\n",
    "    elif len(ie.keys()) < len(ee.keys()): # This operation will find the values to delete\n",
    "        for ke in ee.keys():\n",
    "            count = 0\n",
    "            for ki in ie.keys():\n",
    "                if ki == ke:\n",
    "                    count+=1\n",
    "            if count == 0:\n",
    "                delete.append(ke)\n",
    "    elif len(ie.keys()) > len(ee.keys()): # This operation will find the values to create\n",
    "        for ki in ie.keys():\n",
    "            count = 0\n",
    "            for ke in ee.keys():\n",
    "                if ki == ke:\n",
    "                    count+=1\n",
    "            if count == 0:\n",
    "                create.append(ki)\n",
    "    \n",
    "    return create, delete"
   ]
  },
  {
   "cell_type": "code",
   "execution_count": 10,
   "metadata": {},
   "outputs": [
    {
     "name": "stdout",
     "output_type": "stream",
     "text": [
      "Create =  ['ENM=modelenm,SubNetwork=QLD_Woolloongabba_Mod,MeContext=QLD_WNCU15_WOOLLOONGABBA_NC_TEST_BASE_579901,ManagedElement=1,ENodeBFunction=1,EUtranCellFDD=WNCUET2,EUtranFreqRelation=9410,EUtranCellRelation=5051-571901-2', 'ENM=modelenm,SubNetwork=QLD_Woolloongabba_Mod,MeContext=QLD_WNCU15_WOOLLOONGABBA_NC_TEST_BASE_579901,ManagedElement=1,ENodeBFunction=1,EUtranCellFDD=WNCUET2,EUtranFreqRelation=9410,EUtranCellRelation=5051-571901-3']\n",
      "Delete =  []\n"
     ]
    }
   ],
   "source": [
    "create, delete = create_delete_eutrancellrelation()\n",
    "print(\"Create = \",create)\n",
    "print(\"Delete = \",delete)"
   ]
  },
  {
   "cell_type": "code",
   "execution_count": 6,
   "metadata": {},
   "outputs": [],
   "source": [
    "def get_eutrancellrelation(Identified_EutranCell, Existing_EutranCell):\n",
    "    #This module will check if the EUtranCellRelation exists or not\n",
    "    #If not then create one\n",
    "    with open('Identified_EutranCell') as f:\n",
    "        ie = json.load(f)\n",
    "    with open('Existing_EutranCell') as f:\n",
    "        ee = json.load(f)\n",
    "\n",
    "    EUtranCellRelation_values = {}\n",
    "    for key, value in ee.items():\n",
    "        for key1, value1 in ie.items():\n",
    "            if ee['EUtranFreqRelation'] == ie['EUtranFreqRelation']:\n",
    "                if ee['EUtranCellRelation']:\n",
    "                    EUtranCellRelation_values[ie['EUtranCellFDD']] = (ee['EUtranCellRelation'])\n",
    "                    continue\n",
    "                ecr = '5051' + \"-\" + str(ie['MeContext'].split(\"_\")[-1]) + \"-\" + ie['EUtranCellFDD'][-1]\n",
    "                EUtranCellRelation_values[ie['EUtranCellFDD']] = ecr\n",
    "\n",
    "    #Store the values in excel format\n",
    "    df = pd.DataFrame(data=EUtranCellRelation_values, index=['EutranCellRelation'])\n",
    "    df = df.T\n",
    "    df.to_excel('EutranCellRelation.xlsx')\n",
    "    df\n",
    "\n",
    "    # Store the values in json format\n",
    "    #with open('EutranCellRelation.json', 'w') as fp:\n",
    "    #    json.dump(EUtranCellRelation_values, fp)"
   ]
  },
  {
   "cell_type": "code",
   "execution_count": 12,
   "metadata": {},
   "outputs": [],
   "source": [
    "from datetime import date"
   ]
  },
  {
   "cell_type": "code",
   "execution_count": 16,
   "metadata": {},
   "outputs": [
    {
     "data": {
      "text/plain": [
       "'2020-09-04'"
      ]
     },
     "execution_count": 16,
     "metadata": {},
     "output_type": "execute_result"
    }
   ],
   "source": [
    "date.today().strftime('%Y-%m-%d')"
   ]
  },
  {
   "cell_type": "code",
   "execution_count": null,
   "metadata": {},
   "outputs": [],
   "source": []
  },
  {
   "cell_type": "code",
   "execution_count": null,
   "metadata": {},
   "outputs": [],
   "source": []
  },
  {
   "cell_type": "code",
   "execution_count": null,
   "metadata": {},
   "outputs": [],
   "source": []
  },
  {
   "cell_type": "code",
   "execution_count": null,
   "metadata": {},
   "outputs": [],
   "source": []
  },
  {
   "cell_type": "code",
   "execution_count": null,
   "metadata": {},
   "outputs": [],
   "source": []
  },
  {
   "cell_type": "code",
   "execution_count": null,
   "metadata": {},
   "outputs": [],
   "source": []
  },
  {
   "cell_type": "code",
   "execution_count": null,
   "metadata": {},
   "outputs": [],
   "source": []
  },
  {
   "cell_type": "code",
   "execution_count": null,
   "metadata": {},
   "outputs": [],
   "source": []
  },
  {
   "cell_type": "code",
   "execution_count": null,
   "metadata": {},
   "outputs": [],
   "source": []
  },
  {
   "cell_type": "code",
   "execution_count": null,
   "metadata": {},
   "outputs": [],
   "source": []
  },
  {
   "cell_type": "code",
   "execution_count": null,
   "metadata": {},
   "outputs": [],
   "source": []
  },
  {
   "cell_type": "code",
   "execution_count": null,
   "metadata": {},
   "outputs": [],
   "source": []
  },
  {
   "cell_type": "code",
   "execution_count": null,
   "metadata": {},
   "outputs": [],
   "source": []
  },
  {
   "cell_type": "code",
   "execution_count": null,
   "metadata": {},
   "outputs": [],
   "source": []
  },
  {
   "cell_type": "code",
   "execution_count": null,
   "metadata": {},
   "outputs": [],
   "source": []
  },
  {
   "cell_type": "code",
   "execution_count": null,
   "metadata": {},
   "outputs": [],
   "source": []
  },
  {
   "cell_type": "code",
   "execution_count": null,
   "metadata": {},
   "outputs": [],
   "source": []
  }
 ],
 "metadata": {
  "kernelspec": {
   "display_name": "Python 3",
   "language": "python",
   "name": "python3"
  },
  "language_info": {
   "codemirror_mode": {
    "name": "ipython",
    "version": 3
   },
   "file_extension": ".py",
   "mimetype": "text/x-python",
   "name": "python",
   "nbconvert_exporter": "python",
   "pygments_lexer": "ipython3",
   "version": "3.7.6"
  }
 },
 "nbformat": 4,
 "nbformat_minor": 4
}
