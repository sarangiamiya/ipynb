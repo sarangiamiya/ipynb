{
 "cells": [
  {
   "cell_type": "code",
   "execution_count": 1,
   "metadata": {},
   "outputs": [
    {
     "name": "stdout",
     "output_type": "stream",
     "text": [
      "[WinError 3] The system cannot find the path specified: 'C:d/Users'\n",
      "C:\\Users\\amsarang\n"
     ]
    }
   ],
   "source": [
    "cd C:d/Users"
   ]
  },
  {
   "cell_type": "code",
   "execution_count": 2,
   "metadata": {},
   "outputs": [
    {
     "name": "stdout",
     "output_type": "stream",
     "text": [
      "C:\\Users\n"
     ]
    }
   ],
   "source": [
    "cd C:/Users"
   ]
  },
  {
   "cell_type": "code",
   "execution_count": 3,
   "metadata": {},
   "outputs": [
    {
     "data": {
      "text/plain": [
       "'C:\\\\Users'"
      ]
     },
     "execution_count": 3,
     "metadata": {},
     "output_type": "execute_result"
    }
   ],
   "source": [
    "pwd"
   ]
  },
  {
   "cell_type": "code",
   "execution_count": 4,
   "metadata": {},
   "outputs": [
    {
     "data": {
      "text/plain": [
       "<function dir>"
      ]
     },
     "execution_count": 4,
     "metadata": {},
     "output_type": "execute_result"
    }
   ],
   "source": [
    "dir"
   ]
  },
  {
   "cell_type": "code",
   "execution_count": 11,
   "metadata": {},
   "outputs": [],
   "source": [
    "import requests\n",
    "import getpass\n",
    "import json\n",
    "import pandas as pd\n",
    "from pandas.io.json import json_normalize\n",
    "import datetime\n",
    "import io\n",
    "\n",
    "datai = pd.DataFrame()\n",
    "\n",
    "auth = ('amsarang', 'LowR1Di1tion*')\n",
    "#auth = (input('Username:'),getpass.getpass())\n",
    "jql = 'project = HSBCRCTB AND status in (Reopened, Backlog, \"Work in progress\", \"ASSIGNED TO ENG\", \"Bank Hold\") AND \"Project type\" = RTB AND assignee in (gokbabu) AND \"PM Assigned\" in (gokbabu) ORDER BY created DESC'\n",
    "\n",
    "#Get number of issues\n",
    "initparams = {'jql': jql,'maxResults':0}\n",
    "r = requests.get('https://jira-eng-rtp1.cisco.com/jira/rest/api/2/issue/166889',auth=auth,params=initparams)\n",
    "data = json.loads(r.text)\n",
    "\n",
    "for value in range (0,1000,1000):\n",
    "    jql = jql\n",
    "\n",
    "#fields='customfield,customfield_10747,summary,watches,description,priority,labels,assignee,status,creator,report,parent,comments'\n",
    "fields='customfield_10747,customfield_12511,customfield_10801,customfield_12513,customfield_12514,customfield_12512,customfield_13402,summary,description,priority,assignee,status,subtasks,created,duedate,updated'\n",
    "\n",
    "params = {'startAt':str(value),'expand':\"\",'include':'*summary','validateQuery':'strict','jql':jql,'maxResults':1000,'fields':fields}\n",
    "r = requests.get('https://jira-eng-rtp1.cisco.com/jira/rest/api/2/search',auth=auth,params=params)\n",
    "\n",
    "paginatedjsonrespIssues = json.loads(r.text)[\"issues\"]\n",
    "partdatadf = json_normalize(paginatedjsonrespIssues)\n",
    "\n",
    "datai = pd.concat((datai,partdatadf))\n",
    "\n",
    "datai.drop(['expand', 'id', 'fields.customfield_12514.self', 'fields.customfield_12514.id', 'fields.assignee.self', 'fields.assignee.name', 'fields.assignee.key', 'fields.assignee.avatarUrls.48x48', 'fields.assignee.avatarUrls.24x24', 'fields.assignee.avatarUrls.16x16', 'fields.assignee.avatarUrls.32x32', 'fields.assignee.active', 'fields.assignee.timeZone', 'fields.priority.self', 'fields.priority.iconUrl', 'fields.priority.id', 'fields.customfield_12512.self', 'fields.customfield_12512.id', 'fields.status.self', 'fields.status.iconUrl', 'fields.status.id', 'fields.status.statusCategory.self', 'fields.status.statusCategory.id', 'fields.status.statusCategory.colorName'], axis=1, inplace = True)\n",
    "\n",
    "datai.to_csv('C:/Users/test2'+'.csv', index=False )\n",
    "\n",
    "df = pd.read_csv(\"C:/Users/test2.csv\")\n",
    "#print(len(df[\"self\"]))\n",
    "\n",
    "#print(df[\"self\"][39])\n",
    "\n",
    "\n",
    "#my_df  = pd.DataFrame(columns = [\"PID\", \"Summary\", \"Client Name\", \"PM Assigned\", \"Country\", \"Region\", \"Project type\", \"Priority\", \"Subtask\", \"Status\", \"Latest Comment\"])\n",
    "#my_df  = pd.DataFrame(columns = [\"PID\",  \"Summary\", \"Client Name\", \"PM Assigned\", \"Country\", \"Region\", \"Project type\", \"Priority\", \"Subtask\", \"Status\", \"Latest Comment\"])\n",
    "my_df  = pd.DataFrame(columns = [\"PID\", \"Technology\", \"PM Status\", \"Summary\",\"UC Status\", \"UC Engineer\", \"B&C Status\", \"B&C Engineer\", \"Wifi Status\", \"Wifi Engineer\", \"COPG Status\", \"COPG Engineer\", \"Widget\", \"Client Name\", \"PM Assigned\", \"Created Date\", \"Due Date\", \"Updated Date\", \"Country\", \"Region\", \"Project Type\", \"Priority\", \"Subtask\", \"Status\", \"Latest Comment\"])\n",
    "\n",
    "                                 \n",
    "my_df[['Summary', 'Client Name', \"PM Assigned\", \"Country\", \"Region\", \"Project Type\", \"Priority\", \"Widget\", \"Technology\", \"Created Date\", \"Due Date\", \"Updated Date\", \"PM Status\"]] = df[['fields.summary', 'fields.customfield_10801', 'fields.assignee.displayName', 'fields.customfield_12511', 'fields.customfield_12514.value','fields.customfield_12512.value', 'fields.priority.name', 'fields.customfield_12512.value', 'fields.customfield_12513.value', 'fields.created', 'fields.duedate', 'fields.updated', 'fields.status.name']]\n",
    "\n",
    "for i in range(len(df)):\n",
    "    r = requests.get(df.loc[i, \"self\"],auth=auth)\n",
    "    data = json.loads(r.text)\n",
    "\n",
    "    comment_info = []\n",
    "\n",
    "    for info in range(len(data[\"fields\"][\"comment\"][\"comments\"])):\n",
    "        if \"body\" in data[\"fields\"][\"comment\"][\"comments\"][info]:\n",
    "            comment_info.append(data[\"fields\"][\"comment\"][\"comments\"][info][\"body\"])\n",
    "            \n",
    "    my_df.loc[i, \"PID\"] = df.loc[i, \"fields.customfield_10747\"]\n",
    "    if (len(comment_info) > 0):\n",
    "        my_df.loc[i, \"Latest Comment\"] = comment_info[len(comment_info) - 1]\n",
    "    else:\n",
    "        my_df.loc[i, \"Latest Comment\"] = \" \"\n",
    "    \n",
    "    x = json.loads(str(df['fields.subtasks'].iloc[i]).replace(\"'\",'\"').replace(\"True\",\"true\"))\n",
    "    for item in x:\n",
    "        #print(item['fields']['summary'],\" <===> \",item['fields']['status']['name'])\n",
    "        my_df.loc[i, \"Subtask\"] = item['fields']['summary']\n",
    "        my_df.loc[i, \"Status\"] = item['fields']['status']['name']\n",
    "        \n",
    "        r = requests.get(item['self'],auth=auth)\n",
    "        data = json.loads(r.text)\n",
    "        \n",
    "        if(item['fields']['summary'].split(\"|\")[-1] == \" UC Task\"):\n",
    "            my_df.loc[i, \"UC Status\"] = item['fields']['status']['name']\n",
    "            my_df.loc[i, \"UC Engineer\"] = data['fields']['assignee']['displayName']\n",
    "        elif (item['fields']['summary'].split(\"|\")[-1] == \" B&C Task\"):\n",
    "            my_df.loc[i, \"B&C Status\"] = item['fields']['status']['name']\n",
    "            my_df.loc[i, \"B&C Engineer\"] = data['fields']['assignee']['displayName']\n",
    "        elif (item['fields']['summary'].split(\"|\")[-1] == \" WiFi Task\"):\n",
    "            my_df.loc[i, \"Wifi Status\"] = item['fields']['status']['name']\n",
    "            my_df.loc[i, \"Wifi Engineer\"] = data['fields']['assignee']['displayName']\n",
    "        elif (item['fields']['summary'].split(\"|\")[-1] == \" COPG Task\"):\n",
    "            my_df.loc[i, \"COPG Status\"] = item['fields']['status']['name']\n",
    "            my_df.loc[i, \"COPG Engineer\"] = data['fields']['assignee']['displayName']  \n",
    "\n",
    "my_df.to_excel('C:/Users/comment1'+'.xlsx',sheet_name='Comment', index=False )"
   ]
  },
  {
   "cell_type": "code",
   "execution_count": 6,
   "metadata": {
    "scrolled": false
   },
   "outputs": [
    {
     "name": "stdout",
     "output_type": "stream",
     "text": [
      "RtB-2020-5412 | Cisco Jabber Report | UC Task  <===>  Backlog\n",
      " UC Task\n",
      "['Robin Verma', ' UC Task']\n",
      "RtB-2020-5412 | Cisco Jabber Report | B&C Task  <===>  Not Required\n",
      " B&C Task\n",
      "['Robin Verma', ' UC Task', 'Deepali Shukla', ' B&C Task']\n",
      "RtB-2020-5412 | Cisco Jabber Report | WiFi Task  <===>  Not Required\n",
      " WiFi Task\n",
      "['Robin Verma', ' UC Task', 'Deepali Shukla', ' B&C Task', 'Ankush Dabas', ' WiFi Task']\n",
      "RtB-2020-5412 | Cisco Jabber Report | COPG Task  <===>  Backlog\n",
      " COPG Task\n",
      "['Robin Verma', ' UC Task', 'Deepali Shukla', ' B&C Task', 'Ankush Dabas', ' WiFi Task', 'Suma Devi', ' COPG Task']\n",
      "COPG Task Printed\n"
     ]
    }
   ],
   "source": [
    "import json\n",
    "import requests\n",
    "import getpass\n",
    "import json\n",
    "import pandas as pd\n",
    "from pandas.io.json import json_normalize\n",
    "import datetime\n",
    "import io\n",
    "\n",
    "df = pd.read_csv(\"C:/Users/test2.csv\")\n",
    "\n",
    "status = []\n",
    "'''\n",
    "for i in range(len(df)):\n",
    "    x = json.loads(str(df['fields.subtasks'].iloc[i]).replace(\"'\",'\"').replace(\"True\",\"true\"))\n",
    "    for item in x:\n",
    "        print(item['fields']['summary'],\" <===> \",item['fields']['status']['name'])\n",
    "        print(item['fields']['summary'].split(\"|\")[-1])\n",
    "        \n",
    "        r = requests.get(item['self'],auth=auth)\n",
    "        data = json.loads(r.text)\n",
    "        status.append(data['fields']['assignee']['displayName'])\n",
    "        status.append(item['fields']['summary'].split('|')[-1])\n",
    "        print(status)\n",
    "        \n",
    "        if(item['fields']['summary'].split(\"|\")[-1] == \" COPG Task\"):\n",
    "            print(\"COPG Task Printed\")\n",
    "            \n",
    "    print(\"\\n\")\n",
    "'''\n",
    "x = json.loads(str(df['fields.subtasks'].iloc[0]).replace(\"'\",'\"').replace(\"True\",\"true\"))\n",
    "for item in x:\n",
    "    print(item['fields']['summary'],\" <===> \",item['fields']['status']['name'])\n",
    "    print(item['fields']['summary'].split(\"|\")[-1])\n",
    "\n",
    "    r = requests.get(item['self'],auth=auth)\n",
    "    data = json.loads(r.text)\n",
    "    status.append(data['fields']['assignee']['displayName'])\n",
    "    status.append(item['fields']['summary'].split('|')[-1])\n",
    "    print(status)\n",
    "\n",
    "    if(item['fields']['summary'].split(\"|\")[-1] == \" COPG Task\"):\n",
    "        print(\"COPG Task Printed\")\n"
   ]
  },
  {
   "cell_type": "code",
   "execution_count": 4,
   "metadata": {},
   "outputs": [
    {
     "name": "stdout",
     "output_type": "stream",
     "text": [
      "31\n"
     ]
    }
   ],
   "source": [
    "import requests\n",
    "import getpass\n",
    "import json\n",
    "import pandas as pd\n",
    "from pandas.io.json import json_normalize\n",
    "import datetime\n",
    "import io\n",
    "\n",
    "datai = pd.DataFrame()\n",
    "\n",
    "#auth = (input('Username:'),getpass.getpass())\n",
    "auth = ('amsarang', 'LowR1Di1tion*')\n",
    "\n",
    "\n",
    "r = requests.get('https://jira-eng-rtp1.cisco.com/jira/rest/auth/1/session',auth=auth, headers={'content-type':'application/json'})\n",
    "cookie = ((r.headers.get('Set-Cookie')).split(';')[0])\n",
    "\n",
    "#cookie = ((r.headers.get('Set-Cookie')).str.split(';')[0])\n",
    "\n",
    "jql = 'project = HSBCRCTB AND status in (Reopened, Backlog, \"Work in progress\", \"ASSIGNED TO ENG\", \"Bank Hold\") AND \"Project type\" = RTB AND assignee in (gokbabu) AND \"PM Assigned\" in (gokbabu) ORDER BY created DESC'\n",
    "\n",
    "#Get number of issues\n",
    "initparams = {'jql': jql,'maxResults':0}\n",
    "r = requests.get('https://jira-eng-rtp1.cisco.com/jira/rest/api/2/issue/166889',headers= {'cookie':cookie},params=initparams)\n",
    "data = json.loads(r.text)\n",
    "\n",
    "for value in range (0,1000,1000):\n",
    "    jql = jql\n",
    "\n",
    "fields='customfield_10747,customfield_12511,customfield_10801,customfield_12514,customfield_12512,summary,description,priority,assignee,status,subtasks'\n",
    "\n",
    "params = {'startAt':str(value),'expand':\"\",'include':'*summary','validateQuery':'strict','jql':jql,'maxResults':1000,'fields':fields}\n",
    "#r = requests.get('https://jira-eng-rtp1.cisco.com/jira/rest/api/2/search',auth=auth,params=params)\n",
    "r = requests.get('https://jira-eng-rtp1.cisco.com/jira/rest/api/2/search',headers= {'cookie':cookie},params=params)\n",
    "\n",
    "paginatedjsonrespIssues = json.loads(r.text)[\"issues\"]\n",
    "partdatadf = json_normalize(paginatedjsonrespIssues)\n",
    "\n",
    "datai = pd.concat((datai,partdatadf))\n",
    "\n",
    "datai.drop(['expand', 'id', 'fields.customfield_12514.self', 'fields.customfield_12514.id', 'fields.assignee.self', 'fields.assignee.name', 'fields.assignee.key', 'fields.assignee.avatarUrls.48x48', 'fields.assignee.avatarUrls.24x24', 'fields.assignee.avatarUrls.16x16', 'fields.assignee.avatarUrls.32x32', 'fields.assignee.active', 'fields.assignee.timeZone', 'fields.priority.self', 'fields.priority.iconUrl', 'fields.priority.id', 'fields.customfield_12512.self', 'fields.customfield_12512.id', 'fields.status.self', 'fields.status.iconUrl', 'fields.status.id', 'fields.status.statusCategory.self', 'fields.status.statusCategory.id', 'fields.status.statusCategory.colorName'], axis=1, inplace = True)\n",
    "\n",
    "datai.to_csv('C:/Users/test21'+'.csv', index=False )\n",
    "\n",
    "\n",
    "df = pd.read_csv(\"C:/Users/test21.csv\")\n",
    "#print(len(df[\"self\"]))\n",
    "\n",
    "my_df  = pd.DataFrame(columns = [\"PID\", \"Summary\", \"Client Name\", \"PM Assigned\", \"Country\", \"Region\", \"Project type\", \"Priority\", \"Latest Comment\"])\n",
    "my_df[['PID','Summary', 'Client Name', \"PM Assigned\", \"Country\", \"Region\", \"Project type\", \"Priority\"]] = df[['fields.customfield_10747','fields.summary', 'fields.customfield_10801', 'fields.assignee.displayName', 'fields.customfield_12511', 'fields.customfield_12514.value','fields.customfield_12512.value', 'fields.priority.name']]\n",
    "\n",
    "for i in range(len(df)):\n",
    "    #r = requests.get(df.loc[i, \"self\"],auth=auth)\n",
    "    r = requests.get(df.loc[i, \"self\"],headers= {'cookie':cookie})    \n",
    "    \n",
    "    data = json.loads(r.text)\n",
    "\n",
    "    comment_info = []\n",
    "    status = []\n",
    "\n",
    "    for info in range(len(data[\"fields\"][\"comment\"][\"comments\"])):\n",
    "        if \"body\" in data[\"fields\"][\"comment\"][\"comments\"][info]:\n",
    "            comment_info.append(data[\"fields\"][\"comment\"][\"comments\"][info][\"body\"])\n",
    "            \n",
    "    my_df.loc[i, \"PID\"] = df.loc[i, \"fields.customfield_10747\"]\n",
    "    if (len(comment_info) > 0):\n",
    "        my_df.loc[i, \"Latest Comment\"] = comment_info[len(comment_info) - 1]\n",
    "    else:\n",
    "        my_df.loc[i, \"Latest Comment\"] = \" \"\n",
    "    \n",
    "    x = json.loads(str(df['fields.subtasks'].iloc[i]).replace(\"'\",'\"').replace(\"True\",\"true\"))\n",
    "    for item in x:\n",
    "        r = requests.get(item['self'],auth=auth)\n",
    "        data = json.loads(r.text)\n",
    "        status.append(data['fields']['assignee']['displayName'])\n",
    "        status.append(item['fields']['summary'].split('|')[-1])\n",
    "    my_df.loc[i,\"Subtask\"] = status\n",
    "        \n",
    "    \n",
    "\n",
    "my_df.to_excel('C:/Users/comment11'+'.xlsx',sheet_name='Comment', index=False )"
   ]
  },
  {
   "cell_type": "code",
   "execution_count": 3,
   "metadata": {},
   "outputs": [
    {
     "name": "stdout",
     "output_type": "stream",
     "text": [
      "Total issues21232\n"
     ]
    }
   ],
   "source": [
    "import requests\n",
    "import getpass\n",
    "import json\n",
    "\n",
    "#auth = (input('Username:'),getpass.getpass())\n",
    "auth = ('amsarang', 'LowR1Di1tion*')\n",
    "\n",
    "r = requests.get('https://jira-eng-rtp1.cisco.com/jira/rest/auth/1/session',auth=auth, headers={'content-type':'application/json'})\n",
    "cookie = ((r.headers.get('Set-Cookie')).split(';')[0])\n",
    "initparams = {'jql':'project=HSBCRCTB','maxResults':0}\n",
    "\n",
    "r = requests.get('https://jira-eng-rtp1.cisco.com/jira/rest/api/2/search',headers= {'cookie':cookie},params=initparams)\n",
    "data = (json.loads(r.text))\n",
    "print(\"Total issues\" + str(data['total']))"
   ]
  },
  {
   "cell_type": "code",
   "execution_count": null,
   "metadata": {},
   "outputs": [],
   "source": []
  },
  {
   "cell_type": "code",
   "execution_count": 2,
   "metadata": {},
   "outputs": [
    {
     "name": "stdout",
     "output_type": "stream",
     "text": [
      "Username:amsarang\n",
      "········\n"
     ]
    }
   ],
   "source": [
    "import requests\n",
    "import getpass\n",
    "import json\n",
    "import pandas as pd\n",
    "from pandas.io.json import json_normalize\n",
    "import datetime\n",
    "import io\n",
    "\n",
    "datai = pd.DataFrame()\n",
    "\n",
    "auth = (input('Username:'),getpass.getpass())\n",
    "jql = 'project = HSBCRCTB AND status in (Reopened, Backlog, \"Work in progress\", \"ASSIGNED TO ENG\", \"Bank Hold\") AND \"Project type\" = RTB AND assignee in (gokbabu) AND \"PM Assigned\" in (gokbabu) ORDER BY created DESC'\n",
    "\n",
    "#Get number of issues\n",
    "initparams = {'jql': jql,'maxResults':0}\n",
    "r = requests.get('https://jira-eng-rtp1.cisco.com/jira/rest/api/2/issue/166889',auth=auth,params=initparams)\n",
    "data = json.loads(r.text)\n",
    "\n",
    "for value in range (0,1000,1000):\n",
    "    jql = jql\n",
    "\n",
    "fields='customfield_10747,customfield_12511,customfield_10801,customfield_12513,customfield_12514,customfield_12512,customfield_13402,summary,description,priority,assignee,status,subtasks,created,duedate,updated'\n",
    "\n",
    "params = {'startAt':str(value),'expand':\"\",'include':'*summary','validateQuery':'strict','jql':jql,'maxResults':1000,'fields':fields}\n",
    "r = requests.get('https://jira-eng-rtp1.cisco.com/jira/rest/api/2/search',auth=auth,params=params)\n",
    "\n",
    "paginatedjsonrespIssues = json.loads(r.text)[\"issues\"]\n",
    "partdatadf = json_normalize(paginatedjsonrespIssues)\n",
    "\n",
    "datai = pd.concat((datai,partdatadf))\n",
    "\n",
    "datai.drop(['expand', 'id', 'fields.customfield_12514.self', 'fields.customfield_12514.id', 'fields.assignee.self', 'fields.assignee.name', 'fields.assignee.key', 'fields.assignee.avatarUrls.48x48', 'fields.assignee.avatarUrls.24x24', 'fields.assignee.avatarUrls.16x16', 'fields.assignee.avatarUrls.32x32', 'fields.assignee.active', 'fields.assignee.timeZone', 'fields.priority.self', 'fields.priority.iconUrl', 'fields.priority.id', 'fields.customfield_12512.self', 'fields.customfield_12512.id', 'fields.status.self', 'fields.status.iconUrl', 'fields.status.id', 'fields.status.statusCategory.self', 'fields.status.statusCategory.id', 'fields.status.statusCategory.colorName'], axis=1, inplace = True)\n",
    "\n",
    "datai.to_csv('C:/Users/test2'+'.csv', index=False )\n",
    "\n",
    "df = pd.read_csv(\"C:/Users/test2.csv\")\n",
    "\n",
    "my_df  = pd.DataFrame(columns = [\"PID\", \"Technology\", \"PM Status\", \"Summary\",\"UC Status\", \"UC Engineer\", \"B&C Status\", \"B&C Engineer\", \"Wifi Status\", \"Wifi Engineer\", \"COPG Status\", \"COPG Engineer\", \"Widget\", \"Client Name\", \"PM Assigned\", \"Created Date\", \"Due Date\", \"Updated Date\", \"Country\", \"Region\", \"Project Type\", \"Priority\", \"Latest Comment\"])\n",
    "\n",
    "                                 \n",
    "my_df[['Summary', 'Client Name', \"PM Assigned\", \"Country\", \"Region\", \"Project Type\", \"Priority\", \"Widget\", \"Technology\", \"Created Date\", \"Due Date\", \"Updated Date\", \"PM Status\"]] = df[['fields.summary', 'fields.customfield_10801', 'fields.assignee.displayName', 'fields.customfield_12511', 'fields.customfield_12514.value','fields.customfield_12512.value', 'fields.priority.name', 'fields.customfield_13402.value', 'fields.customfield_12513.value', 'fields.created', 'fields.duedate', 'fields.updated', 'fields.status.name']]\n",
    "\n",
    "for i in range(len(df)):\n",
    "    r = requests.get(df.loc[i, \"self\"],auth=auth)\n",
    "    data = json.loads(r.text)\n",
    "\n",
    "    comment_info = []\n",
    "\n",
    "    for info in range(len(data[\"fields\"][\"comment\"][\"comments\"])):\n",
    "        if \"body\" in data[\"fields\"][\"comment\"][\"comments\"][info]:\n",
    "            comment_info.append(data[\"fields\"][\"comment\"][\"comments\"][info][\"body\"])\n",
    "            \n",
    "    my_df.loc[i, \"PID\"] = df.loc[i, \"fields.customfield_10747\"]\n",
    "    if (len(comment_info) > 0):\n",
    "        my_df.loc[i, \"Latest Comment\"] = comment_info[len(comment_info) - 1]\n",
    "    else:\n",
    "        my_df.loc[i, \"Latest Comment\"] = \" \"\n",
    "    \n",
    "    x = json.loads(str(df['fields.subtasks'].iloc[i]).replace(\"'\",'\"').replace(\"True\",\"true\"))\n",
    "    for item in x:\n",
    "        #print(item['fields']['summary'],\" <===> \",item['fields']['status']['name'])\n",
    "        my_df.loc[i, \"Subtask\"] = item['fields']['summary']\n",
    "        my_df.loc[i, \"Status\"] = item['fields']['status']['name']\n",
    "        \n",
    "        r = requests.get(item['self'],auth=auth)\n",
    "        data = json.loads(r.text)\n",
    "        \n",
    "        if(item['fields']['summary'].split(\"|\")[-1] == \" UC Task\"):\n",
    "            my_df.loc[i, \"UC Status\"] = item['fields']['status']['name']\n",
    "            my_df.loc[i, \"UC Engineer\"] = data['fields']['assignee']['displayName']\n",
    "        elif (item['fields']['summary'].split(\"|\")[-1] == \" B&C Task\"):\n",
    "            my_df.loc[i, \"B&C Status\"] = item['fields']['status']['name']\n",
    "            my_df.loc[i, \"B&C Engineer\"] = data['fields']['assignee']['displayName']\n",
    "        elif (item['fields']['summary'].split(\"|\")[-1] == \" WiFi Task\"):\n",
    "            my_df.loc[i, \"Wifi Status\"] = item['fields']['status']['name']\n",
    "            my_df.loc[i, \"Wifi Engineer\"] = data['fields']['assignee']['displayName']\n",
    "        elif (item['fields']['summary'].split(\"|\")[-1] == \" COPG Task\"):\n",
    "            my_df.loc[i, \"COPG Status\"] = item['fields']['status']['name']\n",
    "            my_df.loc[i, \"COPG Engineer\"] = data['fields']['assignee']['displayName']  \n",
    "\n",
    "my_df.to_excel('C:/Users/comment1'+'.xlsx',sheet_name='Comment', index=False )"
   ]
  },
  {
   "cell_type": "code",
   "execution_count": null,
   "metadata": {},
   "outputs": [],
   "source": []
  },
  {
   "cell_type": "code",
   "execution_count": null,
   "metadata": {},
   "outputs": [],
   "source": []
  },
  {
   "cell_type": "code",
   "execution_count": null,
   "metadata": {},
   "outputs": [],
   "source": []
  },
  {
   "cell_type": "code",
   "execution_count": null,
   "metadata": {},
   "outputs": [],
   "source": []
  },
  {
   "cell_type": "code",
   "execution_count": null,
   "metadata": {},
   "outputs": [],
   "source": []
  },
  {
   "cell_type": "code",
   "execution_count": null,
   "metadata": {},
   "outputs": [],
   "source": []
  },
  {
   "cell_type": "code",
   "execution_count": null,
   "metadata": {},
   "outputs": [],
   "source": []
  },
  {
   "cell_type": "code",
   "execution_count": null,
   "metadata": {},
   "outputs": [],
   "source": []
  },
  {
   "cell_type": "code",
   "execution_count": null,
   "metadata": {},
   "outputs": [],
   "source": []
  },
  {
   "cell_type": "code",
   "execution_count": null,
   "metadata": {},
   "outputs": [],
   "source": []
  },
  {
   "cell_type": "code",
   "execution_count": null,
   "metadata": {},
   "outputs": [],
   "source": []
  }
 ],
 "metadata": {
  "kernelspec": {
   "display_name": "Python 3",
   "language": "python",
   "name": "python3"
  },
  "language_info": {
   "codemirror_mode": {
    "name": "ipython",
    "version": 3
   },
   "file_extension": ".py",
   "mimetype": "text/x-python",
   "name": "python",
   "nbconvert_exporter": "python",
   "pygments_lexer": "ipython3",
   "version": "3.7.4"
  }
 },
 "nbformat": 4,
 "nbformat_minor": 2
}
