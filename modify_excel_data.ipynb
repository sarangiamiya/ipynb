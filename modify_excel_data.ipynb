{
 "cells": [
  {
   "cell_type": "code",
   "execution_count": 3,
   "metadata": {},
   "outputs": [],
   "source": [
    "import pandas as pd"
   ]
  },
  {
   "cell_type": "code",
   "execution_count": 21,
   "metadata": {},
   "outputs": [
    {
     "data": {
      "text/html": [
       "<div>\n",
       "<style scoped>\n",
       "    .dataframe tbody tr th:only-of-type {\n",
       "        vertical-align: middle;\n",
       "    }\n",
       "\n",
       "    .dataframe tbody tr th {\n",
       "        vertical-align: top;\n",
       "    }\n",
       "\n",
       "    .dataframe thead th {\n",
       "        text-align: right;\n",
       "    }\n",
       "</style>\n",
       "<table border=\"1\" class=\"dataframe\">\n",
       "  <thead>\n",
       "    <tr style=\"text-align: right;\">\n",
       "      <th></th>\n",
       "      <th>OSSID</th>\n",
       "      <th>Managed Object FDN</th>\n",
       "      <th>Parameter Name</th>\n",
       "      <th>New Value</th>\n",
       "      <th>Expiry Date</th>\n",
       "      <th>Reason</th>\n",
       "      <th>User</th>\n",
       "    </tr>\n",
       "  </thead>\n",
       "  <tbody>\n",
       "    <tr>\n",
       "      <th>0</th>\n",
       "      <td>WRAN1</td>\n",
       "      <td>SubNetwork=Telstra_R,SubNetwork=NSW_EVOZ,MeCon...</td>\n",
       "      <td>anrBlackList</td>\n",
       "      <td>[\"test\",\"test21\"]</td>\n",
       "      <td>2019-12-25</td>\n",
       "      <td>To fix the network performance issue identifie...</td>\n",
       "      <td>Scott Colwell</td>\n",
       "    </tr>\n",
       "    <tr>\n",
       "      <th>1</th>\n",
       "      <td>ENM</td>\n",
       "      <td>SubNetwork=Telstra,SubNetwork=LTE,MeContext=VI...</td>\n",
       "      <td>availabilityStatus</td>\n",
       "      <td>[20,20,20]</td>\n",
       "      <td>2019-12-25</td>\n",
       "      <td>To fix the network performance issue identifie...</td>\n",
       "      <td>Scott c</td>\n",
       "    </tr>\n",
       "    <tr>\n",
       "      <th>2</th>\n",
       "      <td>ENM</td>\n",
       "      <td>SubNetwork=Telstra,SubNetwork=NR_QLD_METRO,MeC...</td>\n",
       "      <td>drxEnable</td>\n",
       "      <td>True</td>\n",
       "      <td>2020-12-25</td>\n",
       "      <td>To fix the network performance issue identifie...</td>\n",
       "      <td>Scott Co</td>\n",
       "    </tr>\n",
       "    <tr>\n",
       "      <th>3</th>\n",
       "      <td>ENM</td>\n",
       "      <td>SubNetwork=Telstra,SubNetwork=LTE,MeContext=VI...</td>\n",
       "      <td>dlTrafficDelay</td>\n",
       "      <td>[102,102,102]</td>\n",
       "      <td>2020-12-25</td>\n",
       "      <td>To fix the network performance issue identifie...</td>\n",
       "      <td>scott Col</td>\n",
       "    </tr>\n",
       "    <tr>\n",
       "      <th>4</th>\n",
       "      <td>WRAN1</td>\n",
       "      <td>SubNetwork=Telstra_R,SubNetwork=NSW_EVOZ,MeCon...</td>\n",
       "      <td>mixedModeRadio</td>\n",
       "      <td>true</td>\n",
       "      <td>2019-12-25</td>\n",
       "      <td>To fix the network performance issue identifie...</td>\n",
       "      <td>Scott Colw</td>\n",
       "    </tr>\n",
       "  </tbody>\n",
       "</table>\n",
       "</div>"
      ],
      "text/plain": [
       "   OSSID                                 Managed Object FDN  \\\n",
       "0  WRAN1  SubNetwork=Telstra_R,SubNetwork=NSW_EVOZ,MeCon...   \n",
       "1    ENM  SubNetwork=Telstra,SubNetwork=LTE,MeContext=VI...   \n",
       "2    ENM  SubNetwork=Telstra,SubNetwork=NR_QLD_METRO,MeC...   \n",
       "3    ENM  SubNetwork=Telstra,SubNetwork=LTE,MeContext=VI...   \n",
       "4  WRAN1  SubNetwork=Telstra_R,SubNetwork=NSW_EVOZ,MeCon...   \n",
       "\n",
       "       Parameter Name          New Value Expiry Date  \\\n",
       "0        anrBlackList  [\"test\",\"test21\"]  2019-12-25   \n",
       "1  availabilityStatus         [20,20,20]  2019-12-25   \n",
       "2           drxEnable               True  2020-12-25   \n",
       "3      dlTrafficDelay      [102,102,102]  2020-12-25   \n",
       "4      mixedModeRadio               true  2019-12-25   \n",
       "\n",
       "                                              Reason           User  \n",
       "0  To fix the network performance issue identifie...  Scott Colwell  \n",
       "1  To fix the network performance issue identifie...        Scott c  \n",
       "2  To fix the network performance issue identifie...       Scott Co  \n",
       "3  To fix the network performance issue identifie...      scott Col  \n",
       "4  To fix the network performance issue identifie...     Scott Colw  "
      ]
     },
     "execution_count": 21,
     "metadata": {},
     "output_type": "execute_result"
    }
   ],
   "source": [
    "df = pd.read_excel(\"Non_NSD_Param.xlsx\")\n",
    "df.head()"
   ]
  },
  {
   "cell_type": "code",
   "execution_count": 5,
   "metadata": {},
   "outputs": [
    {
     "data": {
      "text/plain": [
       "'SubNetwork=Telstra_R,SubNetwork=NSW_EVOZ,MeContext=NSW_EVOZ,ManagedElement=1,RncFunction=1,UtranCell=S3P0LTA'"
      ]
     },
     "execution_count": 5,
     "metadata": {},
     "output_type": "execute_result"
    }
   ],
   "source": [
    "df[\"Managed Object FDN\"][0]"
   ]
  },
  {
   "cell_type": "code",
   "execution_count": 9,
   "metadata": {},
   "outputs": [
    {
     "data": {
      "text/plain": [
       "['SubNetwork=Telstra_R',\n",
       " 'SubNetwork=NSW_EVOZ',\n",
       " 'MeContext=NSW_EVOZ',\n",
       " 'ManagedElement=1',\n",
       " 'RncFunction=1',\n",
       " 'UtranCell=S3P0LTA']"
      ]
     },
     "execution_count": 9,
     "metadata": {},
     "output_type": "execute_result"
    }
   ],
   "source": [
    "df[\"Managed Object FDN\"][0].split(',')"
   ]
  },
  {
   "cell_type": "code",
   "execution_count": 25,
   "metadata": {},
   "outputs": [
    {
     "data": {
      "text/plain": [
       "'1'"
      ]
     },
     "execution_count": 25,
     "metadata": {},
     "output_type": "execute_result"
    }
   ],
   "source": [
    "df[\"Managed Object FDN\"][0].split(',')[3].split('=')[-1]"
   ]
  },
  {
   "cell_type": "code",
   "execution_count": null,
   "metadata": {},
   "outputs": [],
   "source": [
    "N/E_Instance = "
   ]
  },
  {
   "cell_type": "code",
   "execution_count": 12,
   "metadata": {},
   "outputs": [
    {
     "data": {
      "text/plain": [
       "15"
      ]
     },
     "execution_count": 12,
     "metadata": {},
     "output_type": "execute_result"
    }
   ],
   "source": [
    "len(df[\"Managed Object FDN\"])"
   ]
  },
  {
   "cell_type": "code",
   "execution_count": 26,
   "metadata": {},
   "outputs": [
    {
     "name": "stdout",
     "output_type": "stream",
     "text": [
      "SubNetwork=Telstra_R,SubNetwork=NSW_EVOZ,MeContext=NSW_EVOZ,ManagedElement=1,RncFunction=1,UtranCell=S3P0LTA\n",
      "SubNetwork=Telstra,SubNetwork=LTE,MeContext=VIC_XZ4015_BOX_HILL_533803,ManagedElement=VIC_XZ4015_BOX_HILL_533803,ENodeBFunction=1,TermPointToMme=MME_173000000122\n",
      "SubNetwork=Telstra,SubNetwork=NR_QLD_METRO,MeContext=QLD_WNCU19_WOLLOONGABBA_TEST_BASE_970576,ManagedElement=QLD_WNCU19_WOLLOONGABBA_TEST_BASE_970576,GNBDUFunction=1,NRCellDU=WNCUCM3\n",
      "SubNetwork=Telstra,SubNetwork=LTE,MeContext=VIC_XZ4015_BOX_HILL_533803,ManagedElement=VIC_XZ4015_BOX_HILL_533803,Equipment=1,AntennaUnitGroup=XZ40_1,RfBranch=2600-1\n",
      "SubNetwork=Telstra_R,SubNetwork=NSW_EVOZ,MeContext=NSW_EVOZ,ManagedElement=1,RncFunction=1,UtranCell=S3P0LTA\n",
      "SubNetwork=Telstra_R,SubNetwork=NSW_EVOZ,MeContext=NSW_EVOZ,ManagedElement=1,RncFunction=1,UtranCell=S3P0LTA\n"
     ]
    },
    {
     "name": "stderr",
     "output_type": "stream",
     "text": [
      "C:\\ProgramData\\Anaconda3\\lib\\site-packages\\ipykernel_launcher.py:4: SettingWithCopyWarning: \n",
      "A value is trying to be set on a copy of a slice from a DataFrame\n",
      "\n",
      "See the caveats in the documentation: https://pandas.pydata.org/pandas-docs/stable/user_guide/indexing.html#returning-a-view-versus-a-copy\n",
      "  after removing the cwd from sys.path.\n",
      "C:\\ProgramData\\Anaconda3\\lib\\site-packages\\pandas\\core\\indexing.py:670: SettingWithCopyWarning: \n",
      "A value is trying to be set on a copy of a slice from a DataFrame\n",
      "\n",
      "See the caveats in the documentation: https://pandas.pydata.org/pandas-docs/stable/user_guide/indexing.html#returning-a-view-versus-a-copy\n",
      "  self._setitem_with_indexer(indexer, value)\n"
     ]
    }
   ],
   "source": [
    "df[\"NE_Instance\"] = 0\n",
    "\n",
    "for i in range(0,len(df[\"Managed Object FDN\"]) -1):\n",
    "    df[\"NE_Instance\"][i] =  df[\"Managed Object FDN\"][i].split(',')[3].split('=')[-1]"
   ]
  },
  {
   "cell_type": "code",
   "execution_count": 27,
   "metadata": {},
   "outputs": [
    {
     "data": {
      "text/html": [
       "<div>\n",
       "<style scoped>\n",
       "    .dataframe tbody tr th:only-of-type {\n",
       "        vertical-align: middle;\n",
       "    }\n",
       "\n",
       "    .dataframe tbody tr th {\n",
       "        vertical-align: top;\n",
       "    }\n",
       "\n",
       "    .dataframe thead th {\n",
       "        text-align: right;\n",
       "    }\n",
       "</style>\n",
       "<table border=\"1\" class=\"dataframe\">\n",
       "  <thead>\n",
       "    <tr style=\"text-align: right;\">\n",
       "      <th></th>\n",
       "      <th>OSSID</th>\n",
       "      <th>Managed Object FDN</th>\n",
       "      <th>Parameter Name</th>\n",
       "      <th>New Value</th>\n",
       "      <th>Expiry Date</th>\n",
       "      <th>Reason</th>\n",
       "      <th>User</th>\n",
       "      <th>NE_Instance</th>\n",
       "    </tr>\n",
       "  </thead>\n",
       "  <tbody>\n",
       "    <tr>\n",
       "      <th>0</th>\n",
       "      <td>WRAN1</td>\n",
       "      <td>SubNetwork=Telstra_R,SubNetwork=NSW_EVOZ,MeCon...</td>\n",
       "      <td>anrBlackList</td>\n",
       "      <td>[\"test\",\"test21\"]</td>\n",
       "      <td>2019-12-25</td>\n",
       "      <td>To fix the network performance issue identifie...</td>\n",
       "      <td>Scott Colwell</td>\n",
       "      <td>1</td>\n",
       "    </tr>\n",
       "    <tr>\n",
       "      <th>1</th>\n",
       "      <td>ENM</td>\n",
       "      <td>SubNetwork=Telstra,SubNetwork=LTE,MeContext=VI...</td>\n",
       "      <td>availabilityStatus</td>\n",
       "      <td>[20,20,20]</td>\n",
       "      <td>2019-12-25</td>\n",
       "      <td>To fix the network performance issue identifie...</td>\n",
       "      <td>Scott c</td>\n",
       "      <td>VIC_XZ4015_BOX_HILL_533803</td>\n",
       "    </tr>\n",
       "    <tr>\n",
       "      <th>2</th>\n",
       "      <td>ENM</td>\n",
       "      <td>SubNetwork=Telstra,SubNetwork=NR_QLD_METRO,MeC...</td>\n",
       "      <td>drxEnable</td>\n",
       "      <td>True</td>\n",
       "      <td>2020-12-25</td>\n",
       "      <td>To fix the network performance issue identifie...</td>\n",
       "      <td>Scott Co</td>\n",
       "      <td>QLD_WNCU19_WOLLOONGABBA_TEST_BASE_970576</td>\n",
       "    </tr>\n",
       "    <tr>\n",
       "      <th>3</th>\n",
       "      <td>ENM</td>\n",
       "      <td>SubNetwork=Telstra,SubNetwork=LTE,MeContext=VI...</td>\n",
       "      <td>dlTrafficDelay</td>\n",
       "      <td>[102,102,102]</td>\n",
       "      <td>2020-12-25</td>\n",
       "      <td>To fix the network performance issue identifie...</td>\n",
       "      <td>scott Col</td>\n",
       "      <td>VIC_XZ4015_BOX_HILL_533803</td>\n",
       "    </tr>\n",
       "    <tr>\n",
       "      <th>4</th>\n",
       "      <td>WRAN1</td>\n",
       "      <td>SubNetwork=Telstra_R,SubNetwork=NSW_EVOZ,MeCon...</td>\n",
       "      <td>mixedModeRadio</td>\n",
       "      <td>true</td>\n",
       "      <td>2019-12-25</td>\n",
       "      <td>To fix the network performance issue identifie...</td>\n",
       "      <td>Scott Colw</td>\n",
       "      <td>1</td>\n",
       "    </tr>\n",
       "  </tbody>\n",
       "</table>\n",
       "</div>"
      ],
      "text/plain": [
       "   OSSID                                 Managed Object FDN  \\\n",
       "0  WRAN1  SubNetwork=Telstra_R,SubNetwork=NSW_EVOZ,MeCon...   \n",
       "1    ENM  SubNetwork=Telstra,SubNetwork=LTE,MeContext=VI...   \n",
       "2    ENM  SubNetwork=Telstra,SubNetwork=NR_QLD_METRO,MeC...   \n",
       "3    ENM  SubNetwork=Telstra,SubNetwork=LTE,MeContext=VI...   \n",
       "4  WRAN1  SubNetwork=Telstra_R,SubNetwork=NSW_EVOZ,MeCon...   \n",
       "\n",
       "       Parameter Name          New Value Expiry Date  \\\n",
       "0        anrBlackList  [\"test\",\"test21\"]  2019-12-25   \n",
       "1  availabilityStatus         [20,20,20]  2019-12-25   \n",
       "2           drxEnable               True  2020-12-25   \n",
       "3      dlTrafficDelay      [102,102,102]  2020-12-25   \n",
       "4      mixedModeRadio               true  2019-12-25   \n",
       "\n",
       "                                              Reason           User  \\\n",
       "0  To fix the network performance issue identifie...  Scott Colwell   \n",
       "1  To fix the network performance issue identifie...        Scott c   \n",
       "2  To fix the network performance issue identifie...       Scott Co   \n",
       "3  To fix the network performance issue identifie...      scott Col   \n",
       "4  To fix the network performance issue identifie...     Scott Colw   \n",
       "\n",
       "                                NE_Instance  \n",
       "0                                         1  \n",
       "1                VIC_XZ4015_BOX_HILL_533803  \n",
       "2  QLD_WNCU19_WOLLOONGABBA_TEST_BASE_970576  \n",
       "3                VIC_XZ4015_BOX_HILL_533803  \n",
       "4                                         1  "
      ]
     },
     "execution_count": 27,
     "metadata": {},
     "output_type": "execute_result"
    }
   ],
   "source": [
    "df.head()"
   ]
  },
  {
   "cell_type": "code",
   "execution_count": 28,
   "metadata": {},
   "outputs": [
    {
     "data": {
      "text/html": [
       "<div>\n",
       "<style scoped>\n",
       "    .dataframe tbody tr th:only-of-type {\n",
       "        vertical-align: middle;\n",
       "    }\n",
       "\n",
       "    .dataframe tbody tr th {\n",
       "        vertical-align: top;\n",
       "    }\n",
       "\n",
       "    .dataframe thead th {\n",
       "        text-align: right;\n",
       "    }\n",
       "</style>\n",
       "<table border=\"1\" class=\"dataframe\">\n",
       "  <thead>\n",
       "    <tr style=\"text-align: right;\">\n",
       "      <th></th>\n",
       "      <th>NE_Instance</th>\n",
       "      <th>Parameter Name</th>\n",
       "      <th>New Value</th>\n",
       "    </tr>\n",
       "  </thead>\n",
       "  <tbody>\n",
       "    <tr>\n",
       "      <th>0</th>\n",
       "      <td>1</td>\n",
       "      <td>anrBlackList</td>\n",
       "      <td>[\"test\",\"test21\"]</td>\n",
       "    </tr>\n",
       "    <tr>\n",
       "      <th>1</th>\n",
       "      <td>VIC_XZ4015_BOX_HILL_533803</td>\n",
       "      <td>availabilityStatus</td>\n",
       "      <td>[20,20,20]</td>\n",
       "    </tr>\n",
       "    <tr>\n",
       "      <th>2</th>\n",
       "      <td>QLD_WNCU19_WOLLOONGABBA_TEST_BASE_970576</td>\n",
       "      <td>drxEnable</td>\n",
       "      <td>True</td>\n",
       "    </tr>\n",
       "    <tr>\n",
       "      <th>3</th>\n",
       "      <td>VIC_XZ4015_BOX_HILL_533803</td>\n",
       "      <td>dlTrafficDelay</td>\n",
       "      <td>[102,102,102]</td>\n",
       "    </tr>\n",
       "    <tr>\n",
       "      <th>4</th>\n",
       "      <td>1</td>\n",
       "      <td>mixedModeRadio</td>\n",
       "      <td>true</td>\n",
       "    </tr>\n",
       "  </tbody>\n",
       "</table>\n",
       "</div>"
      ],
      "text/plain": [
       "                                NE_Instance      Parameter Name  \\\n",
       "0                                         1        anrBlackList   \n",
       "1                VIC_XZ4015_BOX_HILL_533803  availabilityStatus   \n",
       "2  QLD_WNCU19_WOLLOONGABBA_TEST_BASE_970576           drxEnable   \n",
       "3                VIC_XZ4015_BOX_HILL_533803      dlTrafficDelay   \n",
       "4                                         1      mixedModeRadio   \n",
       "\n",
       "           New Value  \n",
       "0  [\"test\",\"test21\"]  \n",
       "1         [20,20,20]  \n",
       "2               True  \n",
       "3      [102,102,102]  \n",
       "4               true  "
      ]
     },
     "execution_count": 28,
     "metadata": {},
     "output_type": "execute_result"
    }
   ],
   "source": [
    "df1 = df[['NE_Instance', 'Parameter Name', 'New Value']]\n",
    "df1.head()"
   ]
  },
  {
   "cell_type": "code",
   "execution_count": 29,
   "metadata": {},
   "outputs": [],
   "source": [
    "df1.to_excel(r'test_parameters.xlsx', index = False)"
   ]
  },
  {
   "cell_type": "code",
   "execution_count": null,
   "metadata": {},
   "outputs": [],
   "source": []
  },
  {
   "cell_type": "code",
   "execution_count": null,
   "metadata": {},
   "outputs": [],
   "source": []
  },
  {
   "cell_type": "code",
   "execution_count": null,
   "metadata": {},
   "outputs": [],
   "source": []
  },
  {
   "cell_type": "code",
   "execution_count": null,
   "metadata": {},
   "outputs": [],
   "source": []
  },
  {
   "cell_type": "code",
   "execution_count": null,
   "metadata": {},
   "outputs": [],
   "source": []
  },
  {
   "cell_type": "code",
   "execution_count": null,
   "metadata": {},
   "outputs": [],
   "source": []
  }
 ],
 "metadata": {
  "kernelspec": {
   "display_name": "Python 3",
   "language": "python",
   "name": "python3"
  },
  "language_info": {
   "codemirror_mode": {
    "name": "ipython",
    "version": 3
   },
   "file_extension": ".py",
   "mimetype": "text/x-python",
   "name": "python",
   "nbconvert_exporter": "python",
   "pygments_lexer": "ipython3",
   "version": "3.7.6"
  }
 },
 "nbformat": 4,
 "nbformat_minor": 4
}
