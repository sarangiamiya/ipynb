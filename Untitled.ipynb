{
 "cells": [
  {
   "cell_type": "code",
   "execution_count": 2,
   "metadata": {},
   "outputs": [
    {
     "ename": "IndentationError",
     "evalue": "unindent does not match any outer indentation level (<tokenize>, line 7)",
     "output_type": "error",
     "traceback": [
      "\u001b[1;36m  File \u001b[1;32m\"<tokenize>\"\u001b[1;36m, line \u001b[1;32m7\u001b[0m\n\u001b[1;33m    \"\"\"\u001b[0m\n\u001b[1;37m    ^\u001b[0m\n\u001b[1;31mIndentationError\u001b[0m\u001b[1;31m:\u001b[0m unindent does not match any outer indentation level\n"
     ]
    }
   ],
   "source": [
    "def main():\n",
    "         dictionary = {}\n",
    "         dictionary[\"learning\"] = \"awesome\"\n",
    "         dictionary[\"coding\"] = \"fun\"\n",
    "         # ... Fill with more data\n",
    "         remove_keys_containing_string(dictionary, \"learn\")\n",
    " \"\"\"\n",
    " This Python method takes in a dict and a string, then loops through\n",
    " the dict and removes all entries that have a key containing that string.\n",
    " \"\"\"\n",
    "def remove_keys_containing_string(dictionary, remove):\n",
    "    toRemove = None\n",
    "    for key in dictionary:\n",
    "        for i in range(len(key)):\n",
    "            if key[i:i+1] == remove:\n",
    "                toRemove.add(key)\n",
    "    if toRemove != None:  \n",
    "        for key in toRemove:\n",
    "            del dictionary[key]"
   ]
  },
  {
   "cell_type": "code",
   "execution_count": null,
   "metadata": {},
   "outputs": [],
   "source": []
  }
 ],
 "metadata": {
  "kernelspec": {
   "display_name": "Python 3",
   "language": "python",
   "name": "python3"
  }
 },
 "nbformat": 4,
 "nbformat_minor": 2
}
