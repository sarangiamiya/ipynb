{
 "cells": [
  {
   "cell_type": "code",
   "execution_count": 1,
   "metadata": {},
   "outputs": [
    {
     "data": {
      "text/plain": [
       "[1, 2, 3, 4, 5]"
      ]
     },
     "execution_count": 1,
     "metadata": {},
     "output_type": "execute_result"
    }
   ],
   "source": [
    "l = [1,2,3,4,3,2,5,4,3]\n",
    "\n",
    "sorted(set(l))"
   ]
  },
  {
   "cell_type": "code",
   "execution_count": 2,
   "metadata": {},
   "outputs": [
    {
     "name": "stdout",
     "output_type": "stream",
     "text": [
      "7  *  1  =  7\n",
      "7  *  2  =  14\n",
      "7  *  3  =  21\n",
      "7  *  4  =  28\n",
      "7  *  5  =  35\n",
      "7  *  6  =  42\n",
      "7  *  7  =  49\n",
      "7  *  8  =  56\n",
      "7  *  9  =  63\n",
      "7  *  10  =  70\n"
     ]
    }
   ],
   "source": [
    "for i in range(1,11):\n",
    "    print(\"7\",\" * \", i, \" = \", i*7)"
   ]
  },
  {
   "cell_type": "code",
   "execution_count": 15,
   "metadata": {},
   "outputs": [
    {
     "name": "stdout",
     "output_type": "stream",
     "text": [
      "emp1\n",
      "{'name': 'Jhon', 'salary': 7500}\n",
      "val1 =  Jhon\n",
      "val1 =  7500\n",
      "emp2\n",
      "{'name': 'Emma', 'salary': 8000}\n",
      "val1 =  Emma\n",
      "emp3\n",
      "{'name': 'Brad', 'salary': 6500}\n",
      "val1 =  Brad\n",
      "val1 =  6500\n",
      "8000\n"
     ]
    }
   ],
   "source": [
    "sampleDict = { 'emp1': {'name': 'Jhon', 'salary': 7500}, 'emp2': {'name': 'Emma', 'salary': 8000}, 'emp3': {'name': 'Brad', 'salary': 6500} }\n",
    "\n",
    "for key,val in sampleDict.items():\n",
    "    print(key)\n",
    "    print(val)\n",
    "    for key1,val1 in val.items():\n",
    "        #print(\"key1 = \",key1)\n",
    "        print(\"val1 = \",val1)\n",
    "        if key1 == \"name\" and val1 == \"Emma\":\n",
    "                sampleDict[key][val1] = 10000\n",
    "                break\n",
    "                \n",
    "                \n",
    "print(sampleDict[\"emp2\"][\"salary\"])\n",
    "        \n",
    "        \n",
    "        \n",
    "        #if key1 == \"Emma\":\n",
    "        #    sampleDict[key]['']\n",
    "    \n",
    "    \n",
    "    #if sampleDict[]\n",
    "#sampleDict[\"emp2\"][\"salary\"]"
   ]
  },
  {
   "cell_type": "code",
   "execution_count": null,
   "metadata": {},
   "outputs": [],
   "source": [
    "#df1.join(df2, on=\"key\",join=\"inner\")"
   ]
  },
  {
   "cell_type": "code",
   "execution_count": 18,
   "metadata": {},
   "outputs": [
    {
     "name": "stdout",
     "output_type": "stream",
     "text": [
      "Hello\n",
      "Hi\n"
     ]
    }
   ],
   "source": [
    "class class1:\n",
    "    def __init__(self,a):\n",
    "        self.a = a\n",
    "    def show(self):\n",
    "        print(self.a)\n",
    "\n",
    "class class2:\n",
    "    def __init__(self,b):\n",
    "        self.b = b\n",
    "    def show1(self):\n",
    "        print(self.b)\n",
    "        \n",
    "a = class1(\"Hello\")\n",
    "b = class2(\"Hi\")\n",
    "a.show()\n",
    "b.show1()"
   ]
  },
  {
   "cell_type": "code",
   "execution_count": 32,
   "metadata": {},
   "outputs": [
    {
     "name": "stdout",
     "output_type": "stream",
     "text": [
      "A.R.Sarangi\n"
     ]
    }
   ],
   "source": [
    "#lambda x : x**2\n",
    "\n",
    "var = \"Amiya Ranjan Sarangi\"\n",
    "var\n",
    "#A.R.Sarangi\n",
    "\n",
    "len(var.split(\" \"))\n",
    "list = var.split(\" \")\n",
    "list1 = \"\"\n",
    "\n",
    "for i in range(0, len(list)-1):\n",
    "    list1 +=list[i][0]+\".\"\n",
    "    #print(list)\n",
    "\n",
    "print(list1+list[-1])"
   ]
  },
  {
   "cell_type": "code",
   "execution_count": null,
   "metadata": {},
   "outputs": [],
   "source": [
    "#list, string slicing\n",
    "#string functions\n",
    "#map,lambda, filter\n",
    "#Use more functions\n",
    "#Exception Handling\n",
    "#fetch data from sql and feed into dataframe"
   ]
  },
  {
   "cell_type": "code",
   "execution_count": null,
   "metadata": {},
   "outputs": [],
   "source": [
    "#delete duplicate records\n",
    "#Join two tables\n",
    "#subqueries/nested queries\n",
    "#query optimization, indexing, "
   ]
  },
  {
   "cell_type": "code",
   "execution_count": null,
   "metadata": {},
   "outputs": [],
   "source": []
  },
  {
   "cell_type": "code",
   "execution_count": null,
   "metadata": {},
   "outputs": [],
   "source": []
  },
  {
   "cell_type": "code",
   "execution_count": null,
   "metadata": {},
   "outputs": [],
   "source": []
  },
  {
   "cell_type": "code",
   "execution_count": null,
   "metadata": {},
   "outputs": [],
   "source": []
  },
  {
   "cell_type": "code",
   "execution_count": null,
   "metadata": {},
   "outputs": [],
   "source": []
  },
  {
   "cell_type": "code",
   "execution_count": null,
   "metadata": {},
   "outputs": [],
   "source": []
  },
  {
   "cell_type": "code",
   "execution_count": null,
   "metadata": {},
   "outputs": [],
   "source": []
  },
  {
   "cell_type": "code",
   "execution_count": null,
   "metadata": {},
   "outputs": [],
   "source": []
  },
  {
   "cell_type": "code",
   "execution_count": null,
   "metadata": {},
   "outputs": [],
   "source": []
  },
  {
   "cell_type": "code",
   "execution_count": null,
   "metadata": {},
   "outputs": [],
   "source": []
  },
  {
   "cell_type": "code",
   "execution_count": null,
   "metadata": {},
   "outputs": [],
   "source": []
  },
  {
   "cell_type": "code",
   "execution_count": null,
   "metadata": {},
   "outputs": [],
   "source": []
  },
  {
   "cell_type": "code",
   "execution_count": null,
   "metadata": {},
   "outputs": [],
   "source": []
  },
  {
   "cell_type": "code",
   "execution_count": null,
   "metadata": {},
   "outputs": [],
   "source": []
  },
  {
   "cell_type": "code",
   "execution_count": null,
   "metadata": {},
   "outputs": [],
   "source": []
  },
  {
   "cell_type": "code",
   "execution_count": null,
   "metadata": {},
   "outputs": [],
   "source": []
  },
  {
   "cell_type": "code",
   "execution_count": null,
   "metadata": {},
   "outputs": [],
   "source": []
  },
  {
   "cell_type": "code",
   "execution_count": null,
   "metadata": {},
   "outputs": [],
   "source": []
  },
  {
   "cell_type": "code",
   "execution_count": null,
   "metadata": {},
   "outputs": [],
   "source": []
  }
 ],
 "metadata": {
  "kernelspec": {
   "display_name": "Python 3",
   "language": "python",
   "name": "python3"
  },
  "language_info": {
   "codemirror_mode": {
    "name": "ipython",
    "version": 3
   },
   "file_extension": ".py",
   "mimetype": "text/x-python",
   "name": "python",
   "nbconvert_exporter": "python",
   "pygments_lexer": "ipython3",
   "version": "3.7.4"
  }
 },
 "nbformat": 4,
 "nbformat_minor": 2
}
