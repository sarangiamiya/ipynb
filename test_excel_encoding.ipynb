{
 "cells": [
  {
   "cell_type": "code",
   "execution_count": 1,
   "metadata": {},
   "outputs": [],
   "source": [
    "import pandas as pd\n",
    "import json"
   ]
  },
  {
   "cell_type": "code",
   "execution_count": 5,
   "metadata": {
    "collapsed": true
   },
   "outputs": [
    {
     "data": {
      "text/html": [
       "<div>\n",
       "<style scoped>\n",
       "    .dataframe tbody tr th:only-of-type {\n",
       "        vertical-align: middle;\n",
       "    }\n",
       "\n",
       "    .dataframe tbody tr th {\n",
       "        vertical-align: top;\n",
       "    }\n",
       "\n",
       "    .dataframe thead th {\n",
       "        text-align: right;\n",
       "    }\n",
       "</style>\n",
       "<table border=\"1\" class=\"dataframe\">\n",
       "  <thead>\n",
       "    <tr style=\"text-align: right;\">\n",
       "      <th></th>\n",
       "      <th>OSSID</th>\n",
       "      <th>Managed Object FDN</th>\n",
       "      <th>Parameter Name</th>\n",
       "      <th>New Value</th>\n",
       "      <th>Expiry Date</th>\n",
       "      <th>Reason</th>\n",
       "      <th>User</th>\n",
       "    </tr>\n",
       "  </thead>\n",
       "  <tbody>\n",
       "    <tr>\n",
       "      <th>0</th>\n",
       "      <td>ENM</td>\n",
       "      <td>SubNetwork=Telstra,SubNetwork=LTE,MeContext=VI...</td>\n",
       "      <td>zzzTemporary4</td>\n",
       "      <td>1000</td>\n",
       "      <td>2019-12-25</td>\n",
       "      <td>To fix the network performance issue identifie...</td>\n",
       "      <td>Scott Colwell</td>\n",
       "    </tr>\n",
       "    <tr>\n",
       "      <th>1</th>\n",
       "      <td>ENM</td>\n",
       "      <td>SubNetwork=Telstra,SubNetwork=LTE,MeContext=VI...</td>\n",
       "      <td>spidFilterEnabled</td>\n",
       "      <td>FALSE</td>\n",
       "      <td>2019-12-25</td>\n",
       "      <td>To fix the network performance issue identifie...</td>\n",
       "      <td>Scott Colwell</td>\n",
       "    </tr>\n",
       "    <tr>\n",
       "      <th>2</th>\n",
       "      <td>ENM</td>\n",
       "      <td>SubNetwork=Telstra,SubNetwork=LTE,MeContext=VI...</td>\n",
       "      <td>availabilityStatus</td>\n",
       "      <td>[0,0,0]</td>\n",
       "      <td>2019-12-25</td>\n",
       "      <td>To fix the network performance issue identifie...</td>\n",
       "      <td>Scott Colwell</td>\n",
       "    </tr>\n",
       "    <tr>\n",
       "      <th>3</th>\n",
       "      <td>ENM</td>\n",
       "      <td>SubNetwork=Telstra,SubNetwork=LTE,MeContext=VI...</td>\n",
       "      <td>noOfOcngPrbSeries</td>\n",
       "      <td>2</td>\n",
       "      <td>2019-12-25</td>\n",
       "      <td>To fix the network performance issue identifie...</td>\n",
       "      <td>Scott Colwell</td>\n",
       "    </tr>\n",
       "    <tr>\n",
       "      <th>4</th>\n",
       "      <td>ENM</td>\n",
       "      <td>SubNetwork=Telstra,SubNetwork=LTE,MeContext=VI...</td>\n",
       "      <td>ocngPrbSerie</td>\n",
       "      <td>[{\"pdschModType\": \"2\", \"prbFirst\": \"1\",  \"prb...</td>\n",
       "      <td>2019-12-25</td>\n",
       "      <td>To fix the network performance issue identifie...</td>\n",
       "      <td>Scott Colwell</td>\n",
       "    </tr>\n",
       "  </tbody>\n",
       "</table>\n",
       "</div>"
      ],
      "text/plain": [
       "  OSSID                                 Managed Object FDN  \\\n",
       "0   ENM  SubNetwork=Telstra,SubNetwork=LTE,MeContext=VI...   \n",
       "1   ENM  SubNetwork=Telstra,SubNetwork=LTE,MeContext=VI...   \n",
       "2   ENM  SubNetwork=Telstra,SubNetwork=LTE,MeContext=VI...   \n",
       "3   ENM  SubNetwork=Telstra,SubNetwork=LTE,MeContext=VI...   \n",
       "4   ENM  SubNetwork=Telstra,SubNetwork=LTE,MeContext=VI...   \n",
       "\n",
       "       Parameter Name                                          New Value  \\\n",
       "0       zzzTemporary4                                               1000   \n",
       "1   spidFilterEnabled                                              FALSE   \n",
       "2  availabilityStatus                                            [0,0,0]   \n",
       "3   noOfOcngPrbSeries                                                  2   \n",
       "4        ocngPrbSerie   [{\"pdschModType\": \"2\", \"prbFirst\": \"1\",  \"prb...   \n",
       "\n",
       "  Expiry Date                                             Reason  \\\n",
       "0  2019-12-25  To fix the network performance issue identifie...   \n",
       "1  2019-12-25  To fix the network performance issue identifie...   \n",
       "2  2019-12-25  To fix the network performance issue identifie...   \n",
       "3  2019-12-25  To fix the network performance issue identifie...   \n",
       "4  2019-12-25  To fix the network performance issue identifie...   \n",
       "\n",
       "            User  \n",
       "0  Scott Colwell  \n",
       "1  Scott Colwell  \n",
       "2  Scott Colwell  \n",
       "3  Scott Colwell  \n",
       "4  Scott Colwell  "
      ]
     },
     "execution_count": 5,
     "metadata": {},
     "output_type": "execute_result"
    }
   ],
   "source": [
    "df = pd.read_excel(\"Scope_File.xlsx\", sheet_name =\"Explicit_Param\")\n",
    "df.head()"
   ]
  },
  {
   "cell_type": "code",
   "execution_count": null,
   "metadata": {},
   "outputs": [],
   "source": [
    "pd.read_excel()"
   ]
  },
  {
   "cell_type": "code",
   "execution_count": 4,
   "metadata": {
    "collapsed": true
   },
   "outputs": [
    {
     "name": "stdout",
     "output_type": "stream",
     "text": [
      "{'quoll_data': {'ENodeB': {'SubNetwork=Telstra,SubNetwork=BB5216,MeContext=VIC_XZ5315_BOX_HILL_539913': {'EUtranCellFDD': ['Inactive##SubNetwork=Telstra,SubNetwork=BB5216,MeContext=VIC_XZ5315_BOX_HILL_539913,ManagedElement=VIC_XZ5315_BOX_HILL_539913,vsDataENodeBFunction=1,vsDataEUtranCellFDD=XZ53FM1', 'Inactive##SubNetwork=Telstra,SubNetwork=BB5216,MeContext=VIC_XZ5315_BOX_HILL_539913,ManagedElement=VIC_XZ5315_BOX_HILL_539913,vsDataENodeBFunction=1,vsDataEUtranCellFDD=XZ53EM1', 'Inactive##SubNetwork=Telstra,SubNetwork=BB5216,MeContext=VIC_XZ5315_BOX_HILL_539913,ManagedElement=VIC_XZ5315_BOX_HILL_539913,vsDataENodeBFunction=1,vsDataEUtranCellFDD=XZ53BM1', 'Inactive##SubNetwork=Telstra,SubNetwork=BB5216,MeContext=VIC_XZ5315_BOX_HILL_539913,ManagedElement=VIC_XZ5315_BOX_HILL_539913,vsDataENodeBFunction=1,vsDataEUtranCellFDD=XZ53AM1', 'Inactive##SubNetwork=Telstra,SubNetwork=BB5216,MeContext=VIC_XZ5315_BOX_HILL_539913,ManagedElement=VIC_XZ5315_BOX_HILL_539913,vsDataENodeBFunction=1,vsDataEUtranCellFDD=XZ53KM1']}, 'SubNetwork=Telstra,SubNetwork=LTE,MeContext=VIC_B3A015_BARRY_ST_MODEL_539923': {'EUtranCellFDD': ['Commissioning##SubNetwork=Telstra,SubNetwork=LTE,MeContext=VIC_B3A015_BARRY_ST_MODEL_539923,ManagedElement=1,vsDataENodeBFunction=1,vsDataEUtranCellFDD=B3A0ET1']}, 'SubNetwork=Telstra,SubNetwork=LTE,MeContext=VIC_B3A215_BARRY_ST_MODEL_539941': {'EUtranCellFDD': ['Commissioning##SubNetwork=Telstra,SubNetwork=LTE,MeContext=VIC_B3A215_BARRY_ST_MODEL_539941,ManagedElement=1,vsDataENodeBFunction=1,vsDataEUtranCellFDD=B3A2ET1']}, 'SubNetwork=Telstra,SubNetwork=LTE,MeContext=VIC_B3A315_BARRY_ST_MODEL_539942': {'EUtranCellFDD': ['Commissioning##SubNetwork=Telstra,SubNetwork=LTE,MeContext=VIC_B3A315_BARRY_ST_MODEL_539942,ManagedElement=1,vsDataENodeBFunction=1,vsDataEUtranCellFDD=B3A3ET1']}, 'SubNetwork=Telstra,SubNetwork=LTE,MeContext=VIC_B3A415_BARRY_ST_MODEL_539943': {'EUtranCellFDD': ['Inactive##SubNetwork=Telstra,SubNetwork=LTE,MeContext=VIC_B3A415_BARRY_ST_MODEL_539943,ManagedElement=1,vsDataENodeBFunction=1,vsDataEUtranCellFDD=B3A4ET1']}, 'SubNetwork=Telstra,SubNetwork=LTE,MeContext=VIC_C4B315_35_COLLINS_ST_TEST_ENODEB_3_539954': {'EUtranCellFDD': ['Commissioning##SubNetwork=Telstra,SubNetwork=LTE,MeContext=VIC_C4B315_35_COLLINS_ST_TEST_ENODEB_3_539954,ManagedElement=1,vsDataENodeBFunction=1,vsDataEUtranCellFDD=C4B3AT1', 'Commissioning##SubNetwork=Telstra,SubNetwork=LTE,MeContext=VIC_C4B315_35_COLLINS_ST_TEST_ENODEB_3_539954,ManagedElement=1,vsDataENodeBFunction=1,vsDataEUtranCellFDD=C4B3FT1', 'Commissioning##SubNetwork=Telstra,SubNetwork=LTE,MeContext=VIC_C4B315_35_COLLINS_ST_TEST_ENODEB_3_539954,ManagedElement=1,vsDataENodeBFunction=1,vsDataEUtranCellFDD=C4B3ET1'], 'NbIotCell': ['Commissioning##SubNetwork=Telstra,SubNetwork=LTE,MeContext=VIC_C4B315_35_COLLINS_ST_TEST_ENODEB_3_539954,ManagedElement=1,vsDataENodeBFunction=1,vsDataNbIotCell=C4B3FI1']}, 'SubNetwork=Telstra,SubNetwork=LTE,MeContext=VIC_XZ5015_BOX_HILL_LAB_539910': {'EUtranCellFDD': ['Commissioning##SubNetwork=Telstra,SubNetwork=LTE,MeContext=VIC_XZ5015_BOX_HILL_LAB_539910,ManagedElement=1,vsDataENodeBFunction=1,vsDataEUtranCellFDD=XZ50ET2', 'Commissioning##SubNetwork=Telstra,SubNetwork=LTE,MeContext=VIC_XZ5015_BOX_HILL_LAB_539910,ManagedElement=1,vsDataENodeBFunction=1,vsDataEUtranCellFDD=XZ50ET1']}, 'SubNetwork=Telstra,SubNetwork=NSW_Parramatta,MeContext=NSW_S4B215_Parramatta_529912': {'EUtranCellFDD': ['Removed##SubNetwork=Telstra,SubNetwork=NSW_Parramatta,MeContext=NSW_S4B215_Parramatta_529912,ManagedElement=NSW_S4B215_Parramatta_529912,vsDataENodeBFunction=1,vsDataEUtranCellFDD=S4B2ET1']}, 'SubNetwork=Telstra,SubNetwork=NSW_Parramatta_Stable,MeContext=NSW_S4B015_Parramatta_529910': {'EUtranCellFDD': ['Commissioning##SubNetwork=Telstra,SubNetwork=NSW_Parramatta_Stable,MeContext=NSW_S4B015_Parramatta_529910,ManagedElement=NSW_S4B015_Parramatta_529910,vsDataENodeBFunction=1,vsDataEUtranCellFDD=S4B0ET1']}, 'SubNetwork=Telstra,SubNetwork=NSW_Parramatta_Stable,MeContext=NSW_S4B115_Parramatta_529911': {'EUtranCellFDD': ['Commissioning##SubNetwork=Telstra,SubNetwork=NSW_Parramatta_Stable,MeContext=NSW_S4B115_Parramatta_529911,ManagedElement=1,vsDataENodeBFunction=1,vsDataEUtranCellFDD=S4B1ET1']}, 'SubNetwork=Telstra,SubNetwork=NSW_Parramatta_Stable,MeContext=NSW_S4B515_Parramatta_529915': {'EUtranCellFDD': ['Commissioning##SubNetwork=Telstra,SubNetwork=NSW_Parramatta_Stable,MeContext=NSW_S4B515_Parramatta_529915,ManagedElement=1,vsDataENodeBFunction=1,vsDataEUtranCellFDD=S4B53', 'Commissioning##SubNetwork=Telstra,SubNetwork=NSW_Parramatta_Stable,MeContext=NSW_S4B515_Parramatta_529915,ManagedElement=1,vsDataENodeBFunction=1,vsDataEUtranCellFDD=S4B51', 'Commissioning##SubNetwork=Telstra,SubNetwork=NSW_Parramatta_Stable,MeContext=NSW_S4B515_Parramatta_529915,ManagedElement=1,vsDataENodeBFunction=1,vsDataEUtranCellFDD=S4B52']}, 'SubNetwork=Telstra,SubNetwork=NSW_Parramatta_Stable,MeContext=NSW_S4B715_Parramatta_529917': {'EUtranCellFDD': ['Commissioning##SubNetwork=Telstra,SubNetwork=NSW_Parramatta_Stable,MeContext=NSW_S4B715_Parramatta_529917,ManagedElement=1,vsDataENodeBFunction=1,vsDataEUtranCellFDD=S4B72', 'Commissioning##SubNetwork=Telstra,SubNetwork=NSW_Parramatta_Stable,MeContext=NSW_S4B715_Parramatta_529917,ManagedElement=1,vsDataENodeBFunction=1,vsDataEUtranCellFDD=S4B71', 'Commissioning##SubNetwork=Telstra,SubNetwork=NSW_Parramatta_Stable,MeContext=NSW_S4B715_Parramatta_529917,ManagedElement=1,vsDataENodeBFunction=1,vsDataEUtranCellFDD=S4B73']}, 'SubNetwork=Telstra,SubNetwork=NSW_Parramatta_Stable,MeContext=NSW_SYIH15_400_GEORGE_ST_TEST_MODEL_525099': {'EUtranCellFDD': ['Removed##SubNetwork=Telstra,SubNetwork=NSW_Parramatta_Stable,MeContext=NSW_SYIH15_400_GEORGE_ST_TEST_MODEL_525099,ManagedElement=NSW_SYIH15_400_GEORGE_ST_TEST_MODEL_525099,vsDataENodeBFunction=1,vsDataEUtranCellFDD=SYIHEBA']}, 'SubNetwork=Telstra,SubNetwork=QLD_METRO,MeContext=QLD_WNCU35_WOOLLOONGABBA_NC_TEST_BASE_571901': {'NbIotCell': ['Commissioning##SubNetwork=Telstra,SubNetwork=QLD_METRO,MeContext=QLD_WNCU35_WOOLLOONGABBA_NC_TEST_BASE_571901,ManagedElement=QLD_WNCU35_WOOLLOONGABBA_NC_TEST_BASE_571901,vsDataENodeBFunction=1,vsDataNbIotCell=WNCUFI3', 'Commissioning##SubNetwork=Telstra,SubNetwork=QLD_METRO,MeContext=QLD_WNCU35_WOOLLOONGABBA_NC_TEST_BASE_571901,ManagedElement=QLD_WNCU35_WOOLLOONGABBA_NC_TEST_BASE_571901,vsDataENodeBFunction=1,vsDataNbIotCell=WNCUFI2', 'Commissioning##SubNetwork=Telstra,SubNetwork=QLD_METRO,MeContext=QLD_WNCU35_WOOLLOONGABBA_NC_TEST_BASE_571901,ManagedElement=QLD_WNCU35_WOOLLOONGABBA_NC_TEST_BASE_571901,vsDataENodeBFunction=1,vsDataNbIotCell=WNCUFI1']}}, 'Independent Utrancell': {'Independent Utrancell': {}}, 'NodeB': {}}, 'trial_details': [{'contactperson': 'Geethu Nair', 'endDate': '2020-11-09', 'nsdUpdatesAllowed': 'BAU NSD Updates', 'startDate': '2019-11-08', 'status': 'ACTIVE', 'technology': 'LTE & WCDMA', 'trialName': 'SON_Trial_Test'}], 'trial_register': {'ENodeB': ['SON_Trial_Test##SubNetwork=Telstra,SubNetwork=LTE,MeContext=VIC_B3A015_BARRY_ST_MODEL_539923', 'SON_Trial_Test##SubNetwork=Telstra,SubNetwork=LTE,MeContext=VIC_XZ4015_BOX_HILL_533803'], 'Independent Utrancell': [], 'NodeB': ['SON_Trial_Test##SubNetwork=Telstra_R,SubNetwork=NSW_NBTB,MeContext=NSW_TUSS_PARRAMATTA_350002301']}}\n"
     ]
    }
   ],
   "source": [
    "#person_dict = json.loads(person)\n",
    "#person_json = json.dumps(person_dict)\n",
    "\n",
    "with open('EXCLUSIONS_NSD.json') as f:\n",
    "      data = json.load(f)\n",
    "\n",
    "print(data)"
   ]
  },
  {
   "cell_type": "code",
   "execution_count": 6,
   "metadata": {
    "scrolled": true
   },
   "outputs": [
    {
     "name": "stdout",
     "output_type": "stream",
     "text": [
      "{\n",
      "  \"quoll_data\": {\n",
      "    \"ENodeB\": {\n",
      "      \"SubNetwork=Telstra,SubNetwork=BB5216,MeContext=VIC_XZ5315_BOX_HILL_539913\": {\n",
      "        \"EUtranCellFDD\": [\n",
      "          \"Inactive##SubNetwork=Telstra,SubNetwork=BB5216,MeContext=VIC_XZ5315_BOX_HILL_539913,ManagedElement=VIC_XZ5315_BOX_HILL_539913,vsDataENodeBFunction=1,vsDataEUtranCellFDD=XZ53FM1\",\n",
      "          \"Inactive##SubNetwork=Telstra,SubNetwork=BB5216,MeContext=VIC_XZ5315_BOX_HILL_539913,ManagedElement=VIC_XZ5315_BOX_HILL_539913,vsDataENodeBFunction=1,vsDataEUtranCellFDD=XZ53EM1\",\n",
      "          \"Inactive##SubNetwork=Telstra,SubNetwork=BB5216,MeContext=VIC_XZ5315_BOX_HILL_539913,ManagedElement=VIC_XZ5315_BOX_HILL_539913,vsDataENodeBFunction=1,vsDataEUtranCellFDD=XZ53BM1\",\n",
      "          \"Inactive##SubNetwork=Telstra,SubNetwork=BB5216,MeContext=VIC_XZ5315_BOX_HILL_539913,ManagedElement=VIC_XZ5315_BOX_HILL_539913,vsDataENodeBFunction=1,vsDataEUtranCellFDD=XZ53AM1\",\n",
      "          \"Inactive##SubNetwork=Telstra,SubNetwork=BB5216,MeContext=VIC_XZ5315_BOX_HILL_539913,ManagedElement=VIC_XZ5315_BOX_HILL_539913,vsDataENodeBFunction=1,vsDataEUtranCellFDD=XZ53KM1\"\n",
      "        ]\n",
      "      },\n",
      "      \"SubNetwork=Telstra,SubNetwork=LTE,MeContext=VIC_B3A015_BARRY_ST_MODEL_539923\": {\n",
      "        \"EUtranCellFDD\": [\n",
      "          \"Commissioning##SubNetwork=Telstra,SubNetwork=LTE,MeContext=VIC_B3A015_BARRY_ST_MODEL_539923,ManagedElement=1,vsDataENodeBFunction=1,vsDataEUtranCellFDD=B3A0ET1\"\n",
      "        ]\n",
      "      },\n",
      "      \"SubNetwork=Telstra,SubNetwork=LTE,MeContext=VIC_B3A215_BARRY_ST_MODEL_539941\": {\n",
      "        \"EUtranCellFDD\": [\n",
      "          \"Commissioning##SubNetwork=Telstra,SubNetwork=LTE,MeContext=VIC_B3A215_BARRY_ST_MODEL_539941,ManagedElement=1,vsDataENodeBFunction=1,vsDataEUtranCellFDD=B3A2ET1\"\n",
      "        ]\n",
      "      },\n",
      "      \"SubNetwork=Telstra,SubNetwork=LTE,MeContext=VIC_B3A315_BARRY_ST_MODEL_539942\": {\n",
      "        \"EUtranCellFDD\": [\n",
      "          \"Commissioning##SubNetwork=Telstra,SubNetwork=LTE,MeContext=VIC_B3A315_BARRY_ST_MODEL_539942,ManagedElement=1,vsDataENodeBFunction=1,vsDataEUtranCellFDD=B3A3ET1\"\n",
      "        ]\n",
      "      },\n",
      "      \"SubNetwork=Telstra,SubNetwork=LTE,MeContext=VIC_B3A415_BARRY_ST_MODEL_539943\": {\n",
      "        \"EUtranCellFDD\": [\n",
      "          \"Inactive##SubNetwork=Telstra,SubNetwork=LTE,MeContext=VIC_B3A415_BARRY_ST_MODEL_539943,ManagedElement=1,vsDataENodeBFunction=1,vsDataEUtranCellFDD=B3A4ET1\"\n",
      "        ]\n",
      "      },\n",
      "      \"SubNetwork=Telstra,SubNetwork=LTE,MeContext=VIC_C4B315_35_COLLINS_ST_TEST_ENODEB_3_539954\": {\n",
      "        \"EUtranCellFDD\": [\n",
      "          \"Commissioning##SubNetwork=Telstra,SubNetwork=LTE,MeContext=VIC_C4B315_35_COLLINS_ST_TEST_ENODEB_3_539954,ManagedElement=1,vsDataENodeBFunction=1,vsDataEUtranCellFDD=C4B3AT1\",\n",
      "          \"Commissioning##SubNetwork=Telstra,SubNetwork=LTE,MeContext=VIC_C4B315_35_COLLINS_ST_TEST_ENODEB_3_539954,ManagedElement=1,vsDataENodeBFunction=1,vsDataEUtranCellFDD=C4B3FT1\",\n",
      "          \"Commissioning##SubNetwork=Telstra,SubNetwork=LTE,MeContext=VIC_C4B315_35_COLLINS_ST_TEST_ENODEB_3_539954,ManagedElement=1,vsDataENodeBFunction=1,vsDataEUtranCellFDD=C4B3ET1\"\n",
      "        ],\n",
      "        \"NbIotCell\": [\n",
      "          \"Commissioning##SubNetwork=Telstra,SubNetwork=LTE,MeContext=VIC_C4B315_35_COLLINS_ST_TEST_ENODEB_3_539954,ManagedElement=1,vsDataENodeBFunction=1,vsDataNbIotCell=C4B3FI1\"\n",
      "        ]\n",
      "      },\n",
      "      \"SubNetwork=Telstra,SubNetwork=LTE,MeContext=VIC_XZ5015_BOX_HILL_LAB_539910\": {\n",
      "        \"EUtranCellFDD\": [\n",
      "          \"Commissioning##SubNetwork=Telstra,SubNetwork=LTE,MeContext=VIC_XZ5015_BOX_HILL_LAB_539910,ManagedElement=1,vsDataENodeBFunction=1,vsDataEUtranCellFDD=XZ50ET2\",\n",
      "          \"Commissioning##SubNetwork=Telstra,SubNetwork=LTE,MeContext=VIC_XZ5015_BOX_HILL_LAB_539910,ManagedElement=1,vsDataENodeBFunction=1,vsDataEUtranCellFDD=XZ50ET1\"\n",
      "        ]\n",
      "      },\n",
      "      \"SubNetwork=Telstra,SubNetwork=NSW_Parramatta,MeContext=NSW_S4B215_Parramatta_529912\": {\n",
      "        \"EUtranCellFDD\": [\n",
      "          \"Removed##SubNetwork=Telstra,SubNetwork=NSW_Parramatta,MeContext=NSW_S4B215_Parramatta_529912,ManagedElement=NSW_S4B215_Parramatta_529912,vsDataENodeBFunction=1,vsDataEUtranCellFDD=S4B2ET1\"\n",
      "        ]\n",
      "      },\n",
      "      \"SubNetwork=Telstra,SubNetwork=NSW_Parramatta_Stable,MeContext=NSW_S4B015_Parramatta_529910\": {\n",
      "        \"EUtranCellFDD\": [\n",
      "          \"Commissioning##SubNetwork=Telstra,SubNetwork=NSW_Parramatta_Stable,MeContext=NSW_S4B015_Parramatta_529910,ManagedElement=NSW_S4B015_Parramatta_529910,vsDataENodeBFunction=1,vsDataEUtranCellFDD=S4B0ET1\"\n",
      "        ]\n",
      "      },\n",
      "      \"SubNetwork=Telstra,SubNetwork=NSW_Parramatta_Stable,MeContext=NSW_S4B115_Parramatta_529911\": {\n",
      "        \"EUtranCellFDD\": [\n",
      "          \"Commissioning##SubNetwork=Telstra,SubNetwork=NSW_Parramatta_Stable,MeContext=NSW_S4B115_Parramatta_529911,ManagedElement=1,vsDataENodeBFunction=1,vsDataEUtranCellFDD=S4B1ET1\"\n",
      "        ]\n",
      "      },\n",
      "      \"SubNetwork=Telstra,SubNetwork=NSW_Parramatta_Stable,MeContext=NSW_S4B515_Parramatta_529915\": {\n",
      "        \"EUtranCellFDD\": [\n",
      "          \"Commissioning##SubNetwork=Telstra,SubNetwork=NSW_Parramatta_Stable,MeContext=NSW_S4B515_Parramatta_529915,ManagedElement=1,vsDataENodeBFunction=1,vsDataEUtranCellFDD=S4B53\",\n",
      "          \"Commissioning##SubNetwork=Telstra,SubNetwork=NSW_Parramatta_Stable,MeContext=NSW_S4B515_Parramatta_529915,ManagedElement=1,vsDataENodeBFunction=1,vsDataEUtranCellFDD=S4B51\",\n",
      "          \"Commissioning##SubNetwork=Telstra,SubNetwork=NSW_Parramatta_Stable,MeContext=NSW_S4B515_Parramatta_529915,ManagedElement=1,vsDataENodeBFunction=1,vsDataEUtranCellFDD=S4B52\"\n",
      "        ]\n",
      "      },\n",
      "      \"SubNetwork=Telstra,SubNetwork=NSW_Parramatta_Stable,MeContext=NSW_S4B715_Parramatta_529917\": {\n",
      "        \"EUtranCellFDD\": [\n",
      "          \"Commissioning##SubNetwork=Telstra,SubNetwork=NSW_Parramatta_Stable,MeContext=NSW_S4B715_Parramatta_529917,ManagedElement=1,vsDataENodeBFunction=1,vsDataEUtranCellFDD=S4B72\",\n",
      "          \"Commissioning##SubNetwork=Telstra,SubNetwork=NSW_Parramatta_Stable,MeContext=NSW_S4B715_Parramatta_529917,ManagedElement=1,vsDataENodeBFunction=1,vsDataEUtranCellFDD=S4B71\",\n",
      "          \"Commissioning##SubNetwork=Telstra,SubNetwork=NSW_Parramatta_Stable,MeContext=NSW_S4B715_Parramatta_529917,ManagedElement=1,vsDataENodeBFunction=1,vsDataEUtranCellFDD=S4B73\"\n",
      "        ]\n",
      "      },\n",
      "      \"SubNetwork=Telstra,SubNetwork=NSW_Parramatta_Stable,MeContext=NSW_SYIH15_400_GEORGE_ST_TEST_MODEL_525099\": {\n",
      "        \"EUtranCellFDD\": [\n",
      "          \"Removed##SubNetwork=Telstra,SubNetwork=NSW_Parramatta_Stable,MeContext=NSW_SYIH15_400_GEORGE_ST_TEST_MODEL_525099,ManagedElement=NSW_SYIH15_400_GEORGE_ST_TEST_MODEL_525099,vsDataENodeBFunction=1,vsDataEUtranCellFDD=SYIHEBA\"\n",
      "        ]\n",
      "      },\n",
      "      \"SubNetwork=Telstra,SubNetwork=QLD_METRO,MeContext=QLD_WNCU35_WOOLLOONGABBA_NC_TEST_BASE_571901\": {\n",
      "        \"NbIotCell\": [\n",
      "          \"Commissioning##SubNetwork=Telstra,SubNetwork=QLD_METRO,MeContext=QLD_WNCU35_WOOLLOONGABBA_NC_TEST_BASE_571901,ManagedElement=QLD_WNCU35_WOOLLOONGABBA_NC_TEST_BASE_571901,vsDataENodeBFunction=1,vsDataNbIotCell=WNCUFI3\",\n",
      "          \"Commissioning##SubNetwork=Telstra,SubNetwork=QLD_METRO,MeContext=QLD_WNCU35_WOOLLOONGABBA_NC_TEST_BASE_571901,ManagedElement=QLD_WNCU35_WOOLLOONGABBA_NC_TEST_BASE_571901,vsDataENodeBFunction=1,vsDataNbIotCell=WNCUFI2\",\n",
      "          \"Commissioning##SubNetwork=Telstra,SubNetwork=QLD_METRO,MeContext=QLD_WNCU35_WOOLLOONGABBA_NC_TEST_BASE_571901,ManagedElement=QLD_WNCU35_WOOLLOONGABBA_NC_TEST_BASE_571901,vsDataENodeBFunction=1,vsDataNbIotCell=WNCUFI1\"\n",
      "        ]\n",
      "      }\n",
      "    },\n",
      "    \"Independent Utrancell\": {\n",
      "      \"Independent Utrancell\": {}\n",
      "    },\n",
      "    \"NodeB\": {}\n",
      "  },\n",
      "  \"trial_details\": [\n",
      "    {\n",
      "      \"contactperson\": \"Geethu Nair\",\n",
      "      \"endDate\": \"2020-11-09\",\n",
      "      \"nsdUpdatesAllowed\": \"BAU NSD Updates\",\n",
      "      \"startDate\": \"2019-11-08\",\n",
      "      \"status\": \"ACTIVE\",\n",
      "      \"technology\": \"LTE & WCDMA\",\n",
      "      \"trialName\": \"SON_Trial_Test\"\n",
      "    }\n",
      "  ],\n",
      "  \"trial_register\": {\n",
      "    \"ENodeB\": [\n",
      "      \"SON_Trial_Test##SubNetwork=Telstra,SubNetwork=LTE,MeContext=VIC_B3A015_BARRY_ST_MODEL_539923\",\n",
      "      \"SON_Trial_Test##SubNetwork=Telstra,SubNetwork=LTE,MeContext=VIC_XZ4015_BOX_HILL_533803\"\n",
      "    ],\n",
      "    \"Independent Utrancell\": [],\n",
      "    \"NodeB\": [\n",
      "      \"SON_Trial_Test##SubNetwork=Telstra_R,SubNetwork=NSW_NBTB,MeContext=NSW_TUSS_PARRAMATTA_350002301\"\n",
      "    ]\n",
      "  }\n",
      "}\n"
     ]
    }
   ],
   "source": [
    "# Pretty Printing JSON string back\n",
    "print(json.dumps(data, indent = 2, sort_keys=True))"
   ]
  },
  {
   "cell_type": "code",
   "execution_count": 14,
   "metadata": {},
   "outputs": [
    {
     "data": {
      "text/plain": [
       "{'EUtranCellFDD': ['Inactive##SubNetwork=Telstra,SubNetwork=BB5216,MeContext=VIC_XZ5315_BOX_HILL_539913,ManagedElement=VIC_XZ5315_BOX_HILL_539913,vsDataENodeBFunction=1,vsDataEUtranCellFDD=XZ53FM1',\n",
       "  'Inactive##SubNetwork=Telstra,SubNetwork=BB5216,MeContext=VIC_XZ5315_BOX_HILL_539913,ManagedElement=VIC_XZ5315_BOX_HILL_539913,vsDataENodeBFunction=1,vsDataEUtranCellFDD=XZ53EM1',\n",
       "  'Inactive##SubNetwork=Telstra,SubNetwork=BB5216,MeContext=VIC_XZ5315_BOX_HILL_539913,ManagedElement=VIC_XZ5315_BOX_HILL_539913,vsDataENodeBFunction=1,vsDataEUtranCellFDD=XZ53BM1',\n",
       "  'Inactive##SubNetwork=Telstra,SubNetwork=BB5216,MeContext=VIC_XZ5315_BOX_HILL_539913,ManagedElement=VIC_XZ5315_BOX_HILL_539913,vsDataENodeBFunction=1,vsDataEUtranCellFDD=XZ53AM1',\n",
       "  'Inactive##SubNetwork=Telstra,SubNetwork=BB5216,MeContext=VIC_XZ5315_BOX_HILL_539913,ManagedElement=VIC_XZ5315_BOX_HILL_539913,vsDataENodeBFunction=1,vsDataEUtranCellFDD=XZ53KM1']}"
      ]
     },
     "execution_count": 14,
     "metadata": {},
     "output_type": "execute_result"
    }
   ],
   "source": [
    "data[\"quoll_data\"][\"ENodeB\"][\"SubNetwork=Telstra,SubNetwork=BB5216,MeContext=VIC_XZ5315_BOX_HILL_539913\"]"
   ]
  },
  {
   "cell_type": "code",
   "execution_count": 17,
   "metadata": {},
   "outputs": [
    {
     "name": "stdout",
     "output_type": "stream",
     "text": [
      "                0                                                  1\n",
      "0      quoll_data  {'ENodeB': {'SubNetwork=Telstra,SubNetwork=BB5...\n",
      "1   trial_details  [{'contactperson': 'Geethu Nair', 'endDate': '...\n",
      "2  trial_register  {'ENodeB': ['SON_Trial_Test##SubNetwork=Telstr...\n"
     ]
    }
   ],
   "source": [
    "df = pd.DataFrame(list(data.items()))\n",
    "print(df.head(10))"
   ]
  },
  {
   "cell_type": "code",
   "execution_count": 21,
   "metadata": {
    "collapsed": true
   },
   "outputs": [
    {
     "data": {
      "text/plain": [
       "{'ENodeB': {'SubNetwork=Telstra,SubNetwork=BB5216,MeContext=VIC_XZ5315_BOX_HILL_539913': {'EUtranCellFDD': ['Inactive##SubNetwork=Telstra,SubNetwork=BB5216,MeContext=VIC_XZ5315_BOX_HILL_539913,ManagedElement=VIC_XZ5315_BOX_HILL_539913,vsDataENodeBFunction=1,vsDataEUtranCellFDD=XZ53FM1',\n",
       "    'Inactive##SubNetwork=Telstra,SubNetwork=BB5216,MeContext=VIC_XZ5315_BOX_HILL_539913,ManagedElement=VIC_XZ5315_BOX_HILL_539913,vsDataENodeBFunction=1,vsDataEUtranCellFDD=XZ53EM1',\n",
       "    'Inactive##SubNetwork=Telstra,SubNetwork=BB5216,MeContext=VIC_XZ5315_BOX_HILL_539913,ManagedElement=VIC_XZ5315_BOX_HILL_539913,vsDataENodeBFunction=1,vsDataEUtranCellFDD=XZ53BM1',\n",
       "    'Inactive##SubNetwork=Telstra,SubNetwork=BB5216,MeContext=VIC_XZ5315_BOX_HILL_539913,ManagedElement=VIC_XZ5315_BOX_HILL_539913,vsDataENodeBFunction=1,vsDataEUtranCellFDD=XZ53AM1',\n",
       "    'Inactive##SubNetwork=Telstra,SubNetwork=BB5216,MeContext=VIC_XZ5315_BOX_HILL_539913,ManagedElement=VIC_XZ5315_BOX_HILL_539913,vsDataENodeBFunction=1,vsDataEUtranCellFDD=XZ53KM1']},\n",
       "  'SubNetwork=Telstra,SubNetwork=LTE,MeContext=VIC_B3A015_BARRY_ST_MODEL_539923': {'EUtranCellFDD': ['Commissioning##SubNetwork=Telstra,SubNetwork=LTE,MeContext=VIC_B3A015_BARRY_ST_MODEL_539923,ManagedElement=1,vsDataENodeBFunction=1,vsDataEUtranCellFDD=B3A0ET1']},\n",
       "  'SubNetwork=Telstra,SubNetwork=LTE,MeContext=VIC_B3A215_BARRY_ST_MODEL_539941': {'EUtranCellFDD': ['Commissioning##SubNetwork=Telstra,SubNetwork=LTE,MeContext=VIC_B3A215_BARRY_ST_MODEL_539941,ManagedElement=1,vsDataENodeBFunction=1,vsDataEUtranCellFDD=B3A2ET1']},\n",
       "  'SubNetwork=Telstra,SubNetwork=LTE,MeContext=VIC_B3A315_BARRY_ST_MODEL_539942': {'EUtranCellFDD': ['Commissioning##SubNetwork=Telstra,SubNetwork=LTE,MeContext=VIC_B3A315_BARRY_ST_MODEL_539942,ManagedElement=1,vsDataENodeBFunction=1,vsDataEUtranCellFDD=B3A3ET1']},\n",
       "  'SubNetwork=Telstra,SubNetwork=LTE,MeContext=VIC_B3A415_BARRY_ST_MODEL_539943': {'EUtranCellFDD': ['Inactive##SubNetwork=Telstra,SubNetwork=LTE,MeContext=VIC_B3A415_BARRY_ST_MODEL_539943,ManagedElement=1,vsDataENodeBFunction=1,vsDataEUtranCellFDD=B3A4ET1']},\n",
       "  'SubNetwork=Telstra,SubNetwork=LTE,MeContext=VIC_C4B315_35_COLLINS_ST_TEST_ENODEB_3_539954': {'EUtranCellFDD': ['Commissioning##SubNetwork=Telstra,SubNetwork=LTE,MeContext=VIC_C4B315_35_COLLINS_ST_TEST_ENODEB_3_539954,ManagedElement=1,vsDataENodeBFunction=1,vsDataEUtranCellFDD=C4B3AT1',\n",
       "    'Commissioning##SubNetwork=Telstra,SubNetwork=LTE,MeContext=VIC_C4B315_35_COLLINS_ST_TEST_ENODEB_3_539954,ManagedElement=1,vsDataENodeBFunction=1,vsDataEUtranCellFDD=C4B3FT1',\n",
       "    'Commissioning##SubNetwork=Telstra,SubNetwork=LTE,MeContext=VIC_C4B315_35_COLLINS_ST_TEST_ENODEB_3_539954,ManagedElement=1,vsDataENodeBFunction=1,vsDataEUtranCellFDD=C4B3ET1'],\n",
       "   'NbIotCell': ['Commissioning##SubNetwork=Telstra,SubNetwork=LTE,MeContext=VIC_C4B315_35_COLLINS_ST_TEST_ENODEB_3_539954,ManagedElement=1,vsDataENodeBFunction=1,vsDataNbIotCell=C4B3FI1']},\n",
       "  'SubNetwork=Telstra,SubNetwork=LTE,MeContext=VIC_XZ5015_BOX_HILL_LAB_539910': {'EUtranCellFDD': ['Commissioning##SubNetwork=Telstra,SubNetwork=LTE,MeContext=VIC_XZ5015_BOX_HILL_LAB_539910,ManagedElement=1,vsDataENodeBFunction=1,vsDataEUtranCellFDD=XZ50ET2',\n",
       "    'Commissioning##SubNetwork=Telstra,SubNetwork=LTE,MeContext=VIC_XZ5015_BOX_HILL_LAB_539910,ManagedElement=1,vsDataENodeBFunction=1,vsDataEUtranCellFDD=XZ50ET1']},\n",
       "  'SubNetwork=Telstra,SubNetwork=NSW_Parramatta,MeContext=NSW_S4B215_Parramatta_529912': {'EUtranCellFDD': ['Removed##SubNetwork=Telstra,SubNetwork=NSW_Parramatta,MeContext=NSW_S4B215_Parramatta_529912,ManagedElement=NSW_S4B215_Parramatta_529912,vsDataENodeBFunction=1,vsDataEUtranCellFDD=S4B2ET1']},\n",
       "  'SubNetwork=Telstra,SubNetwork=NSW_Parramatta_Stable,MeContext=NSW_S4B015_Parramatta_529910': {'EUtranCellFDD': ['Commissioning##SubNetwork=Telstra,SubNetwork=NSW_Parramatta_Stable,MeContext=NSW_S4B015_Parramatta_529910,ManagedElement=NSW_S4B015_Parramatta_529910,vsDataENodeBFunction=1,vsDataEUtranCellFDD=S4B0ET1']},\n",
       "  'SubNetwork=Telstra,SubNetwork=NSW_Parramatta_Stable,MeContext=NSW_S4B115_Parramatta_529911': {'EUtranCellFDD': ['Commissioning##SubNetwork=Telstra,SubNetwork=NSW_Parramatta_Stable,MeContext=NSW_S4B115_Parramatta_529911,ManagedElement=1,vsDataENodeBFunction=1,vsDataEUtranCellFDD=S4B1ET1']},\n",
       "  'SubNetwork=Telstra,SubNetwork=NSW_Parramatta_Stable,MeContext=NSW_S4B515_Parramatta_529915': {'EUtranCellFDD': ['Commissioning##SubNetwork=Telstra,SubNetwork=NSW_Parramatta_Stable,MeContext=NSW_S4B515_Parramatta_529915,ManagedElement=1,vsDataENodeBFunction=1,vsDataEUtranCellFDD=S4B53',\n",
       "    'Commissioning##SubNetwork=Telstra,SubNetwork=NSW_Parramatta_Stable,MeContext=NSW_S4B515_Parramatta_529915,ManagedElement=1,vsDataENodeBFunction=1,vsDataEUtranCellFDD=S4B51',\n",
       "    'Commissioning##SubNetwork=Telstra,SubNetwork=NSW_Parramatta_Stable,MeContext=NSW_S4B515_Parramatta_529915,ManagedElement=1,vsDataENodeBFunction=1,vsDataEUtranCellFDD=S4B52']},\n",
       "  'SubNetwork=Telstra,SubNetwork=NSW_Parramatta_Stable,MeContext=NSW_S4B715_Parramatta_529917': {'EUtranCellFDD': ['Commissioning##SubNetwork=Telstra,SubNetwork=NSW_Parramatta_Stable,MeContext=NSW_S4B715_Parramatta_529917,ManagedElement=1,vsDataENodeBFunction=1,vsDataEUtranCellFDD=S4B72',\n",
       "    'Commissioning##SubNetwork=Telstra,SubNetwork=NSW_Parramatta_Stable,MeContext=NSW_S4B715_Parramatta_529917,ManagedElement=1,vsDataENodeBFunction=1,vsDataEUtranCellFDD=S4B71',\n",
       "    'Commissioning##SubNetwork=Telstra,SubNetwork=NSW_Parramatta_Stable,MeContext=NSW_S4B715_Parramatta_529917,ManagedElement=1,vsDataENodeBFunction=1,vsDataEUtranCellFDD=S4B73']},\n",
       "  'SubNetwork=Telstra,SubNetwork=NSW_Parramatta_Stable,MeContext=NSW_SYIH15_400_GEORGE_ST_TEST_MODEL_525099': {'EUtranCellFDD': ['Removed##SubNetwork=Telstra,SubNetwork=NSW_Parramatta_Stable,MeContext=NSW_SYIH15_400_GEORGE_ST_TEST_MODEL_525099,ManagedElement=NSW_SYIH15_400_GEORGE_ST_TEST_MODEL_525099,vsDataENodeBFunction=1,vsDataEUtranCellFDD=SYIHEBA']},\n",
       "  'SubNetwork=Telstra,SubNetwork=QLD_METRO,MeContext=QLD_WNCU35_WOOLLOONGABBA_NC_TEST_BASE_571901': {'NbIotCell': ['Commissioning##SubNetwork=Telstra,SubNetwork=QLD_METRO,MeContext=QLD_WNCU35_WOOLLOONGABBA_NC_TEST_BASE_571901,ManagedElement=QLD_WNCU35_WOOLLOONGABBA_NC_TEST_BASE_571901,vsDataENodeBFunction=1,vsDataNbIotCell=WNCUFI3',\n",
       "    'Commissioning##SubNetwork=Telstra,SubNetwork=QLD_METRO,MeContext=QLD_WNCU35_WOOLLOONGABBA_NC_TEST_BASE_571901,ManagedElement=QLD_WNCU35_WOOLLOONGABBA_NC_TEST_BASE_571901,vsDataENodeBFunction=1,vsDataNbIotCell=WNCUFI2',\n",
       "    'Commissioning##SubNetwork=Telstra,SubNetwork=QLD_METRO,MeContext=QLD_WNCU35_WOOLLOONGABBA_NC_TEST_BASE_571901,ManagedElement=QLD_WNCU35_WOOLLOONGABBA_NC_TEST_BASE_571901,vsDataENodeBFunction=1,vsDataNbIotCell=WNCUFI1']}},\n",
       " 'Independent Utrancell': {'Independent Utrancell': {}},\n",
       " 'NodeB': {}}"
      ]
     },
     "execution_count": 21,
     "metadata": {},
     "output_type": "execute_result"
    }
   ],
   "source": [
    "df[1][0]"
   ]
  },
  {
   "cell_type": "code",
   "execution_count": 22,
   "metadata": {},
   "outputs": [
    {
     "data": {
      "text/html": [
       "<div>\n",
       "<style scoped>\n",
       "    .dataframe tbody tr th:only-of-type {\n",
       "        vertical-align: middle;\n",
       "    }\n",
       "\n",
       "    .dataframe tbody tr th {\n",
       "        vertical-align: top;\n",
       "    }\n",
       "\n",
       "    .dataframe thead th {\n",
       "        text-align: right;\n",
       "    }\n",
       "</style>\n",
       "<table border=\"1\" class=\"dataframe\">\n",
       "  <thead>\n",
       "    <tr style=\"text-align: right;\">\n",
       "      <th></th>\n",
       "      <th>ENodeB</th>\n",
       "      <th>Independent Utrancell</th>\n",
       "      <th>NodeB</th>\n",
       "    </tr>\n",
       "  </thead>\n",
       "  <tbody>\n",
       "    <tr>\n",
       "      <th>SubNetwork=Telstra,SubNetwork=BB5216,MeContext=VIC_XZ5315_BOX_HILL_539913</th>\n",
       "      <td>{'EUtranCellFDD': ['Inactive##SubNetwork=Telst...</td>\n",
       "      <td>NaN</td>\n",
       "      <td>NaN</td>\n",
       "    </tr>\n",
       "    <tr>\n",
       "      <th>SubNetwork=Telstra,SubNetwork=LTE,MeContext=VIC_B3A015_BARRY_ST_MODEL_539923</th>\n",
       "      <td>{'EUtranCellFDD': ['Commissioning##SubNetwork=...</td>\n",
       "      <td>NaN</td>\n",
       "      <td>NaN</td>\n",
       "    </tr>\n",
       "    <tr>\n",
       "      <th>SubNetwork=Telstra,SubNetwork=LTE,MeContext=VIC_B3A215_BARRY_ST_MODEL_539941</th>\n",
       "      <td>{'EUtranCellFDD': ['Commissioning##SubNetwork=...</td>\n",
       "      <td>NaN</td>\n",
       "      <td>NaN</td>\n",
       "    </tr>\n",
       "    <tr>\n",
       "      <th>SubNetwork=Telstra,SubNetwork=LTE,MeContext=VIC_B3A315_BARRY_ST_MODEL_539942</th>\n",
       "      <td>{'EUtranCellFDD': ['Commissioning##SubNetwork=...</td>\n",
       "      <td>NaN</td>\n",
       "      <td>NaN</td>\n",
       "    </tr>\n",
       "    <tr>\n",
       "      <th>SubNetwork=Telstra,SubNetwork=LTE,MeContext=VIC_B3A415_BARRY_ST_MODEL_539943</th>\n",
       "      <td>{'EUtranCellFDD': ['Inactive##SubNetwork=Telst...</td>\n",
       "      <td>NaN</td>\n",
       "      <td>NaN</td>\n",
       "    </tr>\n",
       "  </tbody>\n",
       "</table>\n",
       "</div>"
      ],
      "text/plain": [
       "                                                                                               ENodeB  \\\n",
       "SubNetwork=Telstra,SubNetwork=BB5216,MeContext=...  {'EUtranCellFDD': ['Inactive##SubNetwork=Telst...   \n",
       "SubNetwork=Telstra,SubNetwork=LTE,MeContext=VIC...  {'EUtranCellFDD': ['Commissioning##SubNetwork=...   \n",
       "SubNetwork=Telstra,SubNetwork=LTE,MeContext=VIC...  {'EUtranCellFDD': ['Commissioning##SubNetwork=...   \n",
       "SubNetwork=Telstra,SubNetwork=LTE,MeContext=VIC...  {'EUtranCellFDD': ['Commissioning##SubNetwork=...   \n",
       "SubNetwork=Telstra,SubNetwork=LTE,MeContext=VIC...  {'EUtranCellFDD': ['Inactive##SubNetwork=Telst...   \n",
       "\n",
       "                                                   Independent Utrancell  \\\n",
       "SubNetwork=Telstra,SubNetwork=BB5216,MeContext=...                   NaN   \n",
       "SubNetwork=Telstra,SubNetwork=LTE,MeContext=VIC...                   NaN   \n",
       "SubNetwork=Telstra,SubNetwork=LTE,MeContext=VIC...                   NaN   \n",
       "SubNetwork=Telstra,SubNetwork=LTE,MeContext=VIC...                   NaN   \n",
       "SubNetwork=Telstra,SubNetwork=LTE,MeContext=VIC...                   NaN   \n",
       "\n",
       "                                                    NodeB  \n",
       "SubNetwork=Telstra,SubNetwork=BB5216,MeContext=...    NaN  \n",
       "SubNetwork=Telstra,SubNetwork=LTE,MeContext=VIC...    NaN  \n",
       "SubNetwork=Telstra,SubNetwork=LTE,MeContext=VIC...    NaN  \n",
       "SubNetwork=Telstra,SubNetwork=LTE,MeContext=VIC...    NaN  \n",
       "SubNetwork=Telstra,SubNetwork=LTE,MeContext=VIC...    NaN  "
      ]
     },
     "execution_count": 22,
     "metadata": {},
     "output_type": "execute_result"
    }
   ],
   "source": [
    "df1 = pd.DataFrame(df[1][0])\n",
    "df1.head()"
   ]
  },
  {
   "cell_type": "code",
   "execution_count": 24,
   "metadata": {},
   "outputs": [
    {
     "data": {
      "text/html": [
       "<div>\n",
       "<style scoped>\n",
       "    .dataframe tbody tr th:only-of-type {\n",
       "        vertical-align: middle;\n",
       "    }\n",
       "\n",
       "    .dataframe tbody tr th {\n",
       "        vertical-align: top;\n",
       "    }\n",
       "\n",
       "    .dataframe thead th {\n",
       "        text-align: right;\n",
       "    }\n",
       "</style>\n",
       "<table border=\"1\" class=\"dataframe\">\n",
       "  <thead>\n",
       "    <tr style=\"text-align: right;\">\n",
       "      <th></th>\n",
       "      <th>ENodeB</th>\n",
       "      <th>Independent Utrancell</th>\n",
       "      <th>NodeB</th>\n",
       "    </tr>\n",
       "  </thead>\n",
       "  <tbody>\n",
       "    <tr>\n",
       "      <th>SubNetwork=Telstra,SubNetwork=BB5216,MeContext=VIC_XZ5315_BOX_HILL_539913</th>\n",
       "      <td>{'EUtranCellFDD': ['Inactive##SubNetwork=Telst...</td>\n",
       "      <td>NaN</td>\n",
       "      <td>NaN</td>\n",
       "    </tr>\n",
       "    <tr>\n",
       "      <th>SubNetwork=Telstra,SubNetwork=LTE,MeContext=VIC_B3A015_BARRY_ST_MODEL_539923</th>\n",
       "      <td>{'EUtranCellFDD': ['Commissioning##SubNetwork=...</td>\n",
       "      <td>NaN</td>\n",
       "      <td>NaN</td>\n",
       "    </tr>\n",
       "    <tr>\n",
       "      <th>SubNetwork=Telstra,SubNetwork=LTE,MeContext=VIC_B3A215_BARRY_ST_MODEL_539941</th>\n",
       "      <td>{'EUtranCellFDD': ['Commissioning##SubNetwork=...</td>\n",
       "      <td>NaN</td>\n",
       "      <td>NaN</td>\n",
       "    </tr>\n",
       "    <tr>\n",
       "      <th>SubNetwork=Telstra,SubNetwork=LTE,MeContext=VIC_B3A315_BARRY_ST_MODEL_539942</th>\n",
       "      <td>{'EUtranCellFDD': ['Commissioning##SubNetwork=...</td>\n",
       "      <td>NaN</td>\n",
       "      <td>NaN</td>\n",
       "    </tr>\n",
       "    <tr>\n",
       "      <th>SubNetwork=Telstra,SubNetwork=LTE,MeContext=VIC_B3A415_BARRY_ST_MODEL_539943</th>\n",
       "      <td>{'EUtranCellFDD': ['Inactive##SubNetwork=Telst...</td>\n",
       "      <td>NaN</td>\n",
       "      <td>NaN</td>\n",
       "    </tr>\n",
       "    <tr>\n",
       "      <th>SubNetwork=Telstra,SubNetwork=LTE,MeContext=VIC_C4B315_35_COLLINS_ST_TEST_ENODEB_3_539954</th>\n",
       "      <td>{'EUtranCellFDD': ['Commissioning##SubNetwork=...</td>\n",
       "      <td>NaN</td>\n",
       "      <td>NaN</td>\n",
       "    </tr>\n",
       "    <tr>\n",
       "      <th>SubNetwork=Telstra,SubNetwork=LTE,MeContext=VIC_XZ5015_BOX_HILL_LAB_539910</th>\n",
       "      <td>{'EUtranCellFDD': ['Commissioning##SubNetwork=...</td>\n",
       "      <td>NaN</td>\n",
       "      <td>NaN</td>\n",
       "    </tr>\n",
       "    <tr>\n",
       "      <th>SubNetwork=Telstra,SubNetwork=NSW_Parramatta,MeContext=NSW_S4B215_Parramatta_529912</th>\n",
       "      <td>{'EUtranCellFDD': ['Removed##SubNetwork=Telstr...</td>\n",
       "      <td>NaN</td>\n",
       "      <td>NaN</td>\n",
       "    </tr>\n",
       "    <tr>\n",
       "      <th>SubNetwork=Telstra,SubNetwork=NSW_Parramatta_Stable,MeContext=NSW_S4B015_Parramatta_529910</th>\n",
       "      <td>{'EUtranCellFDD': ['Commissioning##SubNetwork=...</td>\n",
       "      <td>NaN</td>\n",
       "      <td>NaN</td>\n",
       "    </tr>\n",
       "    <tr>\n",
       "      <th>SubNetwork=Telstra,SubNetwork=NSW_Parramatta_Stable,MeContext=NSW_S4B115_Parramatta_529911</th>\n",
       "      <td>{'EUtranCellFDD': ['Commissioning##SubNetwork=...</td>\n",
       "      <td>NaN</td>\n",
       "      <td>NaN</td>\n",
       "    </tr>\n",
       "    <tr>\n",
       "      <th>SubNetwork=Telstra,SubNetwork=NSW_Parramatta_Stable,MeContext=NSW_S4B515_Parramatta_529915</th>\n",
       "      <td>{'EUtranCellFDD': ['Commissioning##SubNetwork=...</td>\n",
       "      <td>NaN</td>\n",
       "      <td>NaN</td>\n",
       "    </tr>\n",
       "    <tr>\n",
       "      <th>SubNetwork=Telstra,SubNetwork=NSW_Parramatta_Stable,MeContext=NSW_S4B715_Parramatta_529917</th>\n",
       "      <td>{'EUtranCellFDD': ['Commissioning##SubNetwork=...</td>\n",
       "      <td>NaN</td>\n",
       "      <td>NaN</td>\n",
       "    </tr>\n",
       "    <tr>\n",
       "      <th>SubNetwork=Telstra,SubNetwork=NSW_Parramatta_Stable,MeContext=NSW_SYIH15_400_GEORGE_ST_TEST_MODEL_525099</th>\n",
       "      <td>{'EUtranCellFDD': ['Removed##SubNetwork=Telstr...</td>\n",
       "      <td>NaN</td>\n",
       "      <td>NaN</td>\n",
       "    </tr>\n",
       "    <tr>\n",
       "      <th>SubNetwork=Telstra,SubNetwork=QLD_METRO,MeContext=QLD_WNCU35_WOOLLOONGABBA_NC_TEST_BASE_571901</th>\n",
       "      <td>{'NbIotCell': ['Commissioning##SubNetwork=Tels...</td>\n",
       "      <td>NaN</td>\n",
       "      <td>NaN</td>\n",
       "    </tr>\n",
       "    <tr>\n",
       "      <th>Independent Utrancell</th>\n",
       "      <td>NaN</td>\n",
       "      <td>{}</td>\n",
       "      <td>NaN</td>\n",
       "    </tr>\n",
       "  </tbody>\n",
       "</table>\n",
       "</div>"
      ],
      "text/plain": [
       "                                                                                               ENodeB  \\\n",
       "SubNetwork=Telstra,SubNetwork=BB5216,MeContext=...  {'EUtranCellFDD': ['Inactive##SubNetwork=Telst...   \n",
       "SubNetwork=Telstra,SubNetwork=LTE,MeContext=VIC...  {'EUtranCellFDD': ['Commissioning##SubNetwork=...   \n",
       "SubNetwork=Telstra,SubNetwork=LTE,MeContext=VIC...  {'EUtranCellFDD': ['Commissioning##SubNetwork=...   \n",
       "SubNetwork=Telstra,SubNetwork=LTE,MeContext=VIC...  {'EUtranCellFDD': ['Commissioning##SubNetwork=...   \n",
       "SubNetwork=Telstra,SubNetwork=LTE,MeContext=VIC...  {'EUtranCellFDD': ['Inactive##SubNetwork=Telst...   \n",
       "SubNetwork=Telstra,SubNetwork=LTE,MeContext=VIC...  {'EUtranCellFDD': ['Commissioning##SubNetwork=...   \n",
       "SubNetwork=Telstra,SubNetwork=LTE,MeContext=VIC...  {'EUtranCellFDD': ['Commissioning##SubNetwork=...   \n",
       "SubNetwork=Telstra,SubNetwork=NSW_Parramatta,Me...  {'EUtranCellFDD': ['Removed##SubNetwork=Telstr...   \n",
       "SubNetwork=Telstra,SubNetwork=NSW_Parramatta_St...  {'EUtranCellFDD': ['Commissioning##SubNetwork=...   \n",
       "SubNetwork=Telstra,SubNetwork=NSW_Parramatta_St...  {'EUtranCellFDD': ['Commissioning##SubNetwork=...   \n",
       "SubNetwork=Telstra,SubNetwork=NSW_Parramatta_St...  {'EUtranCellFDD': ['Commissioning##SubNetwork=...   \n",
       "SubNetwork=Telstra,SubNetwork=NSW_Parramatta_St...  {'EUtranCellFDD': ['Commissioning##SubNetwork=...   \n",
       "SubNetwork=Telstra,SubNetwork=NSW_Parramatta_St...  {'EUtranCellFDD': ['Removed##SubNetwork=Telstr...   \n",
       "SubNetwork=Telstra,SubNetwork=QLD_METRO,MeConte...  {'NbIotCell': ['Commissioning##SubNetwork=Tels...   \n",
       "Independent Utrancell                                                                             NaN   \n",
       "\n",
       "                                                   Independent Utrancell  \\\n",
       "SubNetwork=Telstra,SubNetwork=BB5216,MeContext=...                   NaN   \n",
       "SubNetwork=Telstra,SubNetwork=LTE,MeContext=VIC...                   NaN   \n",
       "SubNetwork=Telstra,SubNetwork=LTE,MeContext=VIC...                   NaN   \n",
       "SubNetwork=Telstra,SubNetwork=LTE,MeContext=VIC...                   NaN   \n",
       "SubNetwork=Telstra,SubNetwork=LTE,MeContext=VIC...                   NaN   \n",
       "SubNetwork=Telstra,SubNetwork=LTE,MeContext=VIC...                   NaN   \n",
       "SubNetwork=Telstra,SubNetwork=LTE,MeContext=VIC...                   NaN   \n",
       "SubNetwork=Telstra,SubNetwork=NSW_Parramatta,Me...                   NaN   \n",
       "SubNetwork=Telstra,SubNetwork=NSW_Parramatta_St...                   NaN   \n",
       "SubNetwork=Telstra,SubNetwork=NSW_Parramatta_St...                   NaN   \n",
       "SubNetwork=Telstra,SubNetwork=NSW_Parramatta_St...                   NaN   \n",
       "SubNetwork=Telstra,SubNetwork=NSW_Parramatta_St...                   NaN   \n",
       "SubNetwork=Telstra,SubNetwork=NSW_Parramatta_St...                   NaN   \n",
       "SubNetwork=Telstra,SubNetwork=QLD_METRO,MeConte...                   NaN   \n",
       "Independent Utrancell                                                 {}   \n",
       "\n",
       "                                                    NodeB  \n",
       "SubNetwork=Telstra,SubNetwork=BB5216,MeContext=...    NaN  \n",
       "SubNetwork=Telstra,SubNetwork=LTE,MeContext=VIC...    NaN  \n",
       "SubNetwork=Telstra,SubNetwork=LTE,MeContext=VIC...    NaN  \n",
       "SubNetwork=Telstra,SubNetwork=LTE,MeContext=VIC...    NaN  \n",
       "SubNetwork=Telstra,SubNetwork=LTE,MeContext=VIC...    NaN  \n",
       "SubNetwork=Telstra,SubNetwork=LTE,MeContext=VIC...    NaN  \n",
       "SubNetwork=Telstra,SubNetwork=LTE,MeContext=VIC...    NaN  \n",
       "SubNetwork=Telstra,SubNetwork=NSW_Parramatta,Me...    NaN  \n",
       "SubNetwork=Telstra,SubNetwork=NSW_Parramatta_St...    NaN  \n",
       "SubNetwork=Telstra,SubNetwork=NSW_Parramatta_St...    NaN  \n",
       "SubNetwork=Telstra,SubNetwork=NSW_Parramatta_St...    NaN  \n",
       "SubNetwork=Telstra,SubNetwork=NSW_Parramatta_St...    NaN  \n",
       "SubNetwork=Telstra,SubNetwork=NSW_Parramatta_St...    NaN  \n",
       "SubNetwork=Telstra,SubNetwork=QLD_METRO,MeConte...    NaN  \n",
       "Independent Utrancell                                 NaN  "
      ]
     },
     "execution_count": 24,
     "metadata": {},
     "output_type": "execute_result"
    }
   ],
   "source": [
    "df1"
   ]
  },
  {
   "cell_type": "code",
   "execution_count": 27,
   "metadata": {},
   "outputs": [
    {
     "data": {
      "text/plain": [
       "15"
      ]
     },
     "execution_count": 27,
     "metadata": {},
     "output_type": "execute_result"
    }
   ],
   "source": [
    "len(df1['ENodeB'])"
   ]
  },
  {
   "cell_type": "code",
   "execution_count": 28,
   "metadata": {},
   "outputs": [
    {
     "data": {
      "text/plain": [
       "SubNetwork=Telstra,SubNetwork=BB5216,MeContext=VIC_XZ5315_BOX_HILL_539913                                   {'EUtranCellFDD': ['Inactive##SubNetwork=Telst...\n",
       "SubNetwork=Telstra,SubNetwork=LTE,MeContext=VIC_B3A015_BARRY_ST_MODEL_539923                                {'EUtranCellFDD': ['Commissioning##SubNetwork=...\n",
       "SubNetwork=Telstra,SubNetwork=LTE,MeContext=VIC_B3A215_BARRY_ST_MODEL_539941                                {'EUtranCellFDD': ['Commissioning##SubNetwork=...\n",
       "SubNetwork=Telstra,SubNetwork=LTE,MeContext=VIC_B3A315_BARRY_ST_MODEL_539942                                {'EUtranCellFDD': ['Commissioning##SubNetwork=...\n",
       "SubNetwork=Telstra,SubNetwork=LTE,MeContext=VIC_B3A415_BARRY_ST_MODEL_539943                                {'EUtranCellFDD': ['Inactive##SubNetwork=Telst...\n",
       "SubNetwork=Telstra,SubNetwork=LTE,MeContext=VIC_C4B315_35_COLLINS_ST_TEST_ENODEB_3_539954                   {'EUtranCellFDD': ['Commissioning##SubNetwork=...\n",
       "SubNetwork=Telstra,SubNetwork=LTE,MeContext=VIC_XZ5015_BOX_HILL_LAB_539910                                  {'EUtranCellFDD': ['Commissioning##SubNetwork=...\n",
       "SubNetwork=Telstra,SubNetwork=NSW_Parramatta,MeContext=NSW_S4B215_Parramatta_529912                         {'EUtranCellFDD': ['Removed##SubNetwork=Telstr...\n",
       "SubNetwork=Telstra,SubNetwork=NSW_Parramatta_Stable,MeContext=NSW_S4B015_Parramatta_529910                  {'EUtranCellFDD': ['Commissioning##SubNetwork=...\n",
       "SubNetwork=Telstra,SubNetwork=NSW_Parramatta_Stable,MeContext=NSW_S4B115_Parramatta_529911                  {'EUtranCellFDD': ['Commissioning##SubNetwork=...\n",
       "SubNetwork=Telstra,SubNetwork=NSW_Parramatta_Stable,MeContext=NSW_S4B515_Parramatta_529915                  {'EUtranCellFDD': ['Commissioning##SubNetwork=...\n",
       "SubNetwork=Telstra,SubNetwork=NSW_Parramatta_Stable,MeContext=NSW_S4B715_Parramatta_529917                  {'EUtranCellFDD': ['Commissioning##SubNetwork=...\n",
       "SubNetwork=Telstra,SubNetwork=NSW_Parramatta_Stable,MeContext=NSW_SYIH15_400_GEORGE_ST_TEST_MODEL_525099    {'EUtranCellFDD': ['Removed##SubNetwork=Telstr...\n",
       "SubNetwork=Telstra,SubNetwork=QLD_METRO,MeContext=QLD_WNCU35_WOOLLOONGABBA_NC_TEST_BASE_571901              {'NbIotCell': ['Commissioning##SubNetwork=Tels...\n",
       "Independent Utrancell                                                                                                                                     NaN\n",
       "Name: ENodeB, dtype: object"
      ]
     },
     "execution_count": 28,
     "metadata": {},
     "output_type": "execute_result"
    }
   ],
   "source": [
    "df1['ENodeB']"
   ]
  },
  {
   "cell_type": "code",
   "execution_count": 30,
   "metadata": {},
   "outputs": [
    {
     "name": "stdout",
     "output_type": "stream",
     "text": [
      "Value of 0 row is : {'EUtranCellFDD': ['Inactive##SubNetwork=Telstra,SubNetwork=BB5216,MeContext=VIC_XZ5315_BOX_HILL_539913,ManagedElement=VIC_XZ5315_BOX_HILL_539913,vsDataENodeBFunction=1,vsDataEUtranCellFDD=XZ53FM1', 'Inactive##SubNetwork=Telstra,SubNetwork=BB5216,MeContext=VIC_XZ5315_BOX_HILL_539913,ManagedElement=VIC_XZ5315_BOX_HILL_539913,vsDataENodeBFunction=1,vsDataEUtranCellFDD=XZ53EM1', 'Inactive##SubNetwork=Telstra,SubNetwork=BB5216,MeContext=VIC_XZ5315_BOX_HILL_539913,ManagedElement=VIC_XZ5315_BOX_HILL_539913,vsDataENodeBFunction=1,vsDataEUtranCellFDD=XZ53BM1', 'Inactive##SubNetwork=Telstra,SubNetwork=BB5216,MeContext=VIC_XZ5315_BOX_HILL_539913,ManagedElement=VIC_XZ5315_BOX_HILL_539913,vsDataENodeBFunction=1,vsDataEUtranCellFDD=XZ53AM1', 'Inactive##SubNetwork=Telstra,SubNetwork=BB5216,MeContext=VIC_XZ5315_BOX_HILL_539913,ManagedElement=VIC_XZ5315_BOX_HILL_539913,vsDataENodeBFunction=1,vsDataEUtranCellFDD=XZ53KM1']}\n",
      "\n",
      "\n",
      "\n",
      "Value of 1 row is : {'EUtranCellFDD': ['Commissioning##SubNetwork=Telstra,SubNetwork=LTE,MeContext=VIC_B3A015_BARRY_ST_MODEL_539923,ManagedElement=1,vsDataENodeBFunction=1,vsDataEUtranCellFDD=B3A0ET1']}\n",
      "\n",
      "\n",
      "\n",
      "Value of 2 row is : {'EUtranCellFDD': ['Commissioning##SubNetwork=Telstra,SubNetwork=LTE,MeContext=VIC_B3A215_BARRY_ST_MODEL_539941,ManagedElement=1,vsDataENodeBFunction=1,vsDataEUtranCellFDD=B3A2ET1']}\n",
      "\n",
      "\n",
      "\n",
      "Value of 3 row is : {'EUtranCellFDD': ['Commissioning##SubNetwork=Telstra,SubNetwork=LTE,MeContext=VIC_B3A315_BARRY_ST_MODEL_539942,ManagedElement=1,vsDataENodeBFunction=1,vsDataEUtranCellFDD=B3A3ET1']}\n",
      "\n",
      "\n",
      "\n",
      "Value of 4 row is : {'EUtranCellFDD': ['Inactive##SubNetwork=Telstra,SubNetwork=LTE,MeContext=VIC_B3A415_BARRY_ST_MODEL_539943,ManagedElement=1,vsDataENodeBFunction=1,vsDataEUtranCellFDD=B3A4ET1']}\n",
      "\n",
      "\n",
      "\n",
      "Value of 5 row is : {'EUtranCellFDD': ['Commissioning##SubNetwork=Telstra,SubNetwork=LTE,MeContext=VIC_C4B315_35_COLLINS_ST_TEST_ENODEB_3_539954,ManagedElement=1,vsDataENodeBFunction=1,vsDataEUtranCellFDD=C4B3AT1', 'Commissioning##SubNetwork=Telstra,SubNetwork=LTE,MeContext=VIC_C4B315_35_COLLINS_ST_TEST_ENODEB_3_539954,ManagedElement=1,vsDataENodeBFunction=1,vsDataEUtranCellFDD=C4B3FT1', 'Commissioning##SubNetwork=Telstra,SubNetwork=LTE,MeContext=VIC_C4B315_35_COLLINS_ST_TEST_ENODEB_3_539954,ManagedElement=1,vsDataENodeBFunction=1,vsDataEUtranCellFDD=C4B3ET1'], 'NbIotCell': ['Commissioning##SubNetwork=Telstra,SubNetwork=LTE,MeContext=VIC_C4B315_35_COLLINS_ST_TEST_ENODEB_3_539954,ManagedElement=1,vsDataENodeBFunction=1,vsDataNbIotCell=C4B3FI1']}\n",
      "\n",
      "\n",
      "\n",
      "Value of 6 row is : {'EUtranCellFDD': ['Commissioning##SubNetwork=Telstra,SubNetwork=LTE,MeContext=VIC_XZ5015_BOX_HILL_LAB_539910,ManagedElement=1,vsDataENodeBFunction=1,vsDataEUtranCellFDD=XZ50ET2', 'Commissioning##SubNetwork=Telstra,SubNetwork=LTE,MeContext=VIC_XZ5015_BOX_HILL_LAB_539910,ManagedElement=1,vsDataENodeBFunction=1,vsDataEUtranCellFDD=XZ50ET1']}\n",
      "\n",
      "\n",
      "\n",
      "Value of 7 row is : {'EUtranCellFDD': ['Removed##SubNetwork=Telstra,SubNetwork=NSW_Parramatta,MeContext=NSW_S4B215_Parramatta_529912,ManagedElement=NSW_S4B215_Parramatta_529912,vsDataENodeBFunction=1,vsDataEUtranCellFDD=S4B2ET1']}\n",
      "\n",
      "\n",
      "\n",
      "Value of 8 row is : {'EUtranCellFDD': ['Commissioning##SubNetwork=Telstra,SubNetwork=NSW_Parramatta_Stable,MeContext=NSW_S4B015_Parramatta_529910,ManagedElement=NSW_S4B015_Parramatta_529910,vsDataENodeBFunction=1,vsDataEUtranCellFDD=S4B0ET1']}\n",
      "\n",
      "\n",
      "\n",
      "Value of 9 row is : {'EUtranCellFDD': ['Commissioning##SubNetwork=Telstra,SubNetwork=NSW_Parramatta_Stable,MeContext=NSW_S4B115_Parramatta_529911,ManagedElement=1,vsDataENodeBFunction=1,vsDataEUtranCellFDD=S4B1ET1']}\n",
      "\n",
      "\n",
      "\n",
      "Value of 10 row is : {'EUtranCellFDD': ['Commissioning##SubNetwork=Telstra,SubNetwork=NSW_Parramatta_Stable,MeContext=NSW_S4B515_Parramatta_529915,ManagedElement=1,vsDataENodeBFunction=1,vsDataEUtranCellFDD=S4B53', 'Commissioning##SubNetwork=Telstra,SubNetwork=NSW_Parramatta_Stable,MeContext=NSW_S4B515_Parramatta_529915,ManagedElement=1,vsDataENodeBFunction=1,vsDataEUtranCellFDD=S4B51', 'Commissioning##SubNetwork=Telstra,SubNetwork=NSW_Parramatta_Stable,MeContext=NSW_S4B515_Parramatta_529915,ManagedElement=1,vsDataENodeBFunction=1,vsDataEUtranCellFDD=S4B52']}\n",
      "\n",
      "\n",
      "\n",
      "Value of 11 row is : {'EUtranCellFDD': ['Commissioning##SubNetwork=Telstra,SubNetwork=NSW_Parramatta_Stable,MeContext=NSW_S4B715_Parramatta_529917,ManagedElement=1,vsDataENodeBFunction=1,vsDataEUtranCellFDD=S4B72', 'Commissioning##SubNetwork=Telstra,SubNetwork=NSW_Parramatta_Stable,MeContext=NSW_S4B715_Parramatta_529917,ManagedElement=1,vsDataENodeBFunction=1,vsDataEUtranCellFDD=S4B71', 'Commissioning##SubNetwork=Telstra,SubNetwork=NSW_Parramatta_Stable,MeContext=NSW_S4B715_Parramatta_529917,ManagedElement=1,vsDataENodeBFunction=1,vsDataEUtranCellFDD=S4B73']}\n",
      "\n",
      "\n",
      "\n",
      "Value of 12 row is : {'EUtranCellFDD': ['Removed##SubNetwork=Telstra,SubNetwork=NSW_Parramatta_Stable,MeContext=NSW_SYIH15_400_GEORGE_ST_TEST_MODEL_525099,ManagedElement=NSW_SYIH15_400_GEORGE_ST_TEST_MODEL_525099,vsDataENodeBFunction=1,vsDataEUtranCellFDD=SYIHEBA']}\n",
      "\n",
      "\n",
      "\n",
      "Value of 13 row is : {'NbIotCell': ['Commissioning##SubNetwork=Telstra,SubNetwork=QLD_METRO,MeContext=QLD_WNCU35_WOOLLOONGABBA_NC_TEST_BASE_571901,ManagedElement=QLD_WNCU35_WOOLLOONGABBA_NC_TEST_BASE_571901,vsDataENodeBFunction=1,vsDataNbIotCell=WNCUFI3', 'Commissioning##SubNetwork=Telstra,SubNetwork=QLD_METRO,MeContext=QLD_WNCU35_WOOLLOONGABBA_NC_TEST_BASE_571901,ManagedElement=QLD_WNCU35_WOOLLOONGABBA_NC_TEST_BASE_571901,vsDataENodeBFunction=1,vsDataNbIotCell=WNCUFI2', 'Commissioning##SubNetwork=Telstra,SubNetwork=QLD_METRO,MeContext=QLD_WNCU35_WOOLLOONGABBA_NC_TEST_BASE_571901,ManagedElement=QLD_WNCU35_WOOLLOONGABBA_NC_TEST_BASE_571901,vsDataENodeBFunction=1,vsDataNbIotCell=WNCUFI1']}\n",
      "\n",
      "\n",
      "\n"
     ]
    }
   ],
   "source": [
    "for i in range(0, len(df1['ENodeB'])-1):\n",
    "    print(\"Value of {} row is : {}\".format(i, df1['ENodeB'][i]))\n",
    "    print(\"\\n\\n\")"
   ]
  },
  {
   "cell_type": "code",
   "execution_count": 31,
   "metadata": {},
   "outputs": [
    {
     "name": "stdout",
     "output_type": "stream",
     "text": [
      "Value of 0 row is : ['Inactive##SubNetwork=Telstra,SubNetwork=BB5216,MeContext=VIC_XZ5315_BOX_HILL_539913,ManagedElement=VIC_XZ5315_BOX_HILL_539913,vsDataENodeBFunction=1,vsDataEUtranCellFDD=XZ53FM1', 'Inactive##SubNetwork=Telstra,SubNetwork=BB5216,MeContext=VIC_XZ5315_BOX_HILL_539913,ManagedElement=VIC_XZ5315_BOX_HILL_539913,vsDataENodeBFunction=1,vsDataEUtranCellFDD=XZ53EM1', 'Inactive##SubNetwork=Telstra,SubNetwork=BB5216,MeContext=VIC_XZ5315_BOX_HILL_539913,ManagedElement=VIC_XZ5315_BOX_HILL_539913,vsDataENodeBFunction=1,vsDataEUtranCellFDD=XZ53BM1', 'Inactive##SubNetwork=Telstra,SubNetwork=BB5216,MeContext=VIC_XZ5315_BOX_HILL_539913,ManagedElement=VIC_XZ5315_BOX_HILL_539913,vsDataENodeBFunction=1,vsDataEUtranCellFDD=XZ53AM1', 'Inactive##SubNetwork=Telstra,SubNetwork=BB5216,MeContext=VIC_XZ5315_BOX_HILL_539913,ManagedElement=VIC_XZ5315_BOX_HILL_539913,vsDataENodeBFunction=1,vsDataEUtranCellFDD=XZ53KM1']\n",
      "\n",
      "\n",
      "\n",
      "Value of 1 row is : ['Commissioning##SubNetwork=Telstra,SubNetwork=LTE,MeContext=VIC_B3A015_BARRY_ST_MODEL_539923,ManagedElement=1,vsDataENodeBFunction=1,vsDataEUtranCellFDD=B3A0ET1']\n",
      "\n",
      "\n",
      "\n",
      "Value of 2 row is : ['Commissioning##SubNetwork=Telstra,SubNetwork=LTE,MeContext=VIC_B3A215_BARRY_ST_MODEL_539941,ManagedElement=1,vsDataENodeBFunction=1,vsDataEUtranCellFDD=B3A2ET1']\n",
      "\n",
      "\n",
      "\n",
      "Value of 3 row is : ['Commissioning##SubNetwork=Telstra,SubNetwork=LTE,MeContext=VIC_B3A315_BARRY_ST_MODEL_539942,ManagedElement=1,vsDataENodeBFunction=1,vsDataEUtranCellFDD=B3A3ET1']\n",
      "\n",
      "\n",
      "\n",
      "Value of 4 row is : ['Inactive##SubNetwork=Telstra,SubNetwork=LTE,MeContext=VIC_B3A415_BARRY_ST_MODEL_539943,ManagedElement=1,vsDataENodeBFunction=1,vsDataEUtranCellFDD=B3A4ET1']\n",
      "\n",
      "\n",
      "\n",
      "Value of 5 row is : ['Commissioning##SubNetwork=Telstra,SubNetwork=LTE,MeContext=VIC_C4B315_35_COLLINS_ST_TEST_ENODEB_3_539954,ManagedElement=1,vsDataENodeBFunction=1,vsDataEUtranCellFDD=C4B3AT1', 'Commissioning##SubNetwork=Telstra,SubNetwork=LTE,MeContext=VIC_C4B315_35_COLLINS_ST_TEST_ENODEB_3_539954,ManagedElement=1,vsDataENodeBFunction=1,vsDataEUtranCellFDD=C4B3FT1', 'Commissioning##SubNetwork=Telstra,SubNetwork=LTE,MeContext=VIC_C4B315_35_COLLINS_ST_TEST_ENODEB_3_539954,ManagedElement=1,vsDataENodeBFunction=1,vsDataEUtranCellFDD=C4B3ET1']\n",
      "\n",
      "\n",
      "\n",
      "Value of 6 row is : ['Commissioning##SubNetwork=Telstra,SubNetwork=LTE,MeContext=VIC_XZ5015_BOX_HILL_LAB_539910,ManagedElement=1,vsDataENodeBFunction=1,vsDataEUtranCellFDD=XZ50ET2', 'Commissioning##SubNetwork=Telstra,SubNetwork=LTE,MeContext=VIC_XZ5015_BOX_HILL_LAB_539910,ManagedElement=1,vsDataENodeBFunction=1,vsDataEUtranCellFDD=XZ50ET1']\n",
      "\n",
      "\n",
      "\n",
      "Value of 7 row is : ['Removed##SubNetwork=Telstra,SubNetwork=NSW_Parramatta,MeContext=NSW_S4B215_Parramatta_529912,ManagedElement=NSW_S4B215_Parramatta_529912,vsDataENodeBFunction=1,vsDataEUtranCellFDD=S4B2ET1']\n",
      "\n",
      "\n",
      "\n",
      "Value of 8 row is : ['Commissioning##SubNetwork=Telstra,SubNetwork=NSW_Parramatta_Stable,MeContext=NSW_S4B015_Parramatta_529910,ManagedElement=NSW_S4B015_Parramatta_529910,vsDataENodeBFunction=1,vsDataEUtranCellFDD=S4B0ET1']\n",
      "\n",
      "\n",
      "\n",
      "Value of 9 row is : ['Commissioning##SubNetwork=Telstra,SubNetwork=NSW_Parramatta_Stable,MeContext=NSW_S4B115_Parramatta_529911,ManagedElement=1,vsDataENodeBFunction=1,vsDataEUtranCellFDD=S4B1ET1']\n",
      "\n",
      "\n",
      "\n",
      "Value of 10 row is : ['Commissioning##SubNetwork=Telstra,SubNetwork=NSW_Parramatta_Stable,MeContext=NSW_S4B515_Parramatta_529915,ManagedElement=1,vsDataENodeBFunction=1,vsDataEUtranCellFDD=S4B53', 'Commissioning##SubNetwork=Telstra,SubNetwork=NSW_Parramatta_Stable,MeContext=NSW_S4B515_Parramatta_529915,ManagedElement=1,vsDataENodeBFunction=1,vsDataEUtranCellFDD=S4B51', 'Commissioning##SubNetwork=Telstra,SubNetwork=NSW_Parramatta_Stable,MeContext=NSW_S4B515_Parramatta_529915,ManagedElement=1,vsDataENodeBFunction=1,vsDataEUtranCellFDD=S4B52']\n",
      "\n",
      "\n",
      "\n",
      "Value of 11 row is : ['Commissioning##SubNetwork=Telstra,SubNetwork=NSW_Parramatta_Stable,MeContext=NSW_S4B715_Parramatta_529917,ManagedElement=1,vsDataENodeBFunction=1,vsDataEUtranCellFDD=S4B72', 'Commissioning##SubNetwork=Telstra,SubNetwork=NSW_Parramatta_Stable,MeContext=NSW_S4B715_Parramatta_529917,ManagedElement=1,vsDataENodeBFunction=1,vsDataEUtranCellFDD=S4B71', 'Commissioning##SubNetwork=Telstra,SubNetwork=NSW_Parramatta_Stable,MeContext=NSW_S4B715_Parramatta_529917,ManagedElement=1,vsDataENodeBFunction=1,vsDataEUtranCellFDD=S4B73']\n",
      "\n",
      "\n",
      "\n",
      "Value of 12 row is : ['Removed##SubNetwork=Telstra,SubNetwork=NSW_Parramatta_Stable,MeContext=NSW_SYIH15_400_GEORGE_ST_TEST_MODEL_525099,ManagedElement=NSW_SYIH15_400_GEORGE_ST_TEST_MODEL_525099,vsDataENodeBFunction=1,vsDataEUtranCellFDD=SYIHEBA']\n",
      "\n",
      "\n",
      "\n"
     ]
    },
    {
     "ename": "KeyError",
     "evalue": "'EUtranCellFDD'",
     "output_type": "error",
     "traceback": [
      "\u001b[1;31m---------------------------------------------------------------------------\u001b[0m",
      "\u001b[1;31mKeyError\u001b[0m                                  Traceback (most recent call last)",
      "\u001b[1;32m<ipython-input-31-bc3bf8f067ed>\u001b[0m in \u001b[0;36m<module>\u001b[1;34m\u001b[0m\n\u001b[0;32m      1\u001b[0m \u001b[1;32mfor\u001b[0m \u001b[0mi\u001b[0m \u001b[1;32min\u001b[0m \u001b[0mrange\u001b[0m\u001b[1;33m(\u001b[0m\u001b[1;36m0\u001b[0m\u001b[1;33m,\u001b[0m \u001b[0mlen\u001b[0m\u001b[1;33m(\u001b[0m\u001b[0mdf1\u001b[0m\u001b[1;33m[\u001b[0m\u001b[1;34m'ENodeB'\u001b[0m\u001b[1;33m]\u001b[0m\u001b[1;33m)\u001b[0m\u001b[1;33m-\u001b[0m\u001b[1;36m1\u001b[0m\u001b[1;33m)\u001b[0m\u001b[1;33m:\u001b[0m\u001b[1;33m\u001b[0m\u001b[1;33m\u001b[0m\u001b[0m\n\u001b[1;32m----> 2\u001b[1;33m     \u001b[0mprint\u001b[0m\u001b[1;33m(\u001b[0m\u001b[1;34m\"Value of {} row is : {}\"\u001b[0m\u001b[1;33m.\u001b[0m\u001b[0mformat\u001b[0m\u001b[1;33m(\u001b[0m\u001b[0mi\u001b[0m\u001b[1;33m,\u001b[0m \u001b[0mdf1\u001b[0m\u001b[1;33m[\u001b[0m\u001b[1;34m'ENodeB'\u001b[0m\u001b[1;33m]\u001b[0m\u001b[1;33m[\u001b[0m\u001b[0mi\u001b[0m\u001b[1;33m]\u001b[0m\u001b[1;33m[\u001b[0m\u001b[1;34m'EUtranCellFDD'\u001b[0m\u001b[1;33m]\u001b[0m\u001b[1;33m)\u001b[0m\u001b[1;33m)\u001b[0m\u001b[1;33m\u001b[0m\u001b[1;33m\u001b[0m\u001b[0m\n\u001b[0m\u001b[0;32m      3\u001b[0m     \u001b[0mprint\u001b[0m\u001b[1;33m(\u001b[0m\u001b[1;34m\"\\n\\n\"\u001b[0m\u001b[1;33m)\u001b[0m\u001b[1;33m\u001b[0m\u001b[1;33m\u001b[0m\u001b[0m\n",
      "\u001b[1;31mKeyError\u001b[0m: 'EUtranCellFDD'"
     ]
    }
   ],
   "source": [
    "for i in range(0, len(df1['ENodeB'])-1):\n",
    "    print(\"Value of {} row is : {}\".format(i, df1['ENodeB'][i]['EUtranCellFDD']))\n",
    "    print(\"\\n\\n\")"
   ]
  },
  {
   "cell_type": "code",
   "execution_count": 32,
   "metadata": {},
   "outputs": [
    {
     "data": {
      "text/plain": [
       "['Inactive##SubNetwork=Telstra,SubNetwork=BB5216,MeContext=VIC_XZ5315_BOX_HILL_539913,ManagedElement=VIC_XZ5315_BOX_HILL_539913,vsDataENodeBFunction=1,vsDataEUtranCellFDD=XZ53FM1',\n",
       " 'Inactive##SubNetwork=Telstra,SubNetwork=BB5216,MeContext=VIC_XZ5315_BOX_HILL_539913,ManagedElement=VIC_XZ5315_BOX_HILL_539913,vsDataENodeBFunction=1,vsDataEUtranCellFDD=XZ53EM1',\n",
       " 'Inactive##SubNetwork=Telstra,SubNetwork=BB5216,MeContext=VIC_XZ5315_BOX_HILL_539913,ManagedElement=VIC_XZ5315_BOX_HILL_539913,vsDataENodeBFunction=1,vsDataEUtranCellFDD=XZ53BM1',\n",
       " 'Inactive##SubNetwork=Telstra,SubNetwork=BB5216,MeContext=VIC_XZ5315_BOX_HILL_539913,ManagedElement=VIC_XZ5315_BOX_HILL_539913,vsDataENodeBFunction=1,vsDataEUtranCellFDD=XZ53AM1',\n",
       " 'Inactive##SubNetwork=Telstra,SubNetwork=BB5216,MeContext=VIC_XZ5315_BOX_HILL_539913,ManagedElement=VIC_XZ5315_BOX_HILL_539913,vsDataENodeBFunction=1,vsDataEUtranCellFDD=XZ53KM1']"
      ]
     },
     "execution_count": 32,
     "metadata": {},
     "output_type": "execute_result"
    }
   ],
   "source": [
    "df1['ENodeB'][0]['EUtranCellFDD']"
   ]
  },
  {
   "cell_type": "code",
   "execution_count": 33,
   "metadata": {},
   "outputs": [
    {
     "data": {
      "text/plain": [
       "list"
      ]
     },
     "execution_count": 33,
     "metadata": {},
     "output_type": "execute_result"
    }
   ],
   "source": [
    "type(df1['ENodeB'][0]['EUtranCellFDD'])"
   ]
  },
  {
   "cell_type": "code",
   "execution_count": 38,
   "metadata": {
    "collapsed": true
   },
   "outputs": [
    {
     "data": {
      "text/plain": [
       "['Inactive##SubNetwork=Telstra,SubNetwork=BB5216,MeContext=VIC_XZ5315_BOX_HILL_539913,ManagedElement=VIC_XZ5315_BOX_HILL_539913,vsDataENodeBFunction=1,vsDataEUtranCellFDD=XZ53FM1',\n",
       " 'Inactive##SubNetwork=Telstra,SubNetwork=BB5216,MeContext=VIC_XZ5315_BOX_HILL_539913,ManagedElement=VIC_XZ5315_BOX_HILL_539913,vsDataENodeBFunction=1,vsDataEUtranCellFDD=XZ53EM1',\n",
       " 'Inactive##SubNetwork=Telstra,SubNetwork=BB5216,MeContext=VIC_XZ5315_BOX_HILL_539913,ManagedElement=VIC_XZ5315_BOX_HILL_539913,vsDataENodeBFunction=1,vsDataEUtranCellFDD=XZ53BM1',\n",
       " 'Inactive##SubNetwork=Telstra,SubNetwork=BB5216,MeContext=VIC_XZ5315_BOX_HILL_539913,ManagedElement=VIC_XZ5315_BOX_HILL_539913,vsDataENodeBFunction=1,vsDataEUtranCellFDD=XZ53AM1',\n",
       " 'Inactive##SubNetwork=Telstra,SubNetwork=BB5216,MeContext=VIC_XZ5315_BOX_HILL_539913,ManagedElement=VIC_XZ5315_BOX_HILL_539913,vsDataENodeBFunction=1,vsDataEUtranCellFDD=XZ53KM1']"
      ]
     },
     "execution_count": 38,
     "metadata": {},
     "output_type": "execute_result"
    }
   ],
   "source": [
    "#df1['ENodeB'][0]['EUtranCellFDD'][vsDataEUtranCellFDD]\n",
    "subs = 'vsDataEUtranCellFDD'\n",
    "res = list(filter(lambda x: subs in x, df1['ENodeB'][0]['EUtranCellFDD'])) \n",
    "res"
   ]
  },
  {
   "cell_type": "code",
   "execution_count": 45,
   "metadata": {},
   "outputs": [
    {
     "data": {
      "text/plain": [
       "['Inactive##SubNetwork=Telstra',\n",
       " 'SubNetwork=BB5216',\n",
       " 'MeContext=VIC_XZ5315_BOX_HILL_539913',\n",
       " 'ManagedElement=VIC_XZ5315_BOX_HILL_539913',\n",
       " 'vsDataENodeBFunction=1',\n",
       " 'vsDataEUtranCellFDD=XZ53FM1Inactive##SubNetwork=Telstra',\n",
       " 'SubNetwork=BB5216',\n",
       " 'MeContext=VIC_XZ5315_BOX_HILL_539913',\n",
       " 'ManagedElement=VIC_XZ5315_BOX_HILL_539913',\n",
       " 'vsDataENodeBFunction=1',\n",
       " 'vsDataEUtranCellFDD=XZ53EM1Inactive##SubNetwork=Telstra',\n",
       " 'SubNetwork=BB5216',\n",
       " 'MeContext=VIC_XZ5315_BOX_HILL_539913',\n",
       " 'ManagedElement=VIC_XZ5315_BOX_HILL_539913',\n",
       " 'vsDataENodeBFunction=1',\n",
       " 'vsDataEUtranCellFDD=XZ53BM1Inactive##SubNetwork=Telstra',\n",
       " 'SubNetwork=BB5216',\n",
       " 'MeContext=VIC_XZ5315_BOX_HILL_539913',\n",
       " 'ManagedElement=VIC_XZ5315_BOX_HILL_539913',\n",
       " 'vsDataENodeBFunction=1',\n",
       " 'vsDataEUtranCellFDD=XZ53AM1Inactive##SubNetwork=Telstra',\n",
       " 'SubNetwork=BB5216',\n",
       " 'MeContext=VIC_XZ5315_BOX_HILL_539913',\n",
       " 'ManagedElement=VIC_XZ5315_BOX_HILL_539913',\n",
       " 'vsDataENodeBFunction=1',\n",
       " 'vsDataEUtranCellFDD=XZ53KM1']"
      ]
     },
     "execution_count": 45,
     "metadata": {},
     "output_type": "execute_result"
    }
   ],
   "source": [
    "#df1['ENodeB'][0]['EUtranCellFDD'].str.split(',')\n",
    "str1 = ''.join(df1['ENodeB'][0]['EUtranCellFDD'])\n",
    "str2 = str1.split(',')\n",
    "str2"
   ]
  },
  {
   "cell_type": "code",
   "execution_count": 47,
   "metadata": {},
   "outputs": [
    {
     "data": {
      "text/plain": [
       "'Inactive##SubNetwork=Telstra,SubNetwork=BB5216,MeContext=VIC_XZ5315_BOX_HILL_539913,ManagedElement=VIC_XZ5315_BOX_HILL_539913,vsDataENodeBFunction=1,vsDataEUtranCellFDD=XZ53FM1Inactive##SubNetwork=Telstra,SubNetwork=BB5216,MeContext=VIC_XZ5315_BOX_HILL_539913,ManagedElement=VIC_XZ5315_BOX_HILL_539913,vsDataENodeBFunction=1,vsDataEUtranCellFDD=XZ53EM1Inactive##SubNetwork=Telstra,SubNetwork=BB5216,MeContext=VIC_XZ5315_BOX_HILL_539913,ManagedElement=VIC_XZ5315_BOX_HILL_539913,vsDataENodeBFunction=1,vsDataEUtranCellFDD=XZ53BM1Inactive##SubNetwork=Telstra,SubNetwork=BB5216,MeContext=VIC_XZ5315_BOX_HILL_539913,ManagedElement=VIC_XZ5315_BOX_HILL_539913,vsDataENodeBFunction=1,vsDataEUtranCellFDD=XZ53AM1Inactive##SubNetwork=Telstra,SubNetwork=BB5216,MeContext=VIC_XZ5315_BOX_HILL_539913,ManagedElement=VIC_XZ5315_BOX_HILL_539913,vsDataENodeBFunction=1,vsDataEUtranCellFDD=XZ53KM1'"
      ]
     },
     "execution_count": 47,
     "metadata": {},
     "output_type": "execute_result"
    }
   ],
   "source": [
    "str3 = ','.join(str2)\n",
    "str3"
   ]
  },
  {
   "cell_type": "code",
   "execution_count": null,
   "metadata": {},
   "outputs": [],
   "source": [
    "with open('EXCLUSIONS_NSD.json') as f:\n",
    "      data = json.load(f)\n",
    "\n",
    "print(data)"
   ]
  },
  {
   "cell_type": "code",
   "execution_count": null,
   "metadata": {},
   "outputs": [],
   "source": []
  },
  {
   "cell_type": "code",
   "execution_count": null,
   "metadata": {},
   "outputs": [],
   "source": []
  }
 ],
 "metadata": {
  "kernelspec": {
   "display_name": "Python 3",
   "language": "python",
   "name": "python3"
  },
  "language_info": {
   "codemirror_mode": {
    "name": "ipython",
    "version": 3
   },
   "file_extension": ".py",
   "mimetype": "text/x-python",
   "name": "python",
   "nbconvert_exporter": "python",
   "pygments_lexer": "ipython3",
   "version": "3.7.6"
  }
 },
 "nbformat": 4,
 "nbformat_minor": 4
}
