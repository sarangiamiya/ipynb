{
 "cells": [
  {
   "cell_type": "code",
   "execution_count": 31,
   "metadata": {},
   "outputs": [],
   "source": [
    "import pandas as pd\n",
    "import numpy as np\n",
    "import matplotlib.pyplot as plt\n",
    "import seaborn as sns\n",
    "%matplotlib inline"
   ]
  },
  {
   "cell_type": "code",
   "execution_count": 2,
   "metadata": {},
   "outputs": [],
   "source": [
    "df = pd.read_csv(\"metorpoletean.csv\")"
   ]
  },
  {
   "cell_type": "code",
   "execution_count": 3,
   "metadata": {},
   "outputs": [
    {
     "name": "stdout",
     "output_type": "stream",
     "text": [
      "<class 'pandas.core.frame.DataFrame'>\n",
      "RangeIndex: 99 entries, 0 to 98\n",
      "Data columns (total 10 columns):\n",
      "land_area         99 non-null int64\n",
      "percent_city      99 non-null float64\n",
      "percent_senior    99 non-null float64\n",
      "physicians        99 non-null int64\n",
      "hospital_beds     99 non-null int64\n",
      "graduates         99 non-null float64\n",
      "work_force        99 non-null float64\n",
      "income            99 non-null int64\n",
      "region            99 non-null int64\n",
      "crime_rate        99 non-null float64\n",
      "dtypes: float64(5), int64(5)\n",
      "memory usage: 7.9 KB\n"
     ]
    }
   ],
   "source": [
    "df.info()"
   ]
  },
  {
   "cell_type": "code",
   "execution_count": 4,
   "metadata": {},
   "outputs": [
    {
     "data": {
      "text/plain": [
       "2615.7272727272725"
      ]
     },
     "execution_count": 4,
     "metadata": {},
     "output_type": "execute_result"
    }
   ],
   "source": [
    "df[\"land_area\"].mean()"
   ]
  },
  {
   "cell_type": "code",
   "execution_count": 5,
   "metadata": {},
   "outputs": [
    {
     "data": {
      "text/plain": [
       "85.62"
      ]
     },
     "execution_count": 5,
     "metadata": {},
     "output_type": "execute_result"
    }
   ],
   "source": [
    "df[\"crime_rate\"].max()"
   ]
  },
  {
   "cell_type": "code",
   "execution_count": 6,
   "metadata": {},
   "outputs": [
    {
     "data": {
      "text/plain": [
       "769"
      ]
     },
     "execution_count": 6,
     "metadata": {},
     "output_type": "execute_result"
    }
   ],
   "source": [
    "df[\"income\"].min()"
   ]
  },
  {
   "cell_type": "code",
   "execution_count": 7,
   "metadata": {},
   "outputs": [
    {
     "data": {
      "text/plain": [
       "3    36\n",
       "2    25\n",
       "1    21\n",
       "4    17\n",
       "Name: region, dtype: int64"
      ]
     },
     "execution_count": 7,
     "metadata": {},
     "output_type": "execute_result"
    }
   ],
   "source": [
    "df[\"region\"].value_counts()"
   ]
  },
  {
   "cell_type": "code",
   "execution_count": 9,
   "metadata": {},
   "outputs": [
    {
     "data": {
      "text/plain": [
       "55.64303030303031"
      ]
     },
     "execution_count": 9,
     "metadata": {},
     "output_type": "execute_result"
    }
   ],
   "source": [
    "df[\"crime_rate\"].mean()"
   ]
  },
  {
   "cell_type": "code",
   "execution_count": 12,
   "metadata": {},
   "outputs": [
    {
     "data": {
      "text/html": [
       "<div>\n",
       "<style scoped>\n",
       "    .dataframe tbody tr th:only-of-type {\n",
       "        vertical-align: middle;\n",
       "    }\n",
       "\n",
       "    .dataframe tbody tr th {\n",
       "        vertical-align: top;\n",
       "    }\n",
       "\n",
       "    .dataframe thead th {\n",
       "        text-align: right;\n",
       "    }\n",
       "</style>\n",
       "<table border=\"1\" class=\"dataframe\">\n",
       "  <thead>\n",
       "    <tr style=\"text-align: right;\">\n",
       "      <th></th>\n",
       "      <th>land_area</th>\n",
       "      <th>percent_city</th>\n",
       "      <th>percent_senior</th>\n",
       "      <th>physicians</th>\n",
       "      <th>hospital_beds</th>\n",
       "      <th>graduates</th>\n",
       "      <th>work_force</th>\n",
       "      <th>income</th>\n",
       "      <th>region</th>\n",
       "      <th>crime_rate</th>\n",
       "    </tr>\n",
       "  </thead>\n",
       "  <tbody>\n",
       "    <tr>\n",
       "      <td>land_area</td>\n",
       "      <td>1.000000</td>\n",
       "      <td>-0.077320</td>\n",
       "      <td>0.092226</td>\n",
       "      <td>0.085054</td>\n",
       "      <td>0.081034</td>\n",
       "      <td>0.088728</td>\n",
       "      <td>0.135792</td>\n",
       "      <td>0.111404</td>\n",
       "      <td>0.292392</td>\n",
       "      <td>0.293907</td>\n",
       "    </tr>\n",
       "    <tr>\n",
       "      <td>percent_city</td>\n",
       "      <td>-0.077320</td>\n",
       "      <td>1.000000</td>\n",
       "      <td>-0.250995</td>\n",
       "      <td>0.067391</td>\n",
       "      <td>0.052898</td>\n",
       "      <td>0.076720</td>\n",
       "      <td>0.016011</td>\n",
       "      <td>0.019235</td>\n",
       "      <td>0.235880</td>\n",
       "      <td>0.159596</td>\n",
       "    </tr>\n",
       "    <tr>\n",
       "      <td>percent_senior</td>\n",
       "      <td>0.092226</td>\n",
       "      <td>-0.250995</td>\n",
       "      <td>1.000000</td>\n",
       "      <td>0.056454</td>\n",
       "      <td>0.083775</td>\n",
       "      <td>-0.155695</td>\n",
       "      <td>0.035240</td>\n",
       "      <td>0.046073</td>\n",
       "      <td>-0.242811</td>\n",
       "      <td>-0.177992</td>\n",
       "    </tr>\n",
       "    <tr>\n",
       "      <td>physicians</td>\n",
       "      <td>0.085054</td>\n",
       "      <td>0.067391</td>\n",
       "      <td>0.056454</td>\n",
       "      <td>1.000000</td>\n",
       "      <td>0.974241</td>\n",
       "      <td>0.049500</td>\n",
       "      <td>0.965597</td>\n",
       "      <td>0.976209</td>\n",
       "      <td>-0.140961</td>\n",
       "      <td>0.187763</td>\n",
       "    </tr>\n",
       "    <tr>\n",
       "      <td>hospital_beds</td>\n",
       "      <td>0.081034</td>\n",
       "      <td>0.052898</td>\n",
       "      <td>0.083775</td>\n",
       "      <td>0.974241</td>\n",
       "      <td>1.000000</td>\n",
       "      <td>-0.003892</td>\n",
       "      <td>0.967913</td>\n",
       "      <td>0.974416</td>\n",
       "      <td>-0.220305</td>\n",
       "      <td>0.109799</td>\n",
       "    </tr>\n",
       "    <tr>\n",
       "      <td>graduates</td>\n",
       "      <td>0.088728</td>\n",
       "      <td>0.076720</td>\n",
       "      <td>-0.155695</td>\n",
       "      <td>0.049500</td>\n",
       "      <td>-0.003892</td>\n",
       "      <td>1.000000</td>\n",
       "      <td>0.044054</td>\n",
       "      <td>0.045578</td>\n",
       "      <td>0.246226</td>\n",
       "      <td>0.290880</td>\n",
       "    </tr>\n",
       "    <tr>\n",
       "      <td>work_force</td>\n",
       "      <td>0.135792</td>\n",
       "      <td>0.016011</td>\n",
       "      <td>0.035240</td>\n",
       "      <td>0.965597</td>\n",
       "      <td>0.967913</td>\n",
       "      <td>0.044054</td>\n",
       "      <td>1.000000</td>\n",
       "      <td>0.996735</td>\n",
       "      <td>-0.144022</td>\n",
       "      <td>0.175945</td>\n",
       "    </tr>\n",
       "    <tr>\n",
       "      <td>income</td>\n",
       "      <td>0.111404</td>\n",
       "      <td>0.019235</td>\n",
       "      <td>0.046073</td>\n",
       "      <td>0.976209</td>\n",
       "      <td>0.974416</td>\n",
       "      <td>0.045578</td>\n",
       "      <td>0.996735</td>\n",
       "      <td>1.000000</td>\n",
       "      <td>-0.152016</td>\n",
       "      <td>0.175797</td>\n",
       "    </tr>\n",
       "    <tr>\n",
       "      <td>region</td>\n",
       "      <td>0.292392</td>\n",
       "      <td>0.235880</td>\n",
       "      <td>-0.242811</td>\n",
       "      <td>-0.140961</td>\n",
       "      <td>-0.220305</td>\n",
       "      <td>0.246226</td>\n",
       "      <td>-0.144022</td>\n",
       "      <td>-0.152016</td>\n",
       "      <td>1.000000</td>\n",
       "      <td>0.636192</td>\n",
       "    </tr>\n",
       "    <tr>\n",
       "      <td>crime_rate</td>\n",
       "      <td>0.293907</td>\n",
       "      <td>0.159596</td>\n",
       "      <td>-0.177992</td>\n",
       "      <td>0.187763</td>\n",
       "      <td>0.109799</td>\n",
       "      <td>0.290880</td>\n",
       "      <td>0.175945</td>\n",
       "      <td>0.175797</td>\n",
       "      <td>0.636192</td>\n",
       "      <td>1.000000</td>\n",
       "    </tr>\n",
       "  </tbody>\n",
       "</table>\n",
       "</div>"
      ],
      "text/plain": [
       "                land_area  percent_city  percent_senior  physicians  \\\n",
       "land_area        1.000000     -0.077320        0.092226    0.085054   \n",
       "percent_city    -0.077320      1.000000       -0.250995    0.067391   \n",
       "percent_senior   0.092226     -0.250995        1.000000    0.056454   \n",
       "physicians       0.085054      0.067391        0.056454    1.000000   \n",
       "hospital_beds    0.081034      0.052898        0.083775    0.974241   \n",
       "graduates        0.088728      0.076720       -0.155695    0.049500   \n",
       "work_force       0.135792      0.016011        0.035240    0.965597   \n",
       "income           0.111404      0.019235        0.046073    0.976209   \n",
       "region           0.292392      0.235880       -0.242811   -0.140961   \n",
       "crime_rate       0.293907      0.159596       -0.177992    0.187763   \n",
       "\n",
       "                hospital_beds  graduates  work_force    income    region  \\\n",
       "land_area            0.081034   0.088728    0.135792  0.111404  0.292392   \n",
       "percent_city         0.052898   0.076720    0.016011  0.019235  0.235880   \n",
       "percent_senior       0.083775  -0.155695    0.035240  0.046073 -0.242811   \n",
       "physicians           0.974241   0.049500    0.965597  0.976209 -0.140961   \n",
       "hospital_beds        1.000000  -0.003892    0.967913  0.974416 -0.220305   \n",
       "graduates           -0.003892   1.000000    0.044054  0.045578  0.246226   \n",
       "work_force           0.967913   0.044054    1.000000  0.996735 -0.144022   \n",
       "income               0.974416   0.045578    0.996735  1.000000 -0.152016   \n",
       "region              -0.220305   0.246226   -0.144022 -0.152016  1.000000   \n",
       "crime_rate           0.109799   0.290880    0.175945  0.175797  0.636192   \n",
       "\n",
       "                crime_rate  \n",
       "land_area         0.293907  \n",
       "percent_city      0.159596  \n",
       "percent_senior   -0.177992  \n",
       "physicians        0.187763  \n",
       "hospital_beds     0.109799  \n",
       "graduates         0.290880  \n",
       "work_force        0.175945  \n",
       "income            0.175797  \n",
       "region            0.636192  \n",
       "crime_rate        1.000000  "
      ]
     },
     "execution_count": 12,
     "metadata": {},
     "output_type": "execute_result"
    }
   ],
   "source": [
    "corr = df.corr()\n",
    "corr"
   ]
  },
  {
   "cell_type": "code",
   "execution_count": 15,
   "metadata": {},
   "outputs": [
    {
     "data": {
      "text/html": [
       "<div>\n",
       "<style scoped>\n",
       "    .dataframe tbody tr th:only-of-type {\n",
       "        vertical-align: middle;\n",
       "    }\n",
       "\n",
       "    .dataframe tbody tr th {\n",
       "        vertical-align: top;\n",
       "    }\n",
       "\n",
       "    .dataframe thead th {\n",
       "        text-align: right;\n",
       "    }\n",
       "</style>\n",
       "<table border=\"1\" class=\"dataframe\">\n",
       "  <thead>\n",
       "    <tr style=\"text-align: right;\">\n",
       "      <th></th>\n",
       "      <th>land_area</th>\n",
       "      <th>percent_city</th>\n",
       "      <th>percent_senior</th>\n",
       "      <th>physicians</th>\n",
       "      <th>hospital_beds</th>\n",
       "      <th>graduates</th>\n",
       "      <th>work_force</th>\n",
       "      <th>income</th>\n",
       "      <th>region</th>\n",
       "      <th>crime_rate</th>\n",
       "    </tr>\n",
       "  </thead>\n",
       "  <tbody>\n",
       "    <tr>\n",
       "      <td>0</td>\n",
       "      <td>1384</td>\n",
       "      <td>78.1</td>\n",
       "      <td>12.3</td>\n",
       "      <td>25627</td>\n",
       "      <td>69678</td>\n",
       "      <td>50.1</td>\n",
       "      <td>4083.9</td>\n",
       "      <td>72100</td>\n",
       "      <td>1</td>\n",
       "      <td>75.55</td>\n",
       "    </tr>\n",
       "    <tr>\n",
       "      <td>1</td>\n",
       "      <td>3719</td>\n",
       "      <td>43.9</td>\n",
       "      <td>9.4</td>\n",
       "      <td>13326</td>\n",
       "      <td>43292</td>\n",
       "      <td>53.9</td>\n",
       "      <td>3305.9</td>\n",
       "      <td>54542</td>\n",
       "      <td>2</td>\n",
       "      <td>56.03</td>\n",
       "    </tr>\n",
       "    <tr>\n",
       "      <td>2</td>\n",
       "      <td>3553</td>\n",
       "      <td>37.4</td>\n",
       "      <td>10.7</td>\n",
       "      <td>9724</td>\n",
       "      <td>33731</td>\n",
       "      <td>50.6</td>\n",
       "      <td>2066.3</td>\n",
       "      <td>33216</td>\n",
       "      <td>1</td>\n",
       "      <td>41.32</td>\n",
       "    </tr>\n",
       "    <tr>\n",
       "      <td>3</td>\n",
       "      <td>3916</td>\n",
       "      <td>29.9</td>\n",
       "      <td>8.8</td>\n",
       "      <td>6402</td>\n",
       "      <td>24167</td>\n",
       "      <td>52.2</td>\n",
       "      <td>1966.7</td>\n",
       "      <td>32906</td>\n",
       "      <td>2</td>\n",
       "      <td>67.38</td>\n",
       "    </tr>\n",
       "    <tr>\n",
       "      <td>4</td>\n",
       "      <td>2480</td>\n",
       "      <td>31.5</td>\n",
       "      <td>10.5</td>\n",
       "      <td>8502</td>\n",
       "      <td>16751</td>\n",
       "      <td>66.1</td>\n",
       "      <td>1514.5</td>\n",
       "      <td>26573</td>\n",
       "      <td>4</td>\n",
       "      <td>80.19</td>\n",
       "    </tr>\n",
       "  </tbody>\n",
       "</table>\n",
       "</div>"
      ],
      "text/plain": [
       "   land_area  percent_city  percent_senior  physicians  hospital_beds  \\\n",
       "0       1384          78.1            12.3       25627          69678   \n",
       "1       3719          43.9             9.4       13326          43292   \n",
       "2       3553          37.4            10.7        9724          33731   \n",
       "3       3916          29.9             8.8        6402          24167   \n",
       "4       2480          31.5            10.5        8502          16751   \n",
       "\n",
       "   graduates  work_force  income  region  crime_rate  \n",
       "0       50.1      4083.9   72100       1       75.55  \n",
       "1       53.9      3305.9   54542       2       56.03  \n",
       "2       50.6      2066.3   33216       1       41.32  \n",
       "3       52.2      1966.7   32906       2       67.38  \n",
       "4       66.1      1514.5   26573       4       80.19  "
      ]
     },
     "execution_count": 15,
     "metadata": {},
     "output_type": "execute_result"
    }
   ],
   "source": [
    "df.head()"
   ]
  },
  {
   "cell_type": "code",
   "execution_count": 23,
   "metadata": {},
   "outputs": [
    {
     "data": {
      "text/html": [
       "<div>\n",
       "<style scoped>\n",
       "    .dataframe tbody tr th:only-of-type {\n",
       "        vertical-align: middle;\n",
       "    }\n",
       "\n",
       "    .dataframe tbody tr th {\n",
       "        vertical-align: top;\n",
       "    }\n",
       "\n",
       "    .dataframe thead th {\n",
       "        text-align: right;\n",
       "    }\n",
       "</style>\n",
       "<table border=\"1\" class=\"dataframe\">\n",
       "  <thead>\n",
       "    <tr style=\"text-align: right;\">\n",
       "      <th></th>\n",
       "      <th>land_area</th>\n",
       "      <th>percent_city</th>\n",
       "      <th>percent_senior</th>\n",
       "      <th>physicians</th>\n",
       "      <th>hospital_beds</th>\n",
       "      <th>graduates</th>\n",
       "      <th>work_force</th>\n",
       "      <th>income</th>\n",
       "      <th>region</th>\n",
       "      <th>crime_rate</th>\n",
       "    </tr>\n",
       "  </thead>\n",
       "  <tbody>\n",
       "    <tr>\n",
       "      <td>4</td>\n",
       "      <td>2480</td>\n",
       "      <td>31.5</td>\n",
       "      <td>10.5</td>\n",
       "      <td>8502</td>\n",
       "      <td>16751</td>\n",
       "      <td>66.1</td>\n",
       "      <td>1514.5</td>\n",
       "      <td>26573</td>\n",
       "      <td>4</td>\n",
       "      <td>80.19</td>\n",
       "    </tr>\n",
       "    <tr>\n",
       "      <td>13</td>\n",
       "      <td>782</td>\n",
       "      <td>28.4</td>\n",
       "      <td>7.8</td>\n",
       "      <td>3119</td>\n",
       "      <td>8656</td>\n",
       "      <td>70.5</td>\n",
       "      <td>915.2</td>\n",
       "      <td>12591</td>\n",
       "      <td>4</td>\n",
       "      <td>63.20</td>\n",
       "    </tr>\n",
       "    <tr>\n",
       "      <td>14</td>\n",
       "      <td>4226</td>\n",
       "      <td>38.1</td>\n",
       "      <td>9.8</td>\n",
       "      <td>3285</td>\n",
       "      <td>5392</td>\n",
       "      <td>67.8</td>\n",
       "      <td>699.8</td>\n",
       "      <td>10918</td>\n",
       "      <td>4</td>\n",
       "      <td>64.05</td>\n",
       "    </tr>\n",
       "    <tr>\n",
       "      <td>18</td>\n",
       "      <td>27293</td>\n",
       "      <td>25.3</td>\n",
       "      <td>12.3</td>\n",
       "      <td>2018</td>\n",
       "      <td>6323</td>\n",
       "      <td>57.4</td>\n",
       "      <td>510.6</td>\n",
       "      <td>7399</td>\n",
       "      <td>4</td>\n",
       "      <td>76.03</td>\n",
       "    </tr>\n",
       "    <tr>\n",
       "      <td>20</td>\n",
       "      <td>9155</td>\n",
       "      <td>53.8</td>\n",
       "      <td>11.1</td>\n",
       "      <td>2280</td>\n",
       "      <td>6450</td>\n",
       "      <td>60.1</td>\n",
       "      <td>575.2</td>\n",
       "      <td>7766</td>\n",
       "      <td>4</td>\n",
       "      <td>85.62</td>\n",
       "    </tr>\n",
       "    <tr>\n",
       "      <td>25</td>\n",
       "      <td>3434</td>\n",
       "      <td>28.9</td>\n",
       "      <td>8.3</td>\n",
       "      <td>1844</td>\n",
       "      <td>3215</td>\n",
       "      <td>65.1</td>\n",
       "      <td>422.6</td>\n",
       "      <td>5909</td>\n",
       "      <td>4</td>\n",
       "      <td>77.94</td>\n",
       "    </tr>\n",
       "    <tr>\n",
       "      <td>33</td>\n",
       "      <td>596</td>\n",
       "      <td>100.0</td>\n",
       "      <td>6.0</td>\n",
       "      <td>1260</td>\n",
       "      <td>2819</td>\n",
       "      <td>66.0</td>\n",
       "      <td>319.9</td>\n",
       "      <td>5181</td>\n",
       "      <td>4</td>\n",
       "      <td>64.98</td>\n",
       "    </tr>\n",
       "    <tr>\n",
       "      <td>53</td>\n",
       "      <td>5966</td>\n",
       "      <td>39.5</td>\n",
       "      <td>9.6</td>\n",
       "      <td>737</td>\n",
       "      <td>1907</td>\n",
       "      <td>52.7</td>\n",
       "      <td>246.6</td>\n",
       "      <td>3007</td>\n",
       "      <td>4</td>\n",
       "      <td>80.94</td>\n",
       "    </tr>\n",
       "    <tr>\n",
       "      <td>54</td>\n",
       "      <td>1863</td>\n",
       "      <td>50.4</td>\n",
       "      <td>7.7</td>\n",
       "      <td>674</td>\n",
       "      <td>2989</td>\n",
       "      <td>63.8</td>\n",
       "      <td>194.8</td>\n",
       "      <td>2747</td>\n",
       "      <td>4</td>\n",
       "      <td>53.76</td>\n",
       "    </tr>\n",
       "    <tr>\n",
       "      <td>59</td>\n",
       "      <td>1676</td>\n",
       "      <td>36.6</td>\n",
       "      <td>9.2</td>\n",
       "      <td>505</td>\n",
       "      <td>3297</td>\n",
       "      <td>60.7</td>\n",
       "      <td>156.3</td>\n",
       "      <td>2689</td>\n",
       "      <td>4</td>\n",
       "      <td>57.37</td>\n",
       "    </tr>\n",
       "    <tr>\n",
       "      <td>67</td>\n",
       "      <td>8152</td>\n",
       "      <td>22.3</td>\n",
       "      <td>9.1</td>\n",
       "      <td>405</td>\n",
       "      <td>1254</td>\n",
       "      <td>51.7</td>\n",
       "      <td>165.6</td>\n",
       "      <td>2257</td>\n",
       "      <td>4</td>\n",
       "      <td>78.10</td>\n",
       "    </tr>\n",
       "    <tr>\n",
       "      <td>73</td>\n",
       "      <td>1758</td>\n",
       "      <td>56.8</td>\n",
       "      <td>11.5</td>\n",
       "      <td>565</td>\n",
       "      <td>2081</td>\n",
       "      <td>65.3</td>\n",
       "      <td>131.2</td>\n",
       "      <td>1939</td>\n",
       "      <td>4</td>\n",
       "      <td>56.06</td>\n",
       "    </tr>\n",
       "    <tr>\n",
       "      <td>74</td>\n",
       "      <td>1412</td>\n",
       "      <td>39.2</td>\n",
       "      <td>11.3</td>\n",
       "      <td>436</td>\n",
       "      <td>1837</td>\n",
       "      <td>49.4</td>\n",
       "      <td>154.2</td>\n",
       "      <td>2098</td>\n",
       "      <td>4</td>\n",
       "      <td>82.68</td>\n",
       "    </tr>\n",
       "    <tr>\n",
       "      <td>81</td>\n",
       "      <td>2710</td>\n",
       "      <td>63.7</td>\n",
       "      <td>6.2</td>\n",
       "      <td>357</td>\n",
       "      <td>1277</td>\n",
       "      <td>72.8</td>\n",
       "      <td>110.9</td>\n",
       "      <td>1639</td>\n",
       "      <td>4</td>\n",
       "      <td>63.10</td>\n",
       "    </tr>\n",
       "    <tr>\n",
       "      <td>84</td>\n",
       "      <td>2737</td>\n",
       "      <td>45.0</td>\n",
       "      <td>10.5</td>\n",
       "      <td>602</td>\n",
       "      <td>1462</td>\n",
       "      <td>71.3</td>\n",
       "      <td>131.4</td>\n",
       "      <td>1980</td>\n",
       "      <td>4</td>\n",
       "      <td>63.44</td>\n",
       "    </tr>\n",
       "    <tr>\n",
       "      <td>93</td>\n",
       "      <td>4552</td>\n",
       "      <td>54.4</td>\n",
       "      <td>9.1</td>\n",
       "      <td>329</td>\n",
       "      <td>719</td>\n",
       "      <td>61.9</td>\n",
       "      <td>118.0</td>\n",
       "      <td>1386</td>\n",
       "      <td>4</td>\n",
       "      <td>62.63</td>\n",
       "    </tr>\n",
       "    <tr>\n",
       "      <td>94</td>\n",
       "      <td>1511</td>\n",
       "      <td>38.7</td>\n",
       "      <td>10.7</td>\n",
       "      <td>348</td>\n",
       "      <td>1093</td>\n",
       "      <td>50.4</td>\n",
       "      <td>127.2</td>\n",
       "      <td>1452</td>\n",
       "      <td>4</td>\n",
       "      <td>70.66</td>\n",
       "    </tr>\n",
       "  </tbody>\n",
       "</table>\n",
       "</div>"
      ],
      "text/plain": [
       "    land_area  percent_city  percent_senior  physicians  hospital_beds  \\\n",
       "4        2480          31.5            10.5        8502          16751   \n",
       "13        782          28.4             7.8        3119           8656   \n",
       "14       4226          38.1             9.8        3285           5392   \n",
       "18      27293          25.3            12.3        2018           6323   \n",
       "20       9155          53.8            11.1        2280           6450   \n",
       "25       3434          28.9             8.3        1844           3215   \n",
       "33        596         100.0             6.0        1260           2819   \n",
       "53       5966          39.5             9.6         737           1907   \n",
       "54       1863          50.4             7.7         674           2989   \n",
       "59       1676          36.6             9.2         505           3297   \n",
       "67       8152          22.3             9.1         405           1254   \n",
       "73       1758          56.8            11.5         565           2081   \n",
       "74       1412          39.2            11.3         436           1837   \n",
       "81       2710          63.7             6.2         357           1277   \n",
       "84       2737          45.0            10.5         602           1462   \n",
       "93       4552          54.4             9.1         329            719   \n",
       "94       1511          38.7            10.7         348           1093   \n",
       "\n",
       "    graduates  work_force  income  region  crime_rate  \n",
       "4        66.1      1514.5   26573       4       80.19  \n",
       "13       70.5       915.2   12591       4       63.20  \n",
       "14       67.8       699.8   10918       4       64.05  \n",
       "18       57.4       510.6    7399       4       76.03  \n",
       "20       60.1       575.2    7766       4       85.62  \n",
       "25       65.1       422.6    5909       4       77.94  \n",
       "33       66.0       319.9    5181       4       64.98  \n",
       "53       52.7       246.6    3007       4       80.94  \n",
       "54       63.8       194.8    2747       4       53.76  \n",
       "59       60.7       156.3    2689       4       57.37  \n",
       "67       51.7       165.6    2257       4       78.10  \n",
       "73       65.3       131.2    1939       4       56.06  \n",
       "74       49.4       154.2    2098       4       82.68  \n",
       "81       72.8       110.9    1639       4       63.10  \n",
       "84       71.3       131.4    1980       4       63.44  \n",
       "93       61.9       118.0    1386       4       62.63  \n",
       "94       50.4       127.2    1452       4       70.66  "
      ]
     },
     "execution_count": 23,
     "metadata": {},
     "output_type": "execute_result"
    }
   ],
   "source": [
    "#df[(df[\"region\"] == 4) & (df[\"crime_rate\"] == 85.62)  ]\n",
    "#df.groupby(\"region\")\n",
    "df[(df[\"region\"] == 4)]"
   ]
  },
  {
   "cell_type": "code",
   "execution_count": 20,
   "metadata": {},
   "outputs": [
    {
     "data": {
      "text/html": [
       "<div>\n",
       "<style scoped>\n",
       "    .dataframe tbody tr th:only-of-type {\n",
       "        vertical-align: middle;\n",
       "    }\n",
       "\n",
       "    .dataframe tbody tr th {\n",
       "        vertical-align: top;\n",
       "    }\n",
       "\n",
       "    .dataframe thead th {\n",
       "        text-align: right;\n",
       "    }\n",
       "</style>\n",
       "<table border=\"1\" class=\"dataframe\">\n",
       "  <thead>\n",
       "    <tr style=\"text-align: right;\">\n",
       "      <th></th>\n",
       "      <th>land_area</th>\n",
       "      <th>percent_city</th>\n",
       "      <th>percent_senior</th>\n",
       "      <th>physicians</th>\n",
       "      <th>hospital_beds</th>\n",
       "      <th>graduates</th>\n",
       "      <th>work_force</th>\n",
       "      <th>income</th>\n",
       "      <th>region</th>\n",
       "      <th>crime_rate</th>\n",
       "    </tr>\n",
       "  </thead>\n",
       "  <tbody>\n",
       "    <tr>\n",
       "      <td>6</td>\n",
       "      <td>8360</td>\n",
       "      <td>46.3</td>\n",
       "      <td>8.2</td>\n",
       "      <td>4047</td>\n",
       "      <td>14347</td>\n",
       "      <td>53.6</td>\n",
       "      <td>1321.2</td>\n",
       "      <td>18350</td>\n",
       "      <td>3</td>\n",
       "      <td>72.25</td>\n",
       "    </tr>\n",
       "    <tr>\n",
       "      <td>7</td>\n",
       "      <td>6794</td>\n",
       "      <td>60.1</td>\n",
       "      <td>6.3</td>\n",
       "      <td>4562</td>\n",
       "      <td>14333</td>\n",
       "      <td>51.7</td>\n",
       "      <td>1272.7</td>\n",
       "      <td>18221</td>\n",
       "      <td>3</td>\n",
       "      <td>64.88</td>\n",
       "    </tr>\n",
       "    <tr>\n",
       "      <td>18</td>\n",
       "      <td>27293</td>\n",
       "      <td>25.3</td>\n",
       "      <td>12.3</td>\n",
       "      <td>2018</td>\n",
       "      <td>6323</td>\n",
       "      <td>57.4</td>\n",
       "      <td>510.6</td>\n",
       "      <td>7399</td>\n",
       "      <td>4</td>\n",
       "      <td>76.03</td>\n",
       "    </tr>\n",
       "    <tr>\n",
       "      <td>20</td>\n",
       "      <td>9155</td>\n",
       "      <td>53.8</td>\n",
       "      <td>11.1</td>\n",
       "      <td>2280</td>\n",
       "      <td>6450</td>\n",
       "      <td>60.1</td>\n",
       "      <td>575.2</td>\n",
       "      <td>7766</td>\n",
       "      <td>4</td>\n",
       "      <td>85.62</td>\n",
       "    </tr>\n",
       "    <tr>\n",
       "      <td>40</td>\n",
       "      <td>5677</td>\n",
       "      <td>55.8</td>\n",
       "      <td>10.5</td>\n",
       "      <td>760</td>\n",
       "      <td>3883</td>\n",
       "      <td>56.2</td>\n",
       "      <td>292.0</td>\n",
       "      <td>4035</td>\n",
       "      <td>3</td>\n",
       "      <td>52.70</td>\n",
       "    </tr>\n",
       "    <tr>\n",
       "      <td>53</td>\n",
       "      <td>5966</td>\n",
       "      <td>39.5</td>\n",
       "      <td>9.6</td>\n",
       "      <td>737</td>\n",
       "      <td>1907</td>\n",
       "      <td>52.7</td>\n",
       "      <td>246.6</td>\n",
       "      <td>3007</td>\n",
       "      <td>4</td>\n",
       "      <td>80.94</td>\n",
       "    </tr>\n",
       "    <tr>\n",
       "      <td>67</td>\n",
       "      <td>8152</td>\n",
       "      <td>22.3</td>\n",
       "      <td>9.1</td>\n",
       "      <td>405</td>\n",
       "      <td>1254</td>\n",
       "      <td>51.7</td>\n",
       "      <td>165.6</td>\n",
       "      <td>2257</td>\n",
       "      <td>4</td>\n",
       "      <td>78.10</td>\n",
       "    </tr>\n",
       "    <tr>\n",
       "      <td>87</td>\n",
       "      <td>7397</td>\n",
       "      <td>47.3</td>\n",
       "      <td>12.5</td>\n",
       "      <td>355</td>\n",
       "      <td>2042</td>\n",
       "      <td>56.2</td>\n",
       "      <td>113.7</td>\n",
       "      <td>1654</td>\n",
       "      <td>2</td>\n",
       "      <td>45.97</td>\n",
       "    </tr>\n",
       "  </tbody>\n",
       "</table>\n",
       "</div>"
      ],
      "text/plain": [
       "    land_area  percent_city  percent_senior  physicians  hospital_beds  \\\n",
       "6        8360          46.3             8.2        4047          14347   \n",
       "7        6794          60.1             6.3        4562          14333   \n",
       "18      27293          25.3            12.3        2018           6323   \n",
       "20       9155          53.8            11.1        2280           6450   \n",
       "40       5677          55.8            10.5         760           3883   \n",
       "53       5966          39.5             9.6         737           1907   \n",
       "67       8152          22.3             9.1         405           1254   \n",
       "87       7397          47.3            12.5         355           2042   \n",
       "\n",
       "    graduates  work_force  income  region  crime_rate  \n",
       "6        53.6      1321.2   18350       3       72.25  \n",
       "7        51.7      1272.7   18221       3       64.88  \n",
       "18       57.4       510.6    7399       4       76.03  \n",
       "20       60.1       575.2    7766       4       85.62  \n",
       "40       56.2       292.0    4035       3       52.70  \n",
       "53       52.7       246.6    3007       4       80.94  \n",
       "67       51.7       165.6    2257       4       78.10  \n",
       "87       56.2       113.7    1654       2       45.97  "
      ]
     },
     "execution_count": 20,
     "metadata": {},
     "output_type": "execute_result"
    }
   ],
   "source": [
    "df[df[\"land_area\"] >= 5000]"
   ]
  },
  {
   "cell_type": "code",
   "execution_count": 24,
   "metadata": {},
   "outputs": [
    {
     "data": {
      "text/html": [
       "<div>\n",
       "<style scoped>\n",
       "    .dataframe tbody tr th:only-of-type {\n",
       "        vertical-align: middle;\n",
       "    }\n",
       "\n",
       "    .dataframe tbody tr th {\n",
       "        vertical-align: top;\n",
       "    }\n",
       "\n",
       "    .dataframe thead th {\n",
       "        text-align: right;\n",
       "    }\n",
       "</style>\n",
       "<table border=\"1\" class=\"dataframe\">\n",
       "  <thead>\n",
       "    <tr style=\"text-align: right;\">\n",
       "      <th></th>\n",
       "      <th>land_area</th>\n",
       "      <th>percent_city</th>\n",
       "      <th>percent_senior</th>\n",
       "      <th>physicians</th>\n",
       "      <th>hospital_beds</th>\n",
       "      <th>graduates</th>\n",
       "      <th>work_force</th>\n",
       "      <th>income</th>\n",
       "      <th>region</th>\n",
       "      <th>crime_rate</th>\n",
       "    </tr>\n",
       "  </thead>\n",
       "  <tbody>\n",
       "    <tr>\n",
       "      <td>10</td>\n",
       "      <td>1008</td>\n",
       "      <td>16.6</td>\n",
       "      <td>10.3</td>\n",
       "      <td>4006</td>\n",
       "      <td>16704</td>\n",
       "      <td>55.9</td>\n",
       "      <td>935.5</td>\n",
       "      <td>15953</td>\n",
       "      <td>1</td>\n",
       "      <td>54.16</td>\n",
       "    </tr>\n",
       "  </tbody>\n",
       "</table>\n",
       "</div>"
      ],
      "text/plain": [
       "    land_area  percent_city  percent_senior  physicians  hospital_beds  \\\n",
       "10       1008          16.6            10.3        4006          16704   \n",
       "\n",
       "    graduates  work_force  income  region  crime_rate  \n",
       "10       55.9       935.5   15953       1       54.16  "
      ]
     },
     "execution_count": 24,
     "metadata": {},
     "output_type": "execute_result"
    }
   ],
   "source": [
    "df[(df[\"region\"] == 1) & (df[\"crime_rate\"] == 54.16)  ]"
   ]
  },
  {
   "cell_type": "code",
   "execution_count": 25,
   "metadata": {},
   "outputs": [
    {
     "data": {
      "image/png": "[encoded data removed]",
      "text/plain": [
       "<Figure size 432x288 with 1 Axes>"
      ]
     },
     "metadata": {
      "needs_background": "light"
     },
     "output_type": "display_data"
    }
   ],
   "source": [
    "df.plot(x ='land_area', y='crime_rate', kind = 'line')\n",
    "plt.show()"
   ]
  },
  {
   "cell_type": "code",
   "execution_count": 26,
   "metadata": {},
   "outputs": [
    {
     "data": {
      "image/png": "[encoded data removed]",
      "text/plain": [
       "<Figure size 432x288 with 1 Axes>"
      ]
     },
     "metadata": {
      "needs_background": "light"
     },
     "output_type": "display_data"
    }
   ],
   "source": [
    "plt.scatter(df[\"physicians\"], df[\"hospital_beds\"])\n",
    "plt.show()"
   ]
  },
  {
   "cell_type": "code",
   "execution_count": 32,
   "metadata": {},
   "outputs": [
    {
     "data": {
      "text/plain": [
       "<matplotlib.axes._subplots.AxesSubplot at 0x24bc338f708>"
      ]
     },
     "execution_count": 32,
     "metadata": {},
     "output_type": "execute_result"
    },
    {
     "data": {
      "image/png": "[encoded data removed]",
      "text/plain": [
       "<Figure size 432x288 with 1 Axes>"
      ]
     },
     "metadata": {
      "needs_background": "light"
     },
     "output_type": "display_data"
    }
   ],
   "source": [
    "#frequency = df[\"region\"].value_counts()\n",
    "#df.plot(x ='region', y=frequency, kind = 'barh')\n",
    "#plt.show()\n",
    "#df[\"income\"].value_counts()\n",
    "sns.countplot(x=\"income\",data=df)"
   ]
  },
  {
   "cell_type": "code",
   "execution_count": 33,
   "metadata": {},
   "outputs": [
    {
     "data": {
      "text/plain": [
       "<matplotlib.axes._subplots.AxesSubplot at 0x24bc33ab408>"
      ]
     },
     "execution_count": 33,
     "metadata": {},
     "output_type": "execute_result"
    },
    {
     "data": {
      "image/png": "[encoded data removed]",
      "text/plain": [
       "<Figure size 432x288 with 1 Axes>"
      ]
     },
     "metadata": {
      "needs_background": "light"
     },
     "output_type": "display_data"
    }
   ],
   "source": [
    "df['income'].value_counts().plot(kind='bar')"
   ]
  },
  {
   "cell_type": "code",
   "execution_count": 34,
   "metadata": {},
   "outputs": [
    {
     "data": {
      "text/plain": [
       "<matplotlib.axes._subplots.AxesSubplot at 0x24bc37f6c48>"
      ]
     },
     "execution_count": 34,
     "metadata": {},
     "output_type": "execute_result"
    },
    {
     "data": {
      "image/png": "[encoded data removed]",
      "text/plain": [
       "<Figure size 432x288 with 1 Axes>"
      ]
     },
     "metadata": {
      "needs_background": "light"
     },
     "output_type": "display_data"
    }
   ],
   "source": [
    "df['income'].value_counts().plot.bar()"
   ]
  },
  {
   "cell_type": "code",
   "execution_count": 35,
   "metadata": {},
   "outputs": [
    {
     "data": {
      "text/plain": [
       "<matplotlib.axes._subplots.AxesSubplot at 0x24bc3a3ae08>"
      ]
     },
     "execution_count": 35,
     "metadata": {},
     "output_type": "execute_result"
    },
    {
     "data": {
      "image/png": "[encoded data removed]",
      "text/plain": [
       "<Figure size 432x288 with 1 Axes>"
      ]
     },
     "metadata": {
      "needs_background": "light"
     },
     "output_type": "display_data"
    }
   ],
   "source": [
    "df.plot.hist(y='income')"
   ]
  },
  {
   "cell_type": "code",
   "execution_count": 36,
   "metadata": {},
   "outputs": [
    {
     "data": {
      "text/plain": [
       "<matplotlib.axes._subplots.AxesSubplot at 0x24bc3b25488>"
      ]
     },
     "execution_count": 36,
     "metadata": {},
     "output_type": "execute_result"
    },
    {
     "data": {
      "image/png": "[encoded data removed]",
      "text/plain": [
       "<Figure size 432x288 with 1 Axes>"
      ]
     },
     "metadata": {
      "needs_background": "light"
     },
     "output_type": "display_data"
    }
   ],
   "source": [
    "df.plot.hist(y='region')"
   ]
  },
  {
   "cell_type": "code",
   "execution_count": 37,
   "metadata": {},
   "outputs": [],
   "source": [
    "l = [83, 83, 81, 81, 81, 81, 81, 81, 80, 80, 61, 35, 32, 32, 32, 32, 32,\n",
    "32, 32, 32, 32, 32, 32, 32, 31, 31, 31, 31, 31]"
   ]
  },
  {
   "cell_type": "code",
   "execution_count": 42,
   "metadata": {},
   "outputs": [
    {
     "data": {
      "text/plain": [
       "49.89655172413793"
      ]
     },
     "execution_count": 42,
     "metadata": {},
     "output_type": "execute_result"
    }
   ],
   "source": [
    "from statistics import mean \n",
    "from statistics import mode\n",
    "from statistics import median\n",
    "mean(l)"
   ]
  },
  {
   "cell_type": "code",
   "execution_count": 43,
   "metadata": {},
   "outputs": [
    {
     "data": {
      "text/plain": [
       "32"
      ]
     },
     "execution_count": 43,
     "metadata": {},
     "output_type": "execute_result"
    }
   ],
   "source": [
    "mode(l)"
   ]
  },
  {
   "cell_type": "code",
   "execution_count": 44,
   "metadata": {},
   "outputs": [
    {
     "data": {
      "text/plain": [
       "32"
      ]
     },
     "execution_count": 44,
     "metadata": {},
     "output_type": "execute_result"
    }
   ],
   "source": [
    "median(l)"
   ]
  },
  {
   "cell_type": "code",
   "execution_count": 45,
   "metadata": {},
   "outputs": [
    {
     "data": {
      "text/plain": [
       "33.9"
      ]
     },
     "execution_count": 45,
     "metadata": {},
     "output_type": "execute_result"
    }
   ],
   "source": [
    "l1 = [55, 25, 35, 75, 21, 33, 37, 25, 15, 18]\n",
    "mean(l1)"
   ]
  },
  {
   "cell_type": "code",
   "execution_count": 46,
   "metadata": {},
   "outputs": [
    {
     "data": {
      "text/plain": [
       "17"
      ]
     },
     "execution_count": 46,
     "metadata": {},
     "output_type": "execute_result"
    }
   ],
   "source": [
    "l2 = [5, 17, 23, 31, 43, 49, 57, 17, 57, 17]\n",
    "mode(l2)"
   ]
  },
  {
   "cell_type": "code",
   "execution_count": 55,
   "metadata": {},
   "outputs": [
    {
     "data": {
      "text/plain": [
       "{x: 2, y: 8}"
      ]
     },
     "execution_count": 55,
     "metadata": {},
     "output_type": "execute_result"
    }
   ],
   "source": [
    "from sympy import symbols, Eq, solve\n",
    "x, y = symbols('x y')\n",
    "eq1 = Eq((2*x) - y + 4)\n",
    "eq2 = Eq((3*x) - y + 2)\n",
    "\n",
    "solve((eq1,eq2), (x, y))"
   ]
  },
  {
   "cell_type": "code",
   "execution_count": 53,
   "metadata": {},
   "outputs": [
    {
     "data": {
      "text/plain": [
       "{x: 2/3, y: 11/3}"
      ]
     },
     "execution_count": 53,
     "metadata": {},
     "output_type": "execute_result"
    }
   ],
   "source": [
    "from sympy import symbols, Eq, solve\n",
    "x, y = symbols('x y')\n",
    "eq1 = Eq(x + y - 5)\n",
    "eq2 = Eq(x - y + 3)\n",
    "solve((eq1,eq2), (x, y))"
   ]
  },
  {
   "cell_type": "code",
   "execution_count": null,
   "metadata": {},
   "outputs": [],
   "source": []
  },
  {
   "cell_type": "code",
   "execution_count": null,
   "metadata": {},
   "outputs": [],
   "source": []
  },
  {
   "cell_type": "code",
   "execution_count": null,
   "metadata": {},
   "outputs": [],
   "source": []
  },
  {
   "cell_type": "code",
   "execution_count": null,
   "metadata": {},
   "outputs": [],
   "source": []
  },
  {
   "cell_type": "code",
   "execution_count": null,
   "metadata": {},
   "outputs": [],
   "source": []
  },
  {
   "cell_type": "code",
   "execution_count": null,
   "metadata": {},
   "outputs": [],
   "source": []
  },
  {
   "cell_type": "code",
   "execution_count": null,
   "metadata": {},
   "outputs": [],
   "source": []
  },
  {
   "cell_type": "code",
   "execution_count": null,
   "metadata": {},
   "outputs": [],
   "source": []
  },
  {
   "cell_type": "code",
   "execution_count": null,
   "metadata": {},
   "outputs": [],
   "source": []
  },
  {
   "cell_type": "code",
   "execution_count": null,
   "metadata": {},
   "outputs": [],
   "source": []
  },
  {
   "cell_type": "code",
   "execution_count": null,
   "metadata": {},
   "outputs": [],
   "source": []
  },
  {
   "cell_type": "code",
   "execution_count": null,
   "metadata": {},
   "outputs": [],
   "source": []
  },
  {
   "cell_type": "code",
   "execution_count": null,
   "metadata": {},
   "outputs": [],
   "source": []
  },
  {
   "cell_type": "code",
   "execution_count": null,
   "metadata": {},
   "outputs": [],
   "source": []
  },
  {
   "cell_type": "code",
   "execution_count": null,
   "metadata": {},
   "outputs": [],
   "source": []
  },
  {
   "cell_type": "code",
   "execution_count": null,
   "metadata": {},
   "outputs": [],
   "source": []
  }
 ],
 "metadata": {
  "kernelspec": {
   "display_name": "Python 3",
   "language": "python",
   "name": "python3"
  },
  "language_info": {
   "codemirror_mode": {
    "name": "ipython",
    "version": 3
   },
   "file_extension": ".py",
   "mimetype": "text/x-python",
   "name": "python",
   "nbconvert_exporter": "python",
   "pygments_lexer": "ipython3",
   "version": "3.7.4"
  }
 },
 "nbformat": 4,
 "nbformat_minor": 2
}
