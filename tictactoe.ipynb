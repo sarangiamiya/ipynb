{
 "cells": [
  {
   "cell_type": "code",
   "execution_count": 1,
   "metadata": {},
   "outputs": [
    {
     "name": "stdout",
     "output_type": "stream",
     "text": [
      "What size of game board? 5\n"
     ]
    }
   ],
   "source": [
    "board_size = int(input(\"What size of game board? \"))"
   ]
  },
  {
   "cell_type": "code",
   "execution_count": 2,
   "metadata": {},
   "outputs": [
    {
     "data": {
      "text/plain": [
       "5"
      ]
     },
     "execution_count": 2,
     "metadata": {},
     "output_type": "execute_result"
    }
   ],
   "source": [
    "board_size"
   ]
  },
  {
   "cell_type": "code",
   "execution_count": 3,
   "metadata": {},
   "outputs": [
    {
     "name": "stdout",
     "output_type": "stream",
     "text": [
      " ---  ---  ---  ---  --- \n",
      "|   |   |   |   |   |   \n"
     ]
    }
   ],
   "source": [
    "print(\" --- \" * board_size)\n",
    "print(\"|   \" * (board_size + 1))"
   ]
  },
  {
   "cell_type": "code",
   "execution_count": 11,
   "metadata": {},
   "outputs": [
    {
     "name": "stdout",
     "output_type": "stream",
     "text": [
      "What size of game board? 3\n",
      " ---  ---  --- \n",
      "|   |   |   |   \n",
      " ---  ---  --- \n",
      "|   |   |   |   \n",
      " ---  ---  --- \n",
      "|   |   |   |   \n"
     ]
    }
   ],
   "source": [
    "def print_horiz_line():\n",
    "    print(\" --- \" * board_size)\n",
    "\n",
    "def print_vert_line():\n",
    "    print(\"|   \" * (board_size + 1))\n",
    "\n",
    "if __name__ == \"__main__\":\n",
    "    board_size = int(input(\"What size of game board? \"))\n",
    "\n",
    "for index in range(board_size):\n",
    "    print_horiz_line()\n",
    "    print_vert_line()\n",
    "#print horiz_line()"
   ]
  },
  {
   "cell_type": "code",
   "execution_count": 18,
   "metadata": {},
   "outputs": [
    {
     "name": "stdout",
     "output_type": "stream",
     "text": [
      "[0, 1, 2]\n",
      "[0, 1, 2]\n",
      "[0, 2, 1]\n",
      "Draw..\n"
     ]
    }
   ],
   "source": [
    "from random import sample\n",
    "\n",
    "\n",
    "def tic_tac_toe():\n",
    "    board = []\n",
    "    s = 3\n",
    "    win = False\n",
    "\n",
    "    for x in range(s):\n",
    "        y = sample(range(s), s)\n",
    "        board.append(y)\n",
    "        print(y)\n",
    "\n",
    "\n",
    "    #horizontal check:\n",
    "    for x in range(s):\n",
    "        if (board[x][0] == board[x][1] == board[x][2]) and board[x][0] != 0:\n",
    "            print(\"Player {} wins!\".format(board[x][0]))\n",
    "            win = True\n",
    "\n",
    "    #vertical check:\n",
    "    for x in range(s):\n",
    "        if (board[0][x] == board[1][x] == board[2][x]) and board[0][x] != 0:\n",
    "            print(\"Player {} wins!\".format(board[0][x]))\n",
    "            win = True\n",
    "\n",
    "    #diagonal_check:\n",
    "    if (board[0][0] == board[1][1] == board[2][2]) and board[1][1] != 0:\n",
    "        print(\"Player {} wins!\".format(board[1][1]))\n",
    "        win = True\n",
    "    elif (board[0][2] == board[1][1] == board[2][0]) and board[1][1] != 0:\n",
    "        print(\"Player {} wins!\".format(board[1][1]))\n",
    "        win = True\n",
    "\n",
    "    if not win:\n",
    "        print(\"Draw..\")\n",
    "\n",
    "tic_tac_toe()"
   ]
  },
  {
   "cell_type": "code",
   "execution_count": 21,
   "metadata": {},
   "outputs": [
    {
     "name": "stdout",
     "output_type": "stream",
     "text": [
      "Player 1 won\n"
     ]
    }
   ],
   "source": [
    "#0 means an empty square\n",
    "#1 means that player 1 put their token in that space.\n",
    "#2 means that player 2 put their token in that space.\n",
    "\n",
    "#task: tell me whether anyone has won, and tell me which player won, if any.\n",
    "#task source http://www.practicepython.org/exercise/2015/11/16/26-check-tic-tac-toe.html\n",
    "\n",
    "game = [[1, 1, 2],[0, 1, 2],[1, 2, 1]]\n",
    "\n",
    "winner = \"\"\n",
    "if game[0][0] == game[0][1] and game[0][0] == game[0][2]:\n",
    "        winner = game[0][0]\n",
    "elif game[0][0] == game[1][0] and game[0][0] == game[2][0]:\n",
    "        winner = game[0][0]\n",
    "elif game[2][0] == game[2][1] and game[2][0] == game[2][2]:\n",
    "        winner = game[2][0]\n",
    "elif game[0][2] == game[1][2] and game[0][2] == game[2][2]:\n",
    "        winner = game[0][2]\n",
    "elif game[1][0] == game[1][1] and game[1][0] == game[1][2]:\n",
    "        winner = game[1][0]\n",
    "elif game[0][0] == game[1][1] and game[0][0] == game[2][2]:\n",
    "        winner = game[0][0]\n",
    "if winner == 1:\n",
    "    print(\"Player 1 won\")\n",
    "elif winner == 2:\n",
    "    print(\"Player 2 won\")"
   ]
  },
  {
   "cell_type": "code",
   "execution_count": 24,
   "metadata": {},
   "outputs": [
    {
     "name": "stdout",
     "output_type": "stream",
     "text": [
      "No winner.\n"
     ]
    }
   ],
   "source": [
    "def tttrowcheck(row):\n",
    "    match=True\n",
    "    for x in row:\n",
    "        if x != row[0]:\n",
    "            match=False\n",
    "            break\n",
    "    return match\n",
    "\n",
    "def tttwincheck(game):\n",
    "    g=game\n",
    "    win=0\n",
    "    player=[]\n",
    "    proceed = 0\n",
    "    for x in range(0,len(g)):\n",
    "        if len(g) != len(g[x]):\n",
    "            return str(\"Game board must be square! Fix it!\")\n",
    "            proceed += 1\n",
    "    if proceed == 0:\n",
    "        for i in range(0,len(g)):       #check rows\n",
    "            if tttrowcheck(g[i])==True and g[i][0] !=0:\n",
    "                win += 1\n",
    "                player.append(g[i][0])\n",
    "        for j in range(0,len(g[0])):    #check columns    \n",
    "            r=[g[i][j] for i in range(0,len(g))]\n",
    "            if tttrowcheck(r)==True and g[0][j] !=0:\n",
    "                win += 1\n",
    "                player.append(g[0][j])\n",
    "        diag1=[g[i][i] for i in range(0,len(g))]        #check diagonals\n",
    "        diag2=[g[i][len(g[i])-1-i] for i in range(0,len(g))]\n",
    "        if tttrowcheck(diag1)==True and diag1[0] !=0:\n",
    "            win += 1\n",
    "            player.append(diag1[0])\n",
    "        if tttrowcheck(diag2)==True and diag2[0] !=0:\n",
    "            win += 1\n",
    "            player.append(diag2[0])\n",
    "        player=list(set(player))\n",
    "        if len(player) > 1:\n",
    "            return str(\"Multiple winners. You done messed up.\")\n",
    "        elif win > 0:\n",
    "            return str(\"Player %d wins!\" %player[0])\n",
    "        else:\n",
    "            return str(\"No winner.\")\n",
    "            \n",
    "game=[[2,2,1,0],\n",
    "      [2,0,2,0],\n",
    "      [1,0,1,1],\n",
    "      [2,2,2,0]]\n",
    "\n",
    "result=tttwincheck(game)\n",
    "print(result)"
   ]
  },
  {
   "cell_type": "code",
   "execution_count": null,
   "metadata": {},
   "outputs": [],
   "source": []
  }
 ],
 "metadata": {
  "kernelspec": {
   "display_name": "Python 3",
   "language": "python",
   "name": "python3"
  },
  "language_info": {
   "codemirror_mode": {
    "name": "ipython",
    "version": 3
   },
   "file_extension": ".py",
   "mimetype": "text/x-python",
   "name": "python",
   "nbconvert_exporter": "python",
   "pygments_lexer": "ipython3",
   "version": "3.7.2"
  }
 },
 "nbformat": 4,
 "nbformat_minor": 2
}
