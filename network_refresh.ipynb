{
 "cells": [
  {
   "cell_type": "code",
   "execution_count": 1,
   "metadata": {},
   "outputs": [],
   "source": [
    "import pandas as pd\n",
    "import json"
   ]
  },
  {
   "cell_type": "code",
   "execution_count": 2,
   "metadata": {
    "collapsed": true
   },
   "outputs": [
    {
     "data": {
      "text/html": [
       "<div>\n",
       "<style scoped>\n",
       "    .dataframe tbody tr th:only-of-type {\n",
       "        vertical-align: middle;\n",
       "    }\n",
       "\n",
       "    .dataframe tbody tr th {\n",
       "        vertical-align: top;\n",
       "    }\n",
       "\n",
       "    .dataframe thead th {\n",
       "        text-align: right;\n",
       "    }\n",
       "</style>\n",
       "<table border=\"1\" class=\"dataframe\">\n",
       "  <thead>\n",
       "    <tr style=\"text-align: right;\">\n",
       "      <th></th>\n",
       "      <th>N/E Type</th>\n",
       "      <th>OSSID</th>\n",
       "      <th>N/E Instance</th>\n",
       "      <th>Operation</th>\n",
       "      <th>Managed Object RDN</th>\n",
       "      <th>Param Name</th>\n",
       "      <th>Old Value</th>\n",
       "      <th>New Value</th>\n",
       "      <th>Test Data</th>\n",
       "    </tr>\n",
       "  </thead>\n",
       "  <tbody>\n",
       "    <tr>\n",
       "      <th>0</th>\n",
       "      <td>ENodeB</td>\n",
       "      <td>ENM1</td>\n",
       "      <td>QLD_WNCU15_WOOLLOONGABBA_NC_TEST_BASE_579901</td>\n",
       "      <td>System Constant</td>\n",
       "      <td>MeContext=QLD_WNCU15_WOOLLOONGABBA_NC_TEST_BAS...</td>\n",
       "      <td>1185</td>\n",
       "      <td>DEFAULT</td>\n",
       "      <td>9</td>\n",
       "      <td>{'amos_value': 'DEFAULT', 'axiom_value': '9'}</td>\n",
       "    </tr>\n",
       "    <tr>\n",
       "      <th>1</th>\n",
       "      <td>ENodeB</td>\n",
       "      <td>ENM1</td>\n",
       "      <td>QLD_WNCU15_WOOLLOONGABBA_NC_TEST_BASE_579901</td>\n",
       "      <td>System Constant</td>\n",
       "      <td>MeContext=QLD_WNCU15_WOOLLOONGABBA_NC_TEST_BAS...</td>\n",
       "      <td>1717</td>\n",
       "      <td>DEFAULT</td>\n",
       "      <td>90</td>\n",
       "      <td>{'amos_value': 'DEFAULT', 'axiom_value': '90'}</td>\n",
       "    </tr>\n",
       "    <tr>\n",
       "      <th>2</th>\n",
       "      <td>ENodeB</td>\n",
       "      <td>ENM1</td>\n",
       "      <td>QLD_WNCU15_WOOLLOONGABBA_NC_TEST_BASE_579901</td>\n",
       "      <td>System Constant</td>\n",
       "      <td>MeContext=QLD_WNCU15_WOOLLOONGABBA_NC_TEST_BAS...</td>\n",
       "      <td>1718</td>\n",
       "      <td>DEFAULT</td>\n",
       "      <td>90</td>\n",
       "      <td>{'amos_value': 'DEFAULT', 'axiom_value': '90'}</td>\n",
       "    </tr>\n",
       "    <tr>\n",
       "      <th>3</th>\n",
       "      <td>ENodeB</td>\n",
       "      <td>ENM1</td>\n",
       "      <td>QLD_WNCU15_WOOLLOONGABBA_NC_TEST_BASE_579901</td>\n",
       "      <td>System Constant</td>\n",
       "      <td>MeContext=QLD_WNCU15_WOOLLOONGABBA_NC_TEST_BAS...</td>\n",
       "      <td>RC13</td>\n",
       "      <td>DEFAULT</td>\n",
       "      <td>3</td>\n",
       "      <td>{'amos_value': 'DEFAULT', 'axiom_value': '3'}</td>\n",
       "    </tr>\n",
       "    <tr>\n",
       "      <th>4</th>\n",
       "      <td>ENodeB</td>\n",
       "      <td>ENM1</td>\n",
       "      <td>QLD_WNCU15_WOOLLOONGABBA_NC_TEST_BASE_579901</td>\n",
       "      <td>System Constant</td>\n",
       "      <td>MeContext=QLD_WNCU15_WOOLLOONGABBA_NC_TEST_BAS...</td>\n",
       "      <td>RC18</td>\n",
       "      <td>DEFAULT</td>\n",
       "      <td>1</td>\n",
       "      <td>{'amos_value': 'DEFAULT', 'axiom_value': '1'}</td>\n",
       "    </tr>\n",
       "  </tbody>\n",
       "</table>\n",
       "</div>"
      ],
      "text/plain": [
       "  N/E Type OSSID                                  N/E Instance  \\\n",
       "0   ENodeB  ENM1  QLD_WNCU15_WOOLLOONGABBA_NC_TEST_BASE_579901   \n",
       "1   ENodeB  ENM1  QLD_WNCU15_WOOLLOONGABBA_NC_TEST_BASE_579901   \n",
       "2   ENodeB  ENM1  QLD_WNCU15_WOOLLOONGABBA_NC_TEST_BASE_579901   \n",
       "3   ENodeB  ENM1  QLD_WNCU15_WOOLLOONGABBA_NC_TEST_BASE_579901   \n",
       "4   ENodeB  ENM1  QLD_WNCU15_WOOLLOONGABBA_NC_TEST_BASE_579901   \n",
       "\n",
       "         Operation                                 Managed Object RDN  \\\n",
       "0  System Constant  MeContext=QLD_WNCU15_WOOLLOONGABBA_NC_TEST_BAS...   \n",
       "1  System Constant  MeContext=QLD_WNCU15_WOOLLOONGABBA_NC_TEST_BAS...   \n",
       "2  System Constant  MeContext=QLD_WNCU15_WOOLLOONGABBA_NC_TEST_BAS...   \n",
       "3  System Constant  MeContext=QLD_WNCU15_WOOLLOONGABBA_NC_TEST_BAS...   \n",
       "4  System Constant  MeContext=QLD_WNCU15_WOOLLOONGABBA_NC_TEST_BAS...   \n",
       "\n",
       "  Param Name Old Value  New Value  \\\n",
       "0       1185   DEFAULT          9   \n",
       "1       1717   DEFAULT         90   \n",
       "2       1718   DEFAULT         90   \n",
       "3       RC13   DEFAULT          3   \n",
       "4       RC18   DEFAULT          1   \n",
       "\n",
       "                                        Test Data  \n",
       "0   {'amos_value': 'DEFAULT', 'axiom_value': '9'}  \n",
       "1  {'amos_value': 'DEFAULT', 'axiom_value': '90'}  \n",
       "2  {'amos_value': 'DEFAULT', 'axiom_value': '90'}  \n",
       "3   {'amos_value': 'DEFAULT', 'axiom_value': '3'}  \n",
       "4   {'amos_value': 'DEFAULT', 'axiom_value': '1'}  "
      ]
     },
     "execution_count": 2,
     "metadata": {},
     "output_type": "execute_result"
    }
   ],
   "source": [
    "df = pd.read_excel('Execution_Report_system_constant.xlsx')\n",
    "df.head()"
   ]
  },
  {
   "cell_type": "code",
   "execution_count": 3,
   "metadata": {
    "collapsed": true
   },
   "outputs": [
    {
     "data": {
      "text/plain": [
       "0        {'amos_value': 'DEFAULT', 'axiom_value': '9'}\n",
       "1       {'amos_value': 'DEFAULT', 'axiom_value': '90'}\n",
       "2       {'amos_value': 'DEFAULT', 'axiom_value': '90'}\n",
       "3        {'amos_value': 'DEFAULT', 'axiom_value': '3'}\n",
       "4        {'amos_value': 'DEFAULT', 'axiom_value': '1'}\n",
       "5        {'amos_value': 'DEFAULT', 'axiom_value': '1'}\n",
       "6        {'amos_value': 'DEFAULT', 'axiom_value': '1'}\n",
       "7     {'amos_value': 'DEFAULT', 'axiom_value': '1000'}\n",
       "8        {'amos_value': 'DEFAULT', 'axiom_value': '4'}\n",
       "9      {'amos_value': 'DEFAULT', 'axiom_value': '271'}\n",
       "10      {'amos_value': 'DEFAULT', 'axiom_value': '63'}\n",
       "11       {'amos_value': 'DEFAULT', 'axiom_value': '0'}\n",
       "12       {'amos_value': 'DEFAULT', 'axiom_value': '0'}\n",
       "13       {'amos_value': 'DEFAULT', 'axiom_value': '5'}\n",
       "14     {'amos_value': 'DEFAULT', 'axiom_value': '129'}\n",
       "15       {'amos_value': 'DEFAULT', 'axiom_value': '4'}\n",
       "16       {'amos_value': 'DEFAULT', 'axiom_value': '7'}\n",
       "17     {'amos_value': 'DEFAULT', 'axiom_value': '150'}\n",
       "18     {'amos_value': 'DEFAULT', 'axiom_value': '977'}\n",
       "Name: Test Data, dtype: object"
      ]
     },
     "execution_count": 3,
     "metadata": {},
     "output_type": "execute_result"
    }
   ],
   "source": [
    "df['Test Data']"
   ]
  },
  {
   "cell_type": "code",
   "execution_count": 20,
   "metadata": {
    "collapsed": true
   },
   "outputs": [
    {
     "name": "stdout",
     "output_type": "stream",
     "text": [
      "{'amos_value': 'DEFAULT', 'axiom_value': '9'}\n",
      " 'DEFAULT'\n",
      "{'amos_value': 'DEFAULT', 'axiom_value': '90'}\n",
      " 'DEFAULT'\n",
      "{'amos_value': 'DEFAULT', 'axiom_value': '90'}\n",
      " 'DEFAULT'\n",
      "{'amos_value': 'DEFAULT', 'axiom_value': '3'}\n",
      " 'DEFAULT'\n",
      "{'amos_value': 'DEFAULT', 'axiom_value': '1'}\n",
      " 'DEFAULT'\n",
      "{'amos_value': 'DEFAULT', 'axiom_value': '1'}\n",
      " 'DEFAULT'\n",
      "{'amos_value': 'DEFAULT', 'axiom_value': '1'}\n",
      " 'DEFAULT'\n",
      "{'amos_value': 'DEFAULT', 'axiom_value': '1000'}\n",
      " 'DEFAULT'\n",
      "{'amos_value': 'DEFAULT', 'axiom_value': '4'}\n",
      " 'DEFAULT'\n",
      "{'amos_value': 'DEFAULT', 'axiom_value': '271'}\n",
      " 'DEFAULT'\n",
      "{'amos_value': 'DEFAULT', 'axiom_value': '63'}\n",
      " 'DEFAULT'\n",
      "{'amos_value': 'DEFAULT', 'axiom_value': '0'}\n",
      " 'DEFAULT'\n",
      "{'amos_value': 'DEFAULT', 'axiom_value': '0'}\n",
      " 'DEFAULT'\n",
      "{'amos_value': 'DEFAULT', 'axiom_value': '5'}\n",
      " 'DEFAULT'\n",
      "{'amos_value': 'DEFAULT', 'axiom_value': '129'}\n",
      " 'DEFAULT'\n",
      "{'amos_value': 'DEFAULT', 'axiom_value': '4'}\n",
      " 'DEFAULT'\n",
      "{'amos_value': 'DEFAULT', 'axiom_value': '7'}\n",
      " 'DEFAULT'\n",
      "{'amos_value': 'DEFAULT', 'axiom_value': '150'}\n",
      " 'DEFAULT'\n",
      "{'amos_value': 'DEFAULT', 'axiom_value': '977'}\n",
      " 'DEFAULT'\n"
     ]
    }
   ],
   "source": [
    "for val in df['Test Data']:\n",
    "    #print(type(val))\n",
    "    #print(val)\n",
    "    #print(type(val.split(\",\")[0]))\n",
    "    if val.split(\",\")[0].split(\":\")[-1] != val.split(\",\")[1].split(\":\")[-1]:\n",
    "        new_val = val.split(\",\")[1].split(\":\")[-1]\n",
    "    \n",
    "    print(val.split(\",\")[0].split(\":\")[-1])"
   ]
  },
  {
   "cell_type": "code",
   "execution_count": 40,
   "metadata": {
    "collapsed": true
   },
   "outputs": [
    {
     "name": "stdout",
     "output_type": "stream",
     "text": [
      "key ->  Test Data\n",
      "value ->  {0: \"{'amos_value': 'DEFAULT', 'axiom_value': '9'}\", 1: \"{'amos_value': 'DEFAULT', 'axiom_value': '90'}\", 2: \"{'amos_value': 'DEFAULT', 'axiom_value': '90'}\", 3: \"{'amos_value': 'DEFAULT', 'axiom_value': '3'}\", 4: \"{'amos_value': 'DEFAULT', 'axiom_value': '1'}\", 5: \"{'amos_value': 'DEFAULT', 'axiom_value': '1'}\", 6: \"{'amos_value': 'DEFAULT', 'axiom_value': '1'}\", 7: \"{'amos_value': 'DEFAULT', 'axiom_value': '1000'}\", 8: \"{'amos_value': 'DEFAULT', 'axiom_value': '4'}\", 9: \"{'amos_value': 'DEFAULT', 'axiom_value': '271'}\", 10: \"{'amos_value': 'DEFAULT', 'axiom_value': '63'}\", 11: \"{'amos_value': 'DEFAULT', 'axiom_value': '0'}\", 12: \"{'amos_value': 'DEFAULT', 'axiom_value': '0'}\", 13: \"{'amos_value': 'DEFAULT', 'axiom_value': '5'}\", 14: \"{'amos_value': 'DEFAULT', 'axiom_value': '129'}\", 15: \"{'amos_value': 'DEFAULT', 'axiom_value': '4'}\", 16: \"{'amos_value': 'DEFAULT', 'axiom_value': '7'}\", 17: \"{'amos_value': 'DEFAULT', 'axiom_value': '150'}\", 18: \"{'amos_value': 'DEFAULT', 'axiom_value': '977'}\"}\n",
      "key ->  Param Name\n",
      "value ->  {0: '1185', 1: '1717', 2: '1718', 3: 'RC13', 4: 'RC18', 5: 'RC34', 6: 'RC35', 7: 'RP100', 8: 'RP111', 9: 'RP150', 10: 'RP22', 11: 'RP270', 12: 'RP28', 13: 'RP30', 14: 'RP354', 15: 'RP36', 16: 'RP37', 17: 'RP45', 18: 'RP74'}\n"
     ]
    }
   ],
   "source": [
    "param_name_test_data = dict()\n",
    "for key, val in df.loc[:,['Test Data', 'Param Name']].to_dict().items():\n",
    "    print(\"key -> \",key)\n",
    "    print(\"value -> \",val)\n",
    "    param_name_test_data[key] = val\n",
    "    #print(type(val))"
   ]
  },
  {
   "cell_type": "code",
   "execution_count": 45,
   "metadata": {
    "collapsed": true
   },
   "outputs": [
    {
     "data": {
      "text/plain": [
       "{0: \"{'amos_value': 'DEFAULT', 'axiom_value': '9'}\",\n",
       " 1: \"{'amos_value': 'DEFAULT', 'axiom_value': '90'}\",\n",
       " 2: \"{'amos_value': 'DEFAULT', 'axiom_value': '90'}\",\n",
       " 3: \"{'amos_value': 'DEFAULT', 'axiom_value': '3'}\",\n",
       " 4: \"{'amos_value': 'DEFAULT', 'axiom_value': '1'}\",\n",
       " 5: \"{'amos_value': 'DEFAULT', 'axiom_value': '1'}\",\n",
       " 6: \"{'amos_value': 'DEFAULT', 'axiom_value': '1'}\",\n",
       " 7: \"{'amos_value': 'DEFAULT', 'axiom_value': '1000'}\",\n",
       " 8: \"{'amos_value': 'DEFAULT', 'axiom_value': '4'}\",\n",
       " 9: \"{'amos_value': 'DEFAULT', 'axiom_value': '271'}\",\n",
       " 10: \"{'amos_value': 'DEFAULT', 'axiom_value': '63'}\",\n",
       " 11: \"{'amos_value': 'DEFAULT', 'axiom_value': '0'}\",\n",
       " 12: \"{'amos_value': 'DEFAULT', 'axiom_value': '0'}\",\n",
       " 13: \"{'amos_value': 'DEFAULT', 'axiom_value': '5'}\",\n",
       " 14: \"{'amos_value': 'DEFAULT', 'axiom_value': '129'}\",\n",
       " 15: \"{'amos_value': 'DEFAULT', 'axiom_value': '4'}\",\n",
       " 16: \"{'amos_value': 'DEFAULT', 'axiom_value': '7'}\",\n",
       " 17: \"{'amos_value': 'DEFAULT', 'axiom_value': '150'}\",\n",
       " 18: \"{'amos_value': 'DEFAULT', 'axiom_value': '977'}\"}"
      ]
     },
     "execution_count": 45,
     "metadata": {},
     "output_type": "execute_result"
    }
   ],
   "source": [
    "param_name_test_data['Test Data']"
   ]
  },
  {
   "cell_type": "code",
   "execution_count": 49,
   "metadata": {},
   "outputs": [
    {
     "data": {
      "text/plain": [
       "19"
      ]
     },
     "execution_count": 49,
     "metadata": {},
     "output_type": "execute_result"
    }
   ],
   "source": [
    "len(param_name_test_data['Test Data'].values())"
   ]
  },
  {
   "cell_type": "code",
   "execution_count": 54,
   "metadata": {},
   "outputs": [
    {
     "ename": "AttributeError",
     "evalue": "'dict' object has no attribute 'split'",
     "output_type": "error",
     "traceback": [
      "\u001b[1;31m---------------------------------------------------------------------------\u001b[0m",
      "\u001b[1;31mAttributeError\u001b[0m                            Traceback (most recent call last)",
      "\u001b[1;32m<ipython-input-54-5375c3b976ab>\u001b[0m in \u001b[0;36m<module>\u001b[1;34m\u001b[0m\n\u001b[0;32m      1\u001b[0m \u001b[1;32mfor\u001b[0m \u001b[0mi\u001b[0m \u001b[1;32min\u001b[0m \u001b[0mrange\u001b[0m\u001b[1;33m(\u001b[0m\u001b[1;36m0\u001b[0m\u001b[1;33m,\u001b[0m \u001b[0mlen\u001b[0m\u001b[1;33m(\u001b[0m\u001b[0mparam_name_test_data\u001b[0m\u001b[1;33m[\u001b[0m\u001b[1;34m'Test Data'\u001b[0m\u001b[1;33m]\u001b[0m\u001b[1;33m.\u001b[0m\u001b[0mvalues\u001b[0m\u001b[1;33m(\u001b[0m\u001b[1;33m)\u001b[0m\u001b[1;33m)\u001b[0m\u001b[1;33m)\u001b[0m\u001b[1;33m:\u001b[0m\u001b[1;33m\u001b[0m\u001b[1;33m\u001b[0m\u001b[0m\n\u001b[0;32m      2\u001b[0m     \u001b[1;32mif\u001b[0m \u001b[0mparam_name_test_data\u001b[0m\u001b[1;33m[\u001b[0m\u001b[1;34m'Test Data'\u001b[0m\u001b[1;33m]\u001b[0m\u001b[1;33m[\u001b[0m\u001b[0mi\u001b[0m\u001b[1;33m]\u001b[0m\u001b[1;33m.\u001b[0m\u001b[0msplit\u001b[0m\u001b[1;33m(\u001b[0m\u001b[1;34m\",\"\u001b[0m\u001b[1;33m)\u001b[0m\u001b[1;33m[\u001b[0m\u001b[1;36m0\u001b[0m\u001b[1;33m]\u001b[0m\u001b[1;33m.\u001b[0m\u001b[0msplit\u001b[0m\u001b[1;33m(\u001b[0m\u001b[1;34m\":\"\u001b[0m\u001b[1;33m)\u001b[0m\u001b[1;33m[\u001b[0m\u001b[1;33m-\u001b[0m\u001b[1;36m1\u001b[0m\u001b[1;33m]\u001b[0m \u001b[1;33m!=\u001b[0m \u001b[0mparam_name_test_data\u001b[0m\u001b[1;33m[\u001b[0m\u001b[1;34m'Test Data'\u001b[0m\u001b[1;33m]\u001b[0m\u001b[1;33m[\u001b[0m\u001b[0mi\u001b[0m\u001b[1;33m]\u001b[0m\u001b[1;33m.\u001b[0m\u001b[0msplit\u001b[0m\u001b[1;33m(\u001b[0m\u001b[1;34m\",\"\u001b[0m\u001b[1;33m)\u001b[0m\u001b[1;33m[\u001b[0m\u001b[1;36m1\u001b[0m\u001b[1;33m]\u001b[0m\u001b[1;33m.\u001b[0m\u001b[0msplit\u001b[0m\u001b[1;33m(\u001b[0m\u001b[1;34m\":\"\u001b[0m\u001b[1;33m)\u001b[0m\u001b[1;33m[\u001b[0m\u001b[1;33m-\u001b[0m\u001b[1;36m1\u001b[0m\u001b[1;33m]\u001b[0m\u001b[1;33m:\u001b[0m\u001b[1;33m\u001b[0m\u001b[1;33m\u001b[0m\u001b[0m\n\u001b[1;32m----> 3\u001b[1;33m         \u001b[0mnew_val\u001b[0m \u001b[1;33m=\u001b[0m \u001b[0mparam_name_test_data\u001b[0m\u001b[1;33m.\u001b[0m\u001b[0msplit\u001b[0m\u001b[1;33m(\u001b[0m\u001b[1;34m\",\"\u001b[0m\u001b[1;33m)\u001b[0m\u001b[1;33m[\u001b[0m\u001b[1;36m1\u001b[0m\u001b[1;33m]\u001b[0m\u001b[1;33m.\u001b[0m\u001b[0msplit\u001b[0m\u001b[1;33m(\u001b[0m\u001b[1;34m\":\"\u001b[0m\u001b[1;33m)\u001b[0m\u001b[1;33m[\u001b[0m\u001b[1;33m-\u001b[0m\u001b[1;36m1\u001b[0m\u001b[1;33m]\u001b[0m\u001b[1;33m\u001b[0m\u001b[1;33m\u001b[0m\u001b[0m\n\u001b[0m\u001b[0;32m      4\u001b[0m \u001b[1;33m\u001b[0m\u001b[0m\n",
      "\u001b[1;31mAttributeError\u001b[0m: 'dict' object has no attribute 'split'"
     ]
    }
   ],
   "source": [
    "for i in range(0, len(param_name_test_data['Test Data'].values())):\n",
    "    if param_name_test_data['Test Data'][i].split(\",\")[0].split(\":\")[-1] != param_name_test_data['Test Data'][i].split(\",\")[1].split(\":\")[-1]:\n",
    "        new_val = param_name_test_data['Test Data'][i].split(\",\")[1].split(\":\")[-1]\n",
    "    "
   ]
  },
  {
   "cell_type": "code",
   "execution_count": 56,
   "metadata": {},
   "outputs": [
    {
     "data": {
      "text/plain": [
       "\" 'DEFAULT'\""
      ]
     },
     "execution_count": 56,
     "metadata": {},
     "output_type": "execute_result"
    }
   ],
   "source": [
    "param_name_test_data['Test Data'][i].split(\",\")[0].split(\":\")[-1]"
   ]
  },
  {
   "cell_type": "code",
   "execution_count": 58,
   "metadata": {},
   "outputs": [
    {
     "data": {
      "text/plain": [
       "\" '90'}\""
      ]
     },
     "execution_count": 58,
     "metadata": {},
     "output_type": "execute_result"
    }
   ],
   "source": [
    "param_name_test_data['Test Data'][i+1].split(\",\")[1].split(\":\")[-1]"
   ]
  },
  {
   "cell_type": "code",
   "execution_count": 59,
   "metadata": {},
   "outputs": [
    {
     "data": {
      "text/plain": [
       "\"{'amos_value': 'DEFAULT', 'axiom_value': '9'}\""
      ]
     },
     "execution_count": 59,
     "metadata": {},
     "output_type": "execute_result"
    }
   ],
   "source": [
    "param_name_test_data['Test Data'][i]"
   ]
  },
  {
   "cell_type": "code",
   "execution_count": 65,
   "metadata": {},
   "outputs": [
    {
     "data": {
      "text/plain": [
       "{'amos_value': 'DEFAULT', 'axiom_value': '9'}"
      ]
     },
     "execution_count": 65,
     "metadata": {},
     "output_type": "execute_result"
    }
   ],
   "source": [
    "eval(param_name_test_data['Test Data'][i])"
   ]
  },
  {
   "cell_type": "code",
   "execution_count": 66,
   "metadata": {},
   "outputs": [
    {
     "name": "stdout",
     "output_type": "stream",
     "text": [
      " '9'}\n",
      " '90'}\n",
      " '90'}\n",
      " '3'}\n",
      " '1'}\n",
      " '1'}\n",
      " '1'}\n",
      " '1000'}\n",
      " '4'}\n",
      " '271'}\n",
      " '63'}\n",
      " '0'}\n",
      " '0'}\n",
      " '5'}\n",
      " '129'}\n",
      " '4'}\n",
      " '7'}\n",
      " '150'}\n",
      " '977'}\n"
     ]
    }
   ],
   "source": [
    "for i in range(0, len(param_name_test_data['Test Data'].values())):\n",
    "    if param_name_test_data['Test Data'][i].split(\",\")[0].split(\":\")[-1] != param_name_test_data['Test Data'][i].split(\",\")[1].split(\":\")[-1]:\n",
    "        new_value = param_name_test_data['Test Data'][i].split(\",\")[1].split(\":\")[-1]"
   ]
  },
  {
   "cell_type": "code",
   "execution_count": 64,
   "metadata": {},
   "outputs": [
    {
     "data": {
      "text/plain": [
       "dict"
      ]
     },
     "execution_count": 64,
     "metadata": {},
     "output_type": "execute_result"
    }
   ],
   "source": [
    "type(eval(param_name_test_data['Test Data'][i]))"
   ]
  },
  {
   "cell_type": "code",
   "execution_count": null,
   "metadata": {},
   "outputs": [],
   "source": []
  },
  {
   "cell_type": "code",
   "execution_count": null,
   "metadata": {},
   "outputs": [],
   "source": []
  },
  {
   "cell_type": "code",
   "execution_count": null,
   "metadata": {},
   "outputs": [],
   "source": []
  },
  {
   "cell_type": "code",
   "execution_count": 2,
   "metadata": {},
   "outputs": [],
   "source": [
    "with open('REPORT_DATA.json') as f:\n",
    "      data = json.load(f)"
   ]
  },
  {
   "cell_type": "code",
   "execution_count": 6,
   "metadata": {
    "collapsed": true
   },
   "outputs": [
    {
     "data": {
      "text/plain": [
       "{'SubNetwork=Telstra,SubNetwork=QLD_Woolloongabba_Mod,MeContext=QLD_WNCU15_WOOLLOONGABBA_NC_TEST_BASE_579901:Network Refresh Status': {'FDN': 'SubNetwork=Telstra,SubNetwork=QLD_Woolloongabba_Mod,MeContext=QLD_WNCU15_WOOLLOONGABBA_NC_TEST_BASE_579901',\n",
       "  'MASTER_MOD_INSTANCE': 'network_refresh_ref_admin_20200831_060204_056',\n",
       "  'MASTER_MOD_NAME': 'network_refresh_ref',\n",
       "  'MODULE_INSTANCE': 'module_executor_admin_20200831_060209_285',\n",
       "  'MODULE_NAME': 'module_executor',\n",
       "  'NEW_VALUE': 'None',\n",
       "  'NE_TYPE': 'ENodeB',\n",
       "  'OLD_VALUE': 'None',\n",
       "  'OPERATION': 'Network Refresh Status',\n",
       "  'OSS_ID': 'ENM1',\n",
       "  'PARAM_NAME': 'None',\n",
       "  'PARENT_NODEB': 'None',\n",
       "  'STATUS': 'SUCCESS',\n",
       "  'TIMESTAMP': '2020-08-31 16-02-24'}}"
      ]
     },
     "execution_count": 6,
     "metadata": {},
     "output_type": "execute_result"
    }
   ],
   "source": [
    "data"
   ]
  },
  {
   "cell_type": "code",
   "execution_count": 7,
   "metadata": {},
   "outputs": [
    {
     "data": {
      "text/plain": [
       "dict_keys(['SubNetwork=Telstra,SubNetwork=QLD_Woolloongabba_Mod,MeContext=QLD_WNCU15_WOOLLOONGABBA_NC_TEST_BASE_579901:Network Refresh Status'])"
      ]
     },
     "execution_count": 7,
     "metadata": {},
     "output_type": "execute_result"
    }
   ],
   "source": [
    "data.keys()"
   ]
  },
  {
   "cell_type": "code",
   "execution_count": 3,
   "metadata": {},
   "outputs": [
    {
     "name": "stdout",
     "output_type": "stream",
     "text": [
      "SUCCESS\n"
     ]
    }
   ],
   "source": [
    "#This will return the whether the network refresh was successful or not\n",
    "for key, value in data.items():\n",
    "    instanceName = key.split(\":\")\n",
    "    for key1, value1 in value.items():\n",
    "        if key1 == \"STATUS\" and value1 == \"SUCCESS\":\n",
    "                print(value1)\n",
    "                #return True\n",
    "            else:\n",
    "                print(value1)\n",
    "                #return False"
   ]
  },
  {
   "cell_type": "code",
   "execution_count": 17,
   "metadata": {},
   "outputs": [
    {
     "data": {
      "text/plain": [
       "['SubNetwork=Telstra,SubNetwork=QLD_Woolloongabba_Mod,MeContext=QLD_WNCU15_WOOLLOONGABBA_NC_TEST_BASE_579901',\n",
       " 'Network Refresh Status']"
      ]
     },
     "execution_count": 17,
     "metadata": {},
     "output_type": "execute_result"
    }
   ],
   "source": [
    "key.split(\":\")"
   ]
  },
  {
   "cell_type": "code",
   "execution_count": 13,
   "metadata": {},
   "outputs": [
    {
     "name": "stdout",
     "output_type": "stream",
     "text": [
      "<class 'str'>\n"
     ]
    }
   ],
   "source": [
    "for key, value in data.items():\n",
    "    print(type(key))\n",
    "    key = key"
   ]
  },
  {
   "cell_type": "code",
   "execution_count": 18,
   "metadata": {},
   "outputs": [
    {
     "name": "stdout",
     "output_type": "stream",
     "text": [
      "Today's date: 2020-09-01\n"
     ]
    }
   ],
   "source": [
    "from datetime import date\n",
    "\n",
    "today = date.today()\n",
    "print(\"Today's date:\", today)"
   ]
  },
  {
   "cell_type": "code",
   "execution_count": 21,
   "metadata": {},
   "outputs": [
    {
     "data": {
      "text/plain": [
       "'2020-09-01'"
      ]
     },
     "execution_count": 21,
     "metadata": {},
     "output_type": "execute_result"
    }
   ],
   "source": [
    "type(today)\n",
    "today.strftime('%Y-%m-%d')"
   ]
  },
  {
   "cell_type": "code",
   "execution_count": 27,
   "metadata": {},
   "outputs": [
    {
     "name": "stdout",
     "output_type": "stream",
     "text": [
      "value1\n"
     ]
    }
   ],
   "source": [
    "from datetime import date\n",
    "import json\n",
    "\n",
    "with open('REPORT_DATA.json') as f:\n",
    "      data = json.load(f)\n",
    "\n",
    "today = date.today() \n",
    "\n",
    "for key, value in data.items():\n",
    "        if value.get('STATUS') == \"SUCCESS\" and value.get('TIMESTAMP').split(\" \")[0] == date.today().strftime('%Y-%m-%d'):\n",
    "            print(\"found\")\n",
    "                #return True\n",
    "        else:\n",
    "            print(\"value1\")\n",
    "                #return False"
   ]
  },
  {
   "cell_type": "code",
   "execution_count": 6,
   "metadata": {},
   "outputs": [],
   "source": [
    "TIMESTAMP= '2020-08-31 16-02-24'"
   ]
  },
  {
   "cell_type": "code",
   "execution_count": 7,
   "metadata": {},
   "outputs": [
    {
     "data": {
      "text/plain": [
       "'2020-08-31 16-02-24'"
      ]
     },
     "execution_count": 7,
     "metadata": {},
     "output_type": "execute_result"
    }
   ],
   "source": [
    "TIMESTAMP"
   ]
  },
  {
   "cell_type": "code",
   "execution_count": 10,
   "metadata": {},
   "outputs": [
    {
     "data": {
      "text/plain": [
       "'2020-08-31'"
      ]
     },
     "execution_count": 10,
     "metadata": {},
     "output_type": "execute_result"
    }
   ],
   "source": [
    "TIMESTAMP.split(\" \")[0]"
   ]
  },
  {
   "cell_type": "code",
   "execution_count": 17,
   "metadata": {},
   "outputs": [
    {
     "name": "stdout",
     "output_type": "stream",
     "text": [
      "{'FDN': 'SubNetwork=Telstra,SubNetwork=QLD_Woolloongabba_Mod,MeContext=QLD_WNCU15_WOOLLOONGABBA_NC_TEST_BASE_579901', 'MASTER_MOD_INSTANCE': 'network_refresh_ref_admin_20200831_060204_056', 'MASTER_MOD_NAME': 'network_refresh_ref', 'MODULE_INSTANCE': 'module_executor_admin_20200831_060209_285', 'MODULE_NAME': 'module_executor', 'NEW_VALUE': 'None', 'NE_TYPE': 'ENodeB', 'OLD_VALUE': 'None', 'OPERATION': 'Network Refresh Status', 'OSS_ID': 'ENM1', 'PARAM_NAME': 'None', 'PARENT_NODEB': 'None', 'STATUS': 'SUCCESS', 'TIMESTAMP': '2020-08-31 16-02-24'}\n",
      "SUCCESS\n"
     ]
    }
   ],
   "source": [
    "for key, value in data.items():\n",
    "    print(value)\n",
    "    print(value.get('STATUS'))"
   ]
  },
  {
   "cell_type": "code",
   "execution_count": 22,
   "metadata": {},
   "outputs": [
    {
     "data": {
      "text/plain": [
       "'2020-09-01'"
      ]
     },
     "execution_count": 22,
     "metadata": {},
     "output_type": "execute_result"
    }
   ],
   "source": [
    "date.today().strftime('%Y-%m-%d')"
   ]
  },
  {
   "cell_type": "code",
   "execution_count": 29,
   "metadata": {},
   "outputs": [
    {
     "name": "stdout",
     "output_type": "stream",
     "text": [
      "True\n"
     ]
    }
   ],
   "source": [
    "from datetime import date\n",
    "import json\n",
    "\n",
    "with open('REPORT_DATA.json') as f:\n",
    "      data = json.load(f)\n",
    "\n",
    "today = date.today() \n",
    "\n",
    "for key, value in data.items():\n",
    "        print(value.get('STATUS') == \"SUCCESS\" and value.get('TIMESTAMP').split(\" \")[0] == date.today().strftime('%Y-%m-%d'))"
   ]
  },
  {
   "cell_type": "code",
   "execution_count": null,
   "metadata": {},
   "outputs": [],
   "source": []
  },
  {
   "cell_type": "code",
   "execution_count": null,
   "metadata": {},
   "outputs": [],
   "source": []
  },
  {
   "cell_type": "code",
   "execution_count": null,
   "metadata": {},
   "outputs": [],
   "source": []
  },
  {
   "cell_type": "code",
   "execution_count": null,
   "metadata": {},
   "outputs": [],
   "source": []
  },
  {
   "cell_type": "code",
   "execution_count": null,
   "metadata": {},
   "outputs": [],
   "source": []
  },
  {
   "cell_type": "code",
   "execution_count": null,
   "metadata": {},
   "outputs": [],
   "source": []
  },
  {
   "cell_type": "code",
   "execution_count": null,
   "metadata": {},
   "outputs": [],
   "source": []
  },
  {
   "cell_type": "code",
   "execution_count": null,
   "metadata": {},
   "outputs": [],
   "source": []
  },
  {
   "cell_type": "code",
   "execution_count": null,
   "metadata": {},
   "outputs": [],
   "source": []
  },
  {
   "cell_type": "code",
   "execution_count": null,
   "metadata": {},
   "outputs": [],
   "source": []
  },
  {
   "cell_type": "code",
   "execution_count": null,
   "metadata": {},
   "outputs": [],
   "source": []
  },
  {
   "cell_type": "code",
   "execution_count": null,
   "metadata": {},
   "outputs": [],
   "source": []
  },
  {
   "cell_type": "code",
   "execution_count": null,
   "metadata": {},
   "outputs": [],
   "source": []
  },
  {
   "cell_type": "code",
   "execution_count": null,
   "metadata": {},
   "outputs": [],
   "source": []
  },
  {
   "cell_type": "code",
   "execution_count": null,
   "metadata": {},
   "outputs": [],
   "source": []
  },
  {
   "cell_type": "code",
   "execution_count": null,
   "metadata": {},
   "outputs": [],
   "source": []
  },
  {
   "cell_type": "code",
   "execution_count": null,
   "metadata": {},
   "outputs": [],
   "source": []
  },
  {
   "cell_type": "code",
   "execution_count": null,
   "metadata": {},
   "outputs": [],
   "source": []
  },
  {
   "cell_type": "code",
   "execution_count": null,
   "metadata": {},
   "outputs": [],
   "source": []
  },
  {
   "cell_type": "code",
   "execution_count": null,
   "metadata": {},
   "outputs": [],
   "source": []
  },
  {
   "cell_type": "code",
   "execution_count": null,
   "metadata": {},
   "outputs": [],
   "source": []
  },
  {
   "cell_type": "code",
   "execution_count": null,
   "metadata": {},
   "outputs": [],
   "source": []
  },
  {
   "cell_type": "code",
   "execution_count": null,
   "metadata": {},
   "outputs": [],
   "source": []
  },
  {
   "cell_type": "code",
   "execution_count": null,
   "metadata": {},
   "outputs": [],
   "source": []
  },
  {
   "cell_type": "code",
   "execution_count": null,
   "metadata": {},
   "outputs": [],
   "source": []
  },
  {
   "cell_type": "code",
   "execution_count": null,
   "metadata": {},
   "outputs": [],
   "source": []
  },
  {
   "cell_type": "code",
   "execution_count": null,
   "metadata": {},
   "outputs": [],
   "source": []
  },
  {
   "cell_type": "code",
   "execution_count": null,
   "metadata": {},
   "outputs": [],
   "source": []
  },
  {
   "cell_type": "code",
   "execution_count": null,
   "metadata": {},
   "outputs": [],
   "source": []
  },
  {
   "cell_type": "code",
   "execution_count": null,
   "metadata": {},
   "outputs": [],
   "source": []
  },
  {
   "cell_type": "code",
   "execution_count": null,
   "metadata": {},
   "outputs": [],
   "source": []
  },
  {
   "cell_type": "code",
   "execution_count": null,
   "metadata": {},
   "outputs": [],
   "source": []
  },
  {
   "cell_type": "code",
   "execution_count": null,
   "metadata": {},
   "outputs": [],
   "source": []
  },
  {
   "cell_type": "code",
   "execution_count": null,
   "metadata": {},
   "outputs": [],
   "source": []
  },
  {
   "cell_type": "code",
   "execution_count": null,
   "metadata": {},
   "outputs": [],
   "source": []
  },
  {
   "cell_type": "code",
   "execution_count": null,
   "metadata": {},
   "outputs": [],
   "source": []
  }
 ],
 "metadata": {
  "kernelspec": {
   "display_name": "Python 3",
   "language": "python",
   "name": "python3"
  },
  "language_info": {
   "codemirror_mode": {
    "name": "ipython",
    "version": 3
   },
   "file_extension": ".py",
   "mimetype": "text/x-python",
   "name": "python",
   "nbconvert_exporter": "python",
   "pygments_lexer": "ipython3",
   "version": "3.7.6"
  }
 },
 "nbformat": 4,
 "nbformat_minor": 4
}
