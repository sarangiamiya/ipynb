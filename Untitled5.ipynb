{
 "cells": [
  {
   "cell_type": "code",
   "execution_count": 28,
   "metadata": {},
   "outputs": [],
   "source": [
    "import pandas as pd\n",
    "import numpy as np"
   ]
  },
  {
   "cell_type": "code",
   "execution_count": 4,
   "metadata": {},
   "outputs": [],
   "source": [
    "src_df = pd.read_excel('Result.xlsx')"
   ]
  },
  {
   "cell_type": "code",
   "execution_count": 5,
   "metadata": {
    "collapsed": true
   },
   "outputs": [
    {
     "data": {
      "text/html": [
       "<div>\n",
       "<style scoped>\n",
       "    .dataframe tbody tr th:only-of-type {\n",
       "        vertical-align: middle;\n",
       "    }\n",
       "\n",
       "    .dataframe tbody tr th {\n",
       "        vertical-align: top;\n",
       "    }\n",
       "\n",
       "    .dataframe thead th {\n",
       "        text-align: right;\n",
       "    }\n",
       "</style>\n",
       "<table border=\"1\" class=\"dataframe\">\n",
       "  <thead>\n",
       "    <tr style=\"text-align: right;\">\n",
       "      <th></th>\n",
       "      <th>N/E Type</th>\n",
       "      <th>OSSID</th>\n",
       "      <th>N/E Instance</th>\n",
       "      <th>Operation</th>\n",
       "      <th>Managed Object RDN</th>\n",
       "      <th>Param Name</th>\n",
       "      <th>Old Value</th>\n",
       "      <th>New Value</th>\n",
       "    </tr>\n",
       "  </thead>\n",
       "  <tbody>\n",
       "    <tr>\n",
       "      <th>0</th>\n",
       "      <td>EUtranCellFDD</td>\n",
       "      <td>ENM1</td>\n",
       "      <td>WNCUET2</td>\n",
       "      <td>MO Created</td>\n",
       "      <td>MeContext=QLD_WNCU15_WOOLLOONGABBA_NC_TEST_BAS...</td>\n",
       "      <td>NaN</td>\n",
       "      <td>NaN</td>\n",
       "      <td>NaN</td>\n",
       "    </tr>\n",
       "    <tr>\n",
       "      <th>1</th>\n",
       "      <td>EUtranCellFDD</td>\n",
       "      <td>ENM1</td>\n",
       "      <td>WNCUET2</td>\n",
       "      <td>Parameter changes</td>\n",
       "      <td>MeContext=QLD_WNCU15_WOOLLOONGABBA_NC_TEST_BAS...</td>\n",
       "      <td>adjacentCell</td>\n",
       "      <td>NaN</td>\n",
       "      <td>ENM=modelenm,SubNetwork=QLD_METRO,MeContext=QL...</td>\n",
       "    </tr>\n",
       "    <tr>\n",
       "      <th>2</th>\n",
       "      <td>EUtranCellFDD</td>\n",
       "      <td>ENM1</td>\n",
       "      <td>WNCUET2</td>\n",
       "      <td>Parameter changes</td>\n",
       "      <td>MeContext=QLD_WNCU15_WOOLLOONGABBA_NC_TEST_BAS...</td>\n",
       "      <td>coverageIndicator</td>\n",
       "      <td>NaN</td>\n",
       "      <td>0</td>\n",
       "    </tr>\n",
       "    <tr>\n",
       "      <th>3</th>\n",
       "      <td>EUtranCellFDD</td>\n",
       "      <td>ENM1</td>\n",
       "      <td>WNCUET2</td>\n",
       "      <td>Parameter changes</td>\n",
       "      <td>MeContext=QLD_WNCU15_WOOLLOONGABBA_NC_TEST_BAS...</td>\n",
       "      <td>isRemoveAllowed</td>\n",
       "      <td>NaN</td>\n",
       "      <td>False</td>\n",
       "    </tr>\n",
       "    <tr>\n",
       "      <th>4</th>\n",
       "      <td>EUtranCellFDD</td>\n",
       "      <td>ENM1</td>\n",
       "      <td>WNCUET2</td>\n",
       "      <td>Parameter changes</td>\n",
       "      <td>MeContext=QLD_WNCU15_WOOLLOONGABBA_NC_TEST_BAS...</td>\n",
       "      <td>sCellCandidate</td>\n",
       "      <td>NaN</td>\n",
       "      <td>1</td>\n",
       "    </tr>\n",
       "    <tr>\n",
       "      <th>5</th>\n",
       "      <td>EUtranCellFDD</td>\n",
       "      <td>ENM1</td>\n",
       "      <td>WNCUET2</td>\n",
       "      <td>Parameter changes</td>\n",
       "      <td>MeContext=QLD_WNCU15_WOOLLOONGABBA_NC_TEST_BAS...</td>\n",
       "      <td>sCellPriority</td>\n",
       "      <td>NaN</td>\n",
       "      <td>7</td>\n",
       "    </tr>\n",
       "    <tr>\n",
       "      <th>6</th>\n",
       "      <td>EUtranCellFDD</td>\n",
       "      <td>ENM1</td>\n",
       "      <td>WNCUET3</td>\n",
       "      <td>MO Created</td>\n",
       "      <td>MeContext=QLD_WNCU15_WOOLLOONGABBA_NC_TEST_BAS...</td>\n",
       "      <td>NaN</td>\n",
       "      <td>NaN</td>\n",
       "      <td>NaN</td>\n",
       "    </tr>\n",
       "    <tr>\n",
       "      <th>7</th>\n",
       "      <td>EUtranCellFDD</td>\n",
       "      <td>ENM1</td>\n",
       "      <td>WNCUET3</td>\n",
       "      <td>Parameter changes</td>\n",
       "      <td>MeContext=QLD_WNCU15_WOOLLOONGABBA_NC_TEST_BAS...</td>\n",
       "      <td>adjacentCell</td>\n",
       "      <td>NaN</td>\n",
       "      <td>ENM=modelenm,SubNetwork=QLD_METRO,MeContext=QL...</td>\n",
       "    </tr>\n",
       "    <tr>\n",
       "      <th>8</th>\n",
       "      <td>EUtranCellFDD</td>\n",
       "      <td>ENM1</td>\n",
       "      <td>WNCUET3</td>\n",
       "      <td>Parameter changes</td>\n",
       "      <td>MeContext=QLD_WNCU15_WOOLLOONGABBA_NC_TEST_BAS...</td>\n",
       "      <td>coverageIndicator</td>\n",
       "      <td>NaN</td>\n",
       "      <td>0</td>\n",
       "    </tr>\n",
       "    <tr>\n",
       "      <th>9</th>\n",
       "      <td>EUtranCellFDD</td>\n",
       "      <td>ENM1</td>\n",
       "      <td>WNCUET3</td>\n",
       "      <td>Parameter changes</td>\n",
       "      <td>MeContext=QLD_WNCU15_WOOLLOONGABBA_NC_TEST_BAS...</td>\n",
       "      <td>isRemoveAllowed</td>\n",
       "      <td>NaN</td>\n",
       "      <td>False</td>\n",
       "    </tr>\n",
       "    <tr>\n",
       "      <th>10</th>\n",
       "      <td>EUtranCellFDD</td>\n",
       "      <td>ENM1</td>\n",
       "      <td>WNCUET3</td>\n",
       "      <td>Parameter changes</td>\n",
       "      <td>MeContext=QLD_WNCU15_WOOLLOONGABBA_NC_TEST_BAS...</td>\n",
       "      <td>sCellCandidate</td>\n",
       "      <td>NaN</td>\n",
       "      <td>1</td>\n",
       "    </tr>\n",
       "    <tr>\n",
       "      <th>11</th>\n",
       "      <td>EUtranCellFDD</td>\n",
       "      <td>ENM1</td>\n",
       "      <td>WNCUET3</td>\n",
       "      <td>Parameter changes</td>\n",
       "      <td>MeContext=QLD_WNCU15_WOOLLOONGABBA_NC_TEST_BAS...</td>\n",
       "      <td>sCellPriority</td>\n",
       "      <td>NaN</td>\n",
       "      <td>7</td>\n",
       "    </tr>\n",
       "    <tr>\n",
       "      <th>12</th>\n",
       "      <td>ENodeB</td>\n",
       "      <td>ENM1</td>\n",
       "      <td>QLD_WNCU15_WOOLLOONGABBA_NC_TEST_BASE_579901</td>\n",
       "      <td>Parameter changes</td>\n",
       "      <td>MeContext=QLD_WNCU15_WOOLLOONGABBA_NC_TEST_BAS...</td>\n",
       "      <td>customTriggerList</td>\n",
       "      <td>['138']</td>\n",
       "      <td>['137']</td>\n",
       "    </tr>\n",
       "  </tbody>\n",
       "</table>\n",
       "</div>"
      ],
      "text/plain": [
       "         N/E Type OSSID                                  N/E Instance  \\\n",
       "0   EUtranCellFDD  ENM1                                       WNCUET2   \n",
       "1   EUtranCellFDD  ENM1                                       WNCUET2   \n",
       "2   EUtranCellFDD  ENM1                                       WNCUET2   \n",
       "3   EUtranCellFDD  ENM1                                       WNCUET2   \n",
       "4   EUtranCellFDD  ENM1                                       WNCUET2   \n",
       "5   EUtranCellFDD  ENM1                                       WNCUET2   \n",
       "6   EUtranCellFDD  ENM1                                       WNCUET3   \n",
       "7   EUtranCellFDD  ENM1                                       WNCUET3   \n",
       "8   EUtranCellFDD  ENM1                                       WNCUET3   \n",
       "9   EUtranCellFDD  ENM1                                       WNCUET3   \n",
       "10  EUtranCellFDD  ENM1                                       WNCUET3   \n",
       "11  EUtranCellFDD  ENM1                                       WNCUET3   \n",
       "12         ENodeB  ENM1  QLD_WNCU15_WOOLLOONGABBA_NC_TEST_BASE_579901   \n",
       "\n",
       "            Operation                                 Managed Object RDN  \\\n",
       "0          MO Created  MeContext=QLD_WNCU15_WOOLLOONGABBA_NC_TEST_BAS...   \n",
       "1   Parameter changes  MeContext=QLD_WNCU15_WOOLLOONGABBA_NC_TEST_BAS...   \n",
       "2   Parameter changes  MeContext=QLD_WNCU15_WOOLLOONGABBA_NC_TEST_BAS...   \n",
       "3   Parameter changes  MeContext=QLD_WNCU15_WOOLLOONGABBA_NC_TEST_BAS...   \n",
       "4   Parameter changes  MeContext=QLD_WNCU15_WOOLLOONGABBA_NC_TEST_BAS...   \n",
       "5   Parameter changes  MeContext=QLD_WNCU15_WOOLLOONGABBA_NC_TEST_BAS...   \n",
       "6          MO Created  MeContext=QLD_WNCU15_WOOLLOONGABBA_NC_TEST_BAS...   \n",
       "7   Parameter changes  MeContext=QLD_WNCU15_WOOLLOONGABBA_NC_TEST_BAS...   \n",
       "8   Parameter changes  MeContext=QLD_WNCU15_WOOLLOONGABBA_NC_TEST_BAS...   \n",
       "9   Parameter changes  MeContext=QLD_WNCU15_WOOLLOONGABBA_NC_TEST_BAS...   \n",
       "10  Parameter changes  MeContext=QLD_WNCU15_WOOLLOONGABBA_NC_TEST_BAS...   \n",
       "11  Parameter changes  MeContext=QLD_WNCU15_WOOLLOONGABBA_NC_TEST_BAS...   \n",
       "12  Parameter changes  MeContext=QLD_WNCU15_WOOLLOONGABBA_NC_TEST_BAS...   \n",
       "\n",
       "           Param Name Old Value  \\\n",
       "0                 NaN       NaN   \n",
       "1        adjacentCell       NaN   \n",
       "2   coverageIndicator       NaN   \n",
       "3     isRemoveAllowed       NaN   \n",
       "4      sCellCandidate       NaN   \n",
       "5       sCellPriority       NaN   \n",
       "6                 NaN       NaN   \n",
       "7        adjacentCell       NaN   \n",
       "8   coverageIndicator       NaN   \n",
       "9     isRemoveAllowed       NaN   \n",
       "10     sCellCandidate       NaN   \n",
       "11      sCellPriority       NaN   \n",
       "12  customTriggerList   ['138']   \n",
       "\n",
       "                                            New Value  \n",
       "0                                                 NaN  \n",
       "1   ENM=modelenm,SubNetwork=QLD_METRO,MeContext=QL...  \n",
       "2                                                   0  \n",
       "3                                               False  \n",
       "4                                                   1  \n",
       "5                                                   7  \n",
       "6                                                 NaN  \n",
       "7   ENM=modelenm,SubNetwork=QLD_METRO,MeContext=QL...  \n",
       "8                                                   0  \n",
       "9                                               False  \n",
       "10                                                  1  \n",
       "11                                                  7  \n",
       "12                                            ['137']  "
      ]
     },
     "execution_count": 5,
     "metadata": {},
     "output_type": "execute_result"
    }
   ],
   "source": [
    "src_df"
   ]
  },
  {
   "cell_type": "code",
   "execution_count": 14,
   "metadata": {},
   "outputs": [],
   "source": [
    "fdn = \"ENM=modelenm,SubNetwork=QLD_Woolloongabba_Mod,MeContext=QLD_WNCU15_WOOLLOONGABBA_NC_TEST_BASE_579901,ManagedElement=1,ENodeBFunction=1,EUtranCellFDD=WNCUET2,EUtranFreqRelation=9410,EUtranCellRelation=5051-571901-2\"\n",
    "operation = \"MO Created\"\n",
    "param_name =  \"EutranCellRelation\"\n",
    "fdn_col_name = \"Managed Object RDN\"\n",
    "col_list = ['N/E Instance', 'Operation', 'Managed Object RDN']"
   ]
  },
  {
   "cell_type": "code",
   "execution_count": 16,
   "metadata": {},
   "outputs": [],
   "source": [
    "found_value = src_df.loc[(src_df[fdn_col_name] == fdn) & (src_df[\"Operation\"] == operation) & (src_df[\"Param Name\"] == param_name)].loc[:, col_list]"
   ]
  },
  {
   "cell_type": "code",
   "execution_count": 8,
   "metadata": {},
   "outputs": [
    {
     "data": {
      "text/plain": [
       "0     False\n",
       "1     False\n",
       "2     False\n",
       "3     False\n",
       "4     False\n",
       "5     False\n",
       "6     False\n",
       "7     False\n",
       "8     False\n",
       "9     False\n",
       "10    False\n",
       "11    False\n",
       "12    False\n",
       "Name: Managed Object RDN, dtype: bool"
      ]
     },
     "execution_count": 8,
     "metadata": {},
     "output_type": "execute_result"
    }
   ],
   "source": [
    "src_df[fdn_col_name] == fdn"
   ]
  },
  {
   "cell_type": "code",
   "execution_count": 9,
   "metadata": {},
   "outputs": [
    {
     "data": {
      "text/plain": [
       "0      True\n",
       "1     False\n",
       "2     False\n",
       "3     False\n",
       "4     False\n",
       "5     False\n",
       "6      True\n",
       "7     False\n",
       "8     False\n",
       "9     False\n",
       "10    False\n",
       "11    False\n",
       "12    False\n",
       "Name: Operation, dtype: bool"
      ]
     },
     "execution_count": 9,
     "metadata": {},
     "output_type": "execute_result"
    }
   ],
   "source": [
    "src_df[\"Operation\"] == operation"
   ]
  },
  {
   "cell_type": "code",
   "execution_count": 10,
   "metadata": {},
   "outputs": [
    {
     "data": {
      "text/plain": [
       "0     False\n",
       "1     False\n",
       "2     False\n",
       "3     False\n",
       "4     False\n",
       "5     False\n",
       "6     False\n",
       "7     False\n",
       "8     False\n",
       "9     False\n",
       "10    False\n",
       "11    False\n",
       "12    False\n",
       "Name: Param Name, dtype: bool"
      ]
     },
     "execution_count": 10,
     "metadata": {},
     "output_type": "execute_result"
    }
   ],
   "source": [
    "src_df[\"Param Name\"] == param_name"
   ]
  },
  {
   "cell_type": "code",
   "execution_count": 12,
   "metadata": {
    "collapsed": true
   },
   "outputs": [
    {
     "data": {
      "text/plain": [
       "0     False\n",
       "1     False\n",
       "2     False\n",
       "3     False\n",
       "4     False\n",
       "5     False\n",
       "6     False\n",
       "7     False\n",
       "8     False\n",
       "9     False\n",
       "10    False\n",
       "11    False\n",
       "12    False\n",
       "dtype: bool"
      ]
     },
     "execution_count": 12,
     "metadata": {},
     "output_type": "execute_result"
    }
   ],
   "source": [
    "(src_df[fdn_col_name] == fdn) & (src_df[\"Operation\"] == operation) &  (src_df[\"Param Name\"] == param_name)"
   ]
  },
  {
   "cell_type": "code",
   "execution_count": 17,
   "metadata": {},
   "outputs": [
    {
     "data": {
      "text/html": [
       "<div>\n",
       "<style scoped>\n",
       "    .dataframe tbody tr th:only-of-type {\n",
       "        vertical-align: middle;\n",
       "    }\n",
       "\n",
       "    .dataframe tbody tr th {\n",
       "        vertical-align: top;\n",
       "    }\n",
       "\n",
       "    .dataframe thead th {\n",
       "        text-align: right;\n",
       "    }\n",
       "</style>\n",
       "<table border=\"1\" class=\"dataframe\">\n",
       "  <thead>\n",
       "    <tr style=\"text-align: right;\">\n",
       "      <th></th>\n",
       "      <th>N/E Instance</th>\n",
       "      <th>Operation</th>\n",
       "      <th>Managed Object RDN</th>\n",
       "    </tr>\n",
       "  </thead>\n",
       "  <tbody>\n",
       "  </tbody>\n",
       "</table>\n",
       "</div>"
      ],
      "text/plain": [
       "Empty DataFrame\n",
       "Columns: [N/E Instance, Operation, Managed Object RDN]\n",
       "Index: []"
      ]
     },
     "execution_count": 17,
     "metadata": {},
     "output_type": "execute_result"
    }
   ],
   "source": [
    "found_value"
   ]
  },
  {
   "cell_type": "code",
   "execution_count": 18,
   "metadata": {},
   "outputs": [
    {
     "ename": "IndexError",
     "evalue": "index 0 is out of bounds for axis 0 with size 0",
     "output_type": "error",
     "traceback": [
      "\u001b[1;31m---------------------------------------------------------------------------\u001b[0m",
      "\u001b[1;31mIndexError\u001b[0m                                Traceback (most recent call last)",
      "\u001b[1;32m<ipython-input-18-0c88c57314d6>\u001b[0m in \u001b[0;36m<module>\u001b[1;34m\u001b[0m\n\u001b[1;32m----> 1\u001b[1;33m \u001b[0mfound_value\u001b[0m\u001b[1;33m.\u001b[0m\u001b[0mvalues\u001b[0m\u001b[1;33m[\u001b[0m\u001b[1;36m0\u001b[0m\u001b[1;33m]\u001b[0m\u001b[1;33m\u001b[0m\u001b[1;33m\u001b[0m\u001b[0m\n\u001b[0m",
      "\u001b[1;31mIndexError\u001b[0m: index 0 is out of bounds for axis 0 with size 0"
     ]
    }
   ],
   "source": [
    "found_value.values[0]"
   ]
  },
  {
   "cell_type": "code",
   "execution_count": 19,
   "metadata": {
    "collapsed": true
   },
   "outputs": [
    {
     "ename": "KeyError",
     "evalue": "\"None of [Index(['MeContext=QLD_WNCU15_WOOLLOONGABBA_NC_TEST_BASE_579901,ManagedElement=1,ENodeBFunction=1,EUtranCellFDD=WNCUET2,EUtranFreqRelation=9410,EUtranCellRelation=5051-571901-2',\\n       'MeContext=QLD_WNCU15_WOOLLOONGABBA_NC_TEST_BASE_579901,ManagedElement=1,ENodeBFunction=1,EUtranCellFDD=WNCUET2,EUtranFreqRelation=9410,EUtranCellRelation=5051-571901-2',\\n       'MeContext=QLD_WNCU15_WOOLLOONGABBA_NC_TEST_BASE_579901,ManagedElement=1,ENodeBFunction=1,EUtranCellFDD=WNCUET2,EUtranFreqRelation=9410,EUtranCellRelation=5051-571901-2',\\n       'MeContext=QLD_WNCU15_WOOLLOONGABBA_NC_TEST_BASE_579901,ManagedElement=1,ENodeBFunction=1,EUtranCellFDD=WNCUET2,EUtranFreqRelation=9410,EUtranCellRelation=5051-571901-2',\\n       'MeContext=QLD_WNCU15_WOOLLOONGABBA_NC_TEST_BASE_579901,ManagedElement=1,ENodeBFunction=1,EUtranCellFDD=WNCUET2,EUtranFreqRelation=9410,EUtranCellRelation=5051-571901-2',\\n       'MeContext=QLD_WNCU15_WOOLLOONGABBA_NC_TEST_BASE_579901,ManagedElement=1,ENodeBFunction=1,EUtranCellFDD=WNCUET2,EUtranFreqRelation=9410,EUtranCellRelation=5051-571901-2',\\n       'MeContext=QLD_WNCU15_WOOLLOONGABBA_NC_TEST_BASE_579901,ManagedElement=1,ENodeBFunction=1,EUtranCellFDD=WNCUET3,EUtranFreqRelation=9410,EUtranCellRelation=5051-571901-3',\\n       'MeContext=QLD_WNCU15_WOOLLOONGABBA_NC_TEST_BASE_579901,ManagedElement=1,ENodeBFunction=1,EUtranCellFDD=WNCUET3,EUtranFreqRelation=9410,EUtranCellRelation=5051-571901-3',\\n       'MeContext=QLD_WNCU15_WOOLLOONGABBA_NC_TEST_BASE_579901,ManagedElement=1,ENodeBFunction=1,EUtranCellFDD=WNCUET3,EUtranFreqRelation=9410,EUtranCellRelation=5051-571901-3',\\n       'MeContext=QLD_WNCU15_WOOLLOONGABBA_NC_TEST_BASE_579901,ManagedElement=1,ENodeBFunction=1,EUtranCellFDD=WNCUET3,EUtranFreqRelation=9410,EUtranCellRelation=5051-571901-3',\\n       'MeContext=QLD_WNCU15_WOOLLOONGABBA_NC_TEST_BASE_579901,ManagedElement=1,ENodeBFunction=1,EUtranCellFDD=WNCUET3,EUtranFreqRelation=9410,EUtranCellRelation=5051-571901-3',\\n       'MeContext=QLD_WNCU15_WOOLLOONGABBA_NC_TEST_BASE_579901,ManagedElement=1,ENodeBFunction=1,EUtranCellFDD=WNCUET3,EUtranFreqRelation=9410,EUtranCellRelation=5051-571901-3',\\n       'MeContext=QLD_WNCU15_WOOLLOONGABBA_NC_TEST_BASE_579901,ManagedElement=1,ENodeBFunction=1,SubscriberGroupProfile=BGQOS'],\\n      dtype='object')] are in the [index]\"",
     "output_type": "error",
     "traceback": [
      "\u001b[1;31m---------------------------------------------------------------------------\u001b[0m",
      "\u001b[1;31mKeyError\u001b[0m                                  Traceback (most recent call last)",
      "\u001b[1;32m<ipython-input-19-8909dcb6229b>\u001b[0m in \u001b[0;36m<module>\u001b[1;34m\u001b[0m\n\u001b[1;32m----> 1\u001b[1;33m \u001b[0msrc_df\u001b[0m\u001b[1;33m.\u001b[0m\u001b[0mloc\u001b[0m\u001b[1;33m[\u001b[0m\u001b[1;33m(\u001b[0m\u001b[0msrc_df\u001b[0m\u001b[1;33m[\u001b[0m\u001b[0mfdn_col_name\u001b[0m\u001b[1;33m]\u001b[0m\u001b[1;33m)\u001b[0m\u001b[1;33m]\u001b[0m\u001b[1;33m\u001b[0m\u001b[1;33m\u001b[0m\u001b[0m\n\u001b[0m",
      "\u001b[1;32mC:\\ProgramData\\Anaconda3\\lib\\site-packages\\pandas\\core\\indexing.py\u001b[0m in \u001b[0;36m__getitem__\u001b[1;34m(self, key)\u001b[0m\n\u001b[0;32m   1765\u001b[0m \u001b[1;33m\u001b[0m\u001b[0m\n\u001b[0;32m   1766\u001b[0m             \u001b[0mmaybe_callable\u001b[0m \u001b[1;33m=\u001b[0m \u001b[0mcom\u001b[0m\u001b[1;33m.\u001b[0m\u001b[0mapply_if_callable\u001b[0m\u001b[1;33m(\u001b[0m\u001b[0mkey\u001b[0m\u001b[1;33m,\u001b[0m \u001b[0mself\u001b[0m\u001b[1;33m.\u001b[0m\u001b[0mobj\u001b[0m\u001b[1;33m)\u001b[0m\u001b[1;33m\u001b[0m\u001b[1;33m\u001b[0m\u001b[0m\n\u001b[1;32m-> 1767\u001b[1;33m             \u001b[1;32mreturn\u001b[0m \u001b[0mself\u001b[0m\u001b[1;33m.\u001b[0m\u001b[0m_getitem_axis\u001b[0m\u001b[1;33m(\u001b[0m\u001b[0mmaybe_callable\u001b[0m\u001b[1;33m,\u001b[0m \u001b[0maxis\u001b[0m\u001b[1;33m=\u001b[0m\u001b[0maxis\u001b[0m\u001b[1;33m)\u001b[0m\u001b[1;33m\u001b[0m\u001b[1;33m\u001b[0m\u001b[0m\n\u001b[0m\u001b[0;32m   1768\u001b[0m \u001b[1;33m\u001b[0m\u001b[0m\n\u001b[0;32m   1769\u001b[0m     \u001b[1;32mdef\u001b[0m \u001b[0m_is_scalar_access\u001b[0m\u001b[1;33m(\u001b[0m\u001b[0mself\u001b[0m\u001b[1;33m,\u001b[0m \u001b[0mkey\u001b[0m\u001b[1;33m:\u001b[0m \u001b[0mTuple\u001b[0m\u001b[1;33m)\u001b[0m\u001b[1;33m:\u001b[0m\u001b[1;33m\u001b[0m\u001b[1;33m\u001b[0m\u001b[0m\n",
      "\u001b[1;32mC:\\ProgramData\\Anaconda3\\lib\\site-packages\\pandas\\core\\indexing.py\u001b[0m in \u001b[0;36m_getitem_axis\u001b[1;34m(self, key, axis)\u001b[0m\n\u001b[0;32m   1951\u001b[0m                     \u001b[1;32mraise\u001b[0m \u001b[0mValueError\u001b[0m\u001b[1;33m(\u001b[0m\u001b[1;34m\"Cannot index with multidimensional key\"\u001b[0m\u001b[1;33m)\u001b[0m\u001b[1;33m\u001b[0m\u001b[1;33m\u001b[0m\u001b[0m\n\u001b[0;32m   1952\u001b[0m \u001b[1;33m\u001b[0m\u001b[0m\n\u001b[1;32m-> 1953\u001b[1;33m                 \u001b[1;32mreturn\u001b[0m \u001b[0mself\u001b[0m\u001b[1;33m.\u001b[0m\u001b[0m_getitem_iterable\u001b[0m\u001b[1;33m(\u001b[0m\u001b[0mkey\u001b[0m\u001b[1;33m,\u001b[0m \u001b[0maxis\u001b[0m\u001b[1;33m=\u001b[0m\u001b[0maxis\u001b[0m\u001b[1;33m)\u001b[0m\u001b[1;33m\u001b[0m\u001b[1;33m\u001b[0m\u001b[0m\n\u001b[0m\u001b[0;32m   1954\u001b[0m \u001b[1;33m\u001b[0m\u001b[0m\n\u001b[0;32m   1955\u001b[0m             \u001b[1;31m# nested tuple slicing\u001b[0m\u001b[1;33m\u001b[0m\u001b[1;33m\u001b[0m\u001b[1;33m\u001b[0m\u001b[0m\n",
      "\u001b[1;32mC:\\ProgramData\\Anaconda3\\lib\\site-packages\\pandas\\core\\indexing.py\u001b[0m in \u001b[0;36m_getitem_iterable\u001b[1;34m(self, key, axis)\u001b[0m\n\u001b[0;32m   1592\u001b[0m         \u001b[1;32melse\u001b[0m\u001b[1;33m:\u001b[0m\u001b[1;33m\u001b[0m\u001b[1;33m\u001b[0m\u001b[0m\n\u001b[0;32m   1593\u001b[0m             \u001b[1;31m# A collection of keys\u001b[0m\u001b[1;33m\u001b[0m\u001b[1;33m\u001b[0m\u001b[1;33m\u001b[0m\u001b[0m\n\u001b[1;32m-> 1594\u001b[1;33m             \u001b[0mkeyarr\u001b[0m\u001b[1;33m,\u001b[0m \u001b[0mindexer\u001b[0m \u001b[1;33m=\u001b[0m \u001b[0mself\u001b[0m\u001b[1;33m.\u001b[0m\u001b[0m_get_listlike_indexer\u001b[0m\u001b[1;33m(\u001b[0m\u001b[0mkey\u001b[0m\u001b[1;33m,\u001b[0m \u001b[0maxis\u001b[0m\u001b[1;33m,\u001b[0m \u001b[0mraise_missing\u001b[0m\u001b[1;33m=\u001b[0m\u001b[1;32mFalse\u001b[0m\u001b[1;33m)\u001b[0m\u001b[1;33m\u001b[0m\u001b[1;33m\u001b[0m\u001b[0m\n\u001b[0m\u001b[0;32m   1595\u001b[0m             return self.obj._reindex_with_indexers(\n\u001b[0;32m   1596\u001b[0m                 \u001b[1;33m{\u001b[0m\u001b[0maxis\u001b[0m\u001b[1;33m:\u001b[0m \u001b[1;33m[\u001b[0m\u001b[0mkeyarr\u001b[0m\u001b[1;33m,\u001b[0m \u001b[0mindexer\u001b[0m\u001b[1;33m]\u001b[0m\u001b[1;33m}\u001b[0m\u001b[1;33m,\u001b[0m \u001b[0mcopy\u001b[0m\u001b[1;33m=\u001b[0m\u001b[1;32mTrue\u001b[0m\u001b[1;33m,\u001b[0m \u001b[0mallow_dups\u001b[0m\u001b[1;33m=\u001b[0m\u001b[1;32mTrue\u001b[0m\u001b[1;33m\u001b[0m\u001b[1;33m\u001b[0m\u001b[0m\n",
      "\u001b[1;32mC:\\ProgramData\\Anaconda3\\lib\\site-packages\\pandas\\core\\indexing.py\u001b[0m in \u001b[0;36m_get_listlike_indexer\u001b[1;34m(self, key, axis, raise_missing)\u001b[0m\n\u001b[0;32m   1550\u001b[0m \u001b[1;33m\u001b[0m\u001b[0m\n\u001b[0;32m   1551\u001b[0m         self._validate_read_indexer(\n\u001b[1;32m-> 1552\u001b[1;33m             \u001b[0mkeyarr\u001b[0m\u001b[1;33m,\u001b[0m \u001b[0mindexer\u001b[0m\u001b[1;33m,\u001b[0m \u001b[0mo\u001b[0m\u001b[1;33m.\u001b[0m\u001b[0m_get_axis_number\u001b[0m\u001b[1;33m(\u001b[0m\u001b[0maxis\u001b[0m\u001b[1;33m)\u001b[0m\u001b[1;33m,\u001b[0m \u001b[0mraise_missing\u001b[0m\u001b[1;33m=\u001b[0m\u001b[0mraise_missing\u001b[0m\u001b[1;33m\u001b[0m\u001b[1;33m\u001b[0m\u001b[0m\n\u001b[0m\u001b[0;32m   1553\u001b[0m         )\n\u001b[0;32m   1554\u001b[0m         \u001b[1;32mreturn\u001b[0m \u001b[0mkeyarr\u001b[0m\u001b[1;33m,\u001b[0m \u001b[0mindexer\u001b[0m\u001b[1;33m\u001b[0m\u001b[1;33m\u001b[0m\u001b[0m\n",
      "\u001b[1;32mC:\\ProgramData\\Anaconda3\\lib\\site-packages\\pandas\\core\\indexing.py\u001b[0m in \u001b[0;36m_validate_read_indexer\u001b[1;34m(self, key, indexer, axis, raise_missing)\u001b[0m\n\u001b[0;32m   1637\u001b[0m             \u001b[1;32mif\u001b[0m \u001b[0mmissing\u001b[0m \u001b[1;33m==\u001b[0m \u001b[0mlen\u001b[0m\u001b[1;33m(\u001b[0m\u001b[0mindexer\u001b[0m\u001b[1;33m)\u001b[0m\u001b[1;33m:\u001b[0m\u001b[1;33m\u001b[0m\u001b[1;33m\u001b[0m\u001b[0m\n\u001b[0;32m   1638\u001b[0m                 \u001b[0maxis_name\u001b[0m \u001b[1;33m=\u001b[0m \u001b[0mself\u001b[0m\u001b[1;33m.\u001b[0m\u001b[0mobj\u001b[0m\u001b[1;33m.\u001b[0m\u001b[0m_get_axis_name\u001b[0m\u001b[1;33m(\u001b[0m\u001b[0maxis\u001b[0m\u001b[1;33m)\u001b[0m\u001b[1;33m\u001b[0m\u001b[1;33m\u001b[0m\u001b[0m\n\u001b[1;32m-> 1639\u001b[1;33m                 \u001b[1;32mraise\u001b[0m \u001b[0mKeyError\u001b[0m\u001b[1;33m(\u001b[0m\u001b[1;34mf\"None of [{key}] are in the [{axis_name}]\"\u001b[0m\u001b[1;33m)\u001b[0m\u001b[1;33m\u001b[0m\u001b[1;33m\u001b[0m\u001b[0m\n\u001b[0m\u001b[0;32m   1640\u001b[0m \u001b[1;33m\u001b[0m\u001b[0m\n\u001b[0;32m   1641\u001b[0m             \u001b[1;31m# We (temporarily) allow for some missing keys with .loc, except in\u001b[0m\u001b[1;33m\u001b[0m\u001b[1;33m\u001b[0m\u001b[1;33m\u001b[0m\u001b[0m\n",
      "\u001b[1;31mKeyError\u001b[0m: \"None of [Index(['MeContext=QLD_WNCU15_WOOLLOONGABBA_NC_TEST_BASE_579901,ManagedElement=1,ENodeBFunction=1,EUtranCellFDD=WNCUET2,EUtranFreqRelation=9410,EUtranCellRelation=5051-571901-2',\\n       'MeContext=QLD_WNCU15_WOOLLOONGABBA_NC_TEST_BASE_579901,ManagedElement=1,ENodeBFunction=1,EUtranCellFDD=WNCUET2,EUtranFreqRelation=9410,EUtranCellRelation=5051-571901-2',\\n       'MeContext=QLD_WNCU15_WOOLLOONGABBA_NC_TEST_BASE_579901,ManagedElement=1,ENodeBFunction=1,EUtranCellFDD=WNCUET2,EUtranFreqRelation=9410,EUtranCellRelation=5051-571901-2',\\n       'MeContext=QLD_WNCU15_WOOLLOONGABBA_NC_TEST_BASE_579901,ManagedElement=1,ENodeBFunction=1,EUtranCellFDD=WNCUET2,EUtranFreqRelation=9410,EUtranCellRelation=5051-571901-2',\\n       'MeContext=QLD_WNCU15_WOOLLOONGABBA_NC_TEST_BASE_579901,ManagedElement=1,ENodeBFunction=1,EUtranCellFDD=WNCUET2,EUtranFreqRelation=9410,EUtranCellRelation=5051-571901-2',\\n       'MeContext=QLD_WNCU15_WOOLLOONGABBA_NC_TEST_BASE_579901,ManagedElement=1,ENodeBFunction=1,EUtranCellFDD=WNCUET2,EUtranFreqRelation=9410,EUtranCellRelation=5051-571901-2',\\n       'MeContext=QLD_WNCU15_WOOLLOONGABBA_NC_TEST_BASE_579901,ManagedElement=1,ENodeBFunction=1,EUtranCellFDD=WNCUET3,EUtranFreqRelation=9410,EUtranCellRelation=5051-571901-3',\\n       'MeContext=QLD_WNCU15_WOOLLOONGABBA_NC_TEST_BASE_579901,ManagedElement=1,ENodeBFunction=1,EUtranCellFDD=WNCUET3,EUtranFreqRelation=9410,EUtranCellRelation=5051-571901-3',\\n       'MeContext=QLD_WNCU15_WOOLLOONGABBA_NC_TEST_BASE_579901,ManagedElement=1,ENodeBFunction=1,EUtranCellFDD=WNCUET3,EUtranFreqRelation=9410,EUtranCellRelation=5051-571901-3',\\n       'MeContext=QLD_WNCU15_WOOLLOONGABBA_NC_TEST_BASE_579901,ManagedElement=1,ENodeBFunction=1,EUtranCellFDD=WNCUET3,EUtranFreqRelation=9410,EUtranCellRelation=5051-571901-3',\\n       'MeContext=QLD_WNCU15_WOOLLOONGABBA_NC_TEST_BASE_579901,ManagedElement=1,ENodeBFunction=1,EUtranCellFDD=WNCUET3,EUtranFreqRelation=9410,EUtranCellRelation=5051-571901-3',\\n       'MeContext=QLD_WNCU15_WOOLLOONGABBA_NC_TEST_BASE_579901,ManagedElement=1,ENodeBFunction=1,EUtranCellFDD=WNCUET3,EUtranFreqRelation=9410,EUtranCellRelation=5051-571901-3',\\n       'MeContext=QLD_WNCU15_WOOLLOONGABBA_NC_TEST_BASE_579901,ManagedElement=1,ENodeBFunction=1,SubscriberGroupProfile=BGQOS'],\\n      dtype='object')] are in the [index]\""
     ]
    }
   ],
   "source": [
    "src_df.loc[(src_df[fdn_col_name])]"
   ]
  },
  {
   "cell_type": "code",
   "execution_count": 20,
   "metadata": {
    "collapsed": true
   },
   "outputs": [
    {
     "data": {
      "text/plain": [
       "0     MeContext=QLD_WNCU15_WOOLLOONGABBA_NC_TEST_BAS...\n",
       "1     MeContext=QLD_WNCU15_WOOLLOONGABBA_NC_TEST_BAS...\n",
       "2     MeContext=QLD_WNCU15_WOOLLOONGABBA_NC_TEST_BAS...\n",
       "3     MeContext=QLD_WNCU15_WOOLLOONGABBA_NC_TEST_BAS...\n",
       "4     MeContext=QLD_WNCU15_WOOLLOONGABBA_NC_TEST_BAS...\n",
       "5     MeContext=QLD_WNCU15_WOOLLOONGABBA_NC_TEST_BAS...\n",
       "6     MeContext=QLD_WNCU15_WOOLLOONGABBA_NC_TEST_BAS...\n",
       "7     MeContext=QLD_WNCU15_WOOLLOONGABBA_NC_TEST_BAS...\n",
       "8     MeContext=QLD_WNCU15_WOOLLOONGABBA_NC_TEST_BAS...\n",
       "9     MeContext=QLD_WNCU15_WOOLLOONGABBA_NC_TEST_BAS...\n",
       "10    MeContext=QLD_WNCU15_WOOLLOONGABBA_NC_TEST_BAS...\n",
       "11    MeContext=QLD_WNCU15_WOOLLOONGABBA_NC_TEST_BAS...\n",
       "12    MeContext=QLD_WNCU15_WOOLLOONGABBA_NC_TEST_BAS...\n",
       "Name: Managed Object RDN, dtype: object"
      ]
     },
     "execution_count": 20,
     "metadata": {},
     "output_type": "execute_result"
    }
   ],
   "source": [
    "src_df[fdn_col_name]"
   ]
  },
  {
   "cell_type": "code",
   "execution_count": 21,
   "metadata": {},
   "outputs": [],
   "source": [
    "found_value = src_df.loc[src_df[fdn_col_name] == fdn].loc[:, col_list]"
   ]
  },
  {
   "cell_type": "code",
   "execution_count": 41,
   "metadata": {},
   "outputs": [
    {
     "data": {
      "text/plain": [
       "'ENM=modelenm,SubNetwork=QLD_Woolloongabba_Mod,MeContext=QLD_WNCU15_WOOLLOONGABBA_NC_TEST_BASE_579901,ManagedElement=1,ENodeBFunction=1,EUtranCellFDD=WNCUET2,EUtranFreqRelation=9410,EUtranCellRelation=5051-571901-2'"
      ]
     },
     "execution_count": 41,
     "metadata": {},
     "output_type": "execute_result"
    }
   ],
   "source": [
    "fdn"
   ]
  },
  {
   "cell_type": "code",
   "execution_count": 34,
   "metadata": {},
   "outputs": [
    {
     "data": {
      "text/plain": [
       "'MeContext=QLD_WNCU15_WOOLLOONGABBA_NC_TEST_BASE_579901,ManagedElement=1,ENodeBFunction=1,EUtranCellFDD=WNCUET2,EUtranFreqRelation=9410,EUtranCellRelation=5051-571901-2'"
      ]
     },
     "execution_count": 34,
     "metadata": {},
     "output_type": "execute_result"
    }
   ],
   "source": [
    "src_df[fdn_col_name][0]"
   ]
  },
  {
   "cell_type": "code",
   "execution_count": 42,
   "metadata": {},
   "outputs": [
    {
     "data": {
      "text/plain": [
       "'MeContext=QLD_WNCU15_WOOLLOONGABBA_NC_TEST_BASE_579901,ManagedElement=1,ENodeBFunction=1,EUtranCellFDD=WNCUET2,EUtranFreqRelation=9410,EUtranCellRelation=5051-571901-2'"
      ]
     },
     "execution_count": 42,
     "metadata": {},
     "output_type": "execute_result"
    }
   ],
   "source": [
    "\",\".join(fdn.split(\",\")[2:])"
   ]
  },
  {
   "cell_type": "code",
   "execution_count": 40,
   "metadata": {},
   "outputs": [
    {
     "data": {
      "text/plain": [
       "str"
      ]
     },
     "execution_count": 40,
     "metadata": {},
     "output_type": "execute_result"
    }
   ],
   "source": [
    "type(src_df[fdn_col_name][0])"
   ]
  },
  {
   "cell_type": "code",
   "execution_count": 45,
   "metadata": {},
   "outputs": [
    {
     "data": {
      "text/plain": [
       "0      True\n",
       "1      True\n",
       "2      True\n",
       "3      True\n",
       "4      True\n",
       "5      True\n",
       "6     False\n",
       "7     False\n",
       "8     False\n",
       "9     False\n",
       "10    False\n",
       "11    False\n",
       "12    False\n",
       "Name: Managed Object RDN, dtype: bool"
      ]
     },
     "execution_count": 45,
     "metadata": {},
     "output_type": "execute_result"
    }
   ],
   "source": [
    "\",\".join(fdn.split(\",\")[2:]) == src_df[fdn_col_name]"
   ]
  },
  {
   "cell_type": "code",
   "execution_count": 56,
   "metadata": {},
   "outputs": [],
   "source": [
    "record = dict()\n",
    "record[0] = src_df.loc[\",\".join(fdn.split(\",\")[2:]) == src_df[fdn_col_name]].loc[:, col_list].values[0]"
   ]
  },
  {
   "cell_type": "code",
   "execution_count": 52,
   "metadata": {},
   "outputs": [
    {
     "data": {
      "text/plain": [
       "array(['WNCUET2', 'WNCUET3',\n",
       "       'QLD_WNCU15_WOOLLOONGABBA_NC_TEST_BASE_579901'], dtype=object)"
      ]
     },
     "execution_count": 52,
     "metadata": {},
     "output_type": "execute_result"
    }
   ],
   "source": [
    "src_df[\"N/E Instance\"].unique()"
   ]
  },
  {
   "cell_type": "code",
   "execution_count": 57,
   "metadata": {},
   "outputs": [
    {
     "data": {
      "text/plain": [
       "{0: array(['WNCUET2', 'MO Created',\n",
       "        'MeContext=QLD_WNCU15_WOOLLOONGABBA_NC_TEST_BASE_579901,ManagedElement=1,ENodeBFunction=1,EUtranCellFDD=WNCUET2,EUtranFreqRelation=9410,EUtranCellRelation=5051-571901-2'],\n",
       "       dtype=object)}"
      ]
     },
     "execution_count": 57,
     "metadata": {},
     "output_type": "execute_result"
    }
   ],
   "source": [
    "record"
   ]
  },
  {
   "cell_type": "code",
   "execution_count": 58,
   "metadata": {},
   "outputs": [
    {
     "data": {
      "text/plain": [
       "'WNCUET2'"
      ]
     },
     "execution_count": 58,
     "metadata": {},
     "output_type": "execute_result"
    }
   ],
   "source": [
    "record[0][0]"
   ]
  },
  {
   "cell_type": "code",
   "execution_count": null,
   "metadata": {},
   "outputs": [],
   "source": []
  },
  {
   "cell_type": "code",
   "execution_count": null,
   "metadata": {},
   "outputs": [],
   "source": []
  },
  {
   "cell_type": "code",
   "execution_count": null,
   "metadata": {},
   "outputs": [],
   "source": []
  },
  {
   "cell_type": "code",
   "execution_count": null,
   "metadata": {},
   "outputs": [],
   "source": []
  }
 ],
 "metadata": {
  "kernelspec": {
   "display_name": "Python 3",
   "language": "python",
   "name": "python3"
  },
  "language_info": {
   "codemirror_mode": {
    "name": "ipython",
    "version": 3
   },
   "file_extension": ".py",
   "mimetype": "text/x-python",
   "name": "python",
   "nbconvert_exporter": "python",
   "pygments_lexer": "ipython3",
   "version": "3.7.6"
  }
 },
 "nbformat": 4,
 "nbformat_minor": 4
}
