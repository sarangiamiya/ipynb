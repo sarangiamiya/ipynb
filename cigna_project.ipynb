{
 "cells": [
  {
   "cell_type": "code",
   "execution_count": 4,
   "metadata": {},
   "outputs": [
    {
     "name": "stdout",
     "output_type": "stream",
     "text": [
      "3\n",
      "APY\n",
      "5\n",
      "3\n"
     ]
    }
   ],
   "source": [
    "#Polymorphism \n",
    "\n",
    "#It refers to the use of a single type entity (method, operator or object) to represent \n",
    "#different types in different scenarios.\n",
    "\n",
    "num =1\n",
    "num1 = 2\n",
    "print(num+num1)\n",
    "\n",
    "str1 = \"A\"\n",
    "str2 = \"PY\"\n",
    "print(str1+str2)\n",
    "\n",
    "print(len(\"Hello\"))\n",
    "print(len([\"H\",\"4\",\"O\"]))"
   ]
  },
  {
   "cell_type": "code",
   "execution_count": 6,
   "metadata": {},
   "outputs": [
    {
     "name": "stdout",
     "output_type": "stream",
     "text": [
      "Meow\n",
      "I am a cat. My name is Kitty. I am 2.5 years old.\n",
      "Meow\n",
      "Bark\n",
      "I am a dog. My name is Fluffy. I am 4 years old.\n",
      "Bark\n",
      "Khikhi\n",
      "I am a Monkey. My name is Fufu. I am 6 years old.\n",
      "Khikhi\n"
     ]
    }
   ],
   "source": [
    "#We can use the concept of polymorphism while creating class methods as Python allows \n",
    "#different classes to have methods with the same name.\n",
    "\n",
    "class Cat:\n",
    "    def __init__(self, name, age):\n",
    "        self.name = name\n",
    "        self.age = age\n",
    "\n",
    "    def info(self):\n",
    "        print(f\"I am a cat. My name is {self.name}. I am {self.age} years old.\")\n",
    "\n",
    "    def make_sound(self):\n",
    "        print(\"Meow\")\n",
    "\n",
    "\n",
    "class Dog:\n",
    "    def __init__(self, name, age):\n",
    "        self.name = name\n",
    "        self.age = age\n",
    "\n",
    "    def info(self):\n",
    "        print(f\"I am a dog. My name is {self.name}. I am {self.age} years old.\")\n",
    "\n",
    "    def make_sound(self):\n",
    "        print(\"Bark\")\n",
    "        \n",
    "class Monkey:\n",
    "    def __init__(self, name, age):\n",
    "        self.name = name\n",
    "        self.age = age\n",
    "\n",
    "    def info(self):\n",
    "        print(f\"I am a Monkey. My name is {self.name}. I am {self.age} years old.\")\n",
    "\n",
    "    def make_sound(self):\n",
    "        print(\"Khikhi\")\n",
    "\n",
    "\n",
    "cat1 = Cat(\"Kitty\", 2.5)\n",
    "dog1 = Dog(\"Fluffy\", 4)\n",
    "monkey1 = Monkey(\"Fufu\", 6)\n",
    "\n",
    "for animal in (cat1, dog1, monkey1):\n",
    "    animal.make_sound()\n",
    "    animal.info()\n",
    "    animal.make_sound()"
   ]
  },
  {
   "cell_type": "code",
   "execution_count": 9,
   "metadata": {},
   "outputs": [
    {
     "name": "stdout",
     "output_type": "stream",
     "text": [
      "Circle\n",
      "I am a two-dimensional shape.\n",
      "Squares have each angle equal to 90 degrees.\n",
      "153.93804002589985\n"
     ]
    }
   ],
   "source": [
    "#the child classes in Python also inherit methods and attributes from the parent class. \n",
    "#We can redefine certain methods and attributes specifically to fit the child class, \n",
    "#which is known as Method Overriding.\n",
    "\n",
    "#Method overriding is a type of polymorphism in which a child class which is extending the parent class \n",
    "#can provide different definition to any function defined in the parent class as per its own requirements.\n",
    "\n",
    "#There are different methods to use polymorphism in Python. \n",
    "#You can use different function, class methods or objects to define polymorphism.\n",
    "\n",
    "\n",
    "from math import pi\n",
    "\n",
    "\n",
    "class Shape:\n",
    "    def __init__(self, name):\n",
    "        self.name = name\n",
    "\n",
    "    def area(self):\n",
    "        pass\n",
    "\n",
    "    def fact(self):\n",
    "        return \"I am a two-dimensional shape.\"\n",
    "\n",
    "    def __str__(self):\n",
    "        return self.name\n",
    "\n",
    "\n",
    "class Square(Shape):\n",
    "    def __init__(self, length):\n",
    "        super().__init__(\"Square\")\n",
    "        self.length = length\n",
    "\n",
    "    def area(self):\n",
    "        return self.length**2\n",
    "\n",
    "    def fact(self):\n",
    "        return \"Squares have each angle equal to 90 degrees.\"\n",
    "\n",
    "class Circle(Shape):\n",
    "    def __init__(self, radius):\n",
    "        super().__init__(\"Circle\")\n",
    "        self.radius = radius\n",
    "\n",
    "    def area(self):\n",
    "        return pi*self.radius**2\n",
    "\n",
    "\n",
    "a = Square(4)\n",
    "b = Circle(7)\n",
    "print(b)\n",
    "print(b.fact())\n",
    "print(a.fact())\n",
    "print(b.area())\n",
    "\n",
    "#Note: Method Overloading, a way to create multiple methods with the same name\n",
    "#but different arguments, is not possible in Python."
   ]
  },
  {
   "cell_type": "code",
   "execution_count": 15,
   "metadata": {},
   "outputs": [
    {
     "name": "stdout",
     "output_type": "stream",
     "text": [
      "['a1', 'b1', 'c1', 'd1']\n"
     ]
    }
   ],
   "source": [
    "#24.\tLambda operations [a,b,c,d] => [a1,b1,c1,d1] without loop\n",
    "\n",
    "new_list = list(map (lambda x: x+\"1\", [\"a\",\"b\",\"c\",\"d\"]) )\n",
    "print(new_list)"
   ]
  },
  {
   "cell_type": "code",
   "execution_count": 18,
   "metadata": {},
   "outputs": [
    {
     "name": "stdout",
     "output_type": "stream",
     "text": [
      "Success!\n"
     ]
    }
   ],
   "source": [
    "#23.\tget web service information using requestlib\n",
    "\n",
    "import requests\n",
    "requests.get('https://api.github.com')\n",
    "\n",
    "#A Response is a powerful object for inspecting the results of the request. \n",
    "\n",
    "response = requests.get('https://api.github.com')\n",
    "\n",
    "#.status_code returned a 200, which means your request was successful \n",
    "#and the server responded with the data you were requesting.\n",
    "#response.status_code == 200:\n",
    "\n",
    "if response:\n",
    "    print('Success!')\n",
    "else:\n",
    "    print('An error has occurred.')\n"
   ]
  },
  {
   "cell_type": "code",
   "execution_count": 21,
   "metadata": {},
   "outputs": [
    {
     "name": "stdout",
     "output_type": "stream",
     "text": [
      "dt_object = 2018-12-25 14:57:53\n",
      "type(dt_object) = <class 'datetime.datetime'>\n",
      "Convert to timestamp\n",
      "timestamp = 1591190396.217451\n"
     ]
    }
   ],
   "source": [
    "#22.\tConvert timestamp to date format\n",
    "\n",
    "from datetime import datetime\n",
    "\n",
    "timestamp = 1545730073\n",
    "dt_object = datetime.fromtimestamp(timestamp)\n",
    "\n",
    "print(\"dt_object =\", dt_object)\n",
    "print(\"type(dt_object) =\", type(dt_object))\n",
    "\n",
    "print(\"Convert to timestamp\")\n",
    "\n",
    "# current date and time\n",
    "now = datetime.now()\n",
    "\n",
    "timestamp = datetime.timestamp(now)\n",
    "print(\"timestamp =\", timestamp)"
   ]
  },
  {
   "cell_type": "code",
   "execution_count": 22,
   "metadata": {},
   "outputs": [
    {
     "name": "stdout",
     "output_type": "stream",
     "text": [
      "6\n",
      "8\n",
      "The Pythagorean Theorem!\n",
      "\n",
      "The Pythagoras Theorem Is Used To Find The Length Of The Hypotenuse.\n",
      "\n",
      "\n",
      "ABC Is A Right-Angled Triangle With 'AC' As The Hypotenuse\n",
      "\n",
      "AB = 6\n",
      "BC = 8\n",
      "____________________________\n",
      "\n",
      "Your Result: AC = 10.0 \n",
      "\n",
      "____________________________\n",
      "\n"
     ]
    }
   ],
   "source": [
    "#21.\tPythagoras theorem\n",
    "\n",
    "from math import sqrt \n",
    "\n",
    "a= int(input())\n",
    "b = int(input())\n",
    "\n",
    "print(\"The Pythagorean Theorem!\\n\")\n",
    "print(\"The Pythagoras Theorem Is Used To Find The Length Of The Hypotenuse.\\n\\n\")\n",
    "print(\"ABC Is A Right-Angled Triangle With 'AC' As The Hypotenuse\\n\")\n",
    "print(\"AB =\", a)\n",
    "print(\"BC =\", b)\n",
    "num = a**2 + b**2\n",
    "sum = sqrt(num)\n",
    "print(\"____________________________\\n\")\n",
    "print(\"Your Result: AC =\" , sum , \"\\n\")\n",
    "print(\"____________________________\\n\")"
   ]
  },
  {
   "cell_type": "code",
   "execution_count": 23,
   "metadata": {},
   "outputs": [
    {
     "name": "stdout",
     "output_type": "stream",
     "text": [
      "5.0\n"
     ]
    }
   ],
   "source": [
    "#19.\tSquare root a number without math package\n",
    "\n",
    "#Python has exponentiation operator (**) which can be used to calculate power of a number. \n",
    "#x**y returns x raised to y i.e. y times multiplication of x. \n",
    "#Since we need to calculate square root, y should be (1/2)\n",
    "\n",
    "print(25**(1/2))"
   ]
  },
  {
   "cell_type": "code",
   "execution_count": 26,
   "metadata": {},
   "outputs": [
    {
     "name": "stdout",
     "output_type": "stream",
     "text": [
      "The strings are anagrams.\n"
     ]
    }
   ],
   "source": [
    "#18.\tAnagram pattern\n",
    "#An anagram of a string is another string that contains same characters, only the order of characters \n",
    "#can be different. For example, “abcd” and “dabc” are anagram of each other.\n",
    "\n",
    "def check(s1, s2): \n",
    "      \n",
    "    # the sorted strings are checked  \n",
    "    if(sorted(s1)== sorted(s2)): \n",
    "        print(\"The strings are anagrams.\")  \n",
    "    else: \n",
    "        print(\"The strings aren't anagrams.\")          \n",
    "          \n",
    "# driver code   \n",
    "s1 =\"listen\"\n",
    "s2 =\"silent\" \n",
    "check(s1, s2) "
   ]
  },
  {
   "cell_type": "code",
   "execution_count": 3,
   "metadata": {},
   "outputs": [
    {
     "name": "stdout",
     "output_type": "stream",
     "text": [
      "The string is a palindrome.\n"
     ]
    }
   ],
   "source": [
    "#17.\tfind Palindrome \n",
    "#A palindrome is a string that is the same read forward or backward.\n",
    "\n",
    "my_str = 'Dad'\n",
    "\n",
    "# make it suitable for caseless comparison\n",
    "my_str = my_str.casefold()\n",
    "#casefold() we make it suitable for caseless comparisons. \n",
    "#Basically, this method returns a lowercased version of the string.\n",
    "\n",
    "# reverse the string\n",
    "rev_str = reversed(my_str)\n",
    "\n",
    "# check if the string is equal to its reverse\n",
    "if list(my_str) == list(rev_str):\n",
    "    print(\"The string is a palindrome.\")\n",
    "else:\n",
    "    print(\"The string is not a palindrome.\")\n"
   ]
  },
  {
   "cell_type": "code",
   "execution_count": 41,
   "metadata": {},
   "outputs": [
    {
     "name": "stdout",
     "output_type": "stream",
     "text": [
      "['42', '32', '30']\n",
      "[42, 32, 30]\n",
      "The original string : There are 2 apples for 4 persons\n",
      "The numbers list is : [2, 4]\n",
      "The alphabet list is : ['There', 'are', 'apples', 'for', 'persons']\n",
      "['42', '32', '30']\n",
      "['hello', 'I', 'm', 'a', 'string']\n",
      "['There', 'are', 'apples', 'for', 'persons']\n"
     ]
    }
   ],
   "source": [
    "#16.\textract number and alphabets in separate list\n",
    "\n",
    "import re\n",
    "print(re.findall(r'\\d+', 'hello 42 I\\'m a 32 string 30'))\n",
    "#['42', '32', '30']\n",
    "\n",
    "\n",
    "print([int(s) for s in re.findall(r'\\b\\d+\\b', 'he33llo 42 I\\'m a 32 string 30')])\n",
    "\n",
    "\n",
    "#2nd Method\n",
    "\n",
    "# using List comprehension + isdigit() +split() \n",
    "  \n",
    "# initializing string  \n",
    "test_string = \"There are 2 apples for 4 persons\"\n",
    "  \n",
    "# printing original string  \n",
    "print(\"The original string : \" + test_string) \n",
    "  \n",
    "# using List comprehension + isdigit() +split() \n",
    "# getting numbers from string  \n",
    "res = [int(i) for i in test_string.split() if i.isdigit()] \n",
    "alpha = [str(i) for i in test_string.split() if i.isalpha()] \n",
    "  \n",
    "# print result \n",
    "print(\"The numbers list is : \" + str(res)) \n",
    "print(\"The alphabet list is : \" + str(alpha)) \n",
    "\n",
    "\n",
    "#3rd Method\n",
    "\n",
    "print(re.findall(r'\\d+', 'hello 42 I\\'m a 32 string 30'))##Extract Numbers\n",
    "print(re.findall(r'[a-zA-Z]+', 'hello 42 I\\'m a 32 string 30'))##Extract Alphabets\n",
    "print(re.findall(r'[a-zA-Z]+', \"There are 2 apples for 4 persons\"))##Extract Alphabets\n"
   ]
  },
  {
   "cell_type": "code",
   "execution_count": 43,
   "metadata": {},
   "outputs": [
    {
     "name": "stdout",
     "output_type": "stream",
     "text": [
      "[['akash', 5], ['rishav', 10], ['gaurav', 15], ['ram', 20]]\n",
      "[['akash', 5], ['rishav', 10], ['gaurav', 15], ['ram', 20]]\n"
     ]
    }
   ],
   "source": [
    "#15.\tSort list based on second character in each element in string\n",
    "\n",
    "def Sort(sub_li): \n",
    "    l = len(sub_li) \n",
    "    for i in range(0, l): \n",
    "        for j in range(0, l-i-1): \n",
    "            if (sub_li[j][1] > sub_li[j + 1][1]): \n",
    "                tempo = sub_li[j] \n",
    "                sub_li[j]= sub_li[j + 1] \n",
    "                sub_li[j + 1]= tempo \n",
    "    return sub_li \n",
    "  \n",
    "# Driver Code \n",
    "sub_li =[['rishav', 10], ['akash', 5], ['ram', 20], ['gaurav', 15]] \n",
    "print(Sort(sub_li)) \n",
    "\n",
    "\n",
    "#2nd Method\n",
    "\n",
    "def Sort(sub_li): \n",
    "  \n",
    "    # reverse = None (Sorts in Ascending order) \n",
    "    # key is set to sort using second element of  \n",
    "    # sublist lambda has been used \n",
    "    return(sorted(sub_li, key = lambda x: x[1]))     \n",
    "  \n",
    "# Driver Code \n",
    "sub_li =[['rishav', 10], ['akash', 5], ['ram', 20], ['gaurav', 15]] \n",
    "print(Sort(sub_li)) "
   ]
  },
  {
   "cell_type": "code",
   "execution_count": 6,
   "metadata": {},
   "outputs": [
    {
     "name": "stdout",
     "output_type": "stream",
     "text": [
      "Enter a number: 8\n",
      "8 is not a prime number\n",
      "2 times 4 is 8\n"
     ]
    }
   ],
   "source": [
    "#14.\tFind Prime number\n",
    "\n",
    "# To take input from the user\n",
    "num = int(input(\"Enter a number: \"))\n",
    "\n",
    "# prime numbers are greater than 1\n",
    "if num > 1:\n",
    "   # check for factors\n",
    "   for i in range(2,num):\n",
    "        if (num % i) == 0:\n",
    "            print(num,\"is not a prime number\")\n",
    "            print(i,\"times\",num//i,\"is\",num)\n",
    "            break\n",
    "        else:\n",
    "            print(num,\"is a prime number\")\n",
    "       \n",
    "# if input number is less than\n",
    "# or equal to 1, it is not prime\n",
    "else:\n",
    "    print(num,\"is not a prime number\")"
   ]
  },
  {
   "cell_type": "code",
   "execution_count": 46,
   "metadata": {},
   "outputs": [
    {
     "name": "stdout",
     "output_type": "stream",
     "text": [
      "Display multiplication table of? 10\n",
      "10 x 1 = 10\n",
      "10 x 2 = 20\n",
      "10 x 3 = 30\n",
      "10 x 4 = 40\n",
      "10 x 5 = 50\n",
      "10 x 6 = 60\n",
      "10 x 7 = 70\n",
      "10 x 8 = 80\n",
      "10 x 9 = 90\n",
      "10 x 10 = 100\n"
     ]
    }
   ],
   "source": [
    "#13.\tMultiplication table\n",
    "\n",
    "# To take input from the user\n",
    "num = int(input(\"Display multiplication table of? \"))\n",
    "\n",
    "# Iterate 10 times from i = 1 to 10\n",
    "for i in range(1, 11):\n",
    "   print(num, 'x', i, '=', num*i)"
   ]
  },
  {
   "cell_type": "code",
   "execution_count": 48,
   "metadata": {},
   "outputs": [
    {
     "name": "stdout",
     "output_type": "stream",
     "text": [
      "No. of vowels : 5\n",
      "2nd Method\n",
      "5\n",
      "['e', 'e', 'o', 'e', 'e']\n",
      "3rd Method\n",
      "{'a': 2, 'e': 5, 'i': 3, 'o': 5, 'u': 3}\n"
     ]
    }
   ],
   "source": [
    "#12.\tVowel count in a string\n",
    "\n",
    "# Function to count vowel \n",
    "def vowel_count(str): \n",
    "      \n",
    "    # Initializing count variable to 0 \n",
    "    count = 0\n",
    "      \n",
    "    # Creating a set of vowels \n",
    "    vowel = set(\"aeiouAEIOU\") \n",
    "      \n",
    "    # Loop to traverse the alphabet \n",
    "    # in the given string \n",
    "    for alphabet in str: \n",
    "      \n",
    "        # If alphabet is present \n",
    "        # in set vowel \n",
    "        if alphabet in vowel: \n",
    "            count = count + 1\n",
    "      \n",
    "    print(\"No. of vowels :\", count) \n",
    "      \n",
    "# Driver code  \n",
    "str = \"GeeksforGeeks\"\n",
    "  \n",
    "# Function Call \n",
    "vowel_count(str) \n",
    "\n",
    "#2nd Method\n",
    "print(\"2nd Method\")\n",
    "\n",
    "def Check_Vow(string, vowels): \n",
    "    final = [each for each in string if each in vowels] \n",
    "    print(len(final)) \n",
    "    print(final) \n",
    "      \n",
    "# Driver Code \n",
    "string = \"Geeks for Geeks\"\n",
    "vowels = \"AaEeIiOoUu\"\n",
    "Check_Vow(string, vowels); \n",
    "\n",
    "#3rd Method\n",
    "print(\"3rd Method\")\n",
    "\n",
    "# string of vowels\n",
    "vowels = 'aeiou'\n",
    "\n",
    "ip_str = 'Hello, have you tried our tutorial section yet?'\n",
    "\n",
    "# make it suitable for caseless comparisions\n",
    "ip_str = ip_str.casefold()\n",
    "\n",
    "# make a dictionary with each vowel a key and value 0\n",
    "count = {}.fromkeys(vowels,0)\n",
    "\n",
    "# count the vowels\n",
    "for char in ip_str:\n",
    "    if char in count:\n",
    "        count[char] += 1\n",
    "\n",
    "print(count)"
   ]
  },
  {
   "cell_type": "code",
   "execution_count": 50,
   "metadata": {},
   "outputs": [
    {
     "name": "stdout",
     "output_type": "stream",
     "text": [
      "['1', '2', '3']\n",
      "['1', '3', '2']\n",
      "['2', '1', '3']\n",
      "['2', '3', '1']\n",
      "['3', '1', '2']\n",
      "['3', '2', '1']\n",
      "2nd Method\n",
      "('a', 'b', 'c')\n",
      "('a', 'c', 'b')\n",
      "('b', 'a', 'c')\n",
      "('b', 'c', 'a')\n",
      "('c', 'a', 'b')\n",
      "('c', 'b', 'a')\n",
      "3rd Method\n",
      "('p', 'y', 't', 'h', 'o')\n",
      "('p', 'y', 't', 'h', 'n')\n",
      "('p', 'y', 't', 'o', 'n')\n",
      "('p', 'y', 'h', 'o', 'n')\n",
      "('p', 't', 'h', 'o', 'n')\n",
      "('y', 't', 'h', 'o', 'n')\n"
     ]
    }
   ],
   "source": [
    "#11.\tPermutation & combination\n",
    "\n",
    "\n",
    "# Python function to print permutations of a given list \n",
    "def permutation(lst): \n",
    "  \n",
    "    # If lst is empty then there are no permutations \n",
    "    if len(lst) == 0: \n",
    "        return [] \n",
    "  \n",
    "    # If there is only one element in lst then, only \n",
    "    # one permuatation is possible \n",
    "    if len(lst) == 1: \n",
    "        return [lst] \n",
    "  \n",
    "    # Find the permutations for lst if there are \n",
    "    # more than 1 characters \n",
    "  \n",
    "    l = [] # empty list that will store current permutation \n",
    "  \n",
    "    # Iterate the input(lst) and calculate the permutation \n",
    "    for i in range(len(lst)): \n",
    "       m = lst[i] \n",
    "  \n",
    "       # Extract lst[i] or m from the list.  remLst is \n",
    "       # remaining list \n",
    "       remLst = lst[:i] + lst[i+1:] \n",
    "  \n",
    "       # Generating all permutations where m is first \n",
    "       # element \n",
    "       for p in permutation(remLst): \n",
    "           l.append([m] + p) \n",
    "    return l \n",
    "  \n",
    "  \n",
    "# Driver program to test above function \n",
    "data = list('123') \n",
    "for p in permutation(data): \n",
    "    print(p)\n",
    "\n",
    "    \n",
    "#2nd Method\n",
    "print(\"2nd Method\")\n",
    "\n",
    "from itertools import permutations\n",
    "\n",
    "seq = permutations(['a','b','c'])\n",
    "\n",
    "for p in list(seq):\n",
    "    print(p)\n",
    "\n",
    "#3rd Method\n",
    "print(\"3rd Method\")\n",
    "\n",
    "#Import itertools package\n",
    "from itertools import combinations\n",
    "\n",
    "#Getting all combination of a particular length.\n",
    "combi = combinations(['p', 'y', 't', 'h', 'o', 'n'], 5)\n",
    "\n",
    "#Print the list of combinations\n",
    "\n",
    "for c in list(combi):\n",
    "    print(c)"
   ]
  },
  {
   "cell_type": "code",
   "execution_count": 65,
   "metadata": {},
   "outputs": [
    {
     "name": "stdout",
     "output_type": "stream",
     "text": [
      "Count of e in GeeksforGeeks is : 4\n",
      "2nd Method\n",
      "Count of e in GeeksforGeeks is : 4\n",
      "4th Method\n",
      "Count of e in GeeksforGeeks is : 4\n"
     ]
    }
   ],
   "source": [
    "#10.\tCount of characters in string\n",
    "#global str\n",
    "\n",
    "# initializing string  \n",
    "test_str = \"GeeksforGeeks\"\n",
    "\n",
    "# using naive method to get count  \n",
    "# counting e  \n",
    "count = 0\n",
    "  \n",
    "for i in test_str: \n",
    "    if i == 'e': \n",
    "        count = count + 1\n",
    "  \n",
    "#Print Result \n",
    "#print (\"Count of e in GeeksforGeeks is : \"+  str(count)) \n",
    "print (\"Count of e in GeeksforGeeks is : \"+  str(count)) \n",
    "\n",
    "#2nd Method\n",
    "print(\"2nd Method\")\n",
    "\n",
    "# initializing string  \n",
    "test_str = \"GeeksforGeeks\"\n",
    "  \n",
    "# using count() to get count  \n",
    "# counting e  \n",
    "counter = test_str.count('e') \n",
    "  \n",
    "# printing result  \n",
    "print (\"Count of e in GeeksforGeeks is : \"+  str(counter)) \n",
    "\n",
    "\n",
    "#4th Method\n",
    "print(\"4th Method\")\n",
    "\n",
    "import re \n",
    "  \n",
    "# initializing string  \n",
    "test_str = \"GeeksforGeeks\"\n",
    "  \n",
    "# using re + findall() to get count  \n",
    "# counting e  \n",
    "count = len(re.findall(\"e\", test_str)) \n",
    "  \n",
    "# printing result  \n",
    "print (\"Count of e in GeeksforGeeks is : \"+  str(count)) \n",
    "\n"
   ]
  },
  {
   "cell_type": "code",
   "execution_count": 93,
   "metadata": {},
   "outputs": [
    {
     "name": "stdout",
     "output_type": "stream",
     "text": [
      "3rd Method\n",
      "[0, 1, 1, 0, 0, 0, 0, 0, 0, 1, 1, 0, 0]\n",
      "4\n",
      "<class 'list'>\n",
      "4\n",
      "Count of e in GeeksforGeeks is : 4\n"
     ]
    }
   ],
   "source": [
    "#3rd Method\n",
    "print(\"3rd Method\")\n",
    "\n",
    "# lambda + sum() + map() \n",
    "  \n",
    "# initializing string  \n",
    "test_str = \"GeeksforGeeks\"\n",
    "  \n",
    "# using lambda + sum() + map() to get count  \n",
    "# counting e  \n",
    "#print(list(map(lambda x : int(1) if 'e' in x else int(0), test_str)))\n",
    "total = list(map(lambda x : 1 if 'e' in x else 0, test_str))\n",
    "print(total)\n",
    "print(sum(total))\n",
    "print(type(total))\n",
    "total_sum = 0 \n",
    "for i in total:\n",
    "    #print(type(i))\n",
    "    total_sum+=i\n",
    "#print(sum)\n",
    "#print(sum(total))\n",
    "print(sum(total))\n",
    "#print(sum(list(map(lambda x : 1 if 'e' in x else 0, test_str))))\n",
    "#count = sum(map(lambda x : 1 if 'e' in x else 0, test_str)) \n",
    "#count=0  \n",
    "# printing result  \n",
    "#print (\"Count of e in GeeksforGeeks is : \"+  str(total_sum)) \n",
    "print (\"Count of e in GeeksforGeeks is : \"+  str(sum(total)))"
   ]
  },
  {
   "cell_type": "code",
   "execution_count": 7,
   "metadata": {},
   "outputs": [
    {
     "name": "stdout",
     "output_type": "stream",
     "text": [
      "1 repeats 1, 0 repeats 3, 1 repeats 2, 0 repeats 1, 1 repeats 1, and 0 repeats 1\n",
      "2nd Method\n",
      "[('1', 3), ('0', 3), ('2', 3), ('3', 2), ('4', 2), ('5', 5)]\n",
      "3rd Method\n",
      "G1 e3 E2 K3 s2 \n",
      "c4 01 d2 E3 \n",
      "4th Method\n",
      "Counter({'1': 6, '0': 2})\n"
     ]
    }
   ],
   "source": [
    "#9.\tFind consecutive character count in string\n",
    "\n",
    "word=\"100011010\" #word = \"1\"\n",
    "count=1\n",
    "length=\"\"\n",
    "if len(word)>1:\n",
    "    for i in range(1,len(word)):\n",
    "        if word[i-1]==word[i]:\n",
    "            count+=1\n",
    "        else :\n",
    "            length += word[i-1]+\" repeats \"+str(count)+\", \"\n",
    "            count=1\n",
    "    length += (\"and \"+word[i]+\" repeats \"+str(count))\n",
    "else:\n",
    "    i=0\n",
    "    length += (\"and \"+word[i]+\" repeats \"+str(count))\n",
    "print (length)\n",
    "\n",
    "\n",
    "#2nd Method\n",
    "print(\"2nd Method\")\n",
    "\n",
    "s = \"111000222334455555\"\n",
    "\n",
    "from itertools import groupby\n",
    "\n",
    "groups = groupby(s)\n",
    "result = [(label, sum(1 for _ in group)) for label, group in groups]\n",
    "print(result)\n",
    "\n",
    "#3rd Method\n",
    "print(\"3rd Method\")\n",
    "\n",
    "def printRLE(s) : \n",
    "  \n",
    "    i = 0\n",
    "    while( i < len(s) - 1) : \n",
    "  \n",
    "        # Counting occurrences of s[i] \n",
    "        count = 1\n",
    "  \n",
    "        while s[i] == s[i + 1] : \n",
    "  \n",
    "            i += 1\n",
    "            count += 1\n",
    "              \n",
    "            if i + 1 == len(s): \n",
    "                break\n",
    "          \n",
    "        print(str(s[i]) + str(count),    \n",
    "                          end = \" \") \n",
    "        i += 1\n",
    "      \n",
    "    print() \n",
    "  \n",
    "# Driver Code \n",
    "if __name__ == \"__main__\" : \n",
    "  \n",
    "    # function calling  \n",
    "    printRLE(\"GeeeEEKKKss\") \n",
    "    printRLE(\"cccc0ddEEE\") \n",
    "\n",
    "#4th Method\n",
    "print(\"4th Method\")\n",
    "\n",
    "from collections import Counter\n",
    "\n",
    "s = \"11100111\"\n",
    "result = Counter(s)\n",
    "print(result)\n",
    "# {\"1\":6, \"0\":2}"
   ]
  },
  {
   "cell_type": "code",
   "execution_count": 97,
   "metadata": {},
   "outputs": [
    {
     "name": "stdout",
     "output_type": "stream",
     "text": [
      "GeeKSforGEEKS\n",
      "STRIVER\n"
     ]
    }
   ],
   "source": [
    "# 8.\tSwap cases in a string\n",
    "\n",
    "# swapcase() method   \n",
    "  \n",
    "string = \"gEEksFORgeeks\"\n",
    "  \n",
    "# prints after swappong all cases \n",
    "print(string.swapcase())    \n",
    "  \n",
    "string = \"striver\" \n",
    "print(string.swapcase())   \n",
    "\n"
   ]
  },
  {
   "cell_type": "code",
   "execution_count": 98,
   "metadata": {},
   "outputs": [
    {
     "name": "stdout",
     "output_type": "stream",
     "text": [
      "How many terms? 9\n",
      "Fibonacci sequence:\n",
      "0\n",
      "1\n",
      "1\n",
      "2\n",
      "3\n",
      "5\n",
      "8\n",
      "13\n",
      "21\n",
      "2nd Method\n",
      "Enter the terms9\n",
      "0 1 1 2 3 5 8 13 21 "
     ]
    }
   ],
   "source": [
    "#6.\tFibanocci using functions\n",
    "\n",
    "# Program to display the Fibonacci sequence up to n-th term\n",
    "\n",
    "nterms = int(input(\"How many terms? \"))\n",
    "\n",
    "# first two terms\n",
    "n1, n2 = 0, 1\n",
    "count = 0\n",
    "\n",
    "# check if the number of terms is valid\n",
    "if nterms <= 0:\n",
    "    print(\"Please enter a positive integer\")\n",
    "elif nterms == 1:\n",
    "    print(\"Fibonacci sequence upto\",nterms,\":\")\n",
    "    print(n1)\n",
    "else:\n",
    "    print(\"Fibonacci sequence:\")\n",
    "    while count < nterms:\n",
    "        print(n1)\n",
    "        nth = n1 + n2\n",
    "        # update values\n",
    "        n1 = n2\n",
    "        n2 = nth\n",
    "        count += 1\n",
    "        \n",
    "\n",
    "print(\"2nd Method\")\n",
    "\n",
    "# Enter number of terms needed                   #0,1,1,2,3,5....\n",
    "a=int(input(\"Enter the terms\"))\n",
    "f=0                                         #first element of series\n",
    "s=1                                         #second element of series\n",
    "if a<=0:\n",
    "    print(\"The requested series is \",f)\n",
    "else:\n",
    "    print(f,s,end=\" \")\n",
    "    for x in range(2,a):\n",
    "        next=f+s                           \n",
    "        print(next,end=\" \")\n",
    "        f=s\n",
    "        s=next"
   ]
  },
  {
   "cell_type": "code",
   "execution_count": 5,
   "metadata": {},
   "outputs": [
    {
     "name": "stdout",
     "output_type": "stream",
     "text": [
      "The original string  is : Geeksforgeeks\n",
      "The reversed string(using loops) is : i=  G\n",
      "str=  G\n",
      "i=  e\n",
      "str=  eG\n",
      "i=  e\n",
      "str=  eeG\n",
      "i=  k\n",
      "str=  keeG\n",
      "i=  s\n",
      "str=  skeeG\n",
      "i=  f\n",
      "str=  fskeeG\n",
      "i=  o\n",
      "str=  ofskeeG\n",
      "i=  r\n",
      "str=  rofskeeG\n",
      "i=  g\n",
      "str=  grofskeeG\n",
      "i=  e\n",
      "str=  egrofskeeG\n",
      "i=  e\n",
      "str=  eegrofskeeG\n",
      "i=  k\n",
      "str=  keegrofskeeG\n",
      "i=  s\n",
      "str=  skeegrofskeeG\n",
      "skeegrofskeeG\n"
     ]
    }
   ],
   "source": [
    "#4.\tHow do you string reversal using 'for' loop\n",
    "\n",
    "def reverse(s):\n",
    "    strng = \"\" \n",
    "    for i in s: \n",
    "        strng = i + strng\n",
    "        #str = str + i\n",
    "        print(\"i= \",i)\n",
    "        print(\"str= \",strng)\n",
    "    return strng\n",
    "  \n",
    "s = \"Geeksforgeeks\"\n",
    "  \n",
    "print (\"The original string  is : \",end=\"\") \n",
    "print (s) \n",
    "  \n",
    "print (\"The reversed string(using loops) is : \",end=\"\") \n",
    "print (reverse(s)) "
   ]
  },
  {
   "cell_type": "code",
   "execution_count": 7,
   "metadata": {},
   "outputs": [
    {
     "name": "stdout",
     "output_type": "stream",
     "text": [
      "The original string  is : Geeksforgeeks\n",
      "The reversed string(using extended slice syntax is : skeegrofskeeG\n"
     ]
    }
   ],
   "source": [
    "# Function to reverse a string \n",
    "def reverse(string): \n",
    "    string = string[::-1] \n",
    "    return string \n",
    "  \n",
    "s = \"Geeksforgeeks\"\n",
    "  \n",
    "print (\"The original string  is : \",end=\"\") \n",
    "print (s) \n",
    "  \n",
    "print (\"The reversed string(using extended slice syntax is : \",end=\"\") \n",
    "print (reverse(s)) "
   ]
  },
  {
   "cell_type": "code",
   "execution_count": 8,
   "metadata": {},
   "outputs": [
    {
     "name": "stdout",
     "output_type": "stream",
     "text": [
      "The original string  is : Geeksforgeeks\n",
      "The reversed string(using reversed) is : skeegrofskeeG\n"
     ]
    }
   ],
   "source": [
    "# using reversed() \n",
    "  \n",
    "# Function to reverse a string \n",
    "def reverse(string): \n",
    "    string = \"\".join(reversed(string)) \n",
    "    return string \n",
    "  \n",
    "s = \"Geeksforgeeks\"\n",
    "  \n",
    "print (\"The original string  is : \",end=\"\") \n",
    "print (s) \n",
    "  \n",
    "print (\"The reversed string(using reversed) is : \",end=\"\") \n",
    "print (reverse(s)) "
   ]
  },
  {
   "cell_type": "code",
   "execution_count": 9,
   "metadata": {},
   "outputs": [
    {
     "name": "stdout",
     "output_type": "stream",
     "text": [
      "[1, 2, 4, 5, 8]\n"
     ]
    }
   ],
   "source": [
    "#Bubble Sort\n",
    "\n",
    "#This simple sorting algorithm iterates over a list, comparing elements in pairs and swapping them \n",
    "#until the larger elements \"bubble up\" to the end of the list, and the smaller elements stay at \n",
    "#the \"bottom\".\n",
    "#Bubble Sort's time complexity is O(n^2).\n",
    "\n",
    "def bubble_sort(nums):\n",
    "    # We set swapped to True so the loop looks runs at least once\n",
    "    swapped = True\n",
    "    while swapped:\n",
    "        swapped = False\n",
    "        for i in range(len(nums) - 1):\n",
    "            if nums[i] > nums[i + 1]:\n",
    "                # Swap the elements\n",
    "                nums[i], nums[i + 1] = nums[i + 1], nums[i]\n",
    "                # Set the flag to True so we'll loop again\n",
    "                swapped = True\n",
    "\n",
    "\n",
    "# Verify it works\n",
    "random_list_of_nums = [5, 2, 1, 8, 4]\n",
    "bubble_sort(random_list_of_nums)\n",
    "print(random_list_of_nums)"
   ]
  },
  {
   "cell_type": "code",
   "execution_count": 10,
   "metadata": {},
   "outputs": [
    {
     "name": "stdout",
     "output_type": "stream",
     "text": [
      "[3, 8, 11, 12, 20]\n"
     ]
    }
   ],
   "source": [
    "#Selection Sort\n",
    "\n",
    "#This algorithm segments the list into two parts: sorted and unsorted. \n",
    "#We continuously remove the smallest element of the unsorted segment of the list \n",
    "#and append it to the sorted segment.\n",
    "#The amount of comparisons are (n - 1) + (n - 2) + ... + 1, \n",
    "#which gives Selection Sort a time complexity of O(n^2).\n",
    "\n",
    "def selection_sort(nums):\n",
    "    # This value of i corresponds to how many values were sorted\n",
    "    for i in range(len(nums)):\n",
    "        # We assume that the first item of the unsorted segment is the smallest\n",
    "        lowest_value_index = i\n",
    "        # This loop iterates over the unsorted items\n",
    "        for j in range(i + 1, len(nums)):\n",
    "            if nums[j] < nums[lowest_value_index]:\n",
    "                lowest_value_index = j\n",
    "        # Swap values of the lowest unsorted element with the first unsorted\n",
    "        # element\n",
    "        nums[i], nums[lowest_value_index] = nums[lowest_value_index], nums[i]\n",
    "\n",
    "\n",
    "# Verify it works\n",
    "random_list_of_nums = [12, 8, 3, 20, 11]\n",
    "selection_sort(random_list_of_nums)\n",
    "print(random_list_of_nums)\n"
   ]
  },
  {
   "cell_type": "code",
   "execution_count": 11,
   "metadata": {},
   "outputs": [
    {
     "name": "stdout",
     "output_type": "stream",
     "text": [
      "[1, 6, 9, 15, 28]\n"
     ]
    }
   ],
   "source": [
    "#Insertion Sort\n",
    "\n",
    "#Like Selection Sort, this algorithm segments the list into sorted and unsorted parts. \n",
    "#It iterates over the unsorted segment, and inserts the element being viewed into the \n",
    "#correct position of the sorted list.\n",
    "#The amount of swaps would then be 1 + 2 + ... + (n - 3) + (n - 2) + (n - 1) \n",
    "#which gives Insertion Sort a time complexity of O(n^2).\n",
    "\n",
    "def insertion_sort(nums):\n",
    "    # Start on the second element as we assume the first element is sorted\n",
    "    for i in range(1, len(nums)):\n",
    "        item_to_insert = nums[i]\n",
    "        # And keep a reference of the index of the previous element\n",
    "        j = i - 1\n",
    "        # Move all items of the sorted segment forward if they are larger than\n",
    "        # the item to insert\n",
    "        while j >= 0 and nums[j] > item_to_insert:\n",
    "            nums[j + 1] = nums[j]\n",
    "            j -= 1\n",
    "        # Insert the item\n",
    "        nums[j + 1] = item_to_insert\n",
    "\n",
    "\n",
    "# Verify it works\n",
    "random_list_of_nums = [9, 1, 15, 28, 6]\n",
    "insertion_sort(random_list_of_nums)\n",
    "print(random_list_of_nums)\n"
   ]
  },
  {
   "cell_type": "code",
   "execution_count": 12,
   "metadata": {},
   "outputs": [
    {
     "name": "stdout",
     "output_type": "stream",
     "text": [
      "[8, 12, 35, 43, 51]\n"
     ]
    }
   ],
   "source": [
    "#Heap Sort\n",
    "\n",
    "#This popular sorting algorithm, like the Insertion and Selection sorts, segments the list into sorted \n",
    "#and unsorted parts. It converts the unsorted segment of the list to a Heap data structure, \n",
    "#so that we can efficiently determine the largest element.\n",
    "#The heap_sort function iterates over the array n times. \n",
    "#Therefore the overall time complexity of the Heap Sort algorithm is O(nlog(n)).\n",
    "\n",
    "def heapify(nums, heap_size, root_index):\n",
    "    # Assume the index of the largest element is the root index\n",
    "    largest = root_index\n",
    "    left_child = (2 * root_index) + 1\n",
    "    right_child = (2 * root_index) + 2\n",
    "\n",
    "    # If the left child of the root is a valid index, and the element is greater\n",
    "    # than the current largest element, then update the largest element\n",
    "    if left_child < heap_size and nums[left_child] > nums[largest]:\n",
    "        largest = left_child\n",
    "\n",
    "    # Do the same for the right child of the root\n",
    "    if right_child < heap_size and nums[right_child] > nums[largest]:\n",
    "        largest = right_child\n",
    "\n",
    "    # If the largest element is no longer the root element, swap them\n",
    "    if largest != root_index:\n",
    "        nums[root_index], nums[largest] = nums[largest], nums[root_index]\n",
    "        # Heapify the new root element to ensure it's the largest\n",
    "        heapify(nums, heap_size, largest)\n",
    "\n",
    "\n",
    "def heap_sort(nums):\n",
    "    n = len(nums)\n",
    "\n",
    "    # Create a Max Heap from the list\n",
    "    # The 2nd argument of range means we stop at the element before -1 i.e.\n",
    "    # the first element of the list.\n",
    "    # The 3rd argument of range means we iterate backwards, reducing the count\n",
    "    # of i by 1\n",
    "    for i in range(n, -1, -1):\n",
    "        heapify(nums, n, i)\n",
    "\n",
    "    # Move the root of the max heap to the end of\n",
    "    for i in range(n - 1, 0, -1):\n",
    "        nums[i], nums[0] = nums[0], nums[i]\n",
    "        heapify(nums, i, 0)\n",
    "\n",
    "\n",
    "# Verify it works\n",
    "random_list_of_nums = [35, 12, 43, 8, 51]\n",
    "heap_sort(random_list_of_nums)\n",
    "print(random_list_of_nums)"
   ]
  },
  {
   "cell_type": "code",
   "execution_count": 13,
   "metadata": {},
   "outputs": [
    {
     "name": "stdout",
     "output_type": "stream",
     "text": [
      "[45, 68, 120, 176, 250]\n"
     ]
    }
   ],
   "source": [
    "#Merge Sort\n",
    "\n",
    "#This divide and conquer algorithm splits a list in half, and keeps splitting the list by 2 \n",
    "#until it only has singular elements.\n",
    "#Adjacent elements become sorted pairs, then sorted pairs are merged and sorted with other pairs as well. \n",
    "#This process continues until we get a sorted list with all the elements of the unsorted input list.\n",
    "#Therefore the overall time complexity of the Merge Sort algorithm is O(nlog(n)).\n",
    "\n",
    "def merge(left_list, right_list):\n",
    "    sorted_list = []\n",
    "    left_list_index = right_list_index = 0\n",
    "\n",
    "    # We use the list lengths often, so its handy to make variables\n",
    "    left_list_length, right_list_length = len(left_list), len(right_list)\n",
    "\n",
    "    for _ in range(left_list_length + right_list_length):\n",
    "        if left_list_index < left_list_length and right_list_index < right_list_length:\n",
    "            # We check which value from the start of each list is smaller\n",
    "            # If the item at the beginning of the left list is smaller, add it\n",
    "            # to the sorted list\n",
    "            if left_list[left_list_index] <= right_list[right_list_index]:\n",
    "                sorted_list.append(left_list[left_list_index])\n",
    "                left_list_index += 1\n",
    "            # If the item at the beginning of the right list is smaller, add it\n",
    "            # to the sorted list\n",
    "            else:\n",
    "                sorted_list.append(right_list[right_list_index])\n",
    "                right_list_index += 1\n",
    "\n",
    "        # If we've reached the end of the of the left list, add the elements\n",
    "        # from the right list\n",
    "        elif left_list_index == left_list_length:\n",
    "            sorted_list.append(right_list[right_list_index])\n",
    "            right_list_index += 1\n",
    "        # If we've reached the end of the of the right list, add the elements\n",
    "        # from the left list\n",
    "        elif right_list_index == right_list_length:\n",
    "            sorted_list.append(left_list[left_list_index])\n",
    "            left_list_index += 1\n",
    "\n",
    "    return sorted_list\n",
    "\n",
    "\n",
    "def merge_sort(nums):\n",
    "    # If the list is a single element, return it\n",
    "    if len(nums) <= 1:\n",
    "        return nums\n",
    "\n",
    "    # Use floor division to get midpoint, indices must be integers\n",
    "    mid = len(nums) // 2\n",
    "\n",
    "    # Sort and merge each half\n",
    "    left_list = merge_sort(nums[:mid])\n",
    "    right_list = merge_sort(nums[mid:])\n",
    "\n",
    "    # Merge the sorted lists into a new one\n",
    "    return merge(left_list, right_list)\n",
    "\n",
    "\n",
    "# Verify it works\n",
    "random_list_of_nums = [120, 45, 68, 250, 176]\n",
    "random_list_of_nums = merge_sort(random_list_of_nums)\n",
    "print(random_list_of_nums)"
   ]
  },
  {
   "cell_type": "code",
   "execution_count": 14,
   "metadata": {},
   "outputs": [
    {
     "name": "stdout",
     "output_type": "stream",
     "text": [
      "[1, 5, 18, 22, 99]\n"
     ]
    }
   ],
   "source": [
    "#Quick Sort\n",
    "\n",
    "#This divide and conquer algorithm is the most often used sorting algorithm covered in this article. \n",
    "#When configured correctly, it's extremely efficient and does not require the extra space Merge Sort uses.\n",
    "#We partition the list around a pivot element, sorting values around the pivot.\n",
    "#Therefore the average time complexity of the Quick Sort algorithm is O(nlog(n)).\n",
    "\n",
    "# There are different ways to do a Quick Sort partition, this implements the\n",
    "# Hoare partition scheme. Tony Hoare also created the Quick Sort algorithm.\n",
    "def partition(nums, low, high):\n",
    "    # We select the middle element to be the pivot. Some implementations select\n",
    "    # the first element or the last element. Sometimes the median value becomes\n",
    "    # the pivot, or a random one. There are many more strategies that can be\n",
    "    # chosen or created.\n",
    "    pivot = nums[(low + high) // 2]\n",
    "    i = low - 1\n",
    "    j = high + 1\n",
    "    while True:\n",
    "        i += 1\n",
    "        while nums[i] < pivot:\n",
    "            i += 1\n",
    "\n",
    "        j -= 1\n",
    "        while nums[j] > pivot:\n",
    "            j -= 1\n",
    "\n",
    "        if i >= j:\n",
    "            return j\n",
    "\n",
    "        # If an element at i (on the left of the pivot) is larger than the\n",
    "        # element at j (on right right of the pivot), then swap them\n",
    "        nums[i], nums[j] = nums[j], nums[i]\n",
    "\n",
    "\n",
    "def quick_sort(nums):\n",
    "    # Create a helper function that will be called recursively\n",
    "    def _quick_sort(items, low, high):\n",
    "        if low < high:\n",
    "            # This is the index after the pivot, where our lists are split\n",
    "            split_index = partition(items, low, high)\n",
    "            _quick_sort(items, low, split_index)\n",
    "            _quick_sort(items, split_index + 1, high)\n",
    "\n",
    "    _quick_sort(nums, 0, len(nums) - 1)\n",
    "\n",
    "\n",
    "# Verify it works\n",
    "random_list_of_nums = [22, 5, 1, 18, 99]\n",
    "quick_sort(random_list_of_nums)\n",
    "print(random_list_of_nums)"
   ]
  },
  {
   "cell_type": "code",
   "execution_count": 17,
   "metadata": {},
   "outputs": [
    {
     "name": "stdout",
     "output_type": "stream",
     "text": [
      "Philo is 5 and Mikey is 6.\n",
      "Philo is a mammal!\n",
      "The oldest dog is 7 years old.\n"
     ]
    }
   ],
   "source": [
    "#What Is Object-Oriented Programming (OOP)?\n",
    "\n",
    "#Object-oriented Programming, or OOP for short, is a programming paradigm which provides a means of \n",
    "#structuring programs so that properties and behaviors are bundled into individual objects.\n",
    "\n",
    "#Classes are used to create new user-defined data structures that contain arbitrary information \n",
    "#about something.\n",
    "\n",
    "#Python Objects (Instances)\n",
    "\n",
    "#While the class is the blueprint, an instance is a copy of the class with actual values,\n",
    "#literally an object belonging to a specific class.\n",
    "\n",
    "class Dog:\n",
    "    pass\n",
    "\n",
    "# Python 2.x Class Definition:\n",
    "#class Dog(object):\n",
    "#    pass\n",
    "\n",
    "#using CamelCase notation, starting with a capital letter.\n",
    "\n",
    "#Instance Attributes\n",
    "\n",
    "#All classes create objects, and all objects contain characteristics called attributes \n",
    "#(referred to as properties in the opening paragraph). Use the __init__() method to initialize \n",
    "#(e.g., specify) an object’s initial attributes by giving them their default value (or state). \n",
    "#This method must have at least one argument as well as the self variable, which refers to the object \n",
    "#itself (e.g., Dog).\n",
    "\n",
    "class Dog:\n",
    "\n",
    "    # Initializer / Instance Attributes\n",
    "    def __init__(self, name, age):\n",
    "        self.name = name\n",
    "        self.age = age\n",
    "\n",
    "#Similarly, the self variable is also an instance of the class.\n",
    "#NOTE: You will never have to call the __init__() method; \n",
    "#it gets called automatically when you create a new ‘Dog’ instance.\n",
    "\n",
    "#Class Attributes\n",
    "\n",
    "#While instance attributes are specific to each object, \n",
    "#class attributes are the same for all instances—which in this case is all dogs.\n",
    "\n",
    "class Dog:\n",
    "\n",
    "    # Class Attribute\n",
    "    species = 'mammal'\n",
    "\n",
    "    # Initializer / Instance Attributes\n",
    "    def __init__(self, name, age):\n",
    "        self.name = name\n",
    "        self.age = age\n",
    "\n",
    "#Instantiating Objects\n",
    "\n",
    "#Instantiating is a fancy term for creating a new, unique instance of a class.\n",
    "\n",
    "a = Dog(\"A\",6)\n",
    "b = Dog(\"B\",7)\n",
    "a == b #False\n",
    "type(a)\n",
    "\n",
    "# Instantiate the Dog object\n",
    "philo = Dog(\"Philo\", 5)\n",
    "mikey = Dog(\"Mikey\", 6)\n",
    "\n",
    "# Access the instance attributes\n",
    "print(\"{} is {} and {} is {}.\".format(\n",
    "    philo.name, philo.age, mikey.name, mikey.age))\n",
    "\n",
    "# Is Philo a mammal?\n",
    "if philo.species == \"mammal\":\n",
    "    print(\"{0} is a {1}!\".format(philo.name, philo.species))\n",
    "    \n",
    "\n",
    "##Exercise: The oldest dog\n",
    "\n",
    "# Instantiate the Dog object\n",
    "jake = Dog(\"Jake\", 7)\n",
    "doug = Dog(\"Doug\", 4)\n",
    "william = Dog(\"William\", 5)\n",
    "\n",
    "\n",
    "# Determine the oldest dog\n",
    "def get_biggest_number(*args):\n",
    "    return max(args)\n",
    "\n",
    "\n",
    "# Output\n",
    "print(\"The oldest dog is {} years old.\".format(\n",
    "    get_biggest_number(jake.age, doug.age, william.age)))\n"
   ]
  },
  {
   "cell_type": "code",
   "execution_count": 18,
   "metadata": {},
   "outputs": [
    {
     "name": "stdout",
     "output_type": "stream",
     "text": [
      "Mikey is 6 years old\n",
      "Mikey says Gruff Gruff\n"
     ]
    }
   ],
   "source": [
    "#Instance Methods\n",
    "\n",
    "#Instance methods are defined inside a class and are used to get the contents of an instance. \n",
    "#They can also be used to perform operations with the attributes of our objects.\n",
    "\n",
    "class Dog:\n",
    "\n",
    "    # Class Attribute\n",
    "    species = 'mammal'\n",
    "\n",
    "    # Initializer / Instance Attributes\n",
    "    def __init__(self, name, age):\n",
    "        self.name = name\n",
    "        self.age = age\n",
    "\n",
    "    # instance method\n",
    "    def description(self):\n",
    "        return \"{} is {} years old\".format(self.name, self.age)\n",
    "\n",
    "    # instance method\n",
    "    def speak(self, sound):\n",
    "        return \"{} says {}\".format(self.name, sound)\n",
    "\n",
    "# Instantiate the Dog object\n",
    "mikey = Dog(\"Mikey\", 6)\n",
    "\n",
    "# call our instance methods\n",
    "print(mikey.description())\n",
    "print(mikey.speak(\"Gruff Gruff\"))\n"
   ]
  },
  {
   "cell_type": "code",
   "execution_count": 20,
   "metadata": {},
   "outputs": [
    {
     "name": "stdout",
     "output_type": "stream",
     "text": [
      "False\n",
      "True\n"
     ]
    }
   ],
   "source": [
    "#Modifying Attributes\n",
    "\n",
    "class Email:\n",
    "    def __init__(self):\n",
    "        self.is_sent = False\n",
    "    def send_email(self):\n",
    "        self.is_sent = True\n",
    "        \n",
    "my_email = Email()\n",
    "print(my_email.is_sent)\n",
    "my_email.send_email()\n",
    "print(my_email.is_sent)"
   ]
  },
  {
   "cell_type": "code",
   "execution_count": 21,
   "metadata": {},
   "outputs": [
    {
     "name": "stdout",
     "output_type": "stream",
     "text": [
      "German Shepard\n",
      "Boston Terrier\n"
     ]
    }
   ],
   "source": [
    "#Python Object Inheritance\n",
    "\n",
    "#Inheritance is the process by which one class takes on the attributes and methods of another.\n",
    "#Newly formed classes are called child classes, and the classes that child classes are derived from \n",
    "#are called parent classes. \n",
    "\n",
    "#The most basic type of class is an object, which generally all other classes inherit as their parent.\n",
    "\n",
    "#When you define a new class, Python 3 it implicitly uses object as the parent class.\n",
    "\n",
    "#Dog Park Example\n",
    "\n",
    "class Dog:\n",
    "     def __init__(self, breed):\n",
    "        self.breed = breed\n",
    "        \n",
    "spencer = Dog(\"German Shepard\")\n",
    "print(spencer.breed)\n",
    "\n",
    "sara = Dog(\"Boston Terrier\")\n",
    "print(sara.breed)"
   ]
  },
  {
   "cell_type": "code",
   "execution_count": 22,
   "metadata": {},
   "outputs": [
    {
     "name": "stdout",
     "output_type": "stream",
     "text": [
      "Jim is 12 years old\n",
      "Jim runs slowly\n"
     ]
    }
   ],
   "source": [
    "#dog_inheritance.py:\n",
    "\n",
    "# Parent class\n",
    "class Dog:\n",
    "\n",
    "    # Class attribute\n",
    "    species = 'mammal'\n",
    "\n",
    "    # Initializer / Instance attributes\n",
    "    def __init__(self, name, age):\n",
    "        self.name = name\n",
    "        self.age = age\n",
    "\n",
    "    # instance method\n",
    "    def description(self):\n",
    "        return \"{} is {} years old\".format(self.name, self.age)\n",
    "\n",
    "    # instance method\n",
    "    def speak(self, sound):\n",
    "        return \"{} says {}\".format(self.name, sound)\n",
    "\n",
    "\n",
    "# Child class (inherits from Dog class)\n",
    "class RussellTerrier(Dog):\n",
    "    def run(self, speed):\n",
    "        return \"{} runs {}\".format(self.name, speed)\n",
    "\n",
    "\n",
    "# Child class (inherits from Dog class)\n",
    "class Bulldog(Dog):\n",
    "    def run(self, speed):\n",
    "        return \"{} runs {}\".format(self.name, speed)\n",
    "\n",
    "\n",
    "# Child classes inherit attributes and\n",
    "# behaviors from the parent class\n",
    "jim = Bulldog(\"Jim\", 12)\n",
    "print(jim.description())\n",
    "\n",
    "# Child classes have specific attributes\n",
    "# and behaviors as well\n",
    "print(jim.run(\"slowly\"))\n"
   ]
  },
  {
   "cell_type": "code",
   "execution_count": 23,
   "metadata": {
    "scrolled": true
   },
   "outputs": [
    {
     "name": "stdout",
     "output_type": "stream",
     "text": [
      "Jim is 12 years old\n",
      "Jim runs slowly\n",
      "True\n",
      "True\n",
      "False\n"
     ]
    },
    {
     "ename": "TypeError",
     "evalue": "isinstance() arg 2 must be a type or tuple of types",
     "output_type": "error",
     "traceback": [
      "\u001b[1;31m---------------------------------------------------------------------------\u001b[0m",
      "\u001b[1;31mTypeError\u001b[0m                                 Traceback (most recent call last)",
      "\u001b[1;32m<ipython-input-23-a28876f26d08>\u001b[0m in \u001b[0;36m<module>\u001b[1;34m\u001b[0m\n\u001b[0;32m     57\u001b[0m \u001b[1;33m\u001b[0m\u001b[0m\n\u001b[0;32m     58\u001b[0m \u001b[1;31m# Is julie and instance of jim?\u001b[0m\u001b[1;33m\u001b[0m\u001b[1;33m\u001b[0m\u001b[1;33m\u001b[0m\u001b[0m\n\u001b[1;32m---> 59\u001b[1;33m \u001b[0mprint\u001b[0m\u001b[1;33m(\u001b[0m\u001b[0misinstance\u001b[0m\u001b[1;33m(\u001b[0m\u001b[0mjulie\u001b[0m\u001b[1;33m,\u001b[0m \u001b[0mjim\u001b[0m\u001b[1;33m)\u001b[0m\u001b[1;33m)\u001b[0m\u001b[1;33m\u001b[0m\u001b[1;33m\u001b[0m\u001b[0m\n\u001b[0m",
      "\u001b[1;31mTypeError\u001b[0m: isinstance() arg 2 must be a type or tuple of types"
     ]
    }
   ],
   "source": [
    "#Parent vs. Child Classes\n",
    "\n",
    "#The isinstance() function is used to determine if an instance is also an instance of a certain \n",
    "#parent class.\n",
    "\n",
    "# Parent class\n",
    "class Dog:\n",
    "\n",
    "    # Class attribute\n",
    "    species = 'mammal'\n",
    "\n",
    "    # Initializer / Instance attributes\n",
    "    def __init__(self, name, age):\n",
    "        self.name = name\n",
    "        self.age = age\n",
    "\n",
    "    # instance method\n",
    "    def description(self):\n",
    "        return \"{} is {} years old\".format(self.name, self.age)\n",
    "\n",
    "    # instance method\n",
    "    def speak(self, sound):\n",
    "        return \"{} says {}\".format(self.name, sound)\n",
    "\n",
    "\n",
    "# Child class (inherits from Dog() class)\n",
    "class RussellTerrier(Dog):\n",
    "    def run(self, speed):\n",
    "        return \"{} runs {}\".format(self.name, speed)\n",
    "\n",
    "\n",
    "# Child class (inherits from Dog() class)\n",
    "class Bulldog(Dog):\n",
    "    def run(self, speed):\n",
    "        return \"{} runs {}\".format(self.name, speed)\n",
    "\n",
    "\n",
    "# Child classes inherit attributes and\n",
    "# behaviors from the parent class\n",
    "jim = Bulldog(\"Jim\", 12)\n",
    "print(jim.description())\n",
    "\n",
    "# Child classes have specific attributes\n",
    "# and behaviors as well\n",
    "print(jim.run(\"slowly\"))\n",
    "\n",
    "# Is jim an instance of Dog()?\n",
    "print(isinstance(jim, Dog))\n",
    "\n",
    "# Is julie an instance of Dog()?\n",
    "julie = Dog(\"Julie\", 100)\n",
    "print(isinstance(julie, Dog))\n",
    "\n",
    "# Is johnny walker an instance of Bulldog()\n",
    "johnnywalker = RussellTerrier(\"Johnny Walker\", 4)\n",
    "print(isinstance(johnnywalker, Bulldog))\n",
    "\n",
    "# Is julie and instance of jim?\n",
    "print(isinstance(julie, jim))"
   ]
  },
  {
   "cell_type": "markdown",
   "metadata": {},
   "source": [
    "Questions:\n",
    "\n",
    "    What’s a class?\n",
    "    What’s an instance?\n",
    "    What’s the relationship between a class and an instance?\n",
    "    What’s the Python syntax used for defining a new class?\n",
    "    What’s the spelling convention for a class name?\n",
    "    How do you instantiate, or create an instance of, a class?\n",
    "    How do you access the attributes and behaviors of a class instance?\n",
    "    What’s a method?\n",
    "    What’s the purpose of self?\n",
    "    What’s the purpose of the __init__ method?\n",
    "    Describe how inheritance helps prevent code duplication.\n",
    "    Can child classes override properties of their parents?\n",
    "\n",
    "Answers:\n",
    "\n",
    "    A class is a mechanism used to create new user-defined data structures. It contains data as well as the methods used to process that data.\n",
    "    An instance is a copy of the class with actual values, literally an object of a specific class.\n",
    "    While a class is a blueprint used to describe how to make something, instances are objects created from those blueprints.\n",
    "    class PythonClassName:\n",
    "    CamelCase notation, starting with a capital letter - i.e., PythonClassName()\n",
    "    You use the the class name, followed by parentheses. So if the class name is Dog(), an dog instance would be - my_class = Dog().\n",
    "    With dot notation - e.g., instance_name.attribute_name\n",
    "    A function that’s defined inside a class.\n",
    "    The first argument of every method references the current instance of the class, which by convention, is named self. In the __init__ method, self refers to the newly created object; while in other methods, self refers to the instance whose method was called. For more on __init__ vs. self, check out this article.\n",
    "    The __init__ method initializes an instance of a class.\n",
    "    Child classes inherit all of the parent’s attributes and behaviors.\n",
    "    Yes.\n",
    "\n"
   ]
  },
  {
   "cell_type": "code",
   "execution_count": 8,
   "metadata": {},
   "outputs": [
    {
     "name": "stdout",
     "output_type": "stream",
     "text": [
      "ch =  Hello\n"
     ]
    },
    {
     "ename": "ValueError",
     "evalue": "invalid literal for int() with base 10: ''",
     "output_type": "error",
     "traceback": [
      "\u001b[1;31m---------------------------------------------------------------------------\u001b[0m",
      "\u001b[1;31mValueError\u001b[0m                                Traceback (most recent call last)",
      "\u001b[1;32m<ipython-input-8-e63bcd09b3e4>\u001b[0m in \u001b[0;36m<module>\u001b[1;34m\u001b[0m\n\u001b[0;32m     42\u001b[0m \u001b[1;31m#str1 = \"Find 24 sum of 6 the numbers 56 in the sentence.\"\u001b[0m\u001b[1;33m\u001b[0m\u001b[1;33m\u001b[0m\u001b[1;33m\u001b[0m\u001b[0m\n\u001b[0;32m     43\u001b[0m \u001b[1;33m\u001b[0m\u001b[0m\n\u001b[1;32m---> 44\u001b[1;33m \u001b[0mprint\u001b[0m\u001b[1;33m(\u001b[0m\u001b[0mfindSum\u001b[0m\u001b[1;33m(\u001b[0m\u001b[0mstr1\u001b[0m\u001b[1;33m)\u001b[0m\u001b[1;33m)\u001b[0m\u001b[1;33m\u001b[0m\u001b[1;33m\u001b[0m\u001b[0m\n\u001b[0m\u001b[0;32m     45\u001b[0m \u001b[1;33m\u001b[0m\u001b[0m\n\u001b[0;32m     46\u001b[0m \u001b[1;33m\u001b[0m\u001b[0m\n",
      "\u001b[1;32m<ipython-input-8-e63bcd09b3e4>\u001b[0m in \u001b[0;36mfindSum\u001b[1;34m(str1)\u001b[0m\n\u001b[0;32m     26\u001b[0m             \u001b[1;31m# increment Sum by number found\u001b[0m\u001b[1;33m\u001b[0m\u001b[1;33m\u001b[0m\u001b[1;33m\u001b[0m\u001b[0m\n\u001b[0;32m     27\u001b[0m             \u001b[1;31m# earlier(if any)\u001b[0m\u001b[1;33m\u001b[0m\u001b[1;33m\u001b[0m\u001b[1;33m\u001b[0m\u001b[0m\n\u001b[1;32m---> 28\u001b[1;33m             \u001b[0mSum\u001b[0m \u001b[1;33m+=\u001b[0m \u001b[0mint\u001b[0m\u001b[1;33m(\u001b[0m\u001b[0mtemp\u001b[0m\u001b[1;33m)\u001b[0m\u001b[1;33m\u001b[0m\u001b[1;33m\u001b[0m\u001b[0m\n\u001b[0m\u001b[0;32m     29\u001b[0m \u001b[1;33m\u001b[0m\u001b[0m\n\u001b[0;32m     30\u001b[0m             \u001b[1;31m# reset temporary str1ing to empty\u001b[0m\u001b[1;33m\u001b[0m\u001b[1;33m\u001b[0m\u001b[1;33m\u001b[0m\u001b[0m\n",
      "\u001b[1;31mValueError\u001b[0m: invalid literal for int() with base 10: ''"
     ]
    }
   ],
   "source": [
    "#29.  “Find 24 sum of 6 the numbers 56 in the sentence.”( sum of numbers in the strings)\n",
    "\n",
    "# Function to calculate sum of all  \n",
    "# numbers present in a str1ing  \n",
    "# containing alphanumeric characters \n",
    "def findSum(str1): \n",
    "  \n",
    "    # A temporary str1ing \n",
    "    temp = \"\" \n",
    "  \n",
    "    # holds sum of all numbers  \n",
    "    # present in the str1ing \n",
    "    Sum = 0\n",
    "  \n",
    "    # read each character in input string \n",
    "    for ch in str1.split(): \n",
    "        print(\"ch = \",ch)\n",
    "  \n",
    "        # if current character is a digit \n",
    "        if (ch.isdigit()): \n",
    "            temp += ch \n",
    "  \n",
    "        # if current character is an alphabet \n",
    "        else: \n",
    "              \n",
    "            # increment Sum by number found  \n",
    "            # earlier(if any) \n",
    "            Sum += int(temp) \n",
    "  \n",
    "            # reset temporary str1ing to empty \n",
    "            temp = \"0\"\n",
    "          \n",
    "    # atoi(temp.c_str1()) takes care  \n",
    "    # of trailing numbers \n",
    "    return Sum + int(temp) \n",
    "  \n",
    "# Driver code \n",
    "  \n",
    "# input alphanumeric str1ing \n",
    "#str1 = \"12abc20yz68\"\n",
    "str1 = \"Hello 24 go to 46 into 30\"\n",
    "#str1 = \"Find 24 sum of 6 the numbers 56 in the sentence.\"\n",
    "  \n",
    "print(findSum(str1)) \n",
    "\n",
    "\n",
    "\n",
    "#2nd Method:\n",
    "\n",
    "import re \n",
    "def find_sum(str1): \n",
    "    # Regular Expression that matches digits in between a string \n",
    "    return sum(map(int,re.findall('\\d+',str1))) \n",
    "  \n",
    "# Driver code \n",
    "  \n",
    "# input alphanumeric str1ing \n",
    "str1 = \"Find 24 sum of 6 the numbers 56 in the sentence.\"\n",
    "  \n",
    "print(find_sum(str1)) \n",
    "\n",
    "\n",
    "def sum_digits(digit):\n",
    "    return sum(int(x) for x in digit if x.isdigit())\n",
    "\n",
    "print(sum_digits(\"Find 24 sum of 6 the numbers 56 in the sentence.\"))\n",
    "\n",
    "#sum_digits = lambda x: sum(int(y) for y in x if y.isdigit())\n",
    "\n"
   ]
  },
  {
   "cell_type": "code",
   "execution_count": null,
   "metadata": {},
   "outputs": [],
   "source": []
  },
  {
   "cell_type": "code",
   "execution_count": null,
   "metadata": {},
   "outputs": [],
   "source": []
  },
  {
   "cell_type": "code",
   "execution_count": null,
   "metadata": {},
   "outputs": [],
   "source": []
  },
  {
   "cell_type": "code",
   "execution_count": null,
   "metadata": {},
   "outputs": [],
   "source": []
  },
  {
   "cell_type": "code",
   "execution_count": null,
   "metadata": {},
   "outputs": [],
   "source": []
  },
  {
   "cell_type": "code",
   "execution_count": null,
   "metadata": {},
   "outputs": [],
   "source": []
  },
  {
   "cell_type": "code",
   "execution_count": null,
   "metadata": {},
   "outputs": [],
   "source": []
  },
  {
   "cell_type": "code",
   "execution_count": null,
   "metadata": {},
   "outputs": [],
   "source": []
  },
  {
   "cell_type": "code",
   "execution_count": null,
   "metadata": {},
   "outputs": [],
   "source": []
  },
  {
   "cell_type": "code",
   "execution_count": null,
   "metadata": {},
   "outputs": [],
   "source": []
  },
  {
   "cell_type": "code",
   "execution_count": null,
   "metadata": {},
   "outputs": [],
   "source": []
  },
  {
   "cell_type": "code",
   "execution_count": null,
   "metadata": {},
   "outputs": [],
   "source": []
  },
  {
   "cell_type": "code",
   "execution_count": null,
   "metadata": {},
   "outputs": [],
   "source": []
  },
  {
   "cell_type": "code",
   "execution_count": null,
   "metadata": {},
   "outputs": [],
   "source": []
  },
  {
   "cell_type": "code",
   "execution_count": null,
   "metadata": {},
   "outputs": [],
   "source": []
  },
  {
   "cell_type": "code",
   "execution_count": null,
   "metadata": {},
   "outputs": [],
   "source": []
  },
  {
   "cell_type": "code",
   "execution_count": null,
   "metadata": {},
   "outputs": [],
   "source": []
  },
  {
   "cell_type": "code",
   "execution_count": null,
   "metadata": {},
   "outputs": [],
   "source": []
  },
  {
   "cell_type": "code",
   "execution_count": null,
   "metadata": {},
   "outputs": [],
   "source": []
  },
  {
   "cell_type": "code",
   "execution_count": null,
   "metadata": {},
   "outputs": [],
   "source": []
  },
  {
   "cell_type": "code",
   "execution_count": null,
   "metadata": {},
   "outputs": [],
   "source": []
  },
  {
   "cell_type": "code",
   "execution_count": null,
   "metadata": {},
   "outputs": [],
   "source": []
  },
  {
   "cell_type": "code",
   "execution_count": null,
   "metadata": {},
   "outputs": [],
   "source": []
  },
  {
   "cell_type": "code",
   "execution_count": null,
   "metadata": {},
   "outputs": [],
   "source": []
  },
  {
   "cell_type": "code",
   "execution_count": null,
   "metadata": {},
   "outputs": [],
   "source": []
  },
  {
   "cell_type": "code",
   "execution_count": null,
   "metadata": {},
   "outputs": [],
   "source": []
  }
 ],
 "metadata": {
  "kernelspec": {
   "display_name": "Python 3",
   "language": "python",
   "name": "python3"
  },
  "language_info": {
   "codemirror_mode": {
    "name": "ipython",
    "version": 3
   },
   "file_extension": ".py",
   "mimetype": "text/x-python",
   "name": "python",
   "nbconvert_exporter": "python",
   "pygments_lexer": "ipython3",
   "version": "3.7.4"
  }
 },
 "nbformat": 4,
 "nbformat_minor": 2
}
